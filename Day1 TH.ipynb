{
  "nbformat": 4,
  "nbformat_minor": 0,
  "metadata": {
    "kernelspec": {
      "display_name": "Python 3",
      "language": "python",
      "name": "python3"
    },
    "language_info": {
      "codemirror_mode": {
        "name": "ipython",
        "version": 3
      },
      "file_extension": ".py",
      "mimetype": "text/x-python",
      "name": "python",
      "nbconvert_exporter": "python",
      "pygments_lexer": "ipython3",
      "version": "3.7.3"
    },
    "colab": {
      "name": "Day 01 Take home .ipynb",
      "provenance": [],
      "collapsed_sections": []
    }
  },
  "cells": [
    {
      "cell_type": "code",
      "metadata": {
        "id": "d89k2LDYGn0F"
      },
      "source": [
        "## CALLING LIBRARIES\n",
        "import numpy             as np\n",
        "import pandas            as pd\n",
        "import scipy.stats       as stats\n",
        "import matplotlib.pyplot as plt\n",
        "%matplotlib inline\n",
        "import seaborn           as sns\n",
        "import math"
      ],
      "execution_count": 1,
      "outputs": []
    },
    {
      "cell_type": "markdown",
      "metadata": {
        "id": "g57YPx1NGn0J"
      },
      "source": [
        "## Normal Distribution"
      ]
    },
    {
      "cell_type": "markdown",
      "metadata": {
        "id": "hN7mH0usGn0J"
      },
      "source": [
        "**Problem:** The fill amount in 2-liter soft drink bottles is normally distributed, with a mean of 2.0 liters and a standard deviation of 0.05 liter. If the bottles contain less than 95% of the listed net content (1.90 liters, in our case), the manufacturer may be subject to penalty by the state office of consumer affairs. Bottles that have a net content above 2.1 liters may cause excess spillage upon opening. What is the proportion of bottles that will contain\n",
        "\n",
        "* a) between 1.9 and 2.0 liters\n",
        "* b) between 1.9 and 2.1 liters\n",
        "* c) below 1.9 liters or above 2.1 liters\n",
        "* d) At least how much soft drink is contained in 99% of the bottles?"
      ]
    },
    {
      "cell_type": "code",
      "metadata": {
        "id": "HnVAX5ENGn0K"
      },
      "source": [
        "mu     = 2\n",
        "sigma  = 0.05"
      ],
      "execution_count": 2,
      "outputs": []
    },
    {
      "cell_type": "markdown",
      "metadata": {
        "id": "sk98nhZtGn0O"
      },
      "source": [
        "#### a. between 1.9 and 2.0 liters\n",
        "----------"
      ]
    },
    {
      "cell_type": "code",
      "metadata": {
        "id": "AQ699nLuGn0O",
        "colab": {
          "base_uri": "https://localhost:8080/"
        },
        "outputId": "7404de5b-4b50-4578-d6d5-a7a480ba360b"
      },
      "source": [
        "(stats.norm.cdf(2.0,loc=2,scale=0.05) - stats.norm.cdf(1.9,loc=2,scale=0.05))"
      ],
      "execution_count": 8,
      "outputs": [
        {
          "output_type": "execute_result",
          "data": {
            "text/plain": [
              "0.4772498680518209"
            ]
          },
          "metadata": {
            "tags": []
          },
          "execution_count": 8
        }
      ]
    },
    {
      "cell_type": "markdown",
      "metadata": {
        "id": "VMg1N610Gn0R"
      },
      "source": [
        "#### b) between 1.9 and 2.1 liters\n",
        "-------"
      ]
    },
    {
      "cell_type": "code",
      "metadata": {
        "id": "rTGEGVWQGn0R",
        "colab": {
          "base_uri": "https://localhost:8080/"
        },
        "outputId": "d21685bf-9e8b-4e98-dacf-d9475a1dc3ba"
      },
      "source": [
        "(stats.norm.cdf(2.1,loc=2,scale=0.05) - stats.norm.cdf(1.9,loc=2,scale=0.05))"
      ],
      "execution_count": 9,
      "outputs": [
        {
          "output_type": "execute_result",
          "data": {
            "text/plain": [
              "0.9544997361036418"
            ]
          },
          "metadata": {
            "tags": []
          },
          "execution_count": 9
        }
      ]
    },
    {
      "cell_type": "markdown",
      "metadata": {
        "id": "WgVEEnzmGn0U"
      },
      "source": [
        "#### c. below 1.9 liters or above 2.1 liters\n",
        "------"
      ]
    },
    {
      "cell_type": "code",
      "metadata": {
        "id": "L8WyBAqNGn0U",
        "colab": {
          "base_uri": "https://localhost:8080/"
        },
        "outputId": "d52a7e2a-0959-409b-e4fe-abf1f9fa5129"
      },
      "source": [
        "1-(stats.norm.cdf(2.1,loc=2,scale=0.05) - stats.norm.cdf(1.9,loc=2,scale=0.05))"
      ],
      "execution_count": 10,
      "outputs": [
        {
          "output_type": "execute_result",
          "data": {
            "text/plain": [
              "0.045500263896358195"
            ]
          },
          "metadata": {
            "tags": []
          },
          "execution_count": 10
        }
      ]
    },
    {
      "cell_type": "markdown",
      "metadata": {
        "id": "lAkpxgrRGn0X"
      },
      "source": [
        "#### d) At least how much soft drink is contained in 99% of the bottles?\n",
        "-----------"
      ]
    },
    {
      "cell_type": "code",
      "metadata": {
        "id": "5I94xzhdGn0X",
        "colab": {
          "base_uri": "https://localhost:8080/"
        },
        "outputId": "a446975e-c1aa-471a-b791-7cf9f56dd962"
      },
      "source": [
        "stats.norm.isf(0.99,loc=2,scale=0.05)"
      ],
      "execution_count": 11,
      "outputs": [
        {
          "output_type": "execute_result",
          "data": {
            "text/plain": [
              "1.883682606297958"
            ]
          },
          "metadata": {
            "tags": []
          },
          "execution_count": 11
        }
      ]
    },
    {
      "cell_type": "markdown",
      "metadata": {
        "id": "C1bKDZiTGn0a"
      },
      "source": [
        "------"
      ]
    },
    {
      "cell_type": "markdown",
      "metadata": {
        "id": "EezgPOmzGn0a"
      },
      "source": [
        "**Problem)**. The following table contains the age of the vistors in the cricket stadium  ( n =50).**\n",
        "* Decide whether the data appears to be normally distributed by\n",
        "* a. Mean and median "
      ]
    },
    {
      "cell_type": "markdown",
      "metadata": {
        "id": "JzulqPOVGn0b"
      },
      "source": [
        "**solution :**"
      ]
    },
    {
      "cell_type": "code",
      "metadata": {
        "id": "tGGvPbgTGn0c",
        "colab": {
          "base_uri": "https://localhost:8080/"
        },
        "outputId": "29f89455-701e-4799-c1e4-18e2e31cde16"
      },
      "source": [
        "mpg = np.array([38,36,31,30, 28,25, 26, 20, 20, 20, 21, 19, 21, 19, 21, 20, 20, 20, 19, 21, 21, 22, 20, 22, 20, 20, 22, 20, 22, 21, 19,\n",
        "                             19, 20, 20, 21, 20, 19, 18, 20, 21, 21, 20, 21, 21, 20,  21, 24, 32, 35,38])\n",
        "print(mpg)\n",
        "n=50\n"
      ],
      "execution_count": 12,
      "outputs": [
        {
          "output_type": "stream",
          "text": [
            "[38 36 31 30 28 25 26 20 20 20 21 19 21 19 21 20 20 20 19 21 21 22 20 22\n",
            " 20 20 22 20 22 21 19 19 20 20 21 20 19 18 20 21 21 20 21 21 20 21 24 32\n",
            " 35 38]\n"
          ],
          "name": "stdout"
        }
      ]
    },
    {
      "cell_type": "code",
      "metadata": {
        "id": "I6cfjR9iGn0g",
        "colab": {
          "base_uri": "https://localhost:8080/",
          "height": 336
        },
        "outputId": "12099f98-366c-49dd-86da-553c41eb6351"
      },
      "source": [
        "from matplotlib import pyplot as plt\r\n",
        "import seaborn as sns\r\n",
        "sns.distplot(mpg)"
      ],
      "execution_count": 13,
      "outputs": [
        {
          "output_type": "stream",
          "text": [
            "/usr/local/lib/python3.6/dist-packages/seaborn/distributions.py:2557: FutureWarning: `distplot` is a deprecated function and will be removed in a future version. Please adapt your code to use either `displot` (a figure-level function with similar flexibility) or `histplot` (an axes-level function for histograms).\n",
            "  warnings.warn(msg, FutureWarning)\n"
          ],
          "name": "stderr"
        },
        {
          "output_type": "execute_result",
          "data": {
            "text/plain": [
              "<matplotlib.axes._subplots.AxesSubplot at 0x7f63313ed9e8>"
            ]
          },
          "metadata": {
            "tags": []
          },
          "execution_count": 13
        },
        {
          "output_type": "display_data",
          "data": {
            "image/png": "[encoded data removed]",
            "text/plain": [
              "<Figure size 432x288 with 1 Axes>"
            ]
          },
          "metadata": {
            "tags": [],
            "needs_background": "light"
          }
        }
      ]
    },
    {
      "cell_type": "code",
      "metadata": {
        "colab": {
          "base_uri": "https://localhost:8080/"
        },
        "id": "y-NIDYOk0929",
        "outputId": "cc308a02-e00e-414d-f148-ac926b8752b1"
      },
      "source": [
        "print(mpg.mean())\r\n",
        "print(np.median(mpg))"
      ],
      "execution_count": 14,
      "outputs": [
        {
          "output_type": "stream",
          "text": [
            "22.7\n",
            "21.0\n"
          ],
          "name": "stdout"
        }
      ]
    },
    {
      "cell_type": "markdown",
      "metadata": {
        "id": "VsB673p9mXi3"
      },
      "source": [
        "**Problem** ) Provided the Population data and sample data.\n",
        "\n",
        "#### a)plot the population data and sample data check how the data is distributed.Give inference whether the sampling distribution similar to population data."
      ]
    },
    {
      "cell_type": "code",
      "metadata": {
        "id": "yWi8Vny6mcIb",
        "colab": {
          "base_uri": "https://localhost:8080/"
        },
        "outputId": "41bcc82c-5822-4c36-a678-fd43f03e1c09"
      },
      "source": [
        "import numpy as np\n",
        "import scipy.stats as stats\n",
        "np.random.seed(7)\n",
        "population_horsepower1 = stats.poisson.rvs(loc=1800, mu=25, size=15000)\n",
        "population_horsepower2 = stats.poisson.rvs(loc=1800, mu=5, size=10000)\n",
        "population_hp = np.concatenate((population_horsepower1, population_horsepower2))\n",
        "\n",
        "print(population_hp) # population data"
      ],
      "execution_count": 15,
      "outputs": [
        {
          "output_type": "stream",
          "text": [
            "[1824 1825 1821 ... 1812 1807 1805]\n"
          ],
          "name": "stdout"
        }
      ]
    },
    {
      "cell_type": "code",
      "metadata": {
        "id": "9x245SPSmoM1",
        "colab": {
          "base_uri": "https://localhost:8080/"
        },
        "outputId": "ec3b6925-3df1-41f8-c99e-70ad0817eb06"
      },
      "source": [
        "np.random.seed(7)\n",
        "sample_hp = np.random.choice(a= population_hp,size=100)            # Sample 100 values\n",
        "print(sample_hp) #sample data"
      ],
      "execution_count": 16,
      "outputs": [
        {
          "output_type": "stream",
          "text": [
            "[1806 1816 1833 1809 1834 1819 1818 1803 1823 1803 1824 1807 1823 1835\n",
            " 1804 1802 1812 1804 1802 1821 1819 1829 1822 1826 1841 1831 1804 1820\n",
            " 1805 1828 1821 1826 1801 1820 1807 1806 1806 1807 1817 1824 1828 1806\n",
            " 1824 1819 1823 1818 1827 1803 1829 1824 1804 1802 1826 1827 1824 1809\n",
            " 1828 1822 1805 1805 1806 1805 1801 1810 1827 1822 1831 1822 1803 1820\n",
            " 1806 1822 1811 1816 1830 1835 1828 1822 1826 1803 1835 1827 1827 1824\n",
            " 1819 1826 1831 1803 1807 1831 1811 1818 1817 1832 1805 1808 1802 1821\n",
            " 1804 1836]\n"
          ],
          "name": "stdout"
        }
      ]
    },
    {
      "cell_type": "code",
      "metadata": {
        "colab": {
          "base_uri": "https://localhost:8080/",
          "height": 336
        },
        "id": "_FUX39XF1l40",
        "outputId": "95ff081a-5e63-4198-a8ed-f1ec54a463ca"
      },
      "source": [
        "sns.distplot(population_hp)"
      ],
      "execution_count": 17,
      "outputs": [
        {
          "output_type": "stream",
          "text": [
            "/usr/local/lib/python3.6/dist-packages/seaborn/distributions.py:2557: FutureWarning: `distplot` is a deprecated function and will be removed in a future version. Please adapt your code to use either `displot` (a figure-level function with similar flexibility) or `histplot` (an axes-level function for histograms).\n",
            "  warnings.warn(msg, FutureWarning)\n"
          ],
          "name": "stderr"
        },
        {
          "output_type": "execute_result",
          "data": {
            "text/plain": [
              "<matplotlib.axes._subplots.AxesSubplot at 0x7f633026ee48>"
            ]
          },
          "metadata": {
            "tags": []
          },
          "execution_count": 17
        },
        {
          "output_type": "display_data",
          "data": {
            "image/png": "[encoded data removed]",
            "text/plain": [
              "<Figure size 432x288 with 1 Axes>"
            ]
          },
          "metadata": {
            "tags": [],
            "needs_background": "light"
          }
        }
      ]
    },
    {
      "cell_type": "code",
      "metadata": {
        "colab": {
          "base_uri": "https://localhost:8080/",
          "height": 336
        },
        "id": "mAzjMmwM1o0h",
        "outputId": "2b7f1876-3efe-46d6-e91e-90c713fc83f7"
      },
      "source": [
        "sns.distplot(sample_hp)"
      ],
      "execution_count": 18,
      "outputs": [
        {
          "output_type": "stream",
          "text": [
            "/usr/local/lib/python3.6/dist-packages/seaborn/distributions.py:2557: FutureWarning: `distplot` is a deprecated function and will be removed in a future version. Please adapt your code to use either `displot` (a figure-level function with similar flexibility) or `histplot` (an axes-level function for histograms).\n",
            "  warnings.warn(msg, FutureWarning)\n"
          ],
          "name": "stderr"
        },
        {
          "output_type": "execute_result",
          "data": {
            "text/plain": [
              "<matplotlib.axes._subplots.AxesSubplot at 0x7f6331c51128>"
            ]
          },
          "metadata": {
            "tags": []
          },
          "execution_count": 18
        },
        {
          "output_type": "display_data",
          "data": {
            "image/png": "[encoded data removed]",
            "text/plain": [
              "<Figure size 432x288 with 1 Axes>"
            ]
          },
          "metadata": {
            "tags": [],
            "needs_background": "light"
          }
        }
      ]
    },
    {
      "cell_type": "markdown",
      "metadata": {
        "id": "hwe_kBn1Gn0i"
      },
      "source": [
        "------------------"
      ]
    }
  ]
}