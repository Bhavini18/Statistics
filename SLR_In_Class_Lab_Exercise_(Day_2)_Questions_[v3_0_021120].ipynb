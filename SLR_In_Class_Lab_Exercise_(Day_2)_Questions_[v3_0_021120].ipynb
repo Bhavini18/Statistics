{
  "nbformat": 4,
  "nbformat_minor": 0,
  "metadata": {
    "kernelspec": {
      "display_name": "Python 3",
      "language": "python",
      "name": "python3"
    },
    "language_info": {
      "codemirror_mode": {
        "name": "ipython",
        "version": 3
      },
      "file_extension": ".py",
      "mimetype": "text/x-python",
      "name": "python",
      "nbconvert_exporter": "python",
      "pygments_lexer": "ipython3",
      "version": "3.8.3"
    },
    "colab": {
      "name": "SLR - In-Class - Lab Exercise (Day 2) - Questions  [v3.0 - 021120].ipynb",
      "provenance": [],
      "collapsed_sections": []
    }
  },
  "cells": [
    {
      "cell_type": "markdown",
      "metadata": {
        "id": "Hmhn08n20O-7"
      },
      "source": [
        "<table align=\"center\" width=100%>\n",
        "    <tr>\n",
        "        <td width=\"15%\">\n",
        "            <img src=\"in_class.png\">\n",
        "        </td>\n",
        "        <td>\n",
        "            <div align=\"center\">\n",
        "                <font color=\"#21618C\" size=8px>\n",
        "                    <b> Inclass - Lab <br>(Day 2)\n",
        "                    </b>\n",
        "                </font>\n",
        "            </div>\n",
        "        </td>\n",
        "    </tr>\n",
        "</table>"
      ]
    },
    {
      "cell_type": "markdown",
      "metadata": {
        "id": "mLGp3WBl0O_B"
      },
      "source": [
        "### About the data set (White wine data)\n",
        "\n",
        "The dataset contains information about several factors describing the quality of white wine. <br> Attribute information: \n",
        "\n",
        "**Fixed_Acidity:** The ph value for titrable acid content (0-7)\n",
        "\n",
        "**Volatile_Acidity:** Measure of acidity due to bacteria\n",
        "\n",
        "**Citric_Acid:** Amount of citric acid present in wine\n",
        "\n",
        "**Residual_Sugar:** Amount of grape sugar in gms/litre\n",
        "\n",
        "**Chlorides:** Amount of chlorides present in wine\n",
        "\n",
        "**Free_Sulfur-dioxide:** Amount of SO2 that is not bound to other molecules\n",
        "\n",
        "**Total_Sulfur-dioxide:** Portion of SO2 that is free in the wine plus the portion that is bound to other chemicals in the wine\n",
        "\n",
        "**Density:** Density of wine (gms/cm<sup>3</sup>)\n",
        "\n",
        "**pH:** The pH value of wine (0-14)\n",
        "\n",
        "**Sulphates:** Amount of salts of sulphuric acid \n",
        "\n",
        "**Alcohol:** Alcohol content in percentage\n",
        "\n",
        "**Quality:** Wine quality \n",
        "\n",
        "Data citation: P. Cortez, A. Cerdeira, F. Almeida, T. Matos and J. Reis. Modeling wine preferences by data mining from physicochemical properties. In Decision Support Systems, Elsevier, 47(4):547-553, 2009."
      ]
    },
    {
      "cell_type": "markdown",
      "metadata": {
        "id": "zuqX1-Ws0O_C"
      },
      "source": [
        "## Table of Content\n",
        "\n",
        "1. **[Feature Transformation](#trans)**\n",
        "2. **[Feature Selection](#sel)**\n",
        "3. **[Model Validation](#cv)**"
      ]
    },
    {
      "cell_type": "markdown",
      "metadata": {
        "id": "vE7q273M0O_C"
      },
      "source": [
        "**Import the required libraries**"
      ]
    },
    {
      "cell_type": "code",
      "metadata": {
        "id": "JoT-zSq70O_C"
      },
      "source": [
        "# type your code here\r\n",
        "\r\n",
        "import pandas as pd\r\n",
        "import numpy as np\r\n",
        "import matplotlib.pyplot as plt\r\n",
        "import seaborn as sns\r\n",
        "import warnings\r\n",
        "warnings.filterwarnings('ignore')\r\n",
        "import scipy.stats as stats\r\n"
      ],
      "execution_count": 1,
      "outputs": []
    },
    {
      "cell_type": "markdown",
      "metadata": {
        "id": "2UYqMe-p0O_D"
      },
      "source": [
        "#### Load the first dataset and check the first two observations"
      ]
    },
    {
      "cell_type": "code",
      "metadata": {
        "colab": {
          "base_uri": "https://localhost:8080/",
          "height": 204
        },
        "id": "KZueTdIy0O_D",
        "outputId": "b9c1943b-216f-4c0e-f7d9-b2fef0f67832"
      },
      "source": [
        "# load your data\n",
        "# type your code here\n",
        "\n",
        "df= pd.read_csv('/content/whitewine.csv', delimiter=';')\n",
        "df.head()"
      ],
      "execution_count": 2,
      "outputs": [
        {
          "output_type": "execute_result",
          "data": {
            "text/html": [
              "<div>\n",
              "<style scoped>\n",
              "    .dataframe tbody tr th:only-of-type {\n",
              "        vertical-align: middle;\n",
              "    }\n",
              "\n",
              "    .dataframe tbody tr th {\n",
              "        vertical-align: top;\n",
              "    }\n",
              "\n",
              "    .dataframe thead th {\n",
              "        text-align: right;\n",
              "    }\n",
              "</style>\n",
              "<table border=\"1\" class=\"dataframe\">\n",
              "  <thead>\n",
              "    <tr style=\"text-align: right;\">\n",
              "      <th></th>\n",
              "      <th>fixed acidity</th>\n",
              "      <th>volatile acidity</th>\n",
              "      <th>citric acid</th>\n",
              "      <th>residual sugar</th>\n",
              "      <th>chlorides</th>\n",
              "      <th>free sulfur dioxide</th>\n",
              "      <th>total sulfur dioxide</th>\n",
              "      <th>density</th>\n",
              "      <th>pH</th>\n",
              "      <th>sulphates</th>\n",
              "      <th>alcohol</th>\n",
              "      <th>quality</th>\n",
              "    </tr>\n",
              "  </thead>\n",
              "  <tbody>\n",
              "    <tr>\n",
              "      <th>0</th>\n",
              "      <td>7.0</td>\n",
              "      <td>0.27</td>\n",
              "      <td>0.36</td>\n",
              "      <td>20.7</td>\n",
              "      <td>0.045</td>\n",
              "      <td>45.0</td>\n",
              "      <td>170.0</td>\n",
              "      <td>1.0010</td>\n",
              "      <td>3.00</td>\n",
              "      <td>0.45</td>\n",
              "      <td>8.8</td>\n",
              "      <td>6</td>\n",
              "    </tr>\n",
              "    <tr>\n",
              "      <th>1</th>\n",
              "      <td>6.3</td>\n",
              "      <td>0.30</td>\n",
              "      <td>0.34</td>\n",
              "      <td>1.6</td>\n",
              "      <td>0.049</td>\n",
              "      <td>14.0</td>\n",
              "      <td>132.0</td>\n",
              "      <td>0.9940</td>\n",
              "      <td>3.30</td>\n",
              "      <td>0.49</td>\n",
              "      <td>9.5</td>\n",
              "      <td>6</td>\n",
              "    </tr>\n",
              "    <tr>\n",
              "      <th>2</th>\n",
              "      <td>8.1</td>\n",
              "      <td>0.28</td>\n",
              "      <td>0.40</td>\n",
              "      <td>6.9</td>\n",
              "      <td>0.050</td>\n",
              "      <td>30.0</td>\n",
              "      <td>97.0</td>\n",
              "      <td>0.9951</td>\n",
              "      <td>3.26</td>\n",
              "      <td>0.44</td>\n",
              "      <td>10.1</td>\n",
              "      <td>6</td>\n",
              "    </tr>\n",
              "    <tr>\n",
              "      <th>3</th>\n",
              "      <td>7.2</td>\n",
              "      <td>0.23</td>\n",
              "      <td>0.32</td>\n",
              "      <td>8.5</td>\n",
              "      <td>0.058</td>\n",
              "      <td>47.0</td>\n",
              "      <td>186.0</td>\n",
              "      <td>0.9956</td>\n",
              "      <td>3.19</td>\n",
              "      <td>0.40</td>\n",
              "      <td>9.9</td>\n",
              "      <td>6</td>\n",
              "    </tr>\n",
              "    <tr>\n",
              "      <th>4</th>\n",
              "      <td>7.2</td>\n",
              "      <td>0.23</td>\n",
              "      <td>0.32</td>\n",
              "      <td>8.5</td>\n",
              "      <td>0.058</td>\n",
              "      <td>47.0</td>\n",
              "      <td>186.0</td>\n",
              "      <td>0.9956</td>\n",
              "      <td>3.19</td>\n",
              "      <td>0.40</td>\n",
              "      <td>9.9</td>\n",
              "      <td>6</td>\n",
              "    </tr>\n",
              "  </tbody>\n",
              "</table>\n",
              "</div>"
            ],
            "text/plain": [
              "   fixed acidity  volatile acidity  citric acid  ...  sulphates  alcohol  quality\n",
              "0            7.0              0.27         0.36  ...       0.45      8.8        6\n",
              "1            6.3              0.30         0.34  ...       0.49      9.5        6\n",
              "2            8.1              0.28         0.40  ...       0.44     10.1        6\n",
              "3            7.2              0.23         0.32  ...       0.40      9.9        6\n",
              "4            7.2              0.23         0.32  ...       0.40      9.9        6\n",
              "\n",
              "[5 rows x 12 columns]"
            ]
          },
          "metadata": {
            "tags": []
          },
          "execution_count": 2
        }
      ]
    },
    {
      "cell_type": "code",
      "metadata": {
        "colab": {
          "base_uri": "https://localhost:8080/"
        },
        "id": "d0CnAUIg0O_D",
        "outputId": "98b94293-d546-4530-8b65-5f93fbc14b76"
      },
      "source": [
        "# check data types of variables\n",
        "# type your code here\n",
        "df.info()"
      ],
      "execution_count": null,
      "outputs": [
        {
          "output_type": "stream",
          "text": [
            "<class 'pandas.core.frame.DataFrame'>\n",
            "RangeIndex: 4898 entries, 0 to 4897\n",
            "Data columns (total 12 columns):\n",
            " #   Column                Non-Null Count  Dtype  \n",
            "---  ------                --------------  -----  \n",
            " 0   fixed acidity         4898 non-null   float64\n",
            " 1   volatile acidity      4898 non-null   float64\n",
            " 2   citric acid           4898 non-null   float64\n",
            " 3   residual sugar        4898 non-null   float64\n",
            " 4   chlorides             4898 non-null   float64\n",
            " 5   free sulfur dioxide   4898 non-null   float64\n",
            " 6   total sulfur dioxide  4898 non-null   float64\n",
            " 7   density               4898 non-null   float64\n",
            " 8   pH                    4898 non-null   float64\n",
            " 9   sulphates             4898 non-null   float64\n",
            " 10  alcohol               4898 non-null   float64\n",
            " 11  quality               4898 non-null   int64  \n",
            "dtypes: float64(11), int64(1)\n",
            "memory usage: 459.3 KB\n"
          ],
          "name": "stdout"
        }
      ]
    },
    {
      "cell_type": "markdown",
      "metadata": {
        "id": "lkyq7XoY0O_E"
      },
      "source": [
        "### Let's begin with some hands-on practice exercises"
      ]
    },
    {
      "cell_type": "markdown",
      "metadata": {
        "id": "3GKMT-U60O_E"
      },
      "source": [
        "<a id=\"trans\"> </a>\n",
        "## 1. Feature Transformation"
      ]
    },
    {
      "cell_type": "markdown",
      "metadata": {
        "id": "3kFBBMpp0O_E"
      },
      "source": [
        "## We shall use the wine quality dataset"
      ]
    },
    {
      "cell_type": "markdown",
      "metadata": {
        "collapsed": true,
        "id": "y7aBFsBa0O_F"
      },
      "source": [
        "<table align=\"left\">\n",
        "    <tr>\n",
        "        <td width=\"6%\">\n",
        "            <img src=\"question_icon.png\">\n",
        "        </td>\n",
        "        <td>\n",
        "            <div align=\"left\", style=\"font-size:120%\">\n",
        "                <font color=\"#21618C\">\n",
        "                    <b>1. Does the variable 'volatile acidity' need transformation ?</b>\n",
        "                </font>\n",
        "            </div>\n",
        "        </td>\n",
        "    </tr>\n",
        "</table>"
      ]
    },
    {
      "cell_type": "code",
      "metadata": {
        "colab": {
          "base_uri": "https://localhost:8080/",
          "height": 279
        },
        "id": "f5Y3Umkr0O_F",
        "outputId": "0bd5bfc8-f8da-4017-aa94-abf8a290aae8"
      },
      "source": [
        "# type your code here\r\n",
        "sns.set_style('whitegrid')\r\n",
        "sns.distplot(df['volatile acidity'])\r\n",
        "plt.show()"
      ],
      "execution_count": null,
      "outputs": [
        {
          "output_type": "display_data",
          "data": {
            "image/png": "[encoded data removed]",
            "text/plain": [
              "<Figure size 432x288 with 1 Axes>"
            ]
          },
          "metadata": {
            "tags": []
          }
        }
      ]
    },
    {
      "cell_type": "markdown",
      "metadata": {
        "id": "JggLbZy81mT7"
      },
      "source": [
        "yes the distribution of the variable is right skewed. hence it requires transformation ."
      ]
    },
    {
      "cell_type": "markdown",
      "metadata": {
        "collapsed": true,
        "id": "y5EM7JWl0O_F"
      },
      "source": [
        "<table align=\"left\">\n",
        "    <tr>\n",
        "        <td width=\"6%\">\n",
        "            <img src=\"question_icon.png\">\n",
        "        </td>\n",
        "        <td>\n",
        "            <div align=\"left\", style=\"font-size:120%\">\n",
        "                <font color=\"#21618C\">\n",
        "                    <b>2. How can we reduce skewness of variable 'Residual_Sugar'?</b>\n",
        "                </font>\n",
        "            </div>\n",
        "        </td>\n",
        "    </tr>\n",
        "</table>"
      ]
    },
    {
      "cell_type": "code",
      "metadata": {
        "colab": {
          "base_uri": "https://localhost:8080/",
          "height": 279
        },
        "id": "7IGuTIh80O_F",
        "outputId": "45c168c8-f639-4bec-bb1a-6aca7d037c21"
      },
      "source": [
        "# type your code here\r\n",
        "sns.distplot(np.log(df['residual sugar']))\r\n",
        "plt.show()"
      ],
      "execution_count": null,
      "outputs": [
        {
          "output_type": "display_data",
          "data": {
            "image/png": "[encoded data removed]",
            "text/plain": [
              "<Figure size 432x288 with 1 Axes>"
            ]
          },
          "metadata": {
            "tags": []
          }
        }
      ]
    },
    {
      "cell_type": "markdown",
      "metadata": {
        "collapsed": true,
        "id": "UDTcgIKC0O_G"
      },
      "source": [
        "<table align=\"left\">\n",
        "    <tr>\n",
        "        <td width=\"6%\">\n",
        "            <img src=\"question_icon.png\">\n",
        "        </td>\n",
        "        <td>\n",
        "            <div align=\"left\", style=\"font-size:120%\">\n",
        "                <font color=\"#21618C\">\n",
        "                    <b>3. Are there features in the dataset that add little to no information ?</b>\n",
        "                </font>\n",
        "            </div>\n",
        "        </td>\n",
        "    </tr>\n",
        "</table>"
      ]
    },
    {
      "cell_type": "code",
      "metadata": {
        "colab": {
          "base_uri": "https://localhost:8080/"
        },
        "id": "ACdo_c060O_G",
        "outputId": "159859d1-4b4e-4a82-e09c-f7c4db8e6e1e"
      },
      "source": [
        "# type your code here\r\n",
        "df.std()"
      ],
      "execution_count": null,
      "outputs": [
        {
          "output_type": "execute_result",
          "data": {
            "text/plain": [
              "fixed acidity            0.843868\n",
              "volatile acidity         0.100795\n",
              "citric acid              0.121020\n",
              "residual sugar           5.072058\n",
              "chlorides                0.021848\n",
              "free sulfur dioxide     17.007137\n",
              "total sulfur dioxide    42.498065\n",
              "density                  0.002991\n",
              "pH                       0.151001\n",
              "sulphates                0.114126\n",
              "alcohol                  1.230621\n",
              "quality                  0.885639\n",
              "dtype: float64"
            ]
          },
          "metadata": {
            "tags": []
          },
          "execution_count": 12
        }
      ]
    },
    {
      "cell_type": "markdown",
      "metadata": {
        "id": "FY0evIXw2vOY"
      },
      "source": [
        "variation of features like 'density' and 'chlorides' are too low and hence may not be carrying much information ."
      ]
    },
    {
      "cell_type": "markdown",
      "metadata": {
        "collapsed": true,
        "id": "HQqODAFH0O_G"
      },
      "source": [
        "<table align=\"left\">\n",
        "    <tr>\n",
        "        <td width=\"6%\">\n",
        "            <img src=\"question_icon.png\">\n",
        "        </td>\n",
        "        <td>\n",
        "            <div align=\"left\", style=\"font-size:120%\">\n",
        "                <font color=\"#21618C\">\n",
        "                    <b>4. Which transformation method is best suited to treat the skewness in variable 'alcohol'?</b>\n",
        "                </font>\n",
        "            </div>\n",
        "        </td>\n",
        "    </tr>\n",
        "</table>"
      ]
    },
    {
      "cell_type": "code",
      "metadata": {
        "colab": {
          "base_uri": "https://localhost:8080/",
          "height": 279
        },
        "id": "bVUTHKrs0O_G",
        "outputId": "bbf9f5b2-56f4-45ea-cb4a-d819bb9796d8"
      },
      "source": [
        "# type your code here\r\n",
        "sns.distplot(df['alcohol'])\r\n",
        "plt.show()"
      ],
      "execution_count": null,
      "outputs": [
        {
          "output_type": "display_data",
          "data": {
            "image/png": "[encoded data removed]",
            "text/plain": [
              "<Figure size 432x288 with 1 Axes>"
            ]
          },
          "metadata": {
            "tags": []
          }
        }
      ]
    },
    {
      "cell_type": "code",
      "metadata": {
        "colab": {
          "base_uri": "https://localhost:8080/",
          "height": 279
        },
        "id": "_b0tEu3d3aOx",
        "outputId": "47c445d2-ad65-480c-ca1f-9f58b162696e"
      },
      "source": [
        "sns.distplot(np.sqrt(df['alcohol']))\r\n",
        "plt.show()"
      ],
      "execution_count": null,
      "outputs": [
        {
          "output_type": "display_data",
          "data": {
            "image/png": "[encoded data removed]",
            "text/plain": [
              "<Figure size 432x288 with 1 Axes>"
            ]
          },
          "metadata": {
            "tags": []
          }
        }
      ]
    },
    {
      "cell_type": "code",
      "metadata": {
        "id": "Q4gEZOkV3rt8"
      },
      "source": [
        "from sklearn.preprocessing import PowerTransformer\r\n",
        "pt=PowerTransformer()\r\n",
        "df2=df.copy()\r\n",
        "df2['alcohol2']=pt.fit_transform(df2[['alcohol']])"
      ],
      "execution_count": 9,
      "outputs": []
    },
    {
      "cell_type": "code",
      "metadata": {
        "colab": {
          "base_uri": "https://localhost:8080/",
          "height": 279
        },
        "id": "kV7a9Oj74vB3",
        "outputId": "7175d43e-0ec2-431a-e012-edf31454069e"
      },
      "source": [
        "sns.distplot(df2['alcohol2'])\r\n",
        "plt.show()"
      ],
      "execution_count": null,
      "outputs": [
        {
          "output_type": "display_data",
          "data": {
            "image/png": "[encoded data removed]",
            "text/plain": [
              "<Figure size 432x288 with 1 Axes>"
            ]
          },
          "metadata": {
            "tags": []
          }
        }
      ]
    },
    {
      "cell_type": "markdown",
      "metadata": {
        "collapsed": true,
        "id": "JhYewHGm0O_G"
      },
      "source": [
        "<table align=\"left\">\n",
        "    <tr>\n",
        "        <td width=\"6%\">\n",
        "            <img src=\"question_icon.png\">\n",
        "        </td>\n",
        "        <td>\n",
        "            <div align=\"left\", style=\"font-size:120%\">\n",
        "                <font color=\"#21618C\">\n",
        "                    <b>5. Does scaling the feature 'pH' lead to better prediction when considering a full model ?</b>\n",
        "                </font>\n",
        "            </div>\n",
        "        </td>\n",
        "    </tr>\n",
        "</table>"
      ]
    },
    {
      "cell_type": "code",
      "metadata": {
        "colab": {
          "base_uri": "https://localhost:8080/",
          "height": 688
        },
        "id": "zvpJSFub0O_H",
        "outputId": "1df8bae1-3175-46da-8b85-51a14b63d939"
      },
      "source": [
        "# type your code here\r\n",
        "y=df['quality']\r\n",
        "x=df.drop('quality', axis=1)\r\n",
        "\r\n",
        "import statsmodels.api as sm\r\n",
        "xc=sm.add_constant(x)\r\n",
        "model=sm.OLS(y,xc).fit()\r\n",
        "model.summary()"
      ],
      "execution_count": null,
      "outputs": [
        {
          "output_type": "execute_result",
          "data": {
            "text/html": [
              "<table class=\"simpletable\">\n",
              "<caption>OLS Regression Results</caption>\n",
              "<tr>\n",
              "  <th>Dep. Variable:</th>         <td>quality</td>     <th>  R-squared:         </th> <td>   0.282</td> \n",
              "</tr>\n",
              "<tr>\n",
              "  <th>Model:</th>                   <td>OLS</td>       <th>  Adj. R-squared:    </th> <td>   0.280</td> \n",
              "</tr>\n",
              "<tr>\n",
              "  <th>Method:</th>             <td>Least Squares</td>  <th>  F-statistic:       </th> <td>   174.3</td> \n",
              "</tr>\n",
              "<tr>\n",
              "  <th>Date:</th>             <td>Fri, 29 Jan 2021</td> <th>  Prob (F-statistic):</th>  <td>  0.00</td>  \n",
              "</tr>\n",
              "<tr>\n",
              "  <th>Time:</th>                 <td>11:28:43</td>     <th>  Log-Likelihood:    </th> <td> -5543.7</td> \n",
              "</tr>\n",
              "<tr>\n",
              "  <th>No. Observations:</th>      <td>  4898</td>      <th>  AIC:               </th> <td>1.111e+04</td>\n",
              "</tr>\n",
              "<tr>\n",
              "  <th>Df Residuals:</th>          <td>  4886</td>      <th>  BIC:               </th> <td>1.119e+04</td>\n",
              "</tr>\n",
              "<tr>\n",
              "  <th>Df Model:</th>              <td>    11</td>      <th>                     </th>     <td> </td>    \n",
              "</tr>\n",
              "<tr>\n",
              "  <th>Covariance Type:</th>      <td>nonrobust</td>    <th>                     </th>     <td> </td>    \n",
              "</tr>\n",
              "</table>\n",
              "<table class=\"simpletable\">\n",
              "<tr>\n",
              "            <td></td>              <th>coef</th>     <th>std err</th>      <th>t</th>      <th>P>|t|</th>  <th>[0.025</th>    <th>0.975]</th>  \n",
              "</tr>\n",
              "<tr>\n",
              "  <th>const</th>                <td>  150.1928</td> <td>   18.804</td> <td>    7.987</td> <td> 0.000</td> <td>  113.328</td> <td>  187.057</td>\n",
              "</tr>\n",
              "<tr>\n",
              "  <th>fixed acidity</th>        <td>    0.0655</td> <td>    0.021</td> <td>    3.139</td> <td> 0.002</td> <td>    0.025</td> <td>    0.106</td>\n",
              "</tr>\n",
              "<tr>\n",
              "  <th>volatile acidity</th>     <td>   -1.8632</td> <td>    0.114</td> <td>  -16.373</td> <td> 0.000</td> <td>   -2.086</td> <td>   -1.640</td>\n",
              "</tr>\n",
              "<tr>\n",
              "  <th>citric acid</th>          <td>    0.0221</td> <td>    0.096</td> <td>    0.231</td> <td> 0.818</td> <td>   -0.166</td> <td>    0.210</td>\n",
              "</tr>\n",
              "<tr>\n",
              "  <th>residual sugar</th>       <td>    0.0815</td> <td>    0.008</td> <td>   10.825</td> <td> 0.000</td> <td>    0.067</td> <td>    0.096</td>\n",
              "</tr>\n",
              "<tr>\n",
              "  <th>chlorides</th>            <td>   -0.2473</td> <td>    0.547</td> <td>   -0.452</td> <td> 0.651</td> <td>   -1.319</td> <td>    0.824</td>\n",
              "</tr>\n",
              "<tr>\n",
              "  <th>free sulfur dioxide</th>  <td>    0.0037</td> <td>    0.001</td> <td>    4.422</td> <td> 0.000</td> <td>    0.002</td> <td>    0.005</td>\n",
              "</tr>\n",
              "<tr>\n",
              "  <th>total sulfur dioxide</th> <td>   -0.0003</td> <td>    0.000</td> <td>   -0.756</td> <td> 0.450</td> <td>   -0.001</td> <td>    0.000</td>\n",
              "</tr>\n",
              "<tr>\n",
              "  <th>density</th>              <td> -150.2842</td> <td>   19.075</td> <td>   -7.879</td> <td> 0.000</td> <td> -187.679</td> <td> -112.890</td>\n",
              "</tr>\n",
              "<tr>\n",
              "  <th>pH</th>                   <td>    0.6863</td> <td>    0.105</td> <td>    6.513</td> <td> 0.000</td> <td>    0.480</td> <td>    0.893</td>\n",
              "</tr>\n",
              "<tr>\n",
              "  <th>sulphates</th>            <td>    0.6315</td> <td>    0.100</td> <td>    6.291</td> <td> 0.000</td> <td>    0.435</td> <td>    0.828</td>\n",
              "</tr>\n",
              "<tr>\n",
              "  <th>alcohol</th>              <td>    0.1935</td> <td>    0.024</td> <td>    7.988</td> <td> 0.000</td> <td>    0.146</td> <td>    0.241</td>\n",
              "</tr>\n",
              "</table>\n",
              "<table class=\"simpletable\">\n",
              "<tr>\n",
              "  <th>Omnibus:</th>       <td>114.161</td> <th>  Durbin-Watson:     </th> <td>   1.621</td>\n",
              "</tr>\n",
              "<tr>\n",
              "  <th>Prob(Omnibus):</th> <td> 0.000</td>  <th>  Jarque-Bera (JB):  </th> <td> 251.637</td>\n",
              "</tr>\n",
              "<tr>\n",
              "  <th>Skew:</th>          <td> 0.073</td>  <th>  Prob(JB):          </th> <td>2.28e-55</td>\n",
              "</tr>\n",
              "<tr>\n",
              "  <th>Kurtosis:</th>      <td> 4.101</td>  <th>  Cond. No.          </th> <td>3.74e+05</td>\n",
              "</tr>\n",
              "</table><br/><br/>Warnings:<br/>[1] Standard Errors assume that the covariance matrix of the errors is correctly specified.<br/>[2] The condition number is large, 3.74e+05. This might indicate that there are<br/>strong multicollinearity or other numerical problems."
            ],
            "text/plain": [
              "<class 'statsmodels.iolib.summary.Summary'>\n",
              "\"\"\"\n",
              "                            OLS Regression Results                            \n",
              "==============================================================================\n",
              "Dep. Variable:                quality   R-squared:                       0.282\n",
              "Model:                            OLS   Adj. R-squared:                  0.280\n",
              "Method:                 Least Squares   F-statistic:                     174.3\n",
              "Date:                Fri, 29 Jan 2021   Prob (F-statistic):               0.00\n",
              "Time:                        11:28:43   Log-Likelihood:                -5543.7\n",
              "No. Observations:                4898   AIC:                         1.111e+04\n",
              "Df Residuals:                    4886   BIC:                         1.119e+04\n",
              "Df Model:                          11                                         \n",
              "Covariance Type:            nonrobust                                         \n",
              "========================================================================================\n",
              "                           coef    std err          t      P>|t|      [0.025      0.975]\n",
              "----------------------------------------------------------------------------------------\n",
              "const                  150.1928     18.804      7.987      0.000     113.328     187.057\n",
              "fixed acidity            0.0655      0.021      3.139      0.002       0.025       0.106\n",
              "volatile acidity        -1.8632      0.114    -16.373      0.000      -2.086      -1.640\n",
              "citric acid              0.0221      0.096      0.231      0.818      -0.166       0.210\n",
              "residual sugar           0.0815      0.008     10.825      0.000       0.067       0.096\n",
              "chlorides               -0.2473      0.547     -0.452      0.651      -1.319       0.824\n",
              "free sulfur dioxide      0.0037      0.001      4.422      0.000       0.002       0.005\n",
              "total sulfur dioxide    -0.0003      0.000     -0.756      0.450      -0.001       0.000\n",
              "density               -150.2842     19.075     -7.879      0.000    -187.679    -112.890\n",
              "pH                       0.6863      0.105      6.513      0.000       0.480       0.893\n",
              "sulphates                0.6315      0.100      6.291      0.000       0.435       0.828\n",
              "alcohol                  0.1935      0.024      7.988      0.000       0.146       0.241\n",
              "==============================================================================\n",
              "Omnibus:                      114.161   Durbin-Watson:                   1.621\n",
              "Prob(Omnibus):                  0.000   Jarque-Bera (JB):              251.637\n",
              "Skew:                           0.073   Prob(JB):                     2.28e-55\n",
              "Kurtosis:                       4.101   Cond. No.                     3.74e+05\n",
              "==============================================================================\n",
              "\n",
              "Warnings:\n",
              "[1] Standard Errors assume that the covariance matrix of the errors is correctly specified.\n",
              "[2] The condition number is large, 3.74e+05. This might indicate that there are\n",
              "strong multicollinearity or other numerical problems.\n",
              "\"\"\""
            ]
          },
          "metadata": {
            "tags": []
          },
          "execution_count": 26
        }
      ]
    },
    {
      "cell_type": "code",
      "metadata": {
        "id": "e6Gk7Ugp5yYC"
      },
      "source": [
        "from sklearn.preprocessing import StandardScaler\r\n",
        "ss=StandardScaler()\r\n",
        "\r\n",
        "df2['phs']=ss.fit_transform(df2[['pH']])"
      ],
      "execution_count": null,
      "outputs": []
    },
    {
      "cell_type": "code",
      "metadata": {
        "colab": {
          "base_uri": "https://localhost:8080/",
          "height": 258
        },
        "id": "HzsgWByM6RDN",
        "outputId": "9d20626d-f669-4606-8c82-437f839cdd48"
      },
      "source": [
        "df2.head()"
      ],
      "execution_count": null,
      "outputs": [
        {
          "output_type": "execute_result",
          "data": {
            "text/html": [
              "<div>\n",
              "<style scoped>\n",
              "    .dataframe tbody tr th:only-of-type {\n",
              "        vertical-align: middle;\n",
              "    }\n",
              "\n",
              "    .dataframe tbody tr th {\n",
              "        vertical-align: top;\n",
              "    }\n",
              "\n",
              "    .dataframe thead th {\n",
              "        text-align: right;\n",
              "    }\n",
              "</style>\n",
              "<table border=\"1\" class=\"dataframe\">\n",
              "  <thead>\n",
              "    <tr style=\"text-align: right;\">\n",
              "      <th></th>\n",
              "      <th>fixed acidity</th>\n",
              "      <th>volatile acidity</th>\n",
              "      <th>citric acid</th>\n",
              "      <th>residual sugar</th>\n",
              "      <th>chlorides</th>\n",
              "      <th>free sulfur dioxide</th>\n",
              "      <th>total sulfur dioxide</th>\n",
              "      <th>density</th>\n",
              "      <th>pH</th>\n",
              "      <th>sulphates</th>\n",
              "      <th>alcohol</th>\n",
              "      <th>quality</th>\n",
              "      <th>alcohol2</th>\n",
              "      <th>phs</th>\n",
              "    </tr>\n",
              "  </thead>\n",
              "  <tbody>\n",
              "    <tr>\n",
              "      <th>0</th>\n",
              "      <td>7.0</td>\n",
              "      <td>0.27</td>\n",
              "      <td>0.36</td>\n",
              "      <td>20.7</td>\n",
              "      <td>0.045</td>\n",
              "      <td>45.0</td>\n",
              "      <td>170.0</td>\n",
              "      <td>1.0010</td>\n",
              "      <td>3.00</td>\n",
              "      <td>0.45</td>\n",
              "      <td>8.8</td>\n",
              "      <td>6</td>\n",
              "      <td>-1.630002</td>\n",
              "      <td>-1.246921</td>\n",
              "    </tr>\n",
              "    <tr>\n",
              "      <th>1</th>\n",
              "      <td>6.3</td>\n",
              "      <td>0.30</td>\n",
              "      <td>0.34</td>\n",
              "      <td>1.6</td>\n",
              "      <td>0.049</td>\n",
              "      <td>14.0</td>\n",
              "      <td>132.0</td>\n",
              "      <td>0.9940</td>\n",
              "      <td>3.30</td>\n",
              "      <td>0.49</td>\n",
              "      <td>9.5</td>\n",
              "      <td>6</td>\n",
              "      <td>-0.811571</td>\n",
              "      <td>0.740029</td>\n",
              "    </tr>\n",
              "    <tr>\n",
              "      <th>2</th>\n",
              "      <td>8.1</td>\n",
              "      <td>0.28</td>\n",
              "      <td>0.40</td>\n",
              "      <td>6.9</td>\n",
              "      <td>0.050</td>\n",
              "      <td>30.0</td>\n",
              "      <td>97.0</td>\n",
              "      <td>0.9951</td>\n",
              "      <td>3.26</td>\n",
              "      <td>0.44</td>\n",
              "      <td>10.1</td>\n",
              "      <td>6</td>\n",
              "      <td>-0.218621</td>\n",
              "      <td>0.475102</td>\n",
              "    </tr>\n",
              "    <tr>\n",
              "      <th>3</th>\n",
              "      <td>7.2</td>\n",
              "      <td>0.23</td>\n",
              "      <td>0.32</td>\n",
              "      <td>8.5</td>\n",
              "      <td>0.058</td>\n",
              "      <td>47.0</td>\n",
              "      <td>186.0</td>\n",
              "      <td>0.9956</td>\n",
              "      <td>3.19</td>\n",
              "      <td>0.40</td>\n",
              "      <td>9.9</td>\n",
              "      <td>6</td>\n",
              "      <td>-0.406511</td>\n",
              "      <td>0.011480</td>\n",
              "    </tr>\n",
              "    <tr>\n",
              "      <th>4</th>\n",
              "      <td>7.2</td>\n",
              "      <td>0.23</td>\n",
              "      <td>0.32</td>\n",
              "      <td>8.5</td>\n",
              "      <td>0.058</td>\n",
              "      <td>47.0</td>\n",
              "      <td>186.0</td>\n",
              "      <td>0.9956</td>\n",
              "      <td>3.19</td>\n",
              "      <td>0.40</td>\n",
              "      <td>9.9</td>\n",
              "      <td>6</td>\n",
              "      <td>-0.406511</td>\n",
              "      <td>0.011480</td>\n",
              "    </tr>\n",
              "  </tbody>\n",
              "</table>\n",
              "</div>"
            ],
            "text/plain": [
              "   fixed acidity  volatile acidity  citric acid  ...  quality  alcohol2       phs\n",
              "0            7.0              0.27         0.36  ...        6 -1.630002 -1.246921\n",
              "1            6.3              0.30         0.34  ...        6 -0.811571  0.740029\n",
              "2            8.1              0.28         0.40  ...        6 -0.218621  0.475102\n",
              "3            7.2              0.23         0.32  ...        6 -0.406511  0.011480\n",
              "4            7.2              0.23         0.32  ...        6 -0.406511  0.011480\n",
              "\n",
              "[5 rows x 14 columns]"
            ]
          },
          "metadata": {
            "tags": []
          },
          "execution_count": 29
        }
      ]
    },
    {
      "cell_type": "code",
      "metadata": {
        "colab": {
          "base_uri": "https://localhost:8080/",
          "height": 709
        },
        "id": "09nICCyc6T9k",
        "outputId": "a00db85e-0824-471a-8384-743fac80ac4f"
      },
      "source": [
        "y=df2['quality']\r\n",
        "x=df2.drop(['quality','pH'], axis=1)\r\n",
        "\r\n",
        "import statsmodels.api as sm\r\n",
        "xc=sm.add_constant(x)\r\n",
        "model=sm.OLS(y,xc).fit()\r\n",
        "model.summary()"
      ],
      "execution_count": null,
      "outputs": [
        {
          "output_type": "execute_result",
          "data": {
            "text/html": [
              "<table class=\"simpletable\">\n",
              "<caption>OLS Regression Results</caption>\n",
              "<tr>\n",
              "  <th>Dep. Variable:</th>         <td>quality</td>     <th>  R-squared:         </th> <td>   0.287</td> \n",
              "</tr>\n",
              "<tr>\n",
              "  <th>Model:</th>                   <td>OLS</td>       <th>  Adj. R-squared:    </th> <td>   0.285</td> \n",
              "</tr>\n",
              "<tr>\n",
              "  <th>Method:</th>             <td>Least Squares</td>  <th>  F-statistic:       </th> <td>   163.8</td> \n",
              "</tr>\n",
              "<tr>\n",
              "  <th>Date:</th>             <td>Fri, 29 Jan 2021</td> <th>  Prob (F-statistic):</th>  <td>  0.00</td>  \n",
              "</tr>\n",
              "<tr>\n",
              "  <th>Time:</th>                 <td>11:31:49</td>     <th>  Log-Likelihood:    </th> <td> -5526.3</td> \n",
              "</tr>\n",
              "<tr>\n",
              "  <th>No. Observations:</th>      <td>  4898</td>      <th>  AIC:               </th> <td>1.108e+04</td>\n",
              "</tr>\n",
              "<tr>\n",
              "  <th>Df Residuals:</th>          <td>  4885</td>      <th>  BIC:               </th> <td>1.116e+04</td>\n",
              "</tr>\n",
              "<tr>\n",
              "  <th>Df Model:</th>              <td>    12</td>      <th>                     </th>     <td> </td>    \n",
              "</tr>\n",
              "<tr>\n",
              "  <th>Covariance Type:</th>      <td>nonrobust</td>    <th>                     </th>     <td> </td>    \n",
              "</tr>\n",
              "</table>\n",
              "<table class=\"simpletable\">\n",
              "<tr>\n",
              "            <td></td>              <th>coef</th>     <th>std err</th>      <th>t</th>      <th>P>|t|</th>  <th>[0.025</th>    <th>0.975]</th>  \n",
              "</tr>\n",
              "<tr>\n",
              "  <th>const</th>                <td>  143.5459</td> <td>   19.006</td> <td>    7.553</td> <td> 0.000</td> <td>  106.286</td> <td>  180.806</td>\n",
              "</tr>\n",
              "<tr>\n",
              "  <th>fixed acidity</th>        <td>    0.0762</td> <td>    0.021</td> <td>    3.652</td> <td> 0.000</td> <td>    0.035</td> <td>    0.117</td>\n",
              "</tr>\n",
              "<tr>\n",
              "  <th>volatile acidity</th>     <td>   -1.9824</td> <td>    0.115</td> <td>  -17.211</td> <td> 0.000</td> <td>   -2.208</td> <td>   -1.757</td>\n",
              "</tr>\n",
              "<tr>\n",
              "  <th>citric acid</th>          <td>   -0.0295</td> <td>    0.096</td> <td>   -0.308</td> <td> 0.758</td> <td>   -0.217</td> <td>    0.158</td>\n",
              "</tr>\n",
              "<tr>\n",
              "  <th>residual sugar</th>       <td>    0.0761</td> <td>    0.008</td> <td>   10.075</td> <td> 0.000</td> <td>    0.061</td> <td>    0.091</td>\n",
              "</tr>\n",
              "<tr>\n",
              "  <th>chlorides</th>            <td>   -0.3804</td> <td>    0.545</td> <td>   -0.698</td> <td> 0.485</td> <td>   -1.449</td> <td>    0.688</td>\n",
              "</tr>\n",
              "<tr>\n",
              "  <th>free sulfur dioxide</th>  <td>    0.0037</td> <td>    0.001</td> <td>    4.372</td> <td> 0.000</td> <td>    0.002</td> <td>    0.005</td>\n",
              "</tr>\n",
              "<tr>\n",
              "  <th>total sulfur dioxide</th> <td>   -0.0003</td> <td>    0.000</td> <td>   -0.925</td> <td> 0.355</td> <td>   -0.001</td> <td>    0.000</td>\n",
              "</tr>\n",
              "<tr>\n",
              "  <th>density</th>              <td> -145.4958</td> <td>   19.026</td> <td>   -7.647</td> <td> 0.000</td> <td> -182.795</td> <td> -108.197</td>\n",
              "</tr>\n",
              "<tr>\n",
              "  <th>sulphates</th>            <td>    0.6418</td> <td>    0.100</td> <td>    6.414</td> <td> 0.000</td> <td>    0.446</td> <td>    0.838</td>\n",
              "</tr>\n",
              "<tr>\n",
              "  <th>alcohol</th>              <td>    0.5833</td> <td>    0.070</td> <td>    8.307</td> <td> 0.000</td> <td>    0.446</td> <td>    0.721</td>\n",
              "</tr>\n",
              "<tr>\n",
              "  <th>alcohol2</th>             <td>   -0.4876</td> <td>    0.082</td> <td>   -5.912</td> <td> 0.000</td> <td>   -0.649</td> <td>   -0.326</td>\n",
              "</tr>\n",
              "<tr>\n",
              "  <th>phs</th>                  <td>    0.1118</td> <td>    0.016</td> <td>    7.025</td> <td> 0.000</td> <td>    0.081</td> <td>    0.143</td>\n",
              "</tr>\n",
              "</table>\n",
              "<table class=\"simpletable\">\n",
              "<tr>\n",
              "  <th>Omnibus:</th>       <td>105.793</td> <th>  Durbin-Watson:     </th> <td>   1.621</td>\n",
              "</tr>\n",
              "<tr>\n",
              "  <th>Prob(Omnibus):</th> <td> 0.000</td>  <th>  Jarque-Bera (JB):  </th> <td> 226.680</td>\n",
              "</tr>\n",
              "<tr>\n",
              "  <th>Skew:</th>          <td> 0.064</td>  <th>  Prob(JB):          </th> <td>5.99e-50</td>\n",
              "</tr>\n",
              "<tr>\n",
              "  <th>Kurtosis:</th>      <td> 4.046</td>  <th>  Cond. No.          </th> <td>3.77e+05</td>\n",
              "</tr>\n",
              "</table><br/><br/>Warnings:<br/>[1] Standard Errors assume that the covariance matrix of the errors is correctly specified.<br/>[2] The condition number is large, 3.77e+05. This might indicate that there are<br/>strong multicollinearity or other numerical problems."
            ],
            "text/plain": [
              "<class 'statsmodels.iolib.summary.Summary'>\n",
              "\"\"\"\n",
              "                            OLS Regression Results                            \n",
              "==============================================================================\n",
              "Dep. Variable:                quality   R-squared:                       0.287\n",
              "Model:                            OLS   Adj. R-squared:                  0.285\n",
              "Method:                 Least Squares   F-statistic:                     163.8\n",
              "Date:                Fri, 29 Jan 2021   Prob (F-statistic):               0.00\n",
              "Time:                        11:31:49   Log-Likelihood:                -5526.3\n",
              "No. Observations:                4898   AIC:                         1.108e+04\n",
              "Df Residuals:                    4885   BIC:                         1.116e+04\n",
              "Df Model:                          12                                         \n",
              "Covariance Type:            nonrobust                                         \n",
              "========================================================================================\n",
              "                           coef    std err          t      P>|t|      [0.025      0.975]\n",
              "----------------------------------------------------------------------------------------\n",
              "const                  143.5459     19.006      7.553      0.000     106.286     180.806\n",
              "fixed acidity            0.0762      0.021      3.652      0.000       0.035       0.117\n",
              "volatile acidity        -1.9824      0.115    -17.211      0.000      -2.208      -1.757\n",
              "citric acid             -0.0295      0.096     -0.308      0.758      -0.217       0.158\n",
              "residual sugar           0.0761      0.008     10.075      0.000       0.061       0.091\n",
              "chlorides               -0.3804      0.545     -0.698      0.485      -1.449       0.688\n",
              "free sulfur dioxide      0.0037      0.001      4.372      0.000       0.002       0.005\n",
              "total sulfur dioxide    -0.0003      0.000     -0.925      0.355      -0.001       0.000\n",
              "density               -145.4958     19.026     -7.647      0.000    -182.795    -108.197\n",
              "sulphates                0.6418      0.100      6.414      0.000       0.446       0.838\n",
              "alcohol                  0.5833      0.070      8.307      0.000       0.446       0.721\n",
              "alcohol2                -0.4876      0.082     -5.912      0.000      -0.649      -0.326\n",
              "phs                      0.1118      0.016      7.025      0.000       0.081       0.143\n",
              "==============================================================================\n",
              "Omnibus:                      105.793   Durbin-Watson:                   1.621\n",
              "Prob(Omnibus):                  0.000   Jarque-Bera (JB):              226.680\n",
              "Skew:                           0.064   Prob(JB):                     5.99e-50\n",
              "Kurtosis:                       4.046   Cond. No.                     3.77e+05\n",
              "==============================================================================\n",
              "\n",
              "Warnings:\n",
              "[1] Standard Errors assume that the covariance matrix of the errors is correctly specified.\n",
              "[2] The condition number is large, 3.77e+05. This might indicate that there are\n",
              "strong multicollinearity or other numerical problems.\n",
              "\"\"\""
            ]
          },
          "metadata": {
            "tags": []
          },
          "execution_count": 30
        }
      ]
    },
    {
      "cell_type": "markdown",
      "metadata": {
        "id": "yAFao_fa66ki"
      },
      "source": [
        "Quality of prediction is same before and after standardization"
      ]
    },
    {
      "cell_type": "markdown",
      "metadata": {
        "collapsed": true,
        "id": "whq6_BPs0O_H"
      },
      "source": [
        "<table align=\"left\">\n",
        "    <tr>\n",
        "        <td width=\"6%\">\n",
        "            <img src=\"question_icon.png\">\n",
        "        </td>\n",
        "        <td>\n",
        "            <div align=\"left\", style=\"font-size:120%\">\n",
        "                <font color=\"#21618C\">\n",
        "                    <b>6. What could be done to resolve the issue of multicollinearity if present?</b>\n",
        "                </font>\n",
        "            </div>\n",
        "        </td>\n",
        "    </tr>\n",
        "</table>"
      ]
    },
    {
      "cell_type": "code",
      "metadata": {
        "colab": {
          "base_uri": "https://localhost:8080/",
          "height": 421
        },
        "id": "b27TuxBF0O_H",
        "outputId": "8e135d35-8e1f-4ffb-eb82-59959bb0ae20"
      },
      "source": [
        "# type your code here\r\n",
        "y=df['quality']\r\n",
        "x=df.drop('quality', axis=1)\r\n",
        "\r\n",
        "from statsmodels.stats.outliers_influence import variance_inflation_factor as vif\r\n",
        "import statsmodels.api as sm\r\n",
        "xc=sm.add_constant(x)\r\n",
        "vf=[vif(xc.values,i) for i in range(xc.shape[1])]\r\n",
        "pd.DataFrame(vf, index=xc.columns, columns=['vif'])\r\n",
        "#model=sm.OLS(y,xc).fit()\r\n",
        "#model.summary()"
      ],
      "execution_count": null,
      "outputs": [
        {
          "output_type": "execute_result",
          "data": {
            "text/html": [
              "<div>\n",
              "<style scoped>\n",
              "    .dataframe tbody tr th:only-of-type {\n",
              "        vertical-align: middle;\n",
              "    }\n",
              "\n",
              "    .dataframe tbody tr th {\n",
              "        vertical-align: top;\n",
              "    }\n",
              "\n",
              "    .dataframe thead th {\n",
              "        text-align: right;\n",
              "    }\n",
              "</style>\n",
              "<table border=\"1\" class=\"dataframe\">\n",
              "  <thead>\n",
              "    <tr style=\"text-align: right;\">\n",
              "      <th></th>\n",
              "      <th>vif</th>\n",
              "    </tr>\n",
              "  </thead>\n",
              "  <tbody>\n",
              "    <tr>\n",
              "      <th>const</th>\n",
              "      <td>3.067856e+06</td>\n",
              "    </tr>\n",
              "    <tr>\n",
              "      <th>fixed acidity</th>\n",
              "      <td>2.691435e+00</td>\n",
              "    </tr>\n",
              "    <tr>\n",
              "      <th>volatile acidity</th>\n",
              "      <td>1.141156e+00</td>\n",
              "    </tr>\n",
              "    <tr>\n",
              "      <th>citric acid</th>\n",
              "      <td>1.165215e+00</td>\n",
              "    </tr>\n",
              "    <tr>\n",
              "      <th>residual sugar</th>\n",
              "      <td>1.264406e+01</td>\n",
              "    </tr>\n",
              "    <tr>\n",
              "      <th>chlorides</th>\n",
              "      <td>1.236822e+00</td>\n",
              "    </tr>\n",
              "    <tr>\n",
              "      <th>free sulfur dioxide</th>\n",
              "      <td>1.787880e+00</td>\n",
              "    </tr>\n",
              "    <tr>\n",
              "      <th>total sulfur dioxide</th>\n",
              "      <td>2.239233e+00</td>\n",
              "    </tr>\n",
              "    <tr>\n",
              "      <th>density</th>\n",
              "      <td>2.823255e+01</td>\n",
              "    </tr>\n",
              "    <tr>\n",
              "      <th>pH</th>\n",
              "      <td>2.196362e+00</td>\n",
              "    </tr>\n",
              "    <tr>\n",
              "      <th>sulphates</th>\n",
              "      <td>1.138540e+00</td>\n",
              "    </tr>\n",
              "    <tr>\n",
              "      <th>alcohol</th>\n",
              "      <td>7.706957e+00</td>\n",
              "    </tr>\n",
              "  </tbody>\n",
              "</table>\n",
              "</div>"
            ],
            "text/plain": [
              "                               vif\n",
              "const                 3.067856e+06\n",
              "fixed acidity         2.691435e+00\n",
              "volatile acidity      1.141156e+00\n",
              "citric acid           1.165215e+00\n",
              "residual sugar        1.264406e+01\n",
              "chlorides             1.236822e+00\n",
              "free sulfur dioxide   1.787880e+00\n",
              "total sulfur dioxide  2.239233e+00\n",
              "density               2.823255e+01\n",
              "pH                    2.196362e+00\n",
              "sulphates             1.138540e+00\n",
              "alcohol               7.706957e+00"
            ]
          },
          "metadata": {
            "tags": []
          },
          "execution_count": 31
        }
      ]
    },
    {
      "cell_type": "code",
      "metadata": {
        "colab": {
          "base_uri": "https://localhost:8080/",
          "height": 594
        },
        "id": "HFqKXewW72jr",
        "outputId": "d3db5387-ab66-446b-f60b-bbbaf99cafbf"
      },
      "source": [
        "xc.corr()"
      ],
      "execution_count": null,
      "outputs": [
        {
          "output_type": "execute_result",
          "data": {
            "text/html": [
              "<div>\n",
              "<style scoped>\n",
              "    .dataframe tbody tr th:only-of-type {\n",
              "        vertical-align: middle;\n",
              "    }\n",
              "\n",
              "    .dataframe tbody tr th {\n",
              "        vertical-align: top;\n",
              "    }\n",
              "\n",
              "    .dataframe thead th {\n",
              "        text-align: right;\n",
              "    }\n",
              "</style>\n",
              "<table border=\"1\" class=\"dataframe\">\n",
              "  <thead>\n",
              "    <tr style=\"text-align: right;\">\n",
              "      <th></th>\n",
              "      <th>const</th>\n",
              "      <th>fixed acidity</th>\n",
              "      <th>volatile acidity</th>\n",
              "      <th>citric acid</th>\n",
              "      <th>residual sugar</th>\n",
              "      <th>chlorides</th>\n",
              "      <th>free sulfur dioxide</th>\n",
              "      <th>total sulfur dioxide</th>\n",
              "      <th>density</th>\n",
              "      <th>pH</th>\n",
              "      <th>sulphates</th>\n",
              "      <th>alcohol</th>\n",
              "    </tr>\n",
              "  </thead>\n",
              "  <tbody>\n",
              "    <tr>\n",
              "      <th>const</th>\n",
              "      <td>NaN</td>\n",
              "      <td>NaN</td>\n",
              "      <td>NaN</td>\n",
              "      <td>NaN</td>\n",
              "      <td>NaN</td>\n",
              "      <td>NaN</td>\n",
              "      <td>NaN</td>\n",
              "      <td>NaN</td>\n",
              "      <td>NaN</td>\n",
              "      <td>NaN</td>\n",
              "      <td>NaN</td>\n",
              "      <td>NaN</td>\n",
              "    </tr>\n",
              "    <tr>\n",
              "      <th>fixed acidity</th>\n",
              "      <td>NaN</td>\n",
              "      <td>1.000000</td>\n",
              "      <td>-0.022697</td>\n",
              "      <td>0.289181</td>\n",
              "      <td>0.089021</td>\n",
              "      <td>0.023086</td>\n",
              "      <td>-0.049396</td>\n",
              "      <td>0.091070</td>\n",
              "      <td>0.265331</td>\n",
              "      <td>-0.425858</td>\n",
              "      <td>-0.017143</td>\n",
              "      <td>-0.120881</td>\n",
              "    </tr>\n",
              "    <tr>\n",
              "      <th>volatile acidity</th>\n",
              "      <td>NaN</td>\n",
              "      <td>-0.022697</td>\n",
              "      <td>1.000000</td>\n",
              "      <td>-0.149472</td>\n",
              "      <td>0.064286</td>\n",
              "      <td>0.070512</td>\n",
              "      <td>-0.097012</td>\n",
              "      <td>0.089261</td>\n",
              "      <td>0.027114</td>\n",
              "      <td>-0.031915</td>\n",
              "      <td>-0.035728</td>\n",
              "      <td>0.067718</td>\n",
              "    </tr>\n",
              "    <tr>\n",
              "      <th>citric acid</th>\n",
              "      <td>NaN</td>\n",
              "      <td>0.289181</td>\n",
              "      <td>-0.149472</td>\n",
              "      <td>1.000000</td>\n",
              "      <td>0.094212</td>\n",
              "      <td>0.114364</td>\n",
              "      <td>0.094077</td>\n",
              "      <td>0.121131</td>\n",
              "      <td>0.149503</td>\n",
              "      <td>-0.163748</td>\n",
              "      <td>0.062331</td>\n",
              "      <td>-0.075729</td>\n",
              "    </tr>\n",
              "    <tr>\n",
              "      <th>residual sugar</th>\n",
              "      <td>NaN</td>\n",
              "      <td>0.089021</td>\n",
              "      <td>0.064286</td>\n",
              "      <td>0.094212</td>\n",
              "      <td>1.000000</td>\n",
              "      <td>0.088685</td>\n",
              "      <td>0.299098</td>\n",
              "      <td>0.401439</td>\n",
              "      <td>0.838966</td>\n",
              "      <td>-0.194133</td>\n",
              "      <td>-0.026664</td>\n",
              "      <td>-0.450631</td>\n",
              "    </tr>\n",
              "    <tr>\n",
              "      <th>chlorides</th>\n",
              "      <td>NaN</td>\n",
              "      <td>0.023086</td>\n",
              "      <td>0.070512</td>\n",
              "      <td>0.114364</td>\n",
              "      <td>0.088685</td>\n",
              "      <td>1.000000</td>\n",
              "      <td>0.101392</td>\n",
              "      <td>0.198910</td>\n",
              "      <td>0.257211</td>\n",
              "      <td>-0.090439</td>\n",
              "      <td>0.016763</td>\n",
              "      <td>-0.360189</td>\n",
              "    </tr>\n",
              "    <tr>\n",
              "      <th>free sulfur dioxide</th>\n",
              "      <td>NaN</td>\n",
              "      <td>-0.049396</td>\n",
              "      <td>-0.097012</td>\n",
              "      <td>0.094077</td>\n",
              "      <td>0.299098</td>\n",
              "      <td>0.101392</td>\n",
              "      <td>1.000000</td>\n",
              "      <td>0.615501</td>\n",
              "      <td>0.294210</td>\n",
              "      <td>-0.000618</td>\n",
              "      <td>0.059217</td>\n",
              "      <td>-0.250104</td>\n",
              "    </tr>\n",
              "    <tr>\n",
              "      <th>total sulfur dioxide</th>\n",
              "      <td>NaN</td>\n",
              "      <td>0.091070</td>\n",
              "      <td>0.089261</td>\n",
              "      <td>0.121131</td>\n",
              "      <td>0.401439</td>\n",
              "      <td>0.198910</td>\n",
              "      <td>0.615501</td>\n",
              "      <td>1.000000</td>\n",
              "      <td>0.529881</td>\n",
              "      <td>0.002321</td>\n",
              "      <td>0.134562</td>\n",
              "      <td>-0.448892</td>\n",
              "    </tr>\n",
              "    <tr>\n",
              "      <th>density</th>\n",
              "      <td>NaN</td>\n",
              "      <td>0.265331</td>\n",
              "      <td>0.027114</td>\n",
              "      <td>0.149503</td>\n",
              "      <td>0.838966</td>\n",
              "      <td>0.257211</td>\n",
              "      <td>0.294210</td>\n",
              "      <td>0.529881</td>\n",
              "      <td>1.000000</td>\n",
              "      <td>-0.093591</td>\n",
              "      <td>0.074493</td>\n",
              "      <td>-0.780138</td>\n",
              "    </tr>\n",
              "    <tr>\n",
              "      <th>pH</th>\n",
              "      <td>NaN</td>\n",
              "      <td>-0.425858</td>\n",
              "      <td>-0.031915</td>\n",
              "      <td>-0.163748</td>\n",
              "      <td>-0.194133</td>\n",
              "      <td>-0.090439</td>\n",
              "      <td>-0.000618</td>\n",
              "      <td>0.002321</td>\n",
              "      <td>-0.093591</td>\n",
              "      <td>1.000000</td>\n",
              "      <td>0.155951</td>\n",
              "      <td>0.121432</td>\n",
              "    </tr>\n",
              "    <tr>\n",
              "      <th>sulphates</th>\n",
              "      <td>NaN</td>\n",
              "      <td>-0.017143</td>\n",
              "      <td>-0.035728</td>\n",
              "      <td>0.062331</td>\n",
              "      <td>-0.026664</td>\n",
              "      <td>0.016763</td>\n",
              "      <td>0.059217</td>\n",
              "      <td>0.134562</td>\n",
              "      <td>0.074493</td>\n",
              "      <td>0.155951</td>\n",
              "      <td>1.000000</td>\n",
              "      <td>-0.017433</td>\n",
              "    </tr>\n",
              "    <tr>\n",
              "      <th>alcohol</th>\n",
              "      <td>NaN</td>\n",
              "      <td>-0.120881</td>\n",
              "      <td>0.067718</td>\n",
              "      <td>-0.075729</td>\n",
              "      <td>-0.450631</td>\n",
              "      <td>-0.360189</td>\n",
              "      <td>-0.250104</td>\n",
              "      <td>-0.448892</td>\n",
              "      <td>-0.780138</td>\n",
              "      <td>0.121432</td>\n",
              "      <td>-0.017433</td>\n",
              "      <td>1.000000</td>\n",
              "    </tr>\n",
              "  </tbody>\n",
              "</table>\n",
              "</div>"
            ],
            "text/plain": [
              "                      const  fixed acidity  ...  sulphates   alcohol\n",
              "const                   NaN            NaN  ...        NaN       NaN\n",
              "fixed acidity           NaN       1.000000  ...  -0.017143 -0.120881\n",
              "volatile acidity        NaN      -0.022697  ...  -0.035728  0.067718\n",
              "citric acid             NaN       0.289181  ...   0.062331 -0.075729\n",
              "residual sugar          NaN       0.089021  ...  -0.026664 -0.450631\n",
              "chlorides               NaN       0.023086  ...   0.016763 -0.360189\n",
              "free sulfur dioxide     NaN      -0.049396  ...   0.059217 -0.250104\n",
              "total sulfur dioxide    NaN       0.091070  ...   0.134562 -0.448892\n",
              "density                 NaN       0.265331  ...   0.074493 -0.780138\n",
              "pH                      NaN      -0.425858  ...   0.155951  0.121432\n",
              "sulphates               NaN      -0.017143  ...   1.000000 -0.017433\n",
              "alcohol                 NaN      -0.120881  ...  -0.017433  1.000000\n",
              "\n",
              "[12 rows x 12 columns]"
            ]
          },
          "metadata": {
            "tags": []
          },
          "execution_count": 32
        }
      ]
    },
    {
      "cell_type": "markdown",
      "metadata": {
        "id": "dGv4EQHy8Ibr"
      },
      "source": [
        "density and residual sugar got large vif values and they are highly correlated .\r\n",
        "\r\n",
        "Hence while building model one of them can be dropped based on significance level."
      ]
    },
    {
      "cell_type": "markdown",
      "metadata": {
        "collapsed": true,
        "id": "QTVeK78J0O_H"
      },
      "source": [
        "<table align=\"left\">\n",
        "    <tr>\n",
        "        <td width=\"6%\">\n",
        "            <img src=\"question_icon.png\">\n",
        "        </td>\n",
        "        <td>\n",
        "            <div align=\"left\", style=\"font-size:120%\">\n",
        "                <font color=\"#21618C\">\n",
        "                    <b>7.  Fit a full model. Is the assumption for normality of residuals violated ?</b>\n",
        "                </font>\n",
        "            </div>\n",
        "        </td>\n",
        "    </tr>\n",
        "</table>"
      ]
    },
    {
      "cell_type": "code",
      "metadata": {
        "colab": {
          "base_uri": "https://localhost:8080/",
          "height": 625
        },
        "id": "-JYK5NgG0O_I",
        "outputId": "47a55718-aa42-480e-d025-8f590cd1ef3d"
      },
      "source": [
        "# type your code here\r\n",
        "\r\n",
        "y=df['quality']\r\n",
        "x=df.drop(['quality','citric acid','chlorides','total sulfur dioxide'], axis=1)\r\n",
        "\r\n",
        "import statsmodels.api as sm\r\n",
        "xc=sm.add_constant(x)\r\n",
        "\r\n",
        "model=sm.OLS(y,xc).fit()\r\n",
        "model.summary()"
      ],
      "execution_count": null,
      "outputs": [
        {
          "output_type": "execute_result",
          "data": {
            "text/html": [
              "<table class=\"simpletable\">\n",
              "<caption>OLS Regression Results</caption>\n",
              "<tr>\n",
              "  <th>Dep. Variable:</th>         <td>quality</td>     <th>  R-squared:         </th> <td>   0.282</td> \n",
              "</tr>\n",
              "<tr>\n",
              "  <th>Model:</th>                   <td>OLS</td>       <th>  Adj. R-squared:    </th> <td>   0.281</td> \n",
              "</tr>\n",
              "<tr>\n",
              "  <th>Method:</th>             <td>Least Squares</td>  <th>  F-statistic:       </th> <td>   239.7</td> \n",
              "</tr>\n",
              "<tr>\n",
              "  <th>Date:</th>             <td>Fri, 29 Jan 2021</td> <th>  Prob (F-statistic):</th>  <td>  0.00</td>  \n",
              "</tr>\n",
              "<tr>\n",
              "  <th>Time:</th>                 <td>11:43:49</td>     <th>  Log-Likelihood:    </th> <td> -5544.1</td> \n",
              "</tr>\n",
              "<tr>\n",
              "  <th>No. Observations:</th>      <td>  4898</td>      <th>  AIC:               </th> <td>1.111e+04</td>\n",
              "</tr>\n",
              "<tr>\n",
              "  <th>Df Residuals:</th>          <td>  4889</td>      <th>  BIC:               </th> <td>1.116e+04</td>\n",
              "</tr>\n",
              "<tr>\n",
              "  <th>Df Model:</th>              <td>     8</td>      <th>                     </th>     <td> </td>    \n",
              "</tr>\n",
              "<tr>\n",
              "  <th>Covariance Type:</th>      <td>nonrobust</td>    <th>                     </th>     <td> </td>    \n",
              "</tr>\n",
              "</table>\n",
              "<table class=\"simpletable\">\n",
              "<tr>\n",
              "           <td></td>              <th>coef</th>     <th>std err</th>      <th>t</th>      <th>P>|t|</th>  <th>[0.025</th>    <th>0.975]</th>  \n",
              "</tr>\n",
              "<tr>\n",
              "  <th>const</th>               <td>  154.1062</td> <td>   18.100</td> <td>    8.514</td> <td> 0.000</td> <td>  118.622</td> <td>  189.591</td>\n",
              "</tr>\n",
              "<tr>\n",
              "  <th>fixed acidity</th>       <td>    0.0681</td> <td>    0.020</td> <td>    3.333</td> <td> 0.001</td> <td>    0.028</td> <td>    0.108</td>\n",
              "</tr>\n",
              "<tr>\n",
              "  <th>volatile acidity</th>    <td>   -1.8881</td> <td>    0.110</td> <td>  -17.242</td> <td> 0.000</td> <td>   -2.103</td> <td>   -1.673</td>\n",
              "</tr>\n",
              "<tr>\n",
              "  <th>residual sugar</th>      <td>    0.0828</td> <td>    0.007</td> <td>   11.370</td> <td> 0.000</td> <td>    0.069</td> <td>    0.097</td>\n",
              "</tr>\n",
              "<tr>\n",
              "  <th>free sulfur dioxide</th> <td>    0.0033</td> <td>    0.001</td> <td>    4.950</td> <td> 0.000</td> <td>    0.002</td> <td>    0.005</td>\n",
              "</tr>\n",
              "<tr>\n",
              "  <th>density</th>             <td> -154.2913</td> <td>   18.344</td> <td>   -8.411</td> <td> 0.000</td> <td> -190.254</td> <td> -118.329</td>\n",
              "</tr>\n",
              "<tr>\n",
              "  <th>pH</th>                  <td>    0.6942</td> <td>    0.103</td> <td>    6.717</td> <td> 0.000</td> <td>    0.492</td> <td>    0.897</td>\n",
              "</tr>\n",
              "<tr>\n",
              "  <th>sulphates</th>           <td>    0.6285</td> <td>    0.100</td> <td>    6.287</td> <td> 0.000</td> <td>    0.433</td> <td>    0.824</td>\n",
              "</tr>\n",
              "<tr>\n",
              "  <th>alcohol</th>             <td>    0.1932</td> <td>    0.024</td> <td>    8.021</td> <td> 0.000</td> <td>    0.146</td> <td>    0.240</td>\n",
              "</tr>\n",
              "</table>\n",
              "<table class=\"simpletable\">\n",
              "<tr>\n",
              "  <th>Omnibus:</th>       <td>114.194</td> <th>  Durbin-Watson:     </th> <td>   1.621</td>\n",
              "</tr>\n",
              "<tr>\n",
              "  <th>Prob(Omnibus):</th> <td> 0.000</td>  <th>  Jarque-Bera (JB):  </th> <td> 251.255</td>\n",
              "</tr>\n",
              "<tr>\n",
              "  <th>Skew:</th>          <td> 0.075</td>  <th>  Prob(JB):          </th> <td>2.76e-55</td>\n",
              "</tr>\n",
              "<tr>\n",
              "  <th>Kurtosis:</th>      <td> 4.099</td>  <th>  Cond. No.          </th> <td>9.95e+04</td>\n",
              "</tr>\n",
              "</table><br/><br/>Warnings:<br/>[1] Standard Errors assume that the covariance matrix of the errors is correctly specified.<br/>[2] The condition number is large, 9.95e+04. This might indicate that there are<br/>strong multicollinearity or other numerical problems."
            ],
            "text/plain": [
              "<class 'statsmodels.iolib.summary.Summary'>\n",
              "\"\"\"\n",
              "                            OLS Regression Results                            \n",
              "==============================================================================\n",
              "Dep. Variable:                quality   R-squared:                       0.282\n",
              "Model:                            OLS   Adj. R-squared:                  0.281\n",
              "Method:                 Least Squares   F-statistic:                     239.7\n",
              "Date:                Fri, 29 Jan 2021   Prob (F-statistic):               0.00\n",
              "Time:                        11:43:49   Log-Likelihood:                -5544.1\n",
              "No. Observations:                4898   AIC:                         1.111e+04\n",
              "Df Residuals:                    4889   BIC:                         1.116e+04\n",
              "Df Model:                           8                                         \n",
              "Covariance Type:            nonrobust                                         \n",
              "=======================================================================================\n",
              "                          coef    std err          t      P>|t|      [0.025      0.975]\n",
              "---------------------------------------------------------------------------------------\n",
              "const                 154.1062     18.100      8.514      0.000     118.622     189.591\n",
              "fixed acidity           0.0681      0.020      3.333      0.001       0.028       0.108\n",
              "volatile acidity       -1.8881      0.110    -17.242      0.000      -2.103      -1.673\n",
              "residual sugar          0.0828      0.007     11.370      0.000       0.069       0.097\n",
              "free sulfur dioxide     0.0033      0.001      4.950      0.000       0.002       0.005\n",
              "density              -154.2913     18.344     -8.411      0.000    -190.254    -118.329\n",
              "pH                      0.6942      0.103      6.717      0.000       0.492       0.897\n",
              "sulphates               0.6285      0.100      6.287      0.000       0.433       0.824\n",
              "alcohol                 0.1932      0.024      8.021      0.000       0.146       0.240\n",
              "==============================================================================\n",
              "Omnibus:                      114.194   Durbin-Watson:                   1.621\n",
              "Prob(Omnibus):                  0.000   Jarque-Bera (JB):              251.255\n",
              "Skew:                           0.075   Prob(JB):                     2.76e-55\n",
              "Kurtosis:                       4.099   Cond. No.                     9.95e+04\n",
              "==============================================================================\n",
              "\n",
              "Warnings:\n",
              "[1] Standard Errors assume that the covariance matrix of the errors is correctly specified.\n",
              "[2] The condition number is large, 9.95e+04. This might indicate that there are\n",
              "strong multicollinearity or other numerical problems.\n",
              "\"\"\""
            ]
          },
          "metadata": {
            "tags": []
          },
          "execution_count": 34
        }
      ]
    },
    {
      "cell_type": "code",
      "metadata": {
        "colab": {
          "base_uri": "https://localhost:8080/",
          "height": 265
        },
        "id": "6w0gjX369O3L",
        "outputId": "6602ddfa-f41b-43ad-cbfb-c1d1ef73366a"
      },
      "source": [
        "residuals=model.resid\r\n",
        "sns.distplot(residuals)\r\n",
        "plt.show()"
      ],
      "execution_count": null,
      "outputs": [
        {
          "output_type": "display_data",
          "data": {
            "image/png": "[encoded data removed]",
            "text/plain": [
              "<Figure size 432x288 with 1 Axes>"
            ]
          },
          "metadata": {
            "tags": []
          }
        }
      ]
    },
    {
      "cell_type": "markdown",
      "metadata": {
        "id": "oMKOukMu9hTt"
      },
      "source": [
        "jarque berra test is available above and based on the probability we will conclude that residuals are not normally distributed.\r\n",
        "\r\n",
        "hence the assumption of normality of residuals is violated."
      ]
    },
    {
      "cell_type": "markdown",
      "metadata": {
        "collapsed": true,
        "id": "lEeK4aID0O_I"
      },
      "source": [
        "<table align=\"left\">\n",
        "    <tr>\n",
        "        <td width=\"6%\">\n",
        "            <img src=\"question_icon.png\">\n",
        "        </td>\n",
        "        <td>\n",
        "            <div align=\"left\", style=\"font-size:120%\">\n",
        "                <font color=\"#21618C\">\n",
        "                    <b>8. Does the transformation of variable 'citric acid' affect the performance of prediction model?</b>\n",
        "                </font>\n",
        "            </div>\n",
        "        </td>\n",
        "    </tr>\n",
        "</table>"
      ]
    },
    {
      "cell_type": "code",
      "metadata": {
        "colab": {
          "base_uri": "https://localhost:8080/",
          "height": 646
        },
        "id": "qnz0S0l90O_I",
        "outputId": "95ab0103-953f-49f0-c7f9-5005affc0ea8"
      },
      "source": [
        "# type your code here\r\n",
        "df2=df.copy()\r\n",
        "\r\n",
        "y=df2['quality']\r\n",
        "df2['lcitric']=np.log1p(df2[['citric acid']])\r\n",
        "x=df2.drop(['quality','chlorides','citric acid','total sulfur dioxide'], axis=1)\r\n",
        "\r\n",
        "import statsmodels.api as sm\r\n",
        "xc=sm.add_constant(x)\r\n",
        "\r\n",
        "model=sm.OLS(y,xc).fit()\r\n",
        "model.summary()"
      ],
      "execution_count": null,
      "outputs": [
        {
          "output_type": "execute_result",
          "data": {
            "text/html": [
              "<table class=\"simpletable\">\n",
              "<caption>OLS Regression Results</caption>\n",
              "<tr>\n",
              "  <th>Dep. Variable:</th>         <td>quality</td>     <th>  R-squared:         </th> <td>   0.282</td> \n",
              "</tr>\n",
              "<tr>\n",
              "  <th>Model:</th>                   <td>OLS</td>       <th>  Adj. R-squared:    </th> <td>   0.280</td> \n",
              "</tr>\n",
              "<tr>\n",
              "  <th>Method:</th>             <td>Least Squares</td>  <th>  F-statistic:       </th> <td>   213.1</td> \n",
              "</tr>\n",
              "<tr>\n",
              "  <th>Date:</th>             <td>Fri, 29 Jan 2021</td> <th>  Prob (F-statistic):</th>  <td>  0.00</td>  \n",
              "</tr>\n",
              "<tr>\n",
              "  <th>Time:</th>                 <td>11:51:30</td>     <th>  Log-Likelihood:    </th> <td> -5543.9</td> \n",
              "</tr>\n",
              "<tr>\n",
              "  <th>No. Observations:</th>      <td>  4898</td>      <th>  AIC:               </th> <td>1.111e+04</td>\n",
              "</tr>\n",
              "<tr>\n",
              "  <th>Df Residuals:</th>          <td>  4888</td>      <th>  BIC:               </th> <td>1.117e+04</td>\n",
              "</tr>\n",
              "<tr>\n",
              "  <th>Df Model:</th>              <td>     9</td>      <th>                     </th>     <td> </td>    \n",
              "</tr>\n",
              "<tr>\n",
              "  <th>Covariance Type:</th>      <td>nonrobust</td>    <th>                     </th>     <td> </td>    \n",
              "</tr>\n",
              "</table>\n",
              "<table class=\"simpletable\">\n",
              "<tr>\n",
              "           <td></td>              <th>coef</th>     <th>std err</th>      <th>t</th>      <th>P>|t|</th>  <th>[0.025</th>    <th>0.975]</th>  \n",
              "</tr>\n",
              "<tr>\n",
              "  <th>const</th>               <td>  155.2199</td> <td>   18.188</td> <td>    8.534</td> <td> 0.000</td> <td>  119.564</td> <td>  190.876</td>\n",
              "</tr>\n",
              "<tr>\n",
              "  <th>fixed acidity</th>       <td>    0.0666</td> <td>    0.021</td> <td>    3.240</td> <td> 0.001</td> <td>    0.026</td> <td>    0.107</td>\n",
              "</tr>\n",
              "<tr>\n",
              "  <th>volatile acidity</th>    <td>   -1.8750</td> <td>    0.111</td> <td>  -16.820</td> <td> 0.000</td> <td>   -2.094</td> <td>   -1.656</td>\n",
              "</tr>\n",
              "<tr>\n",
              "  <th>residual sugar</th>      <td>    0.0832</td> <td>    0.007</td> <td>   11.384</td> <td> 0.000</td> <td>    0.069</td> <td>    0.098</td>\n",
              "</tr>\n",
              "<tr>\n",
              "  <th>free sulfur dioxide</th> <td>    0.0033</td> <td>    0.001</td> <td>    4.882</td> <td> 0.000</td> <td>    0.002</td> <td>    0.005</td>\n",
              "</tr>\n",
              "<tr>\n",
              "  <th>density</th>             <td> -155.4336</td> <td>   18.435</td> <td>   -8.432</td> <td> 0.000</td> <td> -191.574</td> <td> -119.293</td>\n",
              "</tr>\n",
              "<tr>\n",
              "  <th>pH</th>                  <td>    0.7009</td> <td>    0.104</td> <td>    6.746</td> <td> 0.000</td> <td>    0.497</td> <td>    0.905</td>\n",
              "</tr>\n",
              "<tr>\n",
              "  <th>sulphates</th>           <td>    0.6257</td> <td>    0.100</td> <td>    6.252</td> <td> 0.000</td> <td>    0.430</td> <td>    0.822</td>\n",
              "</tr>\n",
              "<tr>\n",
              "  <th>alcohol</th>             <td>    0.1916</td> <td>    0.024</td> <td>    7.913</td> <td> 0.000</td> <td>    0.144</td> <td>    0.239</td>\n",
              "</tr>\n",
              "<tr>\n",
              "  <th>lcitric</th>             <td>    0.0834</td> <td>    0.133</td> <td>    0.629</td> <td> 0.529</td> <td>   -0.176</td> <td>    0.343</td>\n",
              "</tr>\n",
              "</table>\n",
              "<table class=\"simpletable\">\n",
              "<tr>\n",
              "  <th>Omnibus:</th>       <td>114.591</td> <th>  Durbin-Watson:     </th> <td>   1.621</td>\n",
              "</tr>\n",
              "<tr>\n",
              "  <th>Prob(Omnibus):</th> <td> 0.000</td>  <th>  Jarque-Bera (JB):  </th> <td> 252.178</td>\n",
              "</tr>\n",
              "<tr>\n",
              "  <th>Skew:</th>          <td> 0.076</td>  <th>  Prob(JB):          </th> <td>1.74e-55</td>\n",
              "</tr>\n",
              "<tr>\n",
              "  <th>Kurtosis:</th>      <td> 4.101</td>  <th>  Cond. No.          </th> <td>9.99e+04</td>\n",
              "</tr>\n",
              "</table><br/><br/>Warnings:<br/>[1] Standard Errors assume that the covariance matrix of the errors is correctly specified.<br/>[2] The condition number is large, 9.99e+04. This might indicate that there are<br/>strong multicollinearity or other numerical problems."
            ],
            "text/plain": [
              "<class 'statsmodels.iolib.summary.Summary'>\n",
              "\"\"\"\n",
              "                            OLS Regression Results                            \n",
              "==============================================================================\n",
              "Dep. Variable:                quality   R-squared:                       0.282\n",
              "Model:                            OLS   Adj. R-squared:                  0.280\n",
              "Method:                 Least Squares   F-statistic:                     213.1\n",
              "Date:                Fri, 29 Jan 2021   Prob (F-statistic):               0.00\n",
              "Time:                        11:51:30   Log-Likelihood:                -5543.9\n",
              "No. Observations:                4898   AIC:                         1.111e+04\n",
              "Df Residuals:                    4888   BIC:                         1.117e+04\n",
              "Df Model:                           9                                         \n",
              "Covariance Type:            nonrobust                                         \n",
              "=======================================================================================\n",
              "                          coef    std err          t      P>|t|      [0.025      0.975]\n",
              "---------------------------------------------------------------------------------------\n",
              "const                 155.2199     18.188      8.534      0.000     119.564     190.876\n",
              "fixed acidity           0.0666      0.021      3.240      0.001       0.026       0.107\n",
              "volatile acidity       -1.8750      0.111    -16.820      0.000      -2.094      -1.656\n",
              "residual sugar          0.0832      0.007     11.384      0.000       0.069       0.098\n",
              "free sulfur dioxide     0.0033      0.001      4.882      0.000       0.002       0.005\n",
              "density              -155.4336     18.435     -8.432      0.000    -191.574    -119.293\n",
              "pH                      0.7009      0.104      6.746      0.000       0.497       0.905\n",
              "sulphates               0.6257      0.100      6.252      0.000       0.430       0.822\n",
              "alcohol                 0.1916      0.024      7.913      0.000       0.144       0.239\n",
              "lcitric                 0.0834      0.133      0.629      0.529      -0.176       0.343\n",
              "==============================================================================\n",
              "Omnibus:                      114.591   Durbin-Watson:                   1.621\n",
              "Prob(Omnibus):                  0.000   Jarque-Bera (JB):              252.178\n",
              "Skew:                           0.076   Prob(JB):                     1.74e-55\n",
              "Kurtosis:                       4.101   Cond. No.                     9.99e+04\n",
              "==============================================================================\n",
              "\n",
              "Warnings:\n",
              "[1] Standard Errors assume that the covariance matrix of the errors is correctly specified.\n",
              "[2] The condition number is large, 9.99e+04. This might indicate that there are\n",
              "strong multicollinearity or other numerical problems.\n",
              "\"\"\""
            ]
          },
          "metadata": {
            "tags": []
          },
          "execution_count": 38
        }
      ]
    },
    {
      "cell_type": "markdown",
      "metadata": {
        "id": "hxnA90eZ_E3u"
      },
      "source": [
        "transformation of citric acid is not changing the prediction quality."
      ]
    },
    {
      "cell_type": "markdown",
      "metadata": {
        "collapsed": true,
        "id": "8hNAo60o0O_I"
      },
      "source": [
        "<table align=\"left\">\n",
        "    <tr>\n",
        "        <td width=\"6%\">\n",
        "            <img src=\"question_icon.png\">\n",
        "        </td>\n",
        "        <td>\n",
        "            <div align=\"left\", style=\"font-size:120%\">\n",
        "                <font color=\"#21618C\">\n",
        "                    <b>9. Fit a full model. Check whether variable has linear relationship with the wine quality<br></b>\n",
        "                </font>\n",
        "            </div>\n",
        "        </td>\n",
        "    </tr>\n",
        "</table>"
      ]
    },
    {
      "cell_type": "code",
      "metadata": {
        "colab": {
          "base_uri": "https://localhost:8080/",
          "height": 646
        },
        "id": "GJYeb6070O_I",
        "outputId": "65119c53-84a2-4c97-9819-9adfec642496"
      },
      "source": [
        "# type your code here\r\n",
        "y=df['quality']\r\n",
        "x=df.drop(['quality','chlorides','total sulfur dioxide'], axis=1)\r\n",
        "\r\n",
        "import statsmodels.api as sm\r\n",
        "xc=sm.add_constant(x)\r\n",
        "\r\n",
        "model=sm.OLS(y,xc).fit()\r\n",
        "model.summary()"
      ],
      "execution_count": null,
      "outputs": [
        {
          "output_type": "execute_result",
          "data": {
            "text/html": [
              "<table class=\"simpletable\">\n",
              "<caption>OLS Regression Results</caption>\n",
              "<tr>\n",
              "  <th>Dep. Variable:</th>         <td>quality</td>     <th>  R-squared:         </th> <td>   0.282</td> \n",
              "</tr>\n",
              "<tr>\n",
              "  <th>Model:</th>                   <td>OLS</td>       <th>  Adj. R-squared:    </th> <td>   0.280</td> \n",
              "</tr>\n",
              "<tr>\n",
              "  <th>Method:</th>             <td>Least Squares</td>  <th>  F-statistic:       </th> <td>   213.1</td> \n",
              "</tr>\n",
              "<tr>\n",
              "  <th>Date:</th>             <td>Fri, 29 Jan 2021</td> <th>  Prob (F-statistic):</th>  <td>  0.00</td>  \n",
              "</tr>\n",
              "<tr>\n",
              "  <th>Time:</th>                 <td>11:53:12</td>     <th>  Log-Likelihood:    </th> <td> -5544.1</td> \n",
              "</tr>\n",
              "<tr>\n",
              "  <th>No. Observations:</th>      <td>  4898</td>      <th>  AIC:               </th> <td>1.111e+04</td>\n",
              "</tr>\n",
              "<tr>\n",
              "  <th>Df Residuals:</th>          <td>  4888</td>      <th>  BIC:               </th> <td>1.117e+04</td>\n",
              "</tr>\n",
              "<tr>\n",
              "  <th>Df Model:</th>              <td>     9</td>      <th>                     </th>     <td> </td>    \n",
              "</tr>\n",
              "<tr>\n",
              "  <th>Covariance Type:</th>      <td>nonrobust</td>    <th>                     </th>     <td> </td>    \n",
              "</tr>\n",
              "</table>\n",
              "<table class=\"simpletable\">\n",
              "<tr>\n",
              "           <td></td>              <th>coef</th>     <th>std err</th>      <th>t</th>      <th>P>|t|</th>  <th>[0.025</th>    <th>0.975]</th>  \n",
              "</tr>\n",
              "<tr>\n",
              "  <th>const</th>               <td>  154.3717</td> <td>   18.186</td> <td>    8.488</td> <td> 0.000</td> <td>  118.718</td> <td>  190.025</td>\n",
              "</tr>\n",
              "<tr>\n",
              "  <th>fixed acidity</th>       <td>    0.0678</td> <td>    0.021</td> <td>    3.299</td> <td> 0.001</td> <td>    0.027</td> <td>    0.108</td>\n",
              "</tr>\n",
              "<tr>\n",
              "  <th>volatile acidity</th>    <td>   -1.8855</td> <td>    0.111</td> <td>  -16.995</td> <td> 0.000</td> <td>   -2.103</td> <td>   -1.668</td>\n",
              "</tr>\n",
              "<tr>\n",
              "  <th>citric acid</th>         <td>    0.0144</td> <td>    0.095</td> <td>    0.152</td> <td> 0.879</td> <td>   -0.172</td> <td>    0.201</td>\n",
              "</tr>\n",
              "<tr>\n",
              "  <th>residual sugar</th>      <td>    0.0829</td> <td>    0.007</td> <td>   11.348</td> <td> 0.000</td> <td>    0.069</td> <td>    0.097</td>\n",
              "</tr>\n",
              "<tr>\n",
              "  <th>free sulfur dioxide</th> <td>    0.0033</td> <td>    0.001</td> <td>    4.921</td> <td> 0.000</td> <td>    0.002</td> <td>    0.005</td>\n",
              "</tr>\n",
              "<tr>\n",
              "  <th>density</th>             <td> -154.5631</td> <td>   18.433</td> <td>   -8.385</td> <td> 0.000</td> <td> -190.701</td> <td> -118.426</td>\n",
              "</tr>\n",
              "<tr>\n",
              "  <th>pH</th>                  <td>    0.6958</td> <td>    0.104</td> <td>    6.696</td> <td> 0.000</td> <td>    0.492</td> <td>    0.900</td>\n",
              "</tr>\n",
              "<tr>\n",
              "  <th>sulphates</th>           <td>    0.6279</td> <td>    0.100</td> <td>    6.275</td> <td> 0.000</td> <td>    0.432</td> <td>    0.824</td>\n",
              "</tr>\n",
              "<tr>\n",
              "  <th>alcohol</th>             <td>    0.1928</td> <td>    0.024</td> <td>    7.969</td> <td> 0.000</td> <td>    0.145</td> <td>    0.240</td>\n",
              "</tr>\n",
              "</table>\n",
              "<table class=\"simpletable\">\n",
              "<tr>\n",
              "  <th>Omnibus:</th>       <td>114.278</td> <th>  Durbin-Watson:     </th> <td>   1.621</td>\n",
              "</tr>\n",
              "<tr>\n",
              "  <th>Prob(Omnibus):</th> <td> 0.000</td>  <th>  Jarque-Bera (JB):  </th> <td> 251.434</td>\n",
              "</tr>\n",
              "<tr>\n",
              "  <th>Skew:</th>          <td> 0.075</td>  <th>  Prob(JB):          </th> <td>2.52e-55</td>\n",
              "</tr>\n",
              "<tr>\n",
              "  <th>Kurtosis:</th>      <td> 4.100</td>  <th>  Cond. No.          </th> <td>9.99e+04</td>\n",
              "</tr>\n",
              "</table><br/><br/>Warnings:<br/>[1] Standard Errors assume that the covariance matrix of the errors is correctly specified.<br/>[2] The condition number is large, 9.99e+04. This might indicate that there are<br/>strong multicollinearity or other numerical problems."
            ],
            "text/plain": [
              "<class 'statsmodels.iolib.summary.Summary'>\n",
              "\"\"\"\n",
              "                            OLS Regression Results                            \n",
              "==============================================================================\n",
              "Dep. Variable:                quality   R-squared:                       0.282\n",
              "Model:                            OLS   Adj. R-squared:                  0.280\n",
              "Method:                 Least Squares   F-statistic:                     213.1\n",
              "Date:                Fri, 29 Jan 2021   Prob (F-statistic):               0.00\n",
              "Time:                        11:53:12   Log-Likelihood:                -5544.1\n",
              "No. Observations:                4898   AIC:                         1.111e+04\n",
              "Df Residuals:                    4888   BIC:                         1.117e+04\n",
              "Df Model:                           9                                         \n",
              "Covariance Type:            nonrobust                                         \n",
              "=======================================================================================\n",
              "                          coef    std err          t      P>|t|      [0.025      0.975]\n",
              "---------------------------------------------------------------------------------------\n",
              "const                 154.3717     18.186      8.488      0.000     118.718     190.025\n",
              "fixed acidity           0.0678      0.021      3.299      0.001       0.027       0.108\n",
              "volatile acidity       -1.8855      0.111    -16.995      0.000      -2.103      -1.668\n",
              "citric acid             0.0144      0.095      0.152      0.879      -0.172       0.201\n",
              "residual sugar          0.0829      0.007     11.348      0.000       0.069       0.097\n",
              "free sulfur dioxide     0.0033      0.001      4.921      0.000       0.002       0.005\n",
              "density              -154.5631     18.433     -8.385      0.000    -190.701    -118.426\n",
              "pH                      0.6958      0.104      6.696      0.000       0.492       0.900\n",
              "sulphates               0.6279      0.100      6.275      0.000       0.432       0.824\n",
              "alcohol                 0.1928      0.024      7.969      0.000       0.145       0.240\n",
              "==============================================================================\n",
              "Omnibus:                      114.278   Durbin-Watson:                   1.621\n",
              "Prob(Omnibus):                  0.000   Jarque-Bera (JB):              251.434\n",
              "Skew:                           0.075   Prob(JB):                     2.52e-55\n",
              "Kurtosis:                       4.100   Cond. No.                     9.99e+04\n",
              "==============================================================================\n",
              "\n",
              "Warnings:\n",
              "[1] Standard Errors assume that the covariance matrix of the errors is correctly specified.\n",
              "[2] The condition number is large, 9.99e+04. This might indicate that there are\n",
              "strong multicollinearity or other numerical problems.\n",
              "\"\"\""
            ]
          },
          "metadata": {
            "tags": []
          },
          "execution_count": 40
        }
      ]
    },
    {
      "cell_type": "code",
      "metadata": {
        "colab": {
          "base_uri": "https://localhost:8080/",
          "height": 265
        },
        "id": "3KNCGMtBA8g0",
        "outputId": "8ae8a099-a345-4ecc-9551-ccd8ced17147"
      },
      "source": [
        "y_pred=model.predict(xc)\r\n",
        "sns.regplot(x=y_pred, y=y, lowess=True, line_kws={'color':'red'})\r\n",
        "plt.show()"
      ],
      "execution_count": null,
      "outputs": [
        {
          "output_type": "display_data",
          "data": {
            "image/png": "[encoded data removed]",
            "text/plain": [
              "<Figure size 432x288 with 1 Axes>"
            ]
          },
          "metadata": {
            "tags": []
          }
        }
      ]
    },
    {
      "cell_type": "code",
      "metadata": {
        "colab": {
          "base_uri": "https://localhost:8080/"
        },
        "id": "lYZBqnMl_W_p",
        "outputId": "a58b4a83-bbac-4835-90c3-66903f159abf"
      },
      "source": [
        "import statsmodels.api as sm\r\n",
        "sm.stats.diagnostic.linear_rainbow(model)"
      ],
      "execution_count": null,
      "outputs": [
        {
          "output_type": "execute_result",
          "data": {
            "text/plain": [
              "(1.060248043259223, 0.07411832569602293)"
            ]
          },
          "metadata": {
            "tags": []
          },
          "execution_count": 42
        }
      ]
    },
    {
      "cell_type": "markdown",
      "metadata": {
        "id": "TDBPLQwlBY1i"
      },
      "source": [
        "H0= fit of model using full sample= fit of mode using central subset\r\n",
        "\r\n",
        "H1: fit of model using full sample is worse compared to fit of mode using central subset"
      ]
    },
    {
      "cell_type": "markdown",
      "metadata": {
        "id": "Rq5AEkEM0O_J"
      },
      "source": [
        "<a id=\"sel\"> </a>\n",
        "## 2. Feature Selection"
      ]
    },
    {
      "cell_type": "markdown",
      "metadata": {
        "collapsed": true,
        "id": "pvK8uEbn0O_J"
      },
      "source": [
        "<table align=\"left\">\n",
        "    <tr>\n",
        "        <td width=\"6%\">\n",
        "            <img src=\"question_icon.png\">\n",
        "        </td>\n",
        "        <td>\n",
        "            <div align=\"left\", style=\"font-size:120%\">\n",
        "                <font color=\"#21618C\">\n",
        "                    <b>10. Find the top five significant variables from the dataset using forward selection technique. Also display the R-squared score for the model built using these five variables.</b>\n",
        "                </font>\n",
        "            </div>\n",
        "        </td>\n",
        "    </tr>\n",
        "</table>"
      ]
    },
    {
      "cell_type": "code",
      "metadata": {
        "colab": {
          "base_uri": "https://localhost:8080/"
        },
        "id": "CJdBblcv0O_J",
        "outputId": "a0db9247-0c2b-4dee-ad85-2cea977ac14e"
      },
      "source": [
        "# type your code here\r\n",
        "y=df['quality']\r\n",
        "x=df.drop(['quality','chlorides','total sulfur dioxide'], axis=1)\r\n",
        "\r\n",
        "from sklearn.linear_model import LinearRegression\r\n",
        "from mlxtend.feature_selection import SequentialFeatureSelector as sfs\r\n",
        "lr=LinearRegression()\r\n",
        "sfs1=sfs(lr, k_features=5, forward=True, scoring='r2', cv=3)\r\n",
        "sfs1.fit(x,y)"
      ],
      "execution_count": null,
      "outputs": [
        {
          "output_type": "execute_result",
          "data": {
            "text/plain": [
              "SequentialFeatureSelector(clone_estimator=True, cv=3,\n",
              "                          estimator=LinearRegression(copy_X=True,\n",
              "                                                     fit_intercept=True,\n",
              "                                                     n_jobs=None,\n",
              "                                                     normalize=False),\n",
              "                          floating=False, forward=True, k_features=5, n_jobs=1,\n",
              "                          pre_dispatch='2*n_jobs', scoring='r2', verbose=0)"
            ]
          },
          "metadata": {
            "tags": []
          },
          "execution_count": 54
        }
      ]
    },
    {
      "cell_type": "code",
      "metadata": {
        "id": "6yX2UxdqCUhn"
      },
      "source": [
        "sf=pd.DataFrame(sfs1.subsets_).T"
      ],
      "execution_count": null,
      "outputs": []
    },
    {
      "cell_type": "code",
      "metadata": {
        "colab": {
          "base_uri": "https://localhost:8080/"
        },
        "id": "10hkoNFACuKK",
        "outputId": "56dfc46c-8fb4-4ef6-9309-45e1b5beeb25"
      },
      "source": [
        "sf.iloc[4]['feature_names']"
      ],
      "execution_count": null,
      "outputs": [
        {
          "output_type": "execute_result",
          "data": {
            "text/plain": [
              "('volatile acidity',\n",
              " 'residual sugar',\n",
              " 'free sulfur dioxide',\n",
              " 'sulphates',\n",
              " 'alcohol')"
            ]
          },
          "metadata": {
            "tags": []
          },
          "execution_count": 56
        }
      ]
    },
    {
      "cell_type": "markdown",
      "metadata": {
        "collapsed": true,
        "id": "sm5zKp450O_K"
      },
      "source": [
        "<table align=\"left\">\n",
        "    <tr>\n",
        "        <td width=\"6%\">\n",
        "            <img src=\"question_icon.png\">\n",
        "        </td>\n",
        "        <td>\n",
        "            <div align=\"left\", style=\"font-size:120%\">\n",
        "                <font color=\"#21618C\">\n",
        "                        <b>11. Find the top five significant variables from the dataset using backward elimination technique. Also display the R-squared score for the model built using these five variables.<br><br> Compare the R-squared value obtained from question 10 with the value obtained using backward elimination.</b>\n",
        "                </font>\n",
        "            </div>\n",
        "        </td>\n",
        "    </tr>\n",
        "</table>"
      ]
    },
    {
      "cell_type": "code",
      "metadata": {
        "id": "b7UwaPsD0O_K"
      },
      "source": [
        "# type your code here\r\n",
        "y=df['quality']\r\n",
        "x=df.drop(['quality'], axis=1)\r\n",
        "\r\n",
        "from sklearn.linear_model import LinearRegression\r\n",
        "from mlxtend.feature_selection import SequentialFeatureSelector as sfs\r\n",
        "lr=LinearRegression()\r\n",
        "sfs1=sfs(lr, k_features=5, forward=False, scoring='r2', cv=3)\r\n",
        "sfs1.fit(x,y)"
      ],
      "execution_count": null,
      "outputs": []
    },
    {
      "cell_type": "code",
      "metadata": {
        "colab": {
          "base_uri": "https://localhost:8080/",
          "height": 289
        },
        "id": "EEiuIQknDqP6",
        "outputId": "6abb0e53-77e6-4333-bc8d-53aa21f61f51"
      },
      "source": [
        "sf=pd.DataFrame(sfs1.subsets_).T\r\n",
        "sf"
      ],
      "execution_count": null,
      "outputs": [
        {
          "output_type": "execute_result",
          "data": {
            "text/html": [
              "<div>\n",
              "<style scoped>\n",
              "    .dataframe tbody tr th:only-of-type {\n",
              "        vertical-align: middle;\n",
              "    }\n",
              "\n",
              "    .dataframe tbody tr th {\n",
              "        vertical-align: top;\n",
              "    }\n",
              "\n",
              "    .dataframe thead th {\n",
              "        text-align: right;\n",
              "    }\n",
              "</style>\n",
              "<table border=\"1\" class=\"dataframe\">\n",
              "  <thead>\n",
              "    <tr style=\"text-align: right;\">\n",
              "      <th></th>\n",
              "      <th>feature_idx</th>\n",
              "      <th>cv_scores</th>\n",
              "      <th>avg_score</th>\n",
              "      <th>feature_names</th>\n",
              "    </tr>\n",
              "  </thead>\n",
              "  <tbody>\n",
              "    <tr>\n",
              "      <th>1</th>\n",
              "      <td>(10,)</td>\n",
              "      <td>[0.16574618114101625, 0.20917912605444067, 0.1...</td>\n",
              "      <td>0.176708</td>\n",
              "      <td>(alcohol,)</td>\n",
              "    </tr>\n",
              "    <tr>\n",
              "      <th>2</th>\n",
              "      <td>(1, 10)</td>\n",
              "      <td>[0.21385833173588997, 0.23852024663773108, 0.2...</td>\n",
              "      <td>0.229091</td>\n",
              "      <td>(volatile acidity, alcohol)</td>\n",
              "    </tr>\n",
              "    <tr>\n",
              "      <th>3</th>\n",
              "      <td>(1, 3, 10)</td>\n",
              "      <td>[0.2022050407706666, 0.26510556487096437, 0.25...</td>\n",
              "      <td>0.242409</td>\n",
              "      <td>(volatile acidity, residual sugar, alcohol)</td>\n",
              "    </tr>\n",
              "    <tr>\n",
              "      <th>4</th>\n",
              "      <td>(1, 3, 9, 10)</td>\n",
              "      <td>[0.2051433432036156, 0.27069449023626424, 0.25...</td>\n",
              "      <td>0.243901</td>\n",
              "      <td>(volatile acidity, residual sugar, sulphates, ...</td>\n",
              "    </tr>\n",
              "    <tr>\n",
              "      <th>5</th>\n",
              "      <td>(1, 3, 5, 9, 10)</td>\n",
              "      <td>[0.21122032123102397, 0.27693899742367056, 0.2...</td>\n",
              "      <td>0.244463</td>\n",
              "      <td>(volatile acidity, residual sugar, free sulfur...</td>\n",
              "    </tr>\n",
              "  </tbody>\n",
              "</table>\n",
              "</div>"
            ],
            "text/plain": [
              "        feature_idx  ...                                      feature_names\n",
              "1             (10,)  ...                                         (alcohol,)\n",
              "2           (1, 10)  ...                        (volatile acidity, alcohol)\n",
              "3        (1, 3, 10)  ...        (volatile acidity, residual sugar, alcohol)\n",
              "4     (1, 3, 9, 10)  ...  (volatile acidity, residual sugar, sulphates, ...\n",
              "5  (1, 3, 5, 9, 10)  ...  (volatile acidity, residual sugar, free sulfur...\n",
              "\n",
              "[5 rows x 4 columns]"
            ]
          },
          "metadata": {
            "tags": []
          },
          "execution_count": 61
        }
      ]
    },
    {
      "cell_type": "code",
      "metadata": {
        "id": "14z_04nEDs8O"
      },
      "source": [
        "sf.iloc[6]['feature_names']"
      ],
      "execution_count": null,
      "outputs": []
    },
    {
      "cell_type": "markdown",
      "metadata": {
        "collapsed": true,
        "id": "eNG7BMKE0O_K"
      },
      "source": [
        "<table align=\"left\">\n",
        "    <tr>\n",
        "        <td width=\"6%\">\n",
        "            <img src=\"question_icon.png\">\n",
        "        </td>\n",
        "        <td>\n",
        "            <div align=\"left\", style=\"font-size:120%\">\n",
        "                <font color=\"#21618C\">\n",
        "                    <b>12. Find the best set of significant variables from the dataset using forward selection technique such that the selected set should have 2 to 6 features. Also display the R-squared score for the model built using the selected variables</b>\n",
        "                </font>\n",
        "            </div>\n",
        "        </td>\n",
        "    </tr>\n",
        "</table>"
      ]
    },
    {
      "cell_type": "code",
      "metadata": {
        "colab": {
          "base_uri": "https://localhost:8080/"
        },
        "id": "Bi2ffsIPEsH8",
        "outputId": "d77177e2-34df-439b-b3ed-c6bccf6eaf71"
      },
      "source": [
        "x.info()"
      ],
      "execution_count": null,
      "outputs": [
        {
          "output_type": "stream",
          "text": [
            "<class 'pandas.core.frame.DataFrame'>\n",
            "RangeIndex: 4898 entries, 0 to 4897\n",
            "Data columns (total 11 columns):\n",
            " #   Column                Non-Null Count  Dtype  \n",
            "---  ------                --------------  -----  \n",
            " 0   fixed acidity         4898 non-null   float64\n",
            " 1   volatile acidity      4898 non-null   float64\n",
            " 2   citric acid           4898 non-null   float64\n",
            " 3   residual sugar        4898 non-null   float64\n",
            " 4   chlorides             4898 non-null   float64\n",
            " 5   free sulfur dioxide   4898 non-null   float64\n",
            " 6   total sulfur dioxide  4898 non-null   float64\n",
            " 7   density               4898 non-null   float64\n",
            " 8   pH                    4898 non-null   float64\n",
            " 9   sulphates             4898 non-null   float64\n",
            " 10  alcohol               4898 non-null   float64\n",
            "dtypes: float64(11)\n",
            "memory usage: 421.0 KB\n"
          ],
          "name": "stdout"
        }
      ]
    },
    {
      "cell_type": "code",
      "metadata": {
        "colab": {
          "base_uri": "https://localhost:8080/"
        },
        "id": "GMJ-vofD0O_K",
        "outputId": "9be573ce-4e82-4471-d692-9bb6a3793f28"
      },
      "source": [
        "# type your code here\r\n",
        "y=df['quality']\r\n",
        "x=df.drop(['quality'], axis=1)\r\n",
        "\r\n",
        "from sklearn.linear_model import LinearRegression\r\n",
        "from sklearn.feature_selection import RFE\r\n",
        "from mlxtend.feature_selection import SequentialFeatureSelector as sfs\r\n",
        "lr=LinearRegression()\r\n",
        "sfs1=sfs(lr, k_features=11, forward=True, scoring='r2', cv=3)\r\n",
        "sfs1.fit(x,y)"
      ],
      "execution_count": 5,
      "outputs": [
        {
          "output_type": "execute_result",
          "data": {
            "text/plain": [
              "SequentialFeatureSelector(clone_estimator=True, cv=3,\n",
              "                          estimator=LinearRegression(copy_X=True,\n",
              "                                                     fit_intercept=True,\n",
              "                                                     n_jobs=None,\n",
              "                                                     normalize=False),\n",
              "                          floating=False, forward=True, k_features=11, n_jobs=1,\n",
              "                          pre_dispatch='2*n_jobs', scoring='r2', verbose=0)"
            ]
          },
          "metadata": {
            "tags": []
          },
          "execution_count": 5
        }
      ]
    },
    {
      "cell_type": "code",
      "metadata": {
        "colab": {
          "base_uri": "https://localhost:8080/",
          "height": 80
        },
        "id": "pL4AfZKCEwt0",
        "outputId": "c9c1a544-2391-4bd9-b416-0fe48949f5bd"
      },
      "source": [
        "sf=pd.DataFrame(sfs1.subsets_).T\r\n",
        "sf[sf['avg_score']==sf['avg_score'].max()]"
      ],
      "execution_count": 6,
      "outputs": [
        {
          "output_type": "execute_result",
          "data": {
            "text/html": [
              "<div>\n",
              "<style scoped>\n",
              "    .dataframe tbody tr th:only-of-type {\n",
              "        vertical-align: middle;\n",
              "    }\n",
              "\n",
              "    .dataframe tbody tr th {\n",
              "        vertical-align: top;\n",
              "    }\n",
              "\n",
              "    .dataframe thead th {\n",
              "        text-align: right;\n",
              "    }\n",
              "</style>\n",
              "<table border=\"1\" class=\"dataframe\">\n",
              "  <thead>\n",
              "    <tr style=\"text-align: right;\">\n",
              "      <th></th>\n",
              "      <th>feature_idx</th>\n",
              "      <th>cv_scores</th>\n",
              "      <th>avg_score</th>\n",
              "      <th>feature_names</th>\n",
              "    </tr>\n",
              "  </thead>\n",
              "  <tbody>\n",
              "    <tr>\n",
              "      <th>5</th>\n",
              "      <td>(1, 3, 5, 9, 10)</td>\n",
              "      <td>[0.21122032123102397, 0.27693899742367056, 0.2...</td>\n",
              "      <td>0.244463</td>\n",
              "      <td>(volatile acidity, residual sugar, free sulfur...</td>\n",
              "    </tr>\n",
              "  </tbody>\n",
              "</table>\n",
              "</div>"
            ],
            "text/plain": [
              "        feature_idx  ...                                      feature_names\n",
              "5  (1, 3, 5, 9, 10)  ...  (volatile acidity, residual sugar, free sulfur...\n",
              "\n",
              "[1 rows x 4 columns]"
            ]
          },
          "metadata": {
            "tags": []
          },
          "execution_count": 6
        }
      ]
    },
    {
      "cell_type": "code",
      "metadata": {
        "colab": {
          "base_uri": "https://localhost:8080/"
        },
        "id": "HuyNYyXoFmjA",
        "outputId": "a33c824b-3a10-4746-8b92-52cf36a475fe"
      },
      "source": [
        "list(sf[sf['avg_score']==sf['avg_score'].max()]['feature_names'])"
      ],
      "execution_count": 7,
      "outputs": [
        {
          "output_type": "execute_result",
          "data": {
            "text/plain": [
              "[('volatile acidity',\n",
              "  'residual sugar',\n",
              "  'free sulfur dioxide',\n",
              "  'sulphates',\n",
              "  'alcohol')]"
            ]
          },
          "metadata": {
            "tags": []
          },
          "execution_count": 7
        }
      ]
    },
    {
      "cell_type": "code",
      "metadata": {
        "id": "_xCEPc_bFzrT"
      },
      "source": [
        ""
      ],
      "execution_count": null,
      "outputs": []
    },
    {
      "cell_type": "markdown",
      "metadata": {
        "collapsed": true,
        "id": "hIzgchJy0O_K"
      },
      "source": [
        "<table align=\"left\">\n",
        "    <tr>\n",
        "        <td width=\"6%\">\n",
        "            <img src=\"question_icon.png\">\n",
        "        </td>\n",
        "        <td>\n",
        "            <div align=\"left\", style=\"font-size:120%\">\n",
        "                <font color=\"#21618C\">\n",
        "                    <b>13. Find the best set of significant variables from the dataset using forward selection technique. Also display the R-squared score for the model built using the selected variables.</b>\n",
        "                </font>\n",
        "            </div>\n",
        "        </td>\n",
        "    </tr>\n",
        "</table>"
      ]
    },
    {
      "cell_type": "code",
      "metadata": {
        "colab": {
          "base_uri": "https://localhost:8080/"
        },
        "id": "FV9FE4S-JHB3",
        "outputId": "aa2c3dff-97a1-4f72-9ce0-f59301d0674a"
      },
      "source": [
        "df.columns"
      ],
      "execution_count": 16,
      "outputs": [
        {
          "output_type": "execute_result",
          "data": {
            "text/plain": [
              "Index(['fixed acidity', 'volatile acidity', 'citric acid', 'residual sugar',\n",
              "       'chlorides', 'free sulfur dioxide', 'total sulfur dioxide', 'density',\n",
              "       'pH', 'sulphates', 'alcohol', 'quality'],\n",
              "      dtype='object')"
            ]
          },
          "metadata": {
            "tags": []
          },
          "execution_count": 16
        }
      ]
    },
    {
      "cell_type": "code",
      "metadata": {
        "id": "BQzJQ_OV0O_L",
        "colab": {
          "base_uri": "https://localhost:8080/"
        },
        "outputId": "56203411-7b49-413e-f4b4-2d50475d8584"
      },
      "source": [
        "# type your code here\r\n",
        "qual=df['quality']\r\n",
        "from sklearn.linear_model import LinearRegression\r\n",
        "from sklearn.model_selection import KFold, GridSearchCV\r\n",
        "ar = LinearRegression()\r\n",
        "rfe_1 = RFE(ar)\r\n",
        "to_sel = {'n_features_to_select': list(range(1,df2.shape[1]-1))}\r\n",
        "gs= GridSearchCV(rfe_1, param_grid= to_sel,scoring= 'r2', cv=3)\r\n",
        "gs.fit(df,qual)  "
      ],
      "execution_count": 21,
      "outputs": [
        {
          "output_type": "execute_result",
          "data": {
            "text/plain": [
              "GridSearchCV(cv=3, error_score=nan,\n",
              "             estimator=RFE(estimator=LinearRegression(copy_X=True,\n",
              "                                                      fit_intercept=True,\n",
              "                                                      n_jobs=None,\n",
              "                                                      normalize=False),\n",
              "                           n_features_to_select=None, step=1, verbose=0),\n",
              "             iid='deprecated', n_jobs=None,\n",
              "             param_grid={'n_features_to_select': [1, 2, 3, 4, 5, 6, 7, 8, 9, 10,\n",
              "                                                  11]},\n",
              "             pre_dispatch='2*n_jobs', refit=True, return_train_score=False,\n",
              "             scoring='r2', verbose=0)"
            ]
          },
          "metadata": {
            "tags": []
          },
          "execution_count": 21
        }
      ]
    },
    {
      "cell_type": "code",
      "metadata": {
        "colab": {
          "base_uri": "https://localhost:8080/"
        },
        "id": "VZRAjNenJ3KP",
        "outputId": "6835c0af-8616-4afe-c031-46a292acb523"
      },
      "source": [
        "gs.best_params_"
      ],
      "execution_count": 22,
      "outputs": [
        {
          "output_type": "execute_result",
          "data": {
            "text/plain": [
              "{'n_features_to_select': 1}"
            ]
          },
          "metadata": {
            "tags": []
          },
          "execution_count": 22
        }
      ]
    },
    {
      "cell_type": "code",
      "metadata": {
        "colab": {
          "base_uri": "https://localhost:8080/"
        },
        "id": "sFNAg2LmJ5Ia",
        "outputId": "de12f167-c16f-452d-80f9-d44f09af38e5"
      },
      "source": [
        "sfs_2 = sfs(ar, k_features=8, cv=3 ,n_jobs=-1)\r\n",
        "sfs_2.fit(df2, qual)"
      ],
      "execution_count": 23,
      "outputs": [
        {
          "output_type": "execute_result",
          "data": {
            "text/plain": [
              "SequentialFeatureSelector(clone_estimator=True, cv=3,\n",
              "                          estimator=LinearRegression(copy_X=True,\n",
              "                                                     fit_intercept=True,\n",
              "                                                     n_jobs=None,\n",
              "                                                     normalize=False),\n",
              "                          floating=False, forward=True, k_features=8, n_jobs=-1,\n",
              "                          pre_dispatch='2*n_jobs', scoring=None, verbose=0)"
            ]
          },
          "metadata": {
            "tags": []
          },
          "execution_count": 23
        }
      ]
    },
    {
      "cell_type": "code",
      "metadata": {
        "id": "IxWc9y_OJ9rg"
      },
      "source": [
        "we = list(sfs_2.k_feature_names_)"
      ],
      "execution_count": 24,
      "outputs": []
    },
    {
      "cell_type": "code",
      "metadata": {
        "id": "boiDLoBdJ_kf"
      },
      "source": [
        "import statsmodels.api as sm\r\n",
        "df_temp = df2[we]\r\n",
        "xc= sm.add_constant(df_temp)\r\n",
        "md= sm.OLS(qual, xc).fit()"
      ],
      "execution_count": 26,
      "outputs": []
    },
    {
      "cell_type": "code",
      "metadata": {
        "colab": {
          "base_uri": "https://localhost:8080/"
        },
        "id": "6PtNyDqxKIuK",
        "outputId": "ef9d6566-4823-4f7f-c445-7301208b064e"
      },
      "source": [
        "print(md.summary())"
      ],
      "execution_count": 27,
      "outputs": [
        {
          "output_type": "stream",
          "text": [
            "                            OLS Regression Results                            \n",
            "==============================================================================\n",
            "Dep. Variable:                quality   R-squared:                       1.000\n",
            "Model:                            OLS   Adj. R-squared:                  1.000\n",
            "Method:                 Least Squares   F-statistic:                 1.152e+30\n",
            "Date:                Sun, 31 Jan 2021   Prob (F-statistic):               0.00\n",
            "Time:                        11:16:32   Log-Likelihood:             1.4745e+05\n",
            "No. Observations:                4898   AIC:                        -2.949e+05\n",
            "Df Residuals:                    4889   BIC:                        -2.948e+05\n",
            "Df Model:                           8                                         \n",
            "Covariance Type:            nonrobust                                         \n",
            "========================================================================================\n",
            "                           coef    std err          t      P>|t|      [0.025      0.975]\n",
            "----------------------------------------------------------------------------------------\n",
            "const                 2.728e-14   3.78e-15      7.221      0.000    1.99e-14    3.47e-14\n",
            "fixed acidity         8.457e-16   3.68e-16      2.296      0.022    1.24e-16    1.57e-15\n",
            "volatile acidity     -2.174e-15   3.05e-15     -0.713      0.476   -8.15e-15     3.8e-15\n",
            "citric acid          -2.694e-15   2.58e-15     -1.043      0.297   -7.76e-15    2.37e-15\n",
            "residual sugar        2.123e-16   6.33e-17      3.356      0.001    8.83e-17    3.36e-16\n",
            "chlorides            -3.525e-15   1.39e-14     -0.253      0.800   -3.09e-14    2.38e-14\n",
            "free sulfur dioxide  -1.529e-16   2.26e-17     -6.750      0.000   -1.97e-16   -1.08e-16\n",
            "total sulfur dioxide -4.686e-17   9.54e-18     -4.913      0.000   -6.56e-17   -2.82e-17\n",
            "quality                  1.0000    3.5e-16   2.86e+15      0.000       1.000       1.000\n",
            "==============================================================================\n",
            "Omnibus:                     1234.705   Durbin-Watson:                   0.063\n",
            "Prob(Omnibus):                  0.000   Jarque-Bera (JB):            12073.637\n",
            "Skew:                           0.920   Prob(JB):                         0.00\n",
            "Kurtosis:                      10.468   Cond. No.                     7.18e+03\n",
            "==============================================================================\n",
            "\n",
            "Warnings:\n",
            "[1] Standard Errors assume that the covariance matrix of the errors is correctly specified.\n",
            "[2] The condition number is large, 7.18e+03. This might indicate that there are\n",
            "strong multicollinearity or other numerical problems.\n"
          ],
          "name": "stdout"
        }
      ]
    },
    {
      "cell_type": "markdown",
      "metadata": {
        "collapsed": true,
        "id": "zZQG1tzW0O_L"
      },
      "source": [
        "<table align=\"left\">\n",
        "    <tr>\n",
        "        <td width=\"6%\">\n",
        "            <img src=\"question_icon.png\">\n",
        "        </td>\n",
        "        <td>\n",
        "            <div align=\"left\", style=\"font-size:120%\">\n",
        "                <font color=\"#21618C\">\n",
        "                    <b>14. Find the best set of significant variables from the dataset using backward elimination technique. Also display the R-squared score for the model built using the selected variables. <br><br>Compare the R-squared value obtained from question 13 with the value obtained using backward elimination.</b>\n",
        "                </font>\n",
        "            </div>\n",
        "        </td>\n",
        "    </tr>\n",
        "</table>"
      ]
    },
    {
      "cell_type": "code",
      "metadata": {
        "id": "xAgi341m0O_L",
        "colab": {
          "base_uri": "https://localhost:8080/"
        },
        "outputId": "9f69927f-f693-4ce6-aa3c-d96041ff734b"
      },
      "source": [
        "# type your code here\r\n",
        "rfe_ = RFE(ar, n_features_to_select = 8)\r\n",
        "rfe_.fit(df2, qual)"
      ],
      "execution_count": 28,
      "outputs": [
        {
          "output_type": "execute_result",
          "data": {
            "text/plain": [
              "RFE(estimator=LinearRegression(copy_X=True, fit_intercept=True, n_jobs=None,\n",
              "                               normalize=False),\n",
              "    n_features_to_select=8, step=1, verbose=0)"
            ]
          },
          "metadata": {
            "tags": []
          },
          "execution_count": 28
        }
      ]
    },
    {
      "cell_type": "code",
      "metadata": {
        "colab": {
          "base_uri": "https://localhost:8080/",
          "height": 297
        },
        "id": "aTfjOha3KN8A",
        "outputId": "50a344fd-caf8-4024-8cdb-48566615c914"
      },
      "source": [
        "al2 = pd.DataFrame(rfe_.ranking_, index=df2.columns, columns=['ranks'])\r\n",
        "al2.loc[al2['ranks'] == 1]"
      ],
      "execution_count": 29,
      "outputs": [
        {
          "output_type": "execute_result",
          "data": {
            "text/html": [
              "<div>\n",
              "<style scoped>\n",
              "    .dataframe tbody tr th:only-of-type {\n",
              "        vertical-align: middle;\n",
              "    }\n",
              "\n",
              "    .dataframe tbody tr th {\n",
              "        vertical-align: top;\n",
              "    }\n",
              "\n",
              "    .dataframe thead th {\n",
              "        text-align: right;\n",
              "    }\n",
              "</style>\n",
              "<table border=\"1\" class=\"dataframe\">\n",
              "  <thead>\n",
              "    <tr style=\"text-align: right;\">\n",
              "      <th></th>\n",
              "      <th>ranks</th>\n",
              "    </tr>\n",
              "  </thead>\n",
              "  <tbody>\n",
              "    <tr>\n",
              "      <th>fixed acidity</th>\n",
              "      <td>1</td>\n",
              "    </tr>\n",
              "    <tr>\n",
              "      <th>volatile acidity</th>\n",
              "      <td>1</td>\n",
              "    </tr>\n",
              "    <tr>\n",
              "      <th>citric acid</th>\n",
              "      <td>1</td>\n",
              "    </tr>\n",
              "    <tr>\n",
              "      <th>chlorides</th>\n",
              "      <td>1</td>\n",
              "    </tr>\n",
              "    <tr>\n",
              "      <th>density</th>\n",
              "      <td>1</td>\n",
              "    </tr>\n",
              "    <tr>\n",
              "      <th>sulphates</th>\n",
              "      <td>1</td>\n",
              "    </tr>\n",
              "    <tr>\n",
              "      <th>alcohol</th>\n",
              "      <td>1</td>\n",
              "    </tr>\n",
              "    <tr>\n",
              "      <th>quality</th>\n",
              "      <td>1</td>\n",
              "    </tr>\n",
              "  </tbody>\n",
              "</table>\n",
              "</div>"
            ],
            "text/plain": [
              "                  ranks\n",
              "fixed acidity         1\n",
              "volatile acidity      1\n",
              "citric acid           1\n",
              "chlorides             1\n",
              "density               1\n",
              "sulphates             1\n",
              "alcohol               1\n",
              "quality               1"
            ]
          },
          "metadata": {
            "tags": []
          },
          "execution_count": 29
        }
      ]
    },
    {
      "cell_type": "code",
      "metadata": {
        "id": "ShAVa08wKQjA"
      },
      "source": [
        "we2= list(al2.loc[al2['ranks'] == 1].index)\r\n"
      ],
      "execution_count": 30,
      "outputs": []
    },
    {
      "cell_type": "code",
      "metadata": {
        "colab": {
          "base_uri": "https://localhost:8080/"
        },
        "id": "qign4M-0KRsA",
        "outputId": "9a8a4e5d-bf40-41ef-9294-0ccb72c72914"
      },
      "source": [
        "df_temp = df2[we2]\r\n",
        "xc= sm.add_constant(df_temp)\r\n",
        "md= sm.OLS(qual, xc).fit()\r\n",
        "print(md.summary())"
      ],
      "execution_count": 31,
      "outputs": [
        {
          "output_type": "stream",
          "text": [
            "                            OLS Regression Results                            \n",
            "==============================================================================\n",
            "Dep. Variable:                quality   R-squared:                       1.000\n",
            "Model:                            OLS   Adj. R-squared:                  1.000\n",
            "Method:                 Least Squares   F-statistic:                 4.571e+28\n",
            "Date:                Sun, 31 Jan 2021   Prob (F-statistic):               0.00\n",
            "Time:                        11:17:14   Log-Likelihood:             1.3955e+05\n",
            "No. Observations:                4898   AIC:                        -2.791e+05\n",
            "Df Residuals:                    4889   BIC:                        -2.790e+05\n",
            "Df Model:                           8                                         \n",
            "Covariance Type:            nonrobust                                         \n",
            "====================================================================================\n",
            "                       coef    std err          t      P>|t|      [0.025      0.975]\n",
            "------------------------------------------------------------------------------------\n",
            "const            -3.901e-13   8.44e-13     -0.462      0.644   -2.04e-12    1.26e-12\n",
            "fixed acidity     5.057e-16    1.9e-15      0.267      0.790   -3.21e-15    4.22e-15\n",
            "volatile acidity -1.717e-15   1.55e-14     -0.110      0.912   -3.22e-14    2.88e-14\n",
            "citric acid       3.365e-16    1.3e-14      0.026      0.979   -2.51e-14    2.58e-14\n",
            "chlorides        -2.323e-14    7.3e-14     -0.318      0.750   -1.66e-13     1.2e-13\n",
            "density            2.87e-13   8.37e-13      0.343      0.732   -1.35e-12    1.93e-12\n",
            "sulphates        -2.696e-15    1.3e-14     -0.208      0.835   -2.81e-14    2.27e-14\n",
            "alcohol          -1.893e-16   2.17e-15     -0.087      0.931   -4.45e-15    4.07e-15\n",
            "quality              1.0000   1.92e-15   5.21e+14      0.000       1.000       1.000\n",
            "==============================================================================\n",
            "Omnibus:                      212.279   Durbin-Watson:                   0.000\n",
            "Prob(Omnibus):                  0.000   Jarque-Bera (JB):              709.828\n",
            "Skew:                          -0.002   Prob(JB):                    7.29e-155\n",
            "Kurtosis:                       4.865   Cond. No.                     1.14e+04\n",
            "==============================================================================\n",
            "\n",
            "Warnings:\n",
            "[1] Standard Errors assume that the covariance matrix of the errors is correctly specified.\n",
            "[2] The condition number is large, 1.14e+04. This might indicate that there are\n",
            "strong multicollinearity or other numerical problems.\n"
          ],
          "name": "stdout"
        }
      ]
    },
    {
      "cell_type": "code",
      "metadata": {
        "id": "EAG29CQyKUER"
      },
      "source": [
        "# RFE helped  with 8 features."
      ],
      "execution_count": null,
      "outputs": []
    },
    {
      "cell_type": "markdown",
      "metadata": {
        "collapsed": true,
        "id": "kXt7j33I0O_M"
      },
      "source": [
        "<table align=\"left\">\n",
        "    <tr>\n",
        "        <td width=\"6%\">\n",
        "            <img src=\"question_icon.png\">\n",
        "        </td>\n",
        "        <td>\n",
        "            <div align=\"left\", style=\"font-size:120%\">\n",
        "                <font color=\"#21618C\">\n",
        "                    <b>15. Find the best set of significant variables from the dataset among all the possible subsets of the variables. Build a linear regression model using the best subset and find the R-Squared value for that model.</b>\n",
        "                </font>\n",
        "            </div>\n",
        "        </td>\n",
        "    </tr>\n",
        "</table>"
      ]
    },
    {
      "cell_type": "code",
      "metadata": {
        "id": "SPOahogA0O_M",
        "colab": {
          "base_uri": "https://localhost:8080/"
        },
        "outputId": "05e63b63-7050-4ad8-d21c-e6945474b14b"
      },
      "source": [
        "# type your code here\r\n",
        "\r\n",
        "df_temp = df2[we2]\r\n",
        "xc= sm.add_constant(df_temp)\r\n",
        "md= sm.OLS(qual, xc).fit()\r\n",
        "print(md.summary())"
      ],
      "execution_count": 32,
      "outputs": [
        {
          "output_type": "stream",
          "text": [
            "                            OLS Regression Results                            \n",
            "==============================================================================\n",
            "Dep. Variable:                quality   R-squared:                       1.000\n",
            "Model:                            OLS   Adj. R-squared:                  1.000\n",
            "Method:                 Least Squares   F-statistic:                 4.571e+28\n",
            "Date:                Sun, 31 Jan 2021   Prob (F-statistic):               0.00\n",
            "Time:                        11:17:49   Log-Likelihood:             1.3955e+05\n",
            "No. Observations:                4898   AIC:                        -2.791e+05\n",
            "Df Residuals:                    4889   BIC:                        -2.790e+05\n",
            "Df Model:                           8                                         \n",
            "Covariance Type:            nonrobust                                         \n",
            "====================================================================================\n",
            "                       coef    std err          t      P>|t|      [0.025      0.975]\n",
            "------------------------------------------------------------------------------------\n",
            "const            -3.901e-13   8.44e-13     -0.462      0.644   -2.04e-12    1.26e-12\n",
            "fixed acidity     5.057e-16    1.9e-15      0.267      0.790   -3.21e-15    4.22e-15\n",
            "volatile acidity -1.717e-15   1.55e-14     -0.110      0.912   -3.22e-14    2.88e-14\n",
            "citric acid       3.365e-16    1.3e-14      0.026      0.979   -2.51e-14    2.58e-14\n",
            "chlorides        -2.323e-14    7.3e-14     -0.318      0.750   -1.66e-13     1.2e-13\n",
            "density            2.87e-13   8.37e-13      0.343      0.732   -1.35e-12    1.93e-12\n",
            "sulphates        -2.696e-15    1.3e-14     -0.208      0.835   -2.81e-14    2.27e-14\n",
            "alcohol          -1.893e-16   2.17e-15     -0.087      0.931   -4.45e-15    4.07e-15\n",
            "quality              1.0000   1.92e-15   5.21e+14      0.000       1.000       1.000\n",
            "==============================================================================\n",
            "Omnibus:                      212.279   Durbin-Watson:                   0.000\n",
            "Prob(Omnibus):                  0.000   Jarque-Bera (JB):              709.828\n",
            "Skew:                          -0.002   Prob(JB):                    7.29e-155\n",
            "Kurtosis:                       4.865   Cond. No.                     1.14e+04\n",
            "==============================================================================\n",
            "\n",
            "Warnings:\n",
            "[1] Standard Errors assume that the covariance matrix of the errors is correctly specified.\n",
            "[2] The condition number is large, 1.14e+04. This might indicate that there are\n",
            "strong multicollinearity or other numerical problems.\n"
          ],
          "name": "stdout"
        }
      ]
    },
    {
      "cell_type": "code",
      "metadata": {
        "id": "2mw6H5IGK27R"
      },
      "source": [
        ""
      ],
      "execution_count": null,
      "outputs": []
    },
    {
      "cell_type": "markdown",
      "metadata": {
        "collapsed": true,
        "id": "3GAVmL9t0O_M"
      },
      "source": [
        "<table align=\"left\">\n",
        "    <tr>\n",
        "        <td width=\"6%\">\n",
        "            <img src=\"question_icon.png\">\n",
        "        </td>\n",
        "        <td>\n",
        "            <div align=\"left\", style=\"font-size:120%\">\n",
        "                <font color=\"#21618C\">\n",
        "                    <b>16. Calculate the RMSE for the train set and test set for the model created using the top 5 variables obtained from forward selection in question 10. Check if the model is overfitted on the train set or not. If yes, then why do you think so?</b>\n",
        "                </font>\n",
        "            </div>\n",
        "        </td>\n",
        "    </tr>\n",
        "</table>"
      ]
    },
    {
      "cell_type": "code",
      "metadata": {
        "id": "QpXBvkzq0O_M"
      },
      "source": [
        "# type your code here\r\n",
        "\r\n",
        "rtr= df2[list(sfs_2.k_feature_names_)]\r\n",
        "from sklearn.model_selection import train_test_split\r\n",
        "x_tr, x_ts, y_tr, y_ts = train_test_split(rtr, qual)"
      ],
      "execution_count": 37,
      "outputs": []
    },
    {
      "cell_type": "code",
      "metadata": {
        "colab": {
          "base_uri": "https://localhost:8080/"
        },
        "id": "Y5kCzMomKzcE",
        "outputId": "003afd8f-7c3c-4c83-fe75-a771674d03a5"
      },
      "source": [
        "xc= sm.add_constant(x_tr)\r\n",
        "md= sm.OLS(y_tr, xc).fit()\r\n",
        "print(md.summary())"
      ],
      "execution_count": 38,
      "outputs": [
        {
          "output_type": "stream",
          "text": [
            "                            OLS Regression Results                            \n",
            "==============================================================================\n",
            "Dep. Variable:                quality   R-squared:                       1.000\n",
            "Model:                            OLS   Adj. R-squared:                  1.000\n",
            "Method:                 Least Squares   F-statistic:                 1.796e+30\n",
            "Date:                Sun, 31 Jan 2021   Prob (F-statistic):               0.00\n",
            "Time:                        11:19:32   Log-Likelihood:             1.1191e+05\n",
            "No. Observations:                3673   AIC:                        -2.238e+05\n",
            "Df Residuals:                    3664   BIC:                        -2.238e+05\n",
            "Df Model:                           8                                         \n",
            "Covariance Type:            nonrobust                                         \n",
            "========================================================================================\n",
            "                           coef    std err          t      P>|t|      [0.025      0.975]\n",
            "----------------------------------------------------------------------------------------\n",
            "const                 1.791e-14   3.03e-15      5.902      0.000     1.2e-14    2.39e-14\n",
            "fixed acidity        -9.154e-16   2.95e-16     -3.098      0.002   -1.49e-15   -3.36e-16\n",
            "volatile acidity      1.611e-15   2.46e-15      0.656      0.512    -3.2e-15    6.43e-15\n",
            "citric acid           7.824e-16   2.11e-15      0.370      0.711   -3.36e-15    4.92e-15\n",
            "residual sugar       -2.002e-16   5.06e-17     -3.956      0.000   -2.99e-16   -1.01e-16\n",
            "chlorides             3.776e-15   1.11e-14      0.340      0.734    -1.8e-14    2.56e-14\n",
            "free sulfur dioxide  -2.312e-17   1.81e-17     -1.277      0.202   -5.86e-17    1.24e-17\n",
            "total sulfur dioxide  4.043e-17    7.7e-18      5.248      0.000    2.53e-17    5.55e-17\n",
            "quality                  1.0000    2.8e-16   3.57e+15      0.000       1.000       1.000\n",
            "==============================================================================\n",
            "Omnibus:                       46.892   Durbin-Watson:                   0.030\n",
            "Prob(Omnibus):                  0.000   Jarque-Bera (JB):               62.189\n",
            "Skew:                          -0.175   Prob(JB):                     3.13e-14\n",
            "Kurtosis:                       3.533   Cond. No.                     7.15e+03\n",
            "==============================================================================\n",
            "\n",
            "Warnings:\n",
            "[1] Standard Errors assume that the covariance matrix of the errors is correctly specified.\n",
            "[2] The condition number is large, 7.15e+03. This might indicate that there are\n",
            "strong multicollinearity or other numerical problems.\n"
          ],
          "name": "stdout"
        }
      ]
    },
    {
      "cell_type": "code",
      "metadata": {
        "colab": {
          "base_uri": "https://localhost:8080/"
        },
        "id": "Or3C9eyqK4Lj",
        "outputId": "2c0dfe11-6da3-4696-d9ea-4dd7b31d33eb"
      },
      "source": [
        "xc1= sm.add_constant(x_ts)\r\n",
        "md= sm.OLS(y_ts, xc1).fit()\r\n",
        "print(md.summary())\r\n",
        "\r\n",
        "#The model is slightly overfitting on training data. "
      ],
      "execution_count": 39,
      "outputs": [
        {
          "output_type": "stream",
          "text": [
            "                            OLS Regression Results                            \n",
            "==============================================================================\n",
            "Dep. Variable:                quality   R-squared:                       1.000\n",
            "Model:                            OLS   Adj. R-squared:                  1.000\n",
            "Method:                 Least Squares   F-statistic:                 7.438e+28\n",
            "Date:                Sun, 31 Jan 2021   Prob (F-statistic):               0.00\n",
            "Time:                        11:19:45   Log-Likelihood:                 36062.\n",
            "No. Observations:                1225   AIC:                        -7.211e+04\n",
            "Df Residuals:                    1216   BIC:                        -7.206e+04\n",
            "Df Model:                           8                                         \n",
            "Covariance Type:            nonrobust                                         \n",
            "========================================================================================\n",
            "                           coef    std err          t      P>|t|      [0.025      0.975]\n",
            "----------------------------------------------------------------------------------------\n",
            "const                 1.164e-14   1.47e-14      0.791      0.429   -1.72e-14    4.05e-14\n",
            "fixed acidity         4.645e-16   1.44e-15      0.322      0.748   -2.37e-15     3.3e-15\n",
            "volatile acidity      1.121e-14   1.17e-14      0.954      0.340   -1.18e-14    3.43e-14\n",
            "citric acid            6.08e-15   9.61e-15      0.632      0.527   -1.28e-14    2.49e-14\n",
            "residual sugar        3.607e-16   2.49e-16      1.446      0.148   -1.29e-16     8.5e-16\n",
            "chlorides            -1.093e-14   5.55e-14     -0.197      0.844    -1.2e-13     9.8e-14\n",
            "free sulfur dioxide   1.201e-16      9e-17      1.335      0.182   -5.64e-17    2.97e-16\n",
            "total sulfur dioxide  7.866e-17   3.66e-17      2.152      0.032    6.94e-18     1.5e-16\n",
            "quality                  1.0000   1.38e-15   7.24e+14      0.000       1.000       1.000\n",
            "==============================================================================\n",
            "Omnibus:                       20.763   Durbin-Watson:                   0.046\n",
            "Prob(Omnibus):                  0.000   Jarque-Bera (JB):               21.428\n",
            "Skew:                          -0.314   Prob(JB):                     2.22e-05\n",
            "Kurtosis:                       2.841   Cond. No.                     7.27e+03\n",
            "==============================================================================\n",
            "\n",
            "Warnings:\n",
            "[1] Standard Errors assume that the covariance matrix of the errors is correctly specified.\n",
            "[2] The condition number is large, 7.27e+03. This might indicate that there are\n",
            "strong multicollinearity or other numerical problems.\n"
          ],
          "name": "stdout"
        }
      ]
    },
    {
      "cell_type": "code",
      "metadata": {
        "id": "DSR7CDO5K8XQ"
      },
      "source": [
        "y_tr_score = md.predict(xc)\r\n",
        "\r\n",
        "xtr = sm.add_constant(x_ts)\r\n",
        "y_ts_score = md.predict(xtr)"
      ],
      "execution_count": 40,
      "outputs": []
    },
    {
      "cell_type": "code",
      "metadata": {
        "colab": {
          "base_uri": "https://localhost:8080/"
        },
        "id": "gQ7zNMPuK_Ng",
        "outputId": "c0472015-8a4d-497c-b03c-44f9ff649277"
      },
      "source": [
        "len(y_tr)\r\n"
      ],
      "execution_count": 41,
      "outputs": [
        {
          "output_type": "execute_result",
          "data": {
            "text/plain": [
              "3673"
            ]
          },
          "metadata": {
            "tags": []
          },
          "execution_count": 41
        }
      ]
    },
    {
      "cell_type": "code",
      "metadata": {
        "colab": {
          "base_uri": "https://localhost:8080/"
        },
        "id": "eU1HCZxbLAJA",
        "outputId": "25e3ad61-8b38-4312-f15e-cc8f1d58e1fd"
      },
      "source": [
        "from sklearn.metrics import mean_squared_error, r2_score\r\n",
        "\r\n",
        "print('training', r2_score(y_tr_score, y_tr), mean_squared_error(y_tr_score, y_tr))\r\n",
        "print('test', r2_score(y_ts_score, y_ts), mean_squared_error(y_ts_score, y_ts))"
      ],
      "execution_count": 42,
      "outputs": [
        {
          "output_type": "stream",
          "text": [
            "training 1.0 1.6006875852924824e-27\n",
            "test 1.0 1.5753531348300814e-27\n"
          ],
          "name": "stdout"
        }
      ]
    },
    {
      "cell_type": "markdown",
      "metadata": {
        "id": "qS0vySEo0O_M"
      },
      "source": [
        "<a id=\"cv\"> </a>\n",
        "## 3. Model Validation"
      ]
    },
    {
      "cell_type": "markdown",
      "metadata": {
        "collapsed": true,
        "id": "4FizWXNc0O_M"
      },
      "source": [
        "<table align=\"left\">\n",
        "    <tr>\n",
        "        <td width=\"6%\">\n",
        "            <img src=\"question_icon.png\">\n",
        "        </td>\n",
        "        <td>\n",
        "            <div align=\"left\", style=\"font-size:120%\">\n",
        "                <font color=\"#21618C\">\n",
        "                    <b>17. Create a new feature based on the 'pH' which tells whether wine is acidic, basic or neutral. Will this variable significantly contribute to the model?</b>\n",
        "                </font>\n",
        "            </div>\n",
        "        </td>\n",
        "    </tr>\n",
        "</table>"
      ]
    },
    {
      "cell_type": "code",
      "metadata": {
        "id": "r5kWcy4a0O_N",
        "colab": {
          "base_uri": "https://localhost:8080/",
          "height": 221
        },
        "outputId": "17150bbc-c145-491e-fa34-6f17a3ae05ef"
      },
      "source": [
        "# type your code here\r\n",
        "df_r = df2.copy()\r\n",
        "df_r.head()"
      ],
      "execution_count": 43,
      "outputs": [
        {
          "output_type": "execute_result",
          "data": {
            "text/html": [
              "<div>\n",
              "<style scoped>\n",
              "    .dataframe tbody tr th:only-of-type {\n",
              "        vertical-align: middle;\n",
              "    }\n",
              "\n",
              "    .dataframe tbody tr th {\n",
              "        vertical-align: top;\n",
              "    }\n",
              "\n",
              "    .dataframe thead th {\n",
              "        text-align: right;\n",
              "    }\n",
              "</style>\n",
              "<table border=\"1\" class=\"dataframe\">\n",
              "  <thead>\n",
              "    <tr style=\"text-align: right;\">\n",
              "      <th></th>\n",
              "      <th>fixed acidity</th>\n",
              "      <th>volatile acidity</th>\n",
              "      <th>citric acid</th>\n",
              "      <th>residual sugar</th>\n",
              "      <th>chlorides</th>\n",
              "      <th>free sulfur dioxide</th>\n",
              "      <th>total sulfur dioxide</th>\n",
              "      <th>density</th>\n",
              "      <th>pH</th>\n",
              "      <th>sulphates</th>\n",
              "      <th>alcohol</th>\n",
              "      <th>quality</th>\n",
              "      <th>alcohol2</th>\n",
              "    </tr>\n",
              "  </thead>\n",
              "  <tbody>\n",
              "    <tr>\n",
              "      <th>0</th>\n",
              "      <td>7.0</td>\n",
              "      <td>0.27</td>\n",
              "      <td>0.36</td>\n",
              "      <td>20.7</td>\n",
              "      <td>0.045</td>\n",
              "      <td>45.0</td>\n",
              "      <td>170.0</td>\n",
              "      <td>1.0010</td>\n",
              "      <td>3.00</td>\n",
              "      <td>0.45</td>\n",
              "      <td>8.8</td>\n",
              "      <td>6</td>\n",
              "      <td>-1.630002</td>\n",
              "    </tr>\n",
              "    <tr>\n",
              "      <th>1</th>\n",
              "      <td>6.3</td>\n",
              "      <td>0.30</td>\n",
              "      <td>0.34</td>\n",
              "      <td>1.6</td>\n",
              "      <td>0.049</td>\n",
              "      <td>14.0</td>\n",
              "      <td>132.0</td>\n",
              "      <td>0.9940</td>\n",
              "      <td>3.30</td>\n",
              "      <td>0.49</td>\n",
              "      <td>9.5</td>\n",
              "      <td>6</td>\n",
              "      <td>-0.811571</td>\n",
              "    </tr>\n",
              "    <tr>\n",
              "      <th>2</th>\n",
              "      <td>8.1</td>\n",
              "      <td>0.28</td>\n",
              "      <td>0.40</td>\n",
              "      <td>6.9</td>\n",
              "      <td>0.050</td>\n",
              "      <td>30.0</td>\n",
              "      <td>97.0</td>\n",
              "      <td>0.9951</td>\n",
              "      <td>3.26</td>\n",
              "      <td>0.44</td>\n",
              "      <td>10.1</td>\n",
              "      <td>6</td>\n",
              "      <td>-0.218621</td>\n",
              "    </tr>\n",
              "    <tr>\n",
              "      <th>3</th>\n",
              "      <td>7.2</td>\n",
              "      <td>0.23</td>\n",
              "      <td>0.32</td>\n",
              "      <td>8.5</td>\n",
              "      <td>0.058</td>\n",
              "      <td>47.0</td>\n",
              "      <td>186.0</td>\n",
              "      <td>0.9956</td>\n",
              "      <td>3.19</td>\n",
              "      <td>0.40</td>\n",
              "      <td>9.9</td>\n",
              "      <td>6</td>\n",
              "      <td>-0.406511</td>\n",
              "    </tr>\n",
              "    <tr>\n",
              "      <th>4</th>\n",
              "      <td>7.2</td>\n",
              "      <td>0.23</td>\n",
              "      <td>0.32</td>\n",
              "      <td>8.5</td>\n",
              "      <td>0.058</td>\n",
              "      <td>47.0</td>\n",
              "      <td>186.0</td>\n",
              "      <td>0.9956</td>\n",
              "      <td>3.19</td>\n",
              "      <td>0.40</td>\n",
              "      <td>9.9</td>\n",
              "      <td>6</td>\n",
              "      <td>-0.406511</td>\n",
              "    </tr>\n",
              "  </tbody>\n",
              "</table>\n",
              "</div>"
            ],
            "text/plain": [
              "   fixed acidity  volatile acidity  citric acid  ...  alcohol  quality  alcohol2\n",
              "0            7.0              0.27         0.36  ...      8.8        6 -1.630002\n",
              "1            6.3              0.30         0.34  ...      9.5        6 -0.811571\n",
              "2            8.1              0.28         0.40  ...     10.1        6 -0.218621\n",
              "3            7.2              0.23         0.32  ...      9.9        6 -0.406511\n",
              "4            7.2              0.23         0.32  ...      9.9        6 -0.406511\n",
              "\n",
              "[5 rows x 13 columns]"
            ]
          },
          "metadata": {
            "tags": []
          },
          "execution_count": 43
        }
      ]
    },
    {
      "cell_type": "code",
      "metadata": {
        "id": "1IulvwZBLGjQ"
      },
      "source": [
        "df_r['cat_pH'] = pd.cut(df_r['pH'], bins=3, labels=['acidic', 'normal', 'basic'])"
      ],
      "execution_count": 44,
      "outputs": []
    },
    {
      "cell_type": "code",
      "metadata": {
        "id": "19WOMy2XLJKh"
      },
      "source": [
        "df_r = pd.get_dummies(data= df_r, columns=['cat_pH'], drop_first=True)"
      ],
      "execution_count": 45,
      "outputs": []
    },
    {
      "cell_type": "code",
      "metadata": {
        "id": "R7MzcKbILKd5"
      },
      "source": [
        "df_r.drop({'pH'}, axis=1, inplace= True)\r\n"
      ],
      "execution_count": 46,
      "outputs": []
    },
    {
      "cell_type": "code",
      "metadata": {
        "colab": {
          "base_uri": "https://localhost:8080/"
        },
        "id": "aqmdqxEiLLL-",
        "outputId": "da4feba3-e810-4d9f-80cf-83b1faed544b"
      },
      "source": [
        "xc1= sm.add_constant(df_r)\r\n",
        "md= sm.OLS(qual, xc1).fit()\r\n",
        "print(md.summary())\r\n"
      ],
      "execution_count": 47,
      "outputs": [
        {
          "output_type": "stream",
          "text": [
            "                            OLS Regression Results                            \n",
            "==============================================================================\n",
            "Dep. Variable:                quality   R-squared:                       1.000\n",
            "Model:                            OLS   Adj. R-squared:                  1.000\n",
            "Method:                 Least Squares   F-statistic:                 2.303e+27\n",
            "Date:                Sun, 31 Jan 2021   Prob (F-statistic):               0.00\n",
            "Time:                        11:21:19   Log-Likelihood:             1.3360e+05\n",
            "No. Observations:                4898   AIC:                        -2.672e+05\n",
            "Df Residuals:                    4883   BIC:                        -2.671e+05\n",
            "Df Model:                          14                                         \n",
            "Covariance Type:            nonrobust                                         \n",
            "========================================================================================\n",
            "                           coef    std err          t      P>|t|      [0.025      0.975]\n",
            "----------------------------------------------------------------------------------------\n",
            "const                  5.64e-14   7.82e-12      0.007      0.994   -1.53e-11    1.54e-11\n",
            "fixed acidity         5.733e-16   8.39e-15      0.068      0.946   -1.59e-14     1.7e-14\n",
            "volatile acidity     -2.501e-15   5.47e-14     -0.046      0.964    -1.1e-13    1.05e-13\n",
            "citric acid           5.829e-16   4.42e-14      0.013      0.989    -8.6e-14    8.71e-14\n",
            "residual sugar        9.189e-16   3.13e-15      0.294      0.769   -5.22e-15    7.05e-15\n",
            "chlorides            -1.708e-14   2.49e-13     -0.069      0.945   -5.05e-13    4.71e-13\n",
            "free sulfur dioxide   -1.58e-17   3.88e-16     -0.041      0.968   -7.77e-16    7.46e-16\n",
            "total sulfur dioxide -7.444e-17   1.74e-16     -0.428      0.668   -4.15e-16    2.66e-16\n",
            "density               2.782e-13   7.82e-12      0.036      0.972    -1.5e-11    1.56e-11\n",
            "sulphates             8.674e-16   4.63e-14      0.019      0.985   -8.99e-14    9.17e-14\n",
            "alcohol               2.515e-16   3.25e-14      0.008      0.994   -6.34e-14    6.39e-14\n",
            "quality                  1.0000   6.57e-15   1.52e+14      0.000       1.000       1.000\n",
            "alcohol2             -1.282e-15   3.81e-14     -0.034      0.973    -7.6e-14    7.35e-14\n",
            "cat_pH_normal        -1.249e-15   1.32e-14     -0.095      0.925   -2.71e-14    2.46e-14\n",
            "cat_pH_basic         -5.456e-16   2.89e-14     -0.019      0.985   -5.73e-14    5.62e-14\n",
            "==============================================================================\n",
            "Omnibus:                      802.931   Durbin-Watson:                   0.000\n",
            "Prob(Omnibus):                  0.000   Jarque-Bera (JB):             3504.240\n",
            "Skew:                          -0.740   Prob(JB):                         0.00\n",
            "Kurtosis:                       6.870   Cond. No.                     3.37e+05\n",
            "==============================================================================\n",
            "\n",
            "Warnings:\n",
            "[1] Standard Errors assume that the covariance matrix of the errors is correctly specified.\n",
            "[2] The condition number is large, 3.37e+05. This might indicate that there are\n",
            "strong multicollinearity or other numerical problems.\n"
          ],
          "name": "stdout"
        }
      ]
    },
    {
      "cell_type": "markdown",
      "metadata": {
        "id": "nYW3IOH1LUJd"
      },
      "source": [
        "P values of both of them are less than 0.05- so both of them are significantly contributing."
      ]
    },
    {
      "cell_type": "code",
      "metadata": {
        "id": "uiR_kdJELO6q"
      },
      "source": [
        ""
      ],
      "execution_count": null,
      "outputs": []
    },
    {
      "cell_type": "markdown",
      "metadata": {
        "collapsed": true,
        "id": "M1bjJp9J0O_N"
      },
      "source": [
        "<table align=\"left\">\n",
        "    <tr>\n",
        "        <td width=\"6%\">\n",
        "            <img src=\"question_icon.png\">\n",
        "        </td>\n",
        "        <td>\n",
        "            <div align=\"left\", style=\"font-size:120%\">\n",
        "                <font color=\"#21618C\">\n",
        "                    <b>18. Fit the a full model. Validate the model using cross validation method</b>\n",
        "                </font>\n",
        "            </div>\n",
        "        </td>\n",
        "    </tr>\n",
        "</table>"
      ]
    },
    {
      "cell_type": "code",
      "metadata": {
        "id": "RxBWPGdo0O_N",
        "colab": {
          "base_uri": "https://localhost:8080/"
        },
        "outputId": "7129ef09-6bea-4251-c85c-1dc3ac6c94f9"
      },
      "source": [
        "# type your code here\r\n",
        "xc1= sm.add_constant(df2)\r\n",
        "md= sm.OLS(qual, xc1).fit()\r\n",
        "print(md.summary())"
      ],
      "execution_count": 48,
      "outputs": [
        {
          "output_type": "stream",
          "text": [
            "                            OLS Regression Results                            \n",
            "==============================================================================\n",
            "Dep. Variable:                quality   R-squared:                       1.000\n",
            "Model:                            OLS   Adj. R-squared:                  1.000\n",
            "Method:                 Least Squares   F-statistic:                 2.960e+30\n",
            "Date:                Sun, 31 Jan 2021   Prob (F-statistic):               0.00\n",
            "Time:                        11:22:02   Log-Likelihood:             1.5095e+05\n",
            "No. Observations:                4898   AIC:                        -3.019e+05\n",
            "Df Residuals:                    4884   BIC:                        -3.018e+05\n",
            "Df Model:                          13                                         \n",
            "Covariance Type:            nonrobust                                         \n",
            "========================================================================================\n",
            "                           coef    std err          t      P>|t|      [0.025      0.975]\n",
            "----------------------------------------------------------------------------------------\n",
            "const                -6.138e-13   2.52e-13     -2.433      0.015   -1.11e-12   -1.19e-13\n",
            "fixed acidity         8.062e-16   2.79e-16      2.890      0.004    2.59e-16    1.35e-15\n",
            "volatile acidity     -3.308e-15   1.58e-15     -2.090      0.037   -6.41e-15   -2.05e-16\n",
            "citric acid           -7.13e-16   1.28e-15     -0.558      0.577   -3.22e-15    1.79e-15\n",
            "residual sugar        1.025e-15   1.02e-16     10.065      0.000    8.26e-16    1.22e-15\n",
            "chlorides            -1.896e-14   7.27e-15     -2.606      0.009   -3.32e-14    -4.7e-15\n",
            "free sulfur dioxide  -4.513e-17   1.12e-17     -4.012      0.000   -6.72e-17   -2.31e-17\n",
            "total sulfur dioxide -2.995e-18   5.03e-18     -0.595      0.552   -1.29e-17    6.87e-18\n",
            "density               5.571e-13   2.55e-13      2.181      0.029    5.64e-14    1.06e-12\n",
            "pH                    -4.93e-15   1.41e-15     -3.487      0.000    -7.7e-15   -2.16e-15\n",
            "sulphates             -4.24e-15   1.34e-15     -3.162      0.002   -6.87e-15   -1.61e-15\n",
            "alcohol               7.506e-15   9.43e-16      7.956      0.000    5.66e-15    9.36e-15\n",
            "quality                  1.0000   1.91e-16   5.24e+15      0.000       1.000       1.000\n",
            "alcohol2             -7.831e-15    1.1e-15     -7.090      0.000      -1e-14   -5.67e-15\n",
            "==============================================================================\n",
            "Omnibus:                     1257.010   Durbin-Watson:                   0.714\n",
            "Prob(Omnibus):                  0.000   Jarque-Bera (JB):             7393.567\n",
            "Skew:                          -1.093   Prob(JB):                         0.00\n",
            "Kurtosis:                       8.608   Cond. No.                     3.78e+05\n",
            "==============================================================================\n",
            "\n",
            "Warnings:\n",
            "[1] Standard Errors assume that the covariance matrix of the errors is correctly specified.\n",
            "[2] The condition number is large, 3.78e+05. This might indicate that there are\n",
            "strong multicollinearity or other numerical problems.\n"
          ],
          "name": "stdout"
        }
      ]
    },
    {
      "cell_type": "code",
      "metadata": {
        "colab": {
          "base_uri": "https://localhost:8080/"
        },
        "id": "K7bvK-XaLbRb",
        "outputId": "e0fa7336-28d6-4341-887d-c698cd1cfb91"
      },
      "source": [
        "ar = LinearRegression()\r\n",
        "from sklearn.model_selection import cross_val_score\r\n",
        "Kf = KFold(n_splits=5, shuffle=True, random_state=4)\r\n",
        "cv = cross_val_score(ar, df2, qual, scoring = 'r2', cv=Kf)\r\n",
        "cv"
      ],
      "execution_count": 49,
      "outputs": [
        {
          "output_type": "execute_result",
          "data": {
            "text/plain": [
              "array([1., 1., 1., 1., 1.])"
            ]
          },
          "metadata": {
            "tags": []
          },
          "execution_count": 49
        }
      ]
    },
    {
      "cell_type": "markdown",
      "metadata": {
        "collapsed": true,
        "id": "btwaWvGJ0O_N"
      },
      "source": [
        "<table align=\"left\">\n",
        "    <tr>\n",
        "        <td width=\"6%\">\n",
        "            <img src=\"question_icon.png\">\n",
        "        </td>\n",
        "        <td>\n",
        "            <div align=\"left\", style=\"font-size:120%\">\n",
        "                <font color=\"#21618C\">\n",
        "                    <b>19. Fit the a full model. Validate the model using 5 - fold cross validation</b>\n",
        "                </font>\n",
        "            </div>\n",
        "        </td>\n",
        "    </tr>\n",
        "</table>"
      ]
    },
    {
      "cell_type": "code",
      "metadata": {
        "id": "JCOfygOo0O_N"
      },
      "source": [
        "# type your code here"
      ],
      "execution_count": null,
      "outputs": []
    },
    {
      "cell_type": "markdown",
      "metadata": {
        "collapsed": true,
        "id": "7TfYwmmp0O_O"
      },
      "source": [
        "<table align=\"left\">\n",
        "    <tr>\n",
        "        <td width=\"6%\">\n",
        "            <img src=\"question_icon.png\">\n",
        "        </td>\n",
        "        <td>\n",
        "            <div align=\"left\", style=\"font-size:120%\">\n",
        "                <font color=\"#21618C\">\n",
        "                    <b>20. Fit the a full model. Validate the model using leave one out cross validation</b>\n",
        "                </font>\n",
        "            </div>\n",
        "        </td>\n",
        "    </tr>\n",
        "</table>"
      ]
    },
    {
      "cell_type": "code",
      "metadata": {
        "id": "gPO3R83i0O_O"
      },
      "source": [
        "# type your code here"
      ],
      "execution_count": null,
      "outputs": []
    }
  ]
}