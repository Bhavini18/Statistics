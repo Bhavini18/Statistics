{
  "nbformat": 4,
  "nbformat_minor": 0,
  "metadata": {
    "kernelspec": {
      "display_name": "Python 3",
      "language": "python",
      "name": "python3"
    },
    "language_info": {
      "codemirror_mode": {
        "name": "ipython",
        "version": 3
      },
      "file_extension": ".py",
      "mimetype": "text/x-python",
      "name": "python",
      "nbconvert_exporter": "python",
      "pygments_lexer": "ipython3",
      "version": "3.7.3"
    },
    "colab": {
      "name": "Inclass_LabExercise_Day02 .ipynb",
      "provenance": [],
      "collapsed_sections": []
    }
  },
  "cells": [
    {
      "cell_type": "code",
      "metadata": {
        "id": "BRhW47c6xHR0",
        "colab": {
          "base_uri": "https://localhost:8080/"
        },
        "outputId": "a616b137-2d80-433c-8651-8ad68414fff2"
      },
      "source": [
        "import numpy       as np\n",
        "import pandas      as pd\n",
        "import scipy.stats as stats\n",
        "from scipy.stats             import ttest_1samp,ttest_ind, wilcoxon\n",
        "from statsmodels.stats.power import ttest_power\n",
        "import matplotlib.pyplot     as     plt"
      ],
      "execution_count": 2,
      "outputs": [
        {
          "output_type": "stream",
          "text": [
            "/usr/local/lib/python3.6/dist-packages/statsmodels/tools/_testing.py:19: FutureWarning: pandas.util.testing is deprecated. Use the functions in the public API at pandas.testing instead.\n",
            "  import pandas.util.testing as tm\n"
          ],
          "name": "stderr"
        }
      ]
    },
    {
      "cell_type": "markdown",
      "metadata": {
        "id": "rpOKoIt-xHR3"
      },
      "source": [
        "## Practice Exercise :\n",
        "\n",
        "You are given the daily sugar intake of 11 diabetic patients in the following Python code. \n",
        "\n",
        "**Is there any evidence to the claim that the average daily sugar intake of the diabetic patients is 7600 mg.** \n",
        "\n",
        "**Hint: Use t test**"
      ]
    },
    {
      "cell_type": "code",
      "metadata": {
        "id": "fXqipuhPxHR4"
      },
      "source": [
        "# daily intake of Sugar in milligrams for 11 diabetic patients\n",
        "import numpy as np\n",
        "daily_intake = np.array([5560, 5770, 7640, 5180, 5690, 6435, 6803, 7689, 6876, 8213, 8765])"
      ],
      "execution_count": null,
      "outputs": []
    },
    {
      "cell_type": "code",
      "metadata": {
        "id": "ng4LB2so38ub",
        "colab": {
          "base_uri": "https://localhost:8080/"
        },
        "outputId": "5d199a65-de8a-4cd0-a07e-2f769ef081fd"
      },
      "source": [
        "s= np.std(daily_intake, ddof=1)\r\n",
        "se= s/(np.sqrt(11)) \r\n",
        "mu= 7600 \r\n",
        "xbar= np.mean(daily_intake) \r\n",
        "n= 11\r\n",
        "print('Observed Mean', xbar)\r\n",
        " # critical value \r\n",
        "\r\n",
        "print(stats.t.isf(0.025, df= 10, loc=7600, scale=se)) \r\n",
        "print(stats.t.isf(0.975, df=10, loc=7600, scale=se)) \r\n",
        "print('Reject Null hypothesis as observed mean liesin the critical region')"
      ],
      "execution_count": null,
      "outputs": [
        {
          "output_type": "stream",
          "text": [
            "Observed Mean 6783.727272727273\n",
            "8393.327015098372\n",
            "6806.672984901628\n",
            "Reject Null hypothesis as observed mean liesin the critical region\n"
          ],
          "name": "stdout"
        }
      ]
    },
    {
      "cell_type": "code",
      "metadata": {
        "id": "h-wCqZ31383t",
        "colab": {
          "base_uri": "https://localhost:8080/"
        },
        "outputId": "f3330cab-3ac7-426f-c578-b90723947c2b"
      },
      "source": [
        "# pvalue\r\n",
        "print(stats.t.cdf(xbar, loc=7600, df=10, scale=se)*2)\r\n",
        "print('Reject Null as p value is less than 5%')"
      ],
      "execution_count": null,
      "outputs": [
        {
          "output_type": "stream",
          "text": [
            "0.04481624562570511\n",
            "Reject Null as p value is less than 5%\n"
          ],
          "name": "stdout"
        }
      ]
    },
    {
      "cell_type": "code",
      "metadata": {
        "id": "S2Qxg7m138kO",
        "colab": {
          "base_uri": "https://localhost:8080/"
        },
        "outputId": "cd07de06-bcae-4a44-d053-4a370c191469"
      },
      "source": [
        "print('T statistic')\r\n",
        "t=(xbar-mu)/se\r\n",
        "print(t)"
      ],
      "execution_count": null,
      "outputs": [
        {
          "output_type": "stream",
          "text": [
            "T statistic\n",
            "-2.2925841964555027\n"
          ],
          "name": "stdout"
        }
      ]
    },
    {
      "cell_type": "code",
      "metadata": {
        "id": "YjYL_Siq4FWR",
        "colab": {
          "base_uri": "https://localhost:8080/"
        },
        "outputId": "0fd418cc-3409-416e-9ca1-2d854bc77fc5"
      },
      "source": [
        "print('critical value')\r\n",
        "print(stats.t.isf(0.025,df=n-1,loc=0,scale=1))\r\n",
        "print(stats.t.isf(0.975,df=n-1,loc=0,scale=1))\r\n",
        "print('Reject Null as sample mean lies in critical region')"
      ],
      "execution_count": null,
      "outputs": [
        {
          "output_type": "stream",
          "text": [
            "critical value\n",
            "2.2281388519649385\n",
            "-2.2281388519649385\n",
            "Reject Null as sample mean lies in critical region\n"
          ],
          "name": "stdout"
        }
      ]
    },
    {
      "cell_type": "code",
      "metadata": {
        "id": "qhPv0lHaXvkr"
      },
      "source": [
        ""
      ],
      "execution_count": null,
      "outputs": []
    },
    {
      "cell_type": "code",
      "metadata": {
        "colab": {
          "base_uri": "https://localhost:8080/"
        },
        "id": "meszQcfsXwU_",
        "outputId": "9e8eec96-dceb-4b56-f440-7534d8a611ac"
      },
      "source": [
        "# This entire code could be done in one single line\r\n",
        "\r\n",
        "from scipy.stats import ttest_1samp,ttest_ind\r\n",
        "stats.ttest_1samp(daily_intake, 7600)"
      ],
      "execution_count": null,
      "outputs": [
        {
          "output_type": "execute_result",
          "data": {
            "text/plain": [
              "Ttest_1sampResult(statistic=-2.2925841964555027, pvalue=0.04481624562570511)"
            ]
          },
          "metadata": {
            "tags": []
          },
          "execution_count": 14
        }
      ]
    },
    {
      "cell_type": "markdown",
      "metadata": {
        "id": "HSSLTeUExHSE"
      },
      "source": [
        "## Practice Exercise "
      ]
    },
    {
      "cell_type": "markdown",
      "metadata": {
        "id": "182whitMxHSF"
      },
      "source": [
        "Compare the following two unrelated samples. \n",
        "Data was collected on the weights of women and men enrolled in a weight reduction program. At  𝛼 = 0.05, test whether the average weights of these two samples are different."
      ]
    },
    {
      "cell_type": "code",
      "metadata": {
        "id": "LAkBViewxHSF"
      },
      "source": [
        "Weight_Female       =  [ 53.8, 54.4, 51.2, 52.5, 61.0, 50.6, 51.6, 70.0]\n",
        "Weight_Male         =  [ 72.5, 80.3, 71.3, 67.7, 66.2, 73.4, 61.3, 76.8]"
      ],
      "execution_count": null,
      "outputs": []
    },
    {
      "cell_type": "code",
      "metadata": {
        "id": "NpOVhCQbxHSH"
      },
      "source": [
        "from    scipy.stats             import  ttest_1samp,ttest_ind, wilcoxon, ttest_ind_from_stats\n",
        "import  scipy.stats             as      stats  \n",
        "from    statsmodels.stats.power import  ttest_power\n",
        "import  matplotlib.pyplot       as      plt"
      ],
      "execution_count": null,
      "outputs": []
    },
    {
      "cell_type": "code",
      "metadata": {
        "id": "OICVwpMS4KUW",
        "colab": {
          "base_uri": "https://localhost:8080/",
          "height": 371
        },
        "outputId": "294ed0e3-5cc9-4861-98f8-918d418b2078"
      },
      "source": [
        "sns.distplot(Weight_Female )\r\n",
        "sns.distplot(Weight_Male )\r\n",
        "print(stats.ttest_rel(Weight_Female, Weight_Male))"
      ],
      "execution_count": null,
      "outputs": [
        {
          "output_type": "stream",
          "text": [
            "/usr/local/lib/python3.6/dist-packages/seaborn/distributions.py:2557: FutureWarning: `distplot` is a deprecated function and will be removed in a future version. Please adapt your code to use either `displot` (a figure-level function with similar flexibility) or `histplot` (an axes-level function for histograms).\n",
            "  warnings.warn(msg, FutureWarning)\n",
            "/usr/local/lib/python3.6/dist-packages/seaborn/distributions.py:2557: FutureWarning: `distplot` is a deprecated function and will be removed in a future version. Please adapt your code to use either `displot` (a figure-level function with similar flexibility) or `histplot` (an axes-level function for histograms).\n",
            "  warnings.warn(msg, FutureWarning)\n"
          ],
          "name": "stderr"
        },
        {
          "output_type": "stream",
          "text": [
            "Ttest_relResult(statistic=-5.758554012172959, pvalue=0.0006923060972284438)\n"
          ],
          "name": "stdout"
        },
        {
          "output_type": "display_data",
          "data": {
            "image/png": "[encoded data removed]",
            "text/plain": [
              "<Figure size 432x288 with 1 Axes>"
            ]
          },
          "metadata": {
            "tags": []
          }
        }
      ]
    },
    {
      "cell_type": "markdown",
      "metadata": {
        "id": "Z8tHMkwHj5ve"
      },
      "source": [
        "null hypothesis = average male weight=avg female weight\r\n",
        "\r\n",
        "alternative hypothesis= average male weight != avg female weight"
      ]
    },
    {
      "cell_type": "markdown",
      "metadata": {
        "id": "L9yfAE2PxHSN"
      },
      "source": [
        "## Practice Exercise :"
      ]
    },
    {
      "cell_type": "markdown",
      "metadata": {
        "id": "mDI6UConxHSO"
      },
      "source": [
        "**Here weight of 25 people were recorded before they had a new therapy and then again 6 months later. \n",
        "Check if new therapy leads to a change in weight.**"
      ]
    },
    {
      "cell_type": "code",
      "metadata": {
        "id": "sITE_teAxHSP"
      },
      "source": [
        "wt_before = [76, 76, 72, 73, 64, 63, 75, 75, 71, 76, 71, 76, 78, 73, 76, 70, 71, 82, 84, 68, 70, 68, 66, 67, 74]\n",
        "wt_after  = [63, 72, 67, 69, 58, 59, 70, 71, 70, 71, 68, 71, 72, 69, 72, 67, 67, 78, 79, 62, 67, 63, 61, 63, 69]"
      ],
      "execution_count": null,
      "outputs": []
    },
    {
      "cell_type": "markdown",
      "metadata": {
        "id": "xSfzCRu6xHSR"
      },
      "source": [
        "**At 5% level of significance, is there any evidence that the new therapy has any effect on the weight of the participants?**"
      ]
    },
    {
      "cell_type": "code",
      "metadata": {
        "id": "vRz9VrqA4iQM"
      },
      "source": [
        "import matplotlib.pyplot as plt\r\n",
        "import seaborn as sns\r\n",
        "sns.set_style('whitegrid')"
      ],
      "execution_count": null,
      "outputs": []
    },
    {
      "cell_type": "code",
      "metadata": {
        "colab": {
          "base_uri": "https://localhost:8080/",
          "height": 370
        },
        "id": "V2QdrVyiiRMH",
        "outputId": "7eca94e9-f320-40b1-8f68-af28698b5ebe"
      },
      "source": [
        "# 2 tailed test\r\n",
        "sns.distplot(wt_before)\r\n",
        "sns.distplot(wt_after)\r\n",
        "print(stats.ttest_rel(wt_after, wt_before))"
      ],
      "execution_count": null,
      "outputs": [
        {
          "output_type": "stream",
          "text": [
            "/usr/local/lib/python3.6/dist-packages/seaborn/distributions.py:2557: FutureWarning: `distplot` is a deprecated function and will be removed in a future version. Please adapt your code to use either `displot` (a figure-level function with similar flexibility) or `histplot` (an axes-level function for histograms).\n",
            "  warnings.warn(msg, FutureWarning)\n",
            "/usr/local/lib/python3.6/dist-packages/seaborn/distributions.py:2557: FutureWarning: `distplot` is a deprecated function and will be removed in a future version. Please adapt your code to use either `displot` (a figure-level function with similar flexibility) or `histplot` (an axes-level function for histograms).\n",
            "  warnings.warn(msg, FutureWarning)\n"
          ],
          "name": "stderr"
        },
        {
          "output_type": "stream",
          "text": [
            "Ttest_relResult(statistic=-11.381954836452902, pvalue=3.704651177780503e-11)\n"
          ],
          "name": "stdout"
        },
        {
          "output_type": "display_data",
          "data": {
            "image/png": "[encoded data removed]",
            "text/plain": [
              "<Figure size 432x288 with 1 Axes>"
            ]
          },
          "metadata": {
            "tags": []
          }
        }
      ]
    },
    {
      "cell_type": "markdown",
      "metadata": {
        "id": "LXvJFHOIxHSR"
      },
      "source": [
        "**Hint: Use a paired t test**"
      ]
    },
    {
      "cell_type": "code",
      "metadata": {
        "id": "bKHemh7x4Ph3"
      },
      "source": [
        "Here the null hypothesis states taht mean weight before therapy = mean weight after therapy\r\n",
        "Alternative hypothesis : Mean Weight before therapy is not equal to mean weight after therapy\r\n"
      ],
      "execution_count": null,
      "outputs": []
    },
    {
      "cell_type": "markdown",
      "metadata": {
        "id": "2bvdEdUwxHSU"
      },
      "source": [
        "## Practice Exercise :"
      ]
    },
    {
      "cell_type": "markdown",
      "metadata": {
        "id": "WmBi4MI7xHSV"
      },
      "source": [
        "We collect the sample data, calculate the test statistic. \n",
        "In our example, \n",
        "* $\\overline{X}$ = 3.001\n",
        "* $\\mu$   = 2.89\n",
        "* $\\sigma$ = 11\n",
        "* n       = 100\n",
        "* $Z_{STAT} = \\frac{\\overline{X} - \\mu} {\\frac{\\sigma}{\\sqrt{n}}}$ "
      ]
    },
    {
      "cell_type": "code",
      "metadata": {
        "id": "xjZe6NmW4SN6",
        "colab": {
          "base_uri": "https://localhost:8080/"
        },
        "outputId": "d66ec3f5-6d53-4329-e036-3ea0685275d3"
      },
      "source": [
        "XAvg  = 3.001\r\n",
        "mu    = 2.89\r\n",
        "sigma = 11\r\n",
        "n     = 100\r\n",
        "Z = (XAvg - mu)/(sigma/np.sqrt(n))\r\n",
        "print('Value of Z observed is %2.5f' %Z)"
      ],
      "execution_count": 3,
      "outputs": [
        {
          "output_type": "stream",
          "text": [
            "Value of Z observed is 0.10091\n"
          ],
          "name": "stdout"
        }
      ]
    }
  ]
}