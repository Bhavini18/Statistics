{
  "nbformat": 4,
  "nbformat_minor": 0,
  "metadata": {
    "kernelspec": {
      "display_name": "Python 3",
      "language": "python",
      "name": "python3"
    },
    "language_info": {
      "codemirror_mode": {
        "name": "ipython",
        "version": 3
      },
      "file_extension": ".py",
      "mimetype": "text/x-python",
      "name": "python",
      "nbconvert_exporter": "python",
      "pygments_lexer": "ipython3",
      "version": "3.7.3"
    },
    "colab": {
      "name": "Inclass_labexercise_Day03_QuestionNew.ipynb",
      "provenance": [],
      "collapsed_sections": []
    }
  },
  "cells": [
    {
      "cell_type": "markdown",
      "metadata": {
        "id": "yMfPVLoY32rH"
      },
      "source": [
        "# ANOVA and Chi Square "
      ]
    },
    {
      "cell_type": "markdown",
      "metadata": {
        "id": "pZ4Elsao32rM"
      },
      "source": [
        "### Practice Exercise 1"
      ]
    },
    {
      "cell_type": "markdown",
      "metadata": {
        "id": "-0a3AGXH32rN"
      },
      "source": [
        "A company makes three types of electronic device.\n",
        "Life time in hours for each type of electronic device is given below:\n",
        "\n",
        "* life_type_A = [ 407, 411, 409 ]\n",
        "* life_type_B = [ 404, 406, 408, 405, 402 ]\n",
        "* ife_type_C  = [ 410, 408, 406, 408]"
      ]
    },
    {
      "cell_type": "markdown",
      "metadata": {
        "id": "qlNevwRL32rO"
      },
      "source": [
        "### Hint"
      ]
    },
    {
      "cell_type": "code",
      "metadata": {
        "id": "ixT_QxmT32rP"
      },
      "source": [
        "import pandas            as pd\n",
        "import numpy             as np\n",
        "import matplotlib.pyplot as plt\n",
        "import seaborn           as sns\n",
        "sns.set_style('whitegrid')"
      ],
      "execution_count": 4,
      "outputs": []
    },
    {
      "cell_type": "code",
      "metadata": {
        "id": "F1Q4O2_Y32rT"
      },
      "source": [
        "life_type_A = np.array([407, 411, 409 ])\n",
        "life_type_B = np.array([404, 406, 408, 405, 402 ])\n",
        "life_type_C  = np.array([410, 408, 406, 408])"
      ],
      "execution_count": 2,
      "outputs": []
    },
    {
      "cell_type": "markdown",
      "metadata": {
        "id": "sUvHWRhB32rY"
      },
      "source": [
        "### a)  Plot box plot for the above data and write your inference on the group means from the boxplots."
      ]
    },
    {
      "cell_type": "code",
      "metadata": {
        "id": "97DTdYkF32rZ",
        "colab": {
          "base_uri": "https://localhost:8080/",
          "height": 204
        },
        "outputId": "0a13bda8-b458-4843-e05e-e1e676b2c8bf"
      },
      "source": [
        "life_type = pd.DataFrame()\r\n",
        "\r\n",
        "df1            = pd.DataFrame({'Type': 'A', 'Life_hours':life_type_A})\r\n",
        "df2            = pd.DataFrame({'Type': 'B', 'Life_hours':life_type_B})\r\n",
        "df3            = pd.DataFrame({'Type': 'C', 'Life_hours':life_type_C})\r\n",
        "\r\n",
        "life_type = life_type.append(df1) \r\n",
        "life_type = life_type.append(df2) \r\n",
        "life_type = life_type.append(df3) \r\n",
        "life_type.head()"
      ],
      "execution_count": 5,
      "outputs": [
        {
          "output_type": "execute_result",
          "data": {
            "text/html": [
              "<div>\n",
              "<style scoped>\n",
              "    .dataframe tbody tr th:only-of-type {\n",
              "        vertical-align: middle;\n",
              "    }\n",
              "\n",
              "    .dataframe tbody tr th {\n",
              "        vertical-align: top;\n",
              "    }\n",
              "\n",
              "    .dataframe thead th {\n",
              "        text-align: right;\n",
              "    }\n",
              "</style>\n",
              "<table border=\"1\" class=\"dataframe\">\n",
              "  <thead>\n",
              "    <tr style=\"text-align: right;\">\n",
              "      <th></th>\n",
              "      <th>Type</th>\n",
              "      <th>Life_hours</th>\n",
              "    </tr>\n",
              "  </thead>\n",
              "  <tbody>\n",
              "    <tr>\n",
              "      <th>0</th>\n",
              "      <td>A</td>\n",
              "      <td>407</td>\n",
              "    </tr>\n",
              "    <tr>\n",
              "      <th>1</th>\n",
              "      <td>A</td>\n",
              "      <td>411</td>\n",
              "    </tr>\n",
              "    <tr>\n",
              "      <th>2</th>\n",
              "      <td>A</td>\n",
              "      <td>409</td>\n",
              "    </tr>\n",
              "    <tr>\n",
              "      <th>0</th>\n",
              "      <td>B</td>\n",
              "      <td>404</td>\n",
              "    </tr>\n",
              "    <tr>\n",
              "      <th>1</th>\n",
              "      <td>B</td>\n",
              "      <td>406</td>\n",
              "    </tr>\n",
              "  </tbody>\n",
              "</table>\n",
              "</div>"
            ],
            "text/plain": [
              "  Type  Life_hours\n",
              "0    A         407\n",
              "1    A         411\n",
              "2    A         409\n",
              "0    B         404\n",
              "1    B         406"
            ]
          },
          "metadata": {
            "tags": []
          },
          "execution_count": 5
        }
      ]
    },
    {
      "cell_type": "code",
      "metadata": {
        "colab": {
          "base_uri": "https://localhost:8080/",
          "height": 295
        },
        "id": "0NtW597b-vpb",
        "outputId": "628dc22a-b94b-46c2-973d-2204c9185f96"
      },
      "source": [
        "sns.boxplot(x = \"Type\", y = \"Life_hours\", data = life_type)\r\n",
        "plt.title('Mean Life_hours by  types')\r\n",
        "plt.show()"
      ],
      "execution_count": 7,
      "outputs": [
        {
          "output_type": "display_data",
          "data": {
            "image/png": "[encoded data removed]",
            "text/plain": [
              "<Figure size 432x288 with 1 Axes>"
            ]
          },
          "metadata": {
            "tags": []
          }
        }
      ]
    },
    {
      "cell_type": "markdown",
      "metadata": {
        "id": "QmrC6MVu32rg"
      },
      "source": [
        "### b)  At 5% level of significance, is there any difference in the average lifetimes of the three types?"
      ]
    },
    {
      "cell_type": "code",
      "metadata": {
        "id": "pZkI8Gq432rl",
        "colab": {
          "base_uri": "https://localhost:8080/"
        },
        "outputId": "0980b873-ce13-49b0-d925-5c0ce8dabea3"
      },
      "source": [
        "import statsmodels.api         as     sm\r\n",
        "from   statsmodels.formula.api import ols\r\n",
        " \r\n",
        "mod = ols('Life_hours ~ Type', data = life_type).fit()\r\n",
        "aov_table = sm.stats.anova_lm(mod, typ=2)\r\n",
        "print(aov_table)"
      ],
      "execution_count": 8,
      "outputs": [
        {
          "output_type": "stream",
          "text": [
            "/usr/local/lib/python3.6/dist-packages/statsmodels/tools/_testing.py:19: FutureWarning: pandas.util.testing is deprecated. Use the functions in the public API at pandas.testing instead.\n",
            "  import pandas.util.testing as tm\n"
          ],
          "name": "stderr"
        },
        {
          "output_type": "stream",
          "text": [
            "          sum_sq   df    F    PR(>F)\n",
            "Type        36.0  2.0  4.5  0.044194\n",
            "Residual    36.0  9.0  NaN       NaN\n"
          ],
          "name": "stdout"
        }
      ]
    },
    {
      "cell_type": "markdown",
      "metadata": {
        "id": "uQUwrcNa32rr"
      },
      "source": [
        "### c)  If  you were able to reject the null hypothesis, you can proceed with post-hoc analysis to determine which means are different "
      ]
    },
    {
      "cell_type": "code",
      "metadata": {
        "id": "jsqFmZfx32rt"
      },
      "source": [
        ""
      ],
      "execution_count": null,
      "outputs": []
    },
    {
      "cell_type": "markdown",
      "metadata": {
        "id": "tIDpYZ4432rw"
      },
      "source": [
        "### Practice Exercise 2"
      ]
    },
    {
      "cell_type": "markdown",
      "metadata": {
        "id": "z9KJ7wlzFYe1"
      },
      "source": [
        "### A sample of number of sell of a particular product over different days in different stores have been collected.Perform a test to check whether different stores and different days have any effect on the number of products that have been sold."
      ]
    },
    {
      "cell_type": "code",
      "metadata": {
        "id": "HZ1AHwj032rw"
      },
      "source": [
        "table1  = [['Day','Store-A','Store-B','Store-C','Store-D','Store-E'], [1,69, 71, 64, 67, 56],\\\n",
        "           [2, 68, 76, 79, 87, 76], [3, 71, 77, 74, 84, 72], [4, 70, 73, 71, 78, 73], [5, 60, 64, 67, 79, 58]]"
      ],
      "execution_count": 14,
      "outputs": []
    },
    {
      "cell_type": "code",
      "metadata": {
        "id": "woODVMWf32rz",
        "colab": {
          "base_uri": "https://localhost:8080/"
        },
        "outputId": "e03f6e91-3a84-4cc9-ff2f-0ea81bb6fd9b"
      },
      "source": [
        "\n",
        "headers = table1.pop(0) #\n",
        "\n",
        "df1 = pd.DataFrame(table1, columns=headers)\n",
        "print(df1)"
      ],
      "execution_count": 15,
      "outputs": [
        {
          "output_type": "stream",
          "text": [
            "   Day  Store-A  Store-B  Store-C  Store-D  Store-E\n",
            "0    1       69       71       64       67       56\n",
            "1    2       68       76       79       87       76\n",
            "2    3       71       77       74       84       72\n",
            "3    4       70       73       71       78       73\n",
            "4    5       60       64       67       79       58\n"
          ],
          "name": "stdout"
        }
      ]
    },
    {
      "cell_type": "markdown",
      "metadata": {
        "id": "_ciWKCYu_uVo"
      },
      "source": [
        "There are two independent variables, Day and Store.\r\n",
        "Two-way ANOVA determines how a response  is affected by two factors.\r\n",
        "So we use 2-way ANOVA without replication since each cell has only one observation."
      ]
    },
    {
      "cell_type": "code",
      "metadata": {
        "id": "X8ZKOnLn32r4",
        "colab": {
          "base_uri": "https://localhost:8080/",
          "height": 824
        },
        "outputId": "4e961f02-d154-41ec-8aae-b333498f900e"
      },
      "source": [
        "d0_val  = df1['Day'].values\r\n",
        "d1_val  = df1['Store-A'].values\r\n",
        "d2_val  = df1['Store-B'].values\r\n",
        "d3_val  = df1['Store-C'].values\r\n",
        "d4_val  = df1['Store-D'].values\r\n",
        "d5_val  = df1['Store-E'].values\r\n",
        "\r\n",
        "\r\n",
        "\r\n",
        "df1     = pd.DataFrame({'Day': d0_val, 'Store':'A', 'Qual': d1_val})\r\n",
        "df2     = pd.DataFrame({'Day': d0_val, 'Store':'B', 'Qual': d2_val})\r\n",
        "df3     = pd.DataFrame({'Day': d0_val, 'Store':'C', 'Qual': d3_val})\r\n",
        "df4     = pd.DataFrame({'Day': d0_val, 'Store':'D', 'Qual': d4_val})\r\n",
        "df5     = pd.DataFrame({'Day': d0_val, 'Store':'E', 'Qual': d5_val})\r\n",
        "\r\n",
        "final_df  = pd.DataFrame()\r\n",
        "\r\n",
        "final_df  = final_df.append(df1) \r\n",
        "final_df  = final_df.append(df2) \r\n",
        "final_df  = final_df.append(df3) \r\n",
        "final_df  = final_df.append(df4) \r\n",
        "final_df  = final_df.append(df5) \r\n",
        "\r\n",
        "\r\n",
        "pd.DataFrame(final_df)"
      ],
      "execution_count": 16,
      "outputs": [
        {
          "output_type": "execute_result",
          "data": {
            "text/html": [
              "<div>\n",
              "<style scoped>\n",
              "    .dataframe tbody tr th:only-of-type {\n",
              "        vertical-align: middle;\n",
              "    }\n",
              "\n",
              "    .dataframe tbody tr th {\n",
              "        vertical-align: top;\n",
              "    }\n",
              "\n",
              "    .dataframe thead th {\n",
              "        text-align: right;\n",
              "    }\n",
              "</style>\n",
              "<table border=\"1\" class=\"dataframe\">\n",
              "  <thead>\n",
              "    <tr style=\"text-align: right;\">\n",
              "      <th></th>\n",
              "      <th>Day</th>\n",
              "      <th>Store</th>\n",
              "      <th>Qual</th>\n",
              "    </tr>\n",
              "  </thead>\n",
              "  <tbody>\n",
              "    <tr>\n",
              "      <th>0</th>\n",
              "      <td>1</td>\n",
              "      <td>A</td>\n",
              "      <td>69</td>\n",
              "    </tr>\n",
              "    <tr>\n",
              "      <th>1</th>\n",
              "      <td>2</td>\n",
              "      <td>A</td>\n",
              "      <td>68</td>\n",
              "    </tr>\n",
              "    <tr>\n",
              "      <th>2</th>\n",
              "      <td>3</td>\n",
              "      <td>A</td>\n",
              "      <td>71</td>\n",
              "    </tr>\n",
              "    <tr>\n",
              "      <th>3</th>\n",
              "      <td>4</td>\n",
              "      <td>A</td>\n",
              "      <td>70</td>\n",
              "    </tr>\n",
              "    <tr>\n",
              "      <th>4</th>\n",
              "      <td>5</td>\n",
              "      <td>A</td>\n",
              "      <td>60</td>\n",
              "    </tr>\n",
              "    <tr>\n",
              "      <th>0</th>\n",
              "      <td>1</td>\n",
              "      <td>B</td>\n",
              "      <td>71</td>\n",
              "    </tr>\n",
              "    <tr>\n",
              "      <th>1</th>\n",
              "      <td>2</td>\n",
              "      <td>B</td>\n",
              "      <td>76</td>\n",
              "    </tr>\n",
              "    <tr>\n",
              "      <th>2</th>\n",
              "      <td>3</td>\n",
              "      <td>B</td>\n",
              "      <td>77</td>\n",
              "    </tr>\n",
              "    <tr>\n",
              "      <th>3</th>\n",
              "      <td>4</td>\n",
              "      <td>B</td>\n",
              "      <td>73</td>\n",
              "    </tr>\n",
              "    <tr>\n",
              "      <th>4</th>\n",
              "      <td>5</td>\n",
              "      <td>B</td>\n",
              "      <td>64</td>\n",
              "    </tr>\n",
              "    <tr>\n",
              "      <th>0</th>\n",
              "      <td>1</td>\n",
              "      <td>C</td>\n",
              "      <td>64</td>\n",
              "    </tr>\n",
              "    <tr>\n",
              "      <th>1</th>\n",
              "      <td>2</td>\n",
              "      <td>C</td>\n",
              "      <td>79</td>\n",
              "    </tr>\n",
              "    <tr>\n",
              "      <th>2</th>\n",
              "      <td>3</td>\n",
              "      <td>C</td>\n",
              "      <td>74</td>\n",
              "    </tr>\n",
              "    <tr>\n",
              "      <th>3</th>\n",
              "      <td>4</td>\n",
              "      <td>C</td>\n",
              "      <td>71</td>\n",
              "    </tr>\n",
              "    <tr>\n",
              "      <th>4</th>\n",
              "      <td>5</td>\n",
              "      <td>C</td>\n",
              "      <td>67</td>\n",
              "    </tr>\n",
              "    <tr>\n",
              "      <th>0</th>\n",
              "      <td>1</td>\n",
              "      <td>D</td>\n",
              "      <td>67</td>\n",
              "    </tr>\n",
              "    <tr>\n",
              "      <th>1</th>\n",
              "      <td>2</td>\n",
              "      <td>D</td>\n",
              "      <td>87</td>\n",
              "    </tr>\n",
              "    <tr>\n",
              "      <th>2</th>\n",
              "      <td>3</td>\n",
              "      <td>D</td>\n",
              "      <td>84</td>\n",
              "    </tr>\n",
              "    <tr>\n",
              "      <th>3</th>\n",
              "      <td>4</td>\n",
              "      <td>D</td>\n",
              "      <td>78</td>\n",
              "    </tr>\n",
              "    <tr>\n",
              "      <th>4</th>\n",
              "      <td>5</td>\n",
              "      <td>D</td>\n",
              "      <td>79</td>\n",
              "    </tr>\n",
              "    <tr>\n",
              "      <th>0</th>\n",
              "      <td>1</td>\n",
              "      <td>E</td>\n",
              "      <td>56</td>\n",
              "    </tr>\n",
              "    <tr>\n",
              "      <th>1</th>\n",
              "      <td>2</td>\n",
              "      <td>E</td>\n",
              "      <td>76</td>\n",
              "    </tr>\n",
              "    <tr>\n",
              "      <th>2</th>\n",
              "      <td>3</td>\n",
              "      <td>E</td>\n",
              "      <td>72</td>\n",
              "    </tr>\n",
              "    <tr>\n",
              "      <th>3</th>\n",
              "      <td>4</td>\n",
              "      <td>E</td>\n",
              "      <td>73</td>\n",
              "    </tr>\n",
              "    <tr>\n",
              "      <th>4</th>\n",
              "      <td>5</td>\n",
              "      <td>E</td>\n",
              "      <td>58</td>\n",
              "    </tr>\n",
              "  </tbody>\n",
              "</table>\n",
              "</div>"
            ],
            "text/plain": [
              "   Day Store  Qual\n",
              "0    1     A    69\n",
              "1    2     A    68\n",
              "2    3     A    71\n",
              "3    4     A    70\n",
              "4    5     A    60\n",
              "0    1     B    71\n",
              "1    2     B    76\n",
              "2    3     B    77\n",
              "3    4     B    73\n",
              "4    5     B    64\n",
              "0    1     C    64\n",
              "1    2     C    79\n",
              "2    3     C    74\n",
              "3    4     C    71\n",
              "4    5     C    67\n",
              "0    1     D    67\n",
              "1    2     D    87\n",
              "2    3     D    84\n",
              "3    4     D    78\n",
              "4    5     D    79\n",
              "0    1     E    56\n",
              "1    2     E    76\n",
              "2    3     E    72\n",
              "3    4     E    73\n",
              "4    5     E    58"
            ]
          },
          "metadata": {
            "tags": []
          },
          "execution_count": 16
        }
      ]
    },
    {
      "cell_type": "code",
      "metadata": {
        "colab": {
          "base_uri": "https://localhost:8080/",
          "height": 214
        },
        "id": "w6cZbm3kCGRn",
        "outputId": "0a4cd53f-cc8d-42d5-f5de-9d83af913789"
      },
      "source": [
        "sns.pairplot(final_df,hue='Day')"
      ],
      "execution_count": 18,
      "outputs": [
        {
          "output_type": "execute_result",
          "data": {
            "text/plain": [
              "<seaborn.axisgrid.PairGrid at 0x7f6ccbfbd978>"
            ]
          },
          "metadata": {
            "tags": []
          },
          "execution_count": 18
        },
        {
          "output_type": "display_data",
          "data": {
            "image/png": "[encoded data removed]",
            "text/plain": [
              "<Figure size 207.75x180 with 2 Axes>"
            ]
          },
          "metadata": {
            "tags": []
          }
        }
      ]
    },
    {
      "cell_type": "markdown",
      "metadata": {
        "id": "Kb94aLbz32r7"
      },
      "source": [
        "## Chi Square"
      ]
    },
    {
      "cell_type": "markdown",
      "metadata": {
        "id": "cYhYKQjd32r7"
      },
      "source": [
        "### Practice Exercise 3"
      ]
    },
    {
      "cell_type": "markdown",
      "metadata": {
        "id": "RdPFcdeu026A"
      },
      "source": [
        "A1 airlines operated daily flights to several Indian cities. The operations manager believes that 28% of their passengers prefer vegan food, 42% prefer vegetarian food , 25% prefer non-veg food 5% request for Jain food. \n",
        "\n",
        "A sample of 500 passengers was chosen to analyse the food preferences and the data is shown in the following table:\n",
        "\n",
        "|               | Food type | Vegan | Vegetarian | Non-Vegetarian | Jain |\n",
        "| ------------------------- | ---- | ---- | ----- | ---- | ---- |\n",
        "|Number of passengers |  | 190 | 185 | 90 | 35 |\n",
        "\n",
        "At 5% level of significance, can you confirm that the meal preference is as per the belief of the operations manager?"
      ]
    },
    {
      "cell_type": "code",
      "metadata": {
        "id": "FYf-ylr-32r9",
        "colab": {
          "base_uri": "https://localhost:8080/"
        },
        "outputId": "76677be9-9775-466b-a5f5-80ad8254f0e0"
      },
      "source": [
        "import scipy.stats as stats\n",
        "import scipy\n",
        "\n",
        "observed_values    = scipy.array([190, 185, 90, 35])\n",
        "n                  = observed_values.sum()\n"
      ],
      "execution_count": 20,
      "outputs": [
        {
          "output_type": "stream",
          "text": [
            "/usr/local/lib/python3.6/dist-packages/ipykernel_launcher.py:4: DeprecationWarning: scipy.array is deprecated and will be removed in SciPy 2.0.0, use numpy.array instead\n",
            "  after removing the cwd from sys.path.\n"
          ],
          "name": "stderr"
        }
      ]
    },
    {
      "cell_type": "markdown",
      "metadata": {
        "id": "r_tgV9PEDXSD"
      },
      "source": [
        "Null hypothesis:  H0 : Meal preference is as per the operations manager\r\n",
        "\r\n",
        "Alternative hypothesis:  HA : Meal preference is different from the desired preference as per the operations manager"
      ]
    },
    {
      "cell_type": "code",
      "metadata": {
        "colab": {
          "base_uri": "https://localhost:8080/"
        },
        "id": "EtjYM3bjDkdX",
        "outputId": "0722e3d3-2148-4ed9-f915-f28afd17d8a4"
      },
      "source": [
        "# alpha= 0.05\r\n",
        "\r\n",
        "observed= scipy.array([190, 185, 90, 35])\r\n",
        "n= 500\r\n",
        "\r\n",
        "expected= scipy.array([n*0.3, n*.45, n*0.2, n*0.05])\r\n",
        "\r\n",
        "chi_square_stat, p_value = stats.chisquare(observed, f_exp=expected)\r\n",
        "\r\n",
        "print('P value is',  p_value)"
      ],
      "execution_count": 25,
      "outputs": [
        {
          "output_type": "stream",
          "text": [
            "P value is 4.492718590376291e-05\n"
          ],
          "name": "stdout"
        },
        {
          "output_type": "stream",
          "text": [
            "/usr/local/lib/python3.6/dist-packages/ipykernel_launcher.py:3: DeprecationWarning: scipy.array is deprecated and will be removed in SciPy 2.0.0, use numpy.array instead\n",
            "  This is separate from the ipykernel package so we can avoid doing imports until\n",
            "/usr/local/lib/python3.6/dist-packages/ipykernel_launcher.py:6: DeprecationWarning: scipy.array is deprecated and will be removed in SciPy 2.0.0, use numpy.array instead\n",
            "  \n"
          ],
          "name": "stderr"
        }
      ]
    },
    {
      "cell_type": "markdown",
      "metadata": {
        "id": "aKhgIyFsEbpi"
      },
      "source": [
        "P value is less than 0.05 so we reject the null hypothesis"
      ]
    },
    {
      "cell_type": "markdown",
      "metadata": {
        "id": "0iSz4fc332sI"
      },
      "source": [
        "### Chi-square tests of independence"
      ]
    },
    {
      "cell_type": "markdown",
      "metadata": {
        "id": "Se0dGLN232sK"
      },
      "source": [
        "### Practice Exercise 4"
      ]
    },
    {
      "cell_type": "markdown",
      "metadata": {
        "id": "3g1a0FKB32sM"
      },
      "source": [
        "A Cable service provider company is interested in checking whether or not the customer churn depends on customer segment.  Use 5% as level of significance"
      ]
    },
    {
      "cell_type": "markdown",
      "metadata": {
        "id": "hxol9h7l32sO"
      },
      "source": [
        "| Customer Segment | Churned | Retained |\n",
        "|  -------- | ----- | ---- |\n",
        "| S1 | 15 | 142 |\n",
        "| S2 | 24 | 400 |\n",
        "| S3 | 30 | 389 |\n"
      ]
    },
    {
      "cell_type": "markdown",
      "metadata": {
        "id": "lujEIbTI32sQ"
      },
      "source": [
        "#### Hint"
      ]
    },
    {
      "cell_type": "code",
      "metadata": {
        "id": "6lpZw_cm32sS"
      },
      "source": [
        "import numpy       as np\n",
        "import scipy.stats as stats\n",
        "\n",
        "churn_array = np.array([[15,142],[24, 400],[30, 389]])\n"
      ],
      "execution_count": 26,
      "outputs": []
    },
    {
      "cell_type": "code",
      "metadata": {
        "id": "p9z0C3Ux32sa",
        "colab": {
          "base_uri": "https://localhost:8080/"
        },
        "outputId": "33fd9573-5ae3-4960-d666-be97c97d9f9b"
      },
      "source": [
        "chi_sq_Stat, p_value, deg_freedom, exp_freq = stats.chi2_contingency(churn_array)\r\n",
        "\r\n",
        "print('Chi-square statistic %3.5f P value %1.6f Degrees of freedom %d' %(chi_sq_Stat, p_value,deg_freedom))"
      ],
      "execution_count": 28,
      "outputs": [
        {
          "output_type": "stream",
          "text": [
            "Chi-square statistic 2.77998 P value 0.249078 Degrees of freedom 2\n"
          ],
          "name": "stdout"
        }
      ]
    },
    {
      "cell_type": "markdown",
      "metadata": {
        "id": "0OpA0h5gFhRl"
      },
      "source": [
        "here p value is more than 0.05 so we accept the null hypothesis"
      ]
    },
    {
      "cell_type": "markdown",
      "metadata": {
        "id": "Sh3-MCI232sf"
      },
      "source": [
        "## E N D  "
      ]
    }
  ]
}