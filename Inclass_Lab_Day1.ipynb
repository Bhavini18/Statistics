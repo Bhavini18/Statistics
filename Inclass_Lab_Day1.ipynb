{
  "nbformat": 4,
  "nbformat_minor": 0,
  "metadata": {
    "kernelspec": {
      "display_name": "Python 3",
      "language": "python",
      "name": "python3"
    },
    "language_info": {
      "codemirror_mode": {
        "name": "ipython",
        "version": 3
      },
      "file_extension": ".py",
      "mimetype": "text/x-python",
      "name": "python",
      "nbconvert_exporter": "python",
      "pygments_lexer": "ipython3",
      "version": "3.7.3"
    },
    "colab": {
      "name": "Inclass-Lab-Day1.ipynb",
      "provenance": [],
      "collapsed_sections": []
    }
  },
  "cells": [
    {
      "cell_type": "markdown",
      "metadata": {
        "collapsed": true,
        "id": "jxrbiP9xpCB_"
      },
      "source": [
        "## INCLASS_LAB-EXERCISE-DAY-01"
      ]
    },
    {
      "cell_type": "markdown",
      "metadata": {
        "id": "-PwnWU9GpCCC"
      },
      "source": [
        "-----------"
      ]
    },
    {
      "cell_type": "code",
      "metadata": {
        "id": "b_40y1hYpCCD"
      },
      "source": [
        "## CALLING LIBRARIES\n",
        "\n",
        "import numpy as np\n",
        "import pandas as pd\n",
        "import scipy.stats as stats\n",
        "import math\n",
        "import matplotlib.pyplot as plt\n",
        "import seaborn as sns\n",
        "\n",
        "sns.set_style('whitegrid')"
      ],
      "execution_count": null,
      "outputs": []
    },
    {
      "cell_type": "markdown",
      "metadata": {
        "id": "QS9SBTKJpCCI"
      },
      "source": [
        "## Binomial distribution:"
      ]
    },
    {
      "cell_type": "markdown",
      "metadata": {
        "id": "odJnlYejpCCJ"
      },
      "source": [
        "1. **Problem:** The percentage of orders filled correctly at Wendy's was approximately 86.8%. Suppose that you go to drive-through window at Wendy's and place an order. Two friends of yours independently place orders at the drive-through window at the same Wendy's.\n",
        "\n",
        "\n",
        "------------------\n",
        "\n",
        "What are the probabilities that \n",
        "* a) all three \n",
        "* b) none of the three\n",
        "* c) atleast two of the three orders will be filled correctly?\n",
        "* d) what is the mean and standard deviation of the orders filled correctly?\n",
        "* e) Plot the binomial distribution function"
      ]
    },
    {
      "cell_type": "code",
      "metadata": {
        "id": "NPdTgZx7pCCK"
      },
      "source": [
        "p   =  0.868 # percentage of orders filled correctly at Wendy's was approximately 86.8%\n",
        "n   =  3\n",
        "k   =  np.arange(0,4)"
      ],
      "execution_count": null,
      "outputs": []
    },
    {
      "cell_type": "markdown",
      "metadata": {
        "id": "rixjejFmpCCN"
      },
      "source": [
        "#### a) all the three orders are filled correctly?\n",
        "-------------"
      ]
    },
    {
      "cell_type": "code",
      "metadata": {
        "id": "Kjc3VPBJpCCO",
        "colab": {
          "base_uri": "https://localhost:8080/"
        },
        "outputId": "18bfc772-af7d-4c38-c7fd-c2d47dde1a9e"
      },
      "source": [
        "stats.binom.pmf(3,n,p)"
      ],
      "execution_count": null,
      "outputs": [
        {
          "output_type": "execute_result",
          "data": {
            "text/plain": [
              "0.653972032"
            ]
          },
          "metadata": {
            "tags": []
          },
          "execution_count": 3
        }
      ]
    },
    {
      "cell_type": "markdown",
      "metadata": {
        "id": "47TJFhVCpCCR"
      },
      "source": [
        "#### b) none of the three orders are filled correctly?\n",
        "-----------------"
      ]
    },
    {
      "cell_type": "code",
      "metadata": {
        "id": "CZHBl9INpCCS",
        "colab": {
          "base_uri": "https://localhost:8080/"
        },
        "outputId": "10f7ad54-706e-46e0-ccf2-38ab9adebe08"
      },
      "source": [
        "stats.binom.pmf(0,n,p)"
      ],
      "execution_count": null,
      "outputs": [
        {
          "output_type": "execute_result",
          "data": {
            "text/plain": [
              "0.002299968"
            ]
          },
          "metadata": {
            "tags": []
          },
          "execution_count": 4
        }
      ]
    },
    {
      "cell_type": "markdown",
      "metadata": {
        "id": "jlgPsW3NpCCV"
      },
      "source": [
        "**To answer this question** \n",
        "\n",
        "#### c) atleast two of the three orders are filled correctly, we need to find out 1 - Probability of upto 1 failure\n",
        "\n",
        "\n",
        "\n",
        "\n",
        "\n",
        "---------------"
      ]
    },
    {
      "cell_type": "code",
      "metadata": {
        "id": "tNRUKg1CpCCX",
        "colab": {
          "base_uri": "https://localhost:8080/"
        },
        "outputId": "aa379cdd-0f52-4fef-fd4c-61519fbfa59c"
      },
      "source": [
        "1-stats.binom.cdf(1,n,p)"
      ],
      "execution_count": null,
      "outputs": [
        {
          "output_type": "execute_result",
          "data": {
            "text/plain": [
              "0.952327936"
            ]
          },
          "metadata": {
            "tags": []
          },
          "execution_count": 8
        }
      ]
    },
    {
      "cell_type": "code",
      "metadata": {
        "colab": {
          "base_uri": "https://localhost:8080/"
        },
        "id": "pqFucLD8JRHa",
        "outputId": "a70981a6-9ee0-4a84-bcad-8503de62d0da"
      },
      "source": [
        "#or\r\n",
        "1-stats.binom.pmf(0,n,p)-stats.binom.pmf(1,n,p)"
      ],
      "execution_count": null,
      "outputs": [
        {
          "output_type": "execute_result",
          "data": {
            "text/plain": [
              "0.952327936"
            ]
          },
          "metadata": {
            "tags": []
          },
          "execution_count": 11
        }
      ]
    },
    {
      "cell_type": "markdown",
      "metadata": {
        "id": "UmWVUT1TpCCe"
      },
      "source": [
        "#### d) what is the mean and standard deviation of the orders filled correctly?\n",
        "--------------"
      ]
    },
    {
      "cell_type": "code",
      "metadata": {
        "id": "I-3gJrpGpCCf"
      },
      "source": [
        ""
      ],
      "execution_count": null,
      "outputs": []
    },
    {
      "cell_type": "markdown",
      "metadata": {
        "id": "JC-NAnfspCCj"
      },
      "source": [
        "#### e). Plot  the binomial distribution function?"
      ]
    },
    {
      "cell_type": "code",
      "metadata": {
        "colab": {
          "base_uri": "https://localhost:8080/"
        },
        "id": "gm-Loe6oKGyS",
        "outputId": "2b5d953a-2925-4c03-8fad-4cf713b4157f"
      },
      "source": [
        "binomial=stats.binom.pmf(np.arange(0,4), n,p)\r\n",
        "binomial"
      ],
      "execution_count": null,
      "outputs": [
        {
          "output_type": "execute_result",
          "data": {
            "text/plain": [
              "array([0.00229997, 0.0453721 , 0.2983559 , 0.65397203])"
            ]
          },
          "metadata": {
            "tags": []
          },
          "execution_count": 12
        }
      ]
    },
    {
      "cell_type": "code",
      "metadata": {
        "id": "DuBhP7VSpCCk",
        "colab": {
          "base_uri": "https://localhost:8080/",
          "height": 295
        },
        "outputId": "1c83bbe4-5775-4801-aa6e-d20471976435"
      },
      "source": [
        "plt.plot(k,binomial, 'o-')\r\n",
        "plt.title('Binomial')\r\n",
        "plt.xlabel('Number of Def LED bulbs')\r\n",
        "plt.ylabel('Prob of Defective LED bulbs')\r\n",
        "plt.show()"
      ],
      "execution_count": null,
      "outputs": [
        {
          "output_type": "display_data",
          "data": {
            "image/png": "[encoded data removed]",
            "text/plain": [
              "<Figure size 432x288 with 1 Axes>"
            ]
          },
          "metadata": {
            "tags": []
          }
        }
      ]
    },
    {
      "cell_type": "markdown",
      "metadata": {
        "id": "6ciEB5OQpCCn"
      },
      "source": [
        "## Poisson distribution"
      ]
    },
    {
      "cell_type": "markdown",
      "metadata": {
        "id": "7lm3mIO2pCCo"
      },
      "source": [
        "#### 2. **Problem:** A Life Insurance agent sells on the average 3 life insurance policies per week. \n",
        "Use the Poisson law to calculate the probability that in a given week, he will sell\n",
        "\n",
        "a) Some policies\n",
        "\n",
        "b) 2 or more but less than 5 policies?\n",
        "\n",
        "c) Plot the Poisson distribution function?"
      ]
    },
    {
      "cell_type": "markdown",
      "metadata": {
        "id": "4mWzK8hrpCCp"
      },
      "source": [
        "Here $\\lambda$ = 3"
      ]
    },
    {
      "cell_type": "code",
      "metadata": {
        "id": "2hrqdhcWpCCq"
      },
      "source": [
        "rate =  3 # which is the mean\n",
        "n    =  np.arange(0,16)\n"
      ],
      "execution_count": null,
      "outputs": []
    },
    {
      "cell_type": "markdown",
      "metadata": {
        "id": "jMZkSyJ6pCCt"
      },
      "source": [
        "#### a) Probability that the agent sells some policies?\n",
        "-----------"
      ]
    },
    {
      "cell_type": "code",
      "metadata": {
        "id": "i8-hVUvupCCu",
        "colab": {
          "base_uri": "https://localhost:8080/"
        },
        "outputId": "113f0205-2183-4495-8449-dca122b0c2b2"
      },
      "source": [
        "1-(stats.poisson.pmf(0,rate))"
      ],
      "execution_count": null,
      "outputs": [
        {
          "output_type": "execute_result",
          "data": {
            "text/plain": [
              "0.950212931632136"
            ]
          },
          "metadata": {
            "tags": []
          },
          "execution_count": 19
        }
      ]
    },
    {
      "cell_type": "markdown",
      "metadata": {
        "id": "dNBVSwmxpCC0"
      },
      "source": [
        "#### b) Agent sells 2 or more but less than 5 policies?\n",
        " ------------"
      ]
    },
    {
      "cell_type": "code",
      "metadata": {
        "id": "eNNKUJ_RpCC0",
        "colab": {
          "base_uri": "https://localhost:8080/"
        },
        "outputId": "aa39e9cb-7460-462f-8e1d-df1ab604f5c3"
      },
      "source": [
        "stats.poisson.cdf(4,rate)-stats.poisson.cdf(1,rate)"
      ],
      "execution_count": null,
      "outputs": [
        {
          "output_type": "execute_result",
          "data": {
            "text/plain": [
              "0.6161149710523164"
            ]
          },
          "metadata": {
            "tags": []
          },
          "execution_count": 30
        }
      ]
    },
    {
      "cell_type": "code",
      "metadata": {
        "colab": {
          "base_uri": "https://localhost:8080/"
        },
        "id": "731pVqyjd_ZX",
        "outputId": "465100e0-d4ca-43d0-b956-5ccd4701f793"
      },
      "source": [
        "# or\r\n",
        "stats.poisson.pmf(2,rate)+stats.poisson.pmf(3,rate)+stats.poisson.pmf(4,rate)"
      ],
      "execution_count": null,
      "outputs": [
        {
          "output_type": "execute_result",
          "data": {
            "text/plain": [
              "0.6161149710523164"
            ]
          },
          "metadata": {
            "tags": []
          },
          "execution_count": 29
        }
      ]
    },
    {
      "cell_type": "markdown",
      "metadata": {
        "id": "Ky_NxOnbpCC3"
      },
      "source": [
        "#### c) Plot the Poisson distribution function?\n",
        "---------"
      ]
    },
    {
      "cell_type": "code",
      "metadata": {
        "id": "ZhPmPjRzb0ZL"
      },
      "source": [
        "poisson=stats.poisson.pmf(np.arange(0,16),rate)"
      ],
      "execution_count": null,
      "outputs": []
    },
    {
      "cell_type": "code",
      "metadata": {
        "colab": {
          "base_uri": "https://localhost:8080/"
        },
        "id": "HvpxAPI2cRR2",
        "outputId": "ddf6b86e-b479-4a45-c473-d2da3e05becc"
      },
      "source": [
        "poisson"
      ],
      "execution_count": null,
      "outputs": [
        {
          "output_type": "execute_result",
          "data": {
            "text/plain": [
              "array([4.97870684e-02, 1.49361205e-01, 2.24041808e-01, 2.24041808e-01,\n",
              "       1.68031356e-01, 1.00818813e-01, 5.04094067e-02, 2.16040315e-02,\n",
              "       8.10151179e-03, 2.70050393e-03, 8.10151179e-04, 2.20950322e-04,\n",
              "       5.52375804e-05, 1.27471339e-05, 2.73152870e-06, 5.46305740e-07])"
            ]
          },
          "metadata": {
            "tags": []
          },
          "execution_count": 27
        }
      ]
    },
    {
      "cell_type": "code",
      "metadata": {
        "id": "e07ZQNaWpCC4",
        "colab": {
          "base_uri": "https://localhost:8080/",
          "height": 295
        },
        "outputId": "6f6f8825-2a1b-445b-b87c-9f0557df0c38"
      },
      "source": [
        "plt.plot(n,poisson, 'o-')\r\n",
        "plt.title('Poisson')\r\n",
        "plt.xlabel('Number of policies sold')\r\n",
        "plt.ylabel('Prob of selling')\r\n",
        "plt.show()"
      ],
      "execution_count": null,
      "outputs": [
        {
          "output_type": "display_data",
          "data": {
            "image/png": "[encoded data removed]",
            "text/plain": [
              "<Figure size 432x288 with 1 Axes>"
            ]
          },
          "metadata": {
            "tags": []
          }
        }
      ]
    },
    {
      "cell_type": "markdown",
      "metadata": {
        "id": "6-SuVYtMpCC9"
      },
      "source": [
        "## Normal Distribution"
      ]
    },
    {
      "cell_type": "markdown",
      "metadata": {
        "id": "Iq0tQk8npCC-"
      },
      "source": [
        "**Problem:** The mean salaries of Data Scientists working in Chennai, India is calculated to be 7,00,000 INR with a standard deviation of 90,000 INR. The random variable salary of Data Scientists follows a normal distribution.\n",
        "\n",
        "\n",
        "-----------------\n",
        "\n",
        "* a) What is the probability that a Data Scientist in Chennai has a salary more than 10,00,000 INR?\n",
        "* b) What is the probability that a Data Scientist in Chennai has a salary between 6,00,000 & 9,00,000 INR?\n",
        "* c) What is the probability that a Data Scientist in Chennai has a salary less than 4,00,000 INR?"
      ]
    },
    {
      "cell_type": "markdown",
      "metadata": {
        "id": "z7fk54BnpCC_"
      },
      "source": [
        "#### a) What is the probability that a Data Scientist in Chennai has a salary more than 10,00,000 INR?\n",
        "------------"
      ]
    },
    {
      "cell_type": "code",
      "metadata": {
        "id": "dFcnbUpDpCDA",
        "colab": {
          "base_uri": "https://localhost:8080/"
        },
        "outputId": "799cce1b-68bc-4caa-aeff-19a205fedc5f"
      },
      "source": [
        "1-stats.norm.cdf(1000000, loc=700000, scale=90000)"
      ],
      "execution_count": null,
      "outputs": [
        {
          "output_type": "execute_result",
          "data": {
            "text/plain": [
              "0.0004290603331967846"
            ]
          },
          "metadata": {
            "tags": []
          },
          "execution_count": 3
        }
      ]
    },
    {
      "cell_type": "markdown",
      "metadata": {
        "id": "GQuO5dvdpCDD"
      },
      "source": [
        "#### b) What is the probability that a Data Scientist in Chennai has a salary between 6,00,000 & 9,00,000 INR?\n",
        "-----------------"
      ]
    },
    {
      "cell_type": "code",
      "metadata": {
        "id": "zdN6eBPYpCDE",
        "colab": {
          "base_uri": "https://localhost:8080/"
        },
        "outputId": "8752b91f-c680-4377-f8df-b69cd8f27d0e"
      },
      "source": [
        "stats.norm.cdf(900000,loc=700000,scale=90000)-stats.norm.cdf(600000,loc=700000,scale=90000)"
      ],
      "execution_count": null,
      "outputs": [
        {
          "output_type": "execute_result",
          "data": {
            "text/plain": [
              "0.8536055914064735"
            ]
          },
          "metadata": {
            "tags": []
          },
          "execution_count": 5
        }
      ]
    },
    {
      "cell_type": "markdown",
      "metadata": {
        "id": "m6u51gpnpCDH"
      },
      "source": [
        "#### c) What is the probability that a Data Scientist in Chennai has a salary less than 4,00,000 INR?\n",
        "-------------"
      ]
    },
    {
      "cell_type": "code",
      "metadata": {
        "id": "g5Mnb73kpCDI",
        "colab": {
          "base_uri": "https://localhost:8080/"
        },
        "outputId": "f7b07c6a-441f-427b-99bb-5edf1187a959"
      },
      "source": [
        "stats.norm.cdf(400000,loc=700000,scale=90000)"
      ],
      "execution_count": null,
      "outputs": [
        {
          "output_type": "execute_result",
          "data": {
            "text/plain": [
              "0.0004290603331968372"
            ]
          },
          "metadata": {
            "tags": []
          },
          "execution_count": 6
        }
      ]
    },
    {
      "cell_type": "markdown",
      "metadata": {
        "id": "vvxw1E4ppCDM"
      },
      "source": [
        "----------------"
      ]
    },
    {
      "cell_type": "markdown",
      "metadata": {
        "id": "vHXHB__tpCDN"
      },
      "source": [
        "**Problem:**. The following table contains the overall miles per Gallon (MPG) of 2017 small SUVs ( n =40).**\n",
        "* Decide whether the data appears to be normally distributed by\n",
        "* a. Mean and median "
      ]
    },
    {
      "cell_type": "code",
      "metadata": {
        "id": "2zj0fM6ZpCDO",
        "colab": {
          "base_uri": "https://localhost:8080/"
        },
        "outputId": "f99300f4-86b7-48f8-b5d9-e3f37a751b78"
      },
      "source": [
        "mpg = np.array([19, 20, 20, 20, 21, 19, 21, 19, 21, 20, 20, 20, 19, 21, 21, 22, 20, 22, 20, 20, 22, 20, 22, 21, 19,\n",
        "                             19, 20, 20, 21, 20, 19, 18, 20, 21, 21, 20, 21, 21, 20,  21])\n",
        "print(mpg)"
      ],
      "execution_count": null,
      "outputs": [
        {
          "output_type": "stream",
          "text": [
            "[19 20 20 20 21 19 21 19 21 20 20 20 19 21 21 22 20 22 20 20 22 20 22 21\n",
            " 19 19 20 20 21 20 19 18 20 21 21 20 21 21 20 21]\n"
          ],
          "name": "stdout"
        }
      ]
    },
    {
      "cell_type": "code",
      "metadata": {
        "id": "Ea5AM547pCDR",
        "colab": {
          "base_uri": "https://localhost:8080/",
          "height": 336
        },
        "outputId": "f7852142-df76-4d26-f081-8ab913589b92"
      },
      "source": [
        "sns.distplot(mpg)"
      ],
      "execution_count": null,
      "outputs": [
        {
          "output_type": "stream",
          "text": [
            "/usr/local/lib/python3.6/dist-packages/seaborn/distributions.py:2557: FutureWarning: `distplot` is a deprecated function and will be removed in a future version. Please adapt your code to use either `displot` (a figure-level function with similar flexibility) or `histplot` (an axes-level function for histograms).\n",
            "  warnings.warn(msg, FutureWarning)\n"
          ],
          "name": "stderr"
        },
        {
          "output_type": "execute_result",
          "data": {
            "text/plain": [
              "<matplotlib.axes._subplots.AxesSubplot at 0x7f49b9eb0630>"
            ]
          },
          "metadata": {
            "tags": []
          },
          "execution_count": 32
        },
        {
          "output_type": "display_data",
          "data": {
            "image/png": "[encoded data removed]",
            "text/plain": [
              "<Figure size 432x288 with 1 Axes>"
            ]
          },
          "metadata": {
            "tags": []
          }
        }
      ]
    },
    {
      "cell_type": "code",
      "metadata": {
        "colab": {
          "base_uri": "https://localhost:8080/"
        },
        "id": "5c8Nzmj3OhT6",
        "outputId": "e9223380-5300-4b6d-cc74-edada9d06cb5"
      },
      "source": [
        "print(mpg.mean())"
      ],
      "execution_count": null,
      "outputs": [
        {
          "output_type": "stream",
          "text": [
            "20.275\n"
          ],
          "name": "stdout"
        }
      ]
    },
    {
      "cell_type": "code",
      "metadata": {
        "colab": {
          "base_uri": "https://localhost:8080/"
        },
        "id": "B9pynsrsOiyh",
        "outputId": "8ca03d2a-4cd2-46af-8854-5aa890708654"
      },
      "source": [
        "print(np.median(mpg))"
      ],
      "execution_count": null,
      "outputs": [
        {
          "output_type": "stream",
          "text": [
            "20.0\n"
          ],
          "name": "stdout"
        }
      ]
    },
    {
      "cell_type": "markdown",
      "metadata": {
        "id": "e4mtqXGapCDW"
      },
      "source": [
        "----------------"
      ]
    },
    {
      "cell_type": "markdown",
      "metadata": {
        "id": "ZDws3VDCpCDY"
      },
      "source": [
        "**Problem:**).What is the sampling error and standard error for the given the population data and sample data.Explain what is sampling error and how can standard error can be reduced.**"
      ]
    },
    {
      "cell_type": "markdown",
      "metadata": {
        "id": "vVp74UC0pCDa"
      },
      "source": [
        "**Population data.**"
      ]
    },
    {
      "cell_type": "code",
      "metadata": {
        "id": "kZV4KGMwpCDd"
      },
      "source": [
        "Marks_scored=[60,80,70,75,80,90,100,100,65,75,60,90,70,70,80,50,55,60,70,65,70,55,50,65,70,65,70,65,75,80,90,95,95,85,90,80,75,70,80,85,90,80,75,70,60,65,70,80,75,80,90,65,80,65,70,85,75,70,80,85,65,70,85,80,65,70,80,90,100,60,70,55,60,70,70,70,80,85,90,80,75,70,60,65,70,80,75,80,90,70,85,80,65,70,80,90,100,60,70,80]"
      ],
      "execution_count": null,
      "outputs": []
    },
    {
      "cell_type": "code",
      "metadata": {
        "id": "vELhid4jPDr3"
      },
      "source": [
        "sigma=np.std(Marks_scored)"
      ],
      "execution_count": null,
      "outputs": []
    },
    {
      "cell_type": "code",
      "metadata": {
        "colab": {
          "base_uri": "https://localhost:8080/"
        },
        "id": "C9sG2gpnPJk6",
        "outputId": "f317f51a-621f-4c57-8581-53065dea49fa"
      },
      "source": [
        "sigma"
      ],
      "execution_count": null,
      "outputs": [
        {
          "output_type": "execute_result",
          "data": {
            "text/plain": [
              "11.302543961427446"
            ]
          },
          "metadata": {
            "tags": []
          },
          "execution_count": 40
        }
      ]
    },
    {
      "cell_type": "code",
      "metadata": {
        "colab": {
          "base_uri": "https://localhost:8080/"
        },
        "id": "_3MZH1LVPRrq",
        "outputId": "01f49b22-31d7-435b-b61a-92c894882333"
      },
      "source": [
        "np.mean(Marks_scored)"
      ],
      "execution_count": null,
      "outputs": [
        {
          "output_type": "execute_result",
          "data": {
            "text/plain": [
              "74.95"
            ]
          },
          "metadata": {
            "tags": []
          },
          "execution_count": 42
        }
      ]
    },
    {
      "cell_type": "code",
      "metadata": {
        "id": "5lfAt0C5Ql-J"
      },
      "source": [
        "n=np.sqrt(len(sam_marks))"
      ],
      "execution_count": null,
      "outputs": []
    },
    {
      "cell_type": "code",
      "metadata": {
        "colab": {
          "base_uri": "https://localhost:8080/"
        },
        "id": "Fbzj9ldqQr3W",
        "outputId": "a92b4e44-6f6e-4e5f-b25a-f4916ad632e1"
      },
      "source": [
        "se=sigma/n\r\n",
        "se"
      ],
      "execution_count": null,
      "outputs": [
        {
          "output_type": "execute_result",
          "data": {
            "text/plain": [
              "2.2605087922854894"
            ]
          },
          "metadata": {
            "tags": []
          },
          "execution_count": 48
        }
      ]
    },
    {
      "cell_type": "code",
      "metadata": {
        "colab": {
          "base_uri": "https://localhost:8080/",
          "height": 370
        },
        "id": "Ks8-C3YFPc0k",
        "outputId": "80d936dd-c9c8-4e9b-8eab-a777520474c4"
      },
      "source": [
        "sns.distplot(Marks_scored)\r\n",
        "sns.distplot(sam_marks)"
      ],
      "execution_count": null,
      "outputs": [
        {
          "output_type": "stream",
          "text": [
            "/usr/local/lib/python3.6/dist-packages/seaborn/distributions.py:2557: FutureWarning: `distplot` is a deprecated function and will be removed in a future version. Please adapt your code to use either `displot` (a figure-level function with similar flexibility) or `histplot` (an axes-level function for histograms).\n",
            "  warnings.warn(msg, FutureWarning)\n",
            "/usr/local/lib/python3.6/dist-packages/seaborn/distributions.py:2557: FutureWarning: `distplot` is a deprecated function and will be removed in a future version. Please adapt your code to use either `displot` (a figure-level function with similar flexibility) or `histplot` (an axes-level function for histograms).\n",
            "  warnings.warn(msg, FutureWarning)\n"
          ],
          "name": "stderr"
        },
        {
          "output_type": "execute_result",
          "data": {
            "text/plain": [
              "<matplotlib.axes._subplots.AxesSubplot at 0x7f49b9395c88>"
            ]
          },
          "metadata": {
            "tags": []
          },
          "execution_count": 43
        },
        {
          "output_type": "display_data",
          "data": {
            "image/png": "[encoded data removed]",
            "text/plain": [
              "<Figure size 432x288 with 1 Axes>"
            ]
          },
          "metadata": {
            "tags": []
          }
        }
      ]
    },
    {
      "cell_type": "markdown",
      "metadata": {
        "id": "s1-j5hHmpCDf"
      },
      "source": [
        "**Sample data.**"
      ]
    },
    {
      "cell_type": "code",
      "metadata": {
        "id": "RHZvkjlSpCDg"
      },
      "source": [
        "sam_marks=[90,100,100,65,75,60,90,70,65,70,65,70,65,60,70,85,65,70,85,80,65,70,80,65,70]"
      ],
      "execution_count": null,
      "outputs": []
    },
    {
      "cell_type": "code",
      "metadata": {
        "colab": {
          "base_uri": "https://localhost:8080/"
        },
        "id": "-8KyAvY_O5vs",
        "outputId": "ad14e178-2736-448d-8a79-08c2eb3ecc85"
      },
      "source": [
        "np.mean(sam_marks)"
      ],
      "execution_count": null,
      "outputs": [
        {
          "output_type": "execute_result",
          "data": {
            "text/plain": [
              "74.0"
            ]
          },
          "metadata": {
            "tags": []
          },
          "execution_count": 41
        }
      ]
    },
    {
      "cell_type": "markdown",
      "metadata": {
        "id": "MGul5KLUpCDj"
      },
      "source": [
        "**a).Sampling Error**"
      ]
    },
    {
      "cell_type": "code",
      "metadata": {
        "id": "D4GkFDkYpCDk",
        "colab": {
          "base_uri": "https://localhost:8080/"
        },
        "outputId": "b2cae460-3cdf-49eb-9e66-20985cd2de4d"
      },
      "source": [
        "np.mean(Marks_scored)-np.mean(sam_marks)"
      ],
      "execution_count": null,
      "outputs": [
        {
          "output_type": "execute_result",
          "data": {
            "text/plain": [
              "0.9500000000000028"
            ]
          },
          "metadata": {
            "tags": []
          },
          "execution_count": 37
        }
      ]
    },
    {
      "cell_type": "markdown",
      "metadata": {
        "id": "sN3HDpHjpCDm"
      },
      "source": [
        "**b).standard error**"
      ]
    },
    {
      "cell_type": "code",
      "metadata": {
        "id": "oUBkd8GepCDn"
      },
      "source": [
        ""
      ],
      "execution_count": null,
      "outputs": []
    },
    {
      "cell_type": "markdown",
      "metadata": {
        "id": "VUFiylZapCDp"
      },
      "source": [
        "----------------------"
      ]
    },
    {
      "cell_type": "markdown",
      "metadata": {
        "id": "lWYKVpLXpCDq"
      },
      "source": [
        "**Problem:** Provided the Population data and sample data.**\n",
        "\n",
        "* a).plot the population data and sample data check how the data is distributed.Give inference wheather the sampling distribution similar to population data."
      ]
    },
    {
      "cell_type": "code",
      "metadata": {
        "id": "494JFSJzpCDs",
        "colab": {
          "base_uri": "https://localhost:8080/"
        },
        "outputId": "1314d7d2-b098-4043-f72e-1061e00a33c4"
      },
      "source": [
        "np.random.seed(10)\n",
        "population_ages1 = stats.poisson.rvs(loc=18, mu=35, size=150000)\n",
        "population_ages2 = stats.poisson.rvs(loc=18, mu=10, size=100000)\n",
        "population_ages = np.concatenate((population_ages1, population_ages2))\n",
        "\n",
        "\n",
        "print(population_ages)"
      ],
      "execution_count": null,
      "outputs": [
        {
          "output_type": "stream",
          "text": [
            "[58 55 53 ... 27 28 28]\n"
          ],
          "name": "stdout"
        }
      ]
    },
    {
      "cell_type": "code",
      "metadata": {
        "id": "cjoAG6JxpCDv",
        "colab": {
          "base_uri": "https://localhost:8080/"
        },
        "outputId": "41cf3cd3-4f8c-4a59-a8f8-ffe0821e3b29"
      },
      "source": [
        "\n",
        "np.random.seed(6)\n",
        "sample_ages = np.random.choice(a= population_ages,size=500)            # Sample 500 values\n",
        "print(sample_ages)"
      ],
      "execution_count": null,
      "outputs": [
        {
          "output_type": "stream",
          "text": [
            "[23 53 52 24 52 29 47 25 35 32 48 21 54 50 25 55 51 28 58 56 46 49 27 63\n",
            " 54 45 49 27 50 58 30 51 50 44 28 30 28 46 49 28 51 61 55 49 26 27 52 53\n",
            " 45 47 26 58 50 62 60 49 29 26 60 53 25 29 54 30 56 28 34 60 46 24 31 53\n",
            " 60 59 64 57 52 49 29 27 44 68 27 55 66 58 51 39 57 48 47 30 26 51 53 55\n",
            " 31 25 25 41 52 27 57 59 31 29 47 51 53 28 62 28 29 52 58 54 50 31 46 31\n",
            " 54 28 52 41 46 47 30 29 49 45 23 50 26 50 48 26 34 49 26 31 27 31 26 61\n",
            " 26 29 28 25 46 33 48 56 51 42 30 30 30 31 39 66 56 42 24 47 33 30 58 63\n",
            " 29 60 25 46 41 52 47 49 23 27 53 48 27 50 58 27 30 51 56 54 43 28 60 44\n",
            " 25 27 21 53 32 63 50 52 53 29 55 49 29 56 47 28 59 33 31 61 32 65 27 27\n",
            " 26 26 39 60 26 51 25 51 28 58 46 28 28 56 28 60 53 56 44 63 25 51 44 47\n",
            " 56 43 57 23 29 53 28 54 28 26 57 54 46 54 26 53 28 58 31 50 54 25 49 29\n",
            " 27 60 28 50 30 52 26 62 33 28 57 52 27 57 46 46 31 56 27 51 24 51 46 23\n",
            " 24 30 26 54 27 27 25 55 34 30 50 55 59 58 34 34 29 26 45 50 49 56 29 54\n",
            " 52 52 23 36 45 29 59 47 27 47 48 46 65 55 31 30 53 29 24 27 30 47 58 26\n",
            " 30 45 46 57 57 28 47 57 60 35 32 26 25 54 22 47 62 25 43 59 24 42 52 47\n",
            " 57 46 51 51 62 45 28 54 61 49 31 57 27 30 50 50 52 28 49 50 49 24 45 31\n",
            " 53 52 26 26 58 32 33 55 61 54 28 31 51 28 52 37 49 57 49 50 32 50 58 51\n",
            " 57 45 52 57 31 29 60 54 56 63 30 48 63 56 49 45 47 53 30 27 24 23 25 55\n",
            " 49 62 54 28 25 28 32 58 27 55 43 47 64 27 25 59 50 27 29 51 54 54 23 26\n",
            " 37 22 26 34 41 29 33 60 29 30 28 57 59 61 27 47 60 47 62 45 42 47 28 24\n",
            " 48 61 41 27 31 48 63 37 31 60 27 60 28 23 64 26 48 54 26 30]\n"
          ],
          "name": "stdout"
        }
      ]
    },
    {
      "cell_type": "code",
      "metadata": {
        "id": "2A5QyPvYpCDz"
      },
      "source": [
        "n=1000\r\n",
        "sigma = np.std(population_ages)\r\n",
        "se = sigma/np.sqrt(n)\r\n",
        "xbar = np.mean(sample)\r\n",
        "print(xbar)\r\n",
        "print(stats.norm.interval(0.95,loc=xbar,scale=se))"
      ],
      "execution_count": null,
      "outputs": []
    },
    {
      "cell_type": "markdown",
      "metadata": {
        "id": "gjIvZQiHpCD3"
      },
      "source": [
        "-------------------"
      ]
    },
    {
      "cell_type": "markdown",
      "metadata": {
        "id": "ROK992AEpCD5"
      },
      "source": [
        "**Problem:** Provided the Population data and sample data.\n",
        "\n",
        "* a).calculate a 95% confidence for our mean point estimate:\n",
        "    "
      ]
    },
    {
      "cell_type": "code",
      "metadata": {
        "id": "AVno_p7GpCD6",
        "colab": {
          "base_uri": "https://localhost:8080/"
        },
        "outputId": "62a2f5f4-85f8-469c-d835-86e1aaf54cf2"
      },
      "source": [
        "np.random.seed(10)\n",
        "population_ages1 = stats.poisson.rvs(loc=18, mu=35, size=150000)\n",
        "population_ages2 = stats.poisson.rvs(loc=18, mu=10, size=100000)\n",
        "population_ages = np.concatenate((population_ages1, population_ages2))\n",
        "\n",
        "population_ages #Population data"
      ],
      "execution_count": null,
      "outputs": [
        {
          "output_type": "execute_result",
          "data": {
            "text/plain": [
              "array([58, 55, 53, ..., 27, 28, 28])"
            ]
          },
          "metadata": {
            "tags": []
          },
          "execution_count": 44
        }
      ]
    },
    {
      "cell_type": "code",
      "metadata": {
        "id": "p07_N5WBpCD_"
      },
      "source": [
        "np.random.seed(10)\n",
        "\n",
        "sample_size = 1000\n",
        "sample = np.random.choice(a= population_ages, size = sample_size)\n",
        "sample_mean = sample.mean()"
      ],
      "execution_count": null,
      "outputs": []
    },
    {
      "cell_type": "markdown",
      "metadata": {
        "id": "OqQvegK7pCEC"
      },
      "source": [
        "----------------------"
      ]
    },
    {
      "cell_type": "code",
      "metadata": {
        "id": "1WtNmxQ0pCED",
        "colab": {
          "base_uri": "https://localhost:8080/"
        },
        "outputId": "99450b20-61f9-4a26-ec03-23fc62b998f1"
      },
      "source": [
        "n=1000\r\n",
        "sigma=np.std(population_ages)\r\n",
        "se=sigma/np.sqrt(n)\r\n",
        "xbar=np.mean(sample)\r\n",
        "print(xbar)\r\n",
        "print(stats.norm.interval(0.95,loc=xbar,scale=se))"
      ],
      "execution_count": null,
      "outputs": [
        {
          "output_type": "stream",
          "text": [
            "42.523\n",
            "(41.70306406882683, 43.34293593117317)\n"
          ],
          "name": "stdout"
        }
      ]
    },
    {
      "cell_type": "code",
      "metadata": {
        "colab": {
          "base_uri": "https://localhost:8080/"
        },
        "id": "SPd5wZYqgYYD",
        "outputId": "5f4c1680-11ac-486a-a420-0e57cde6b263"
      },
      "source": [
        "print(stats.norm.isf(0.025,loc=xbar, scale=se))"
      ],
      "execution_count": null,
      "outputs": [
        {
          "output_type": "stream",
          "text": [
            "43.34293593117317\n"
          ],
          "name": "stdout"
        }
      ]
    },
    {
      "cell_type": "code",
      "metadata": {
        "colab": {
          "base_uri": "https://localhost:8080/"
        },
        "id": "Z2knDZAUgg4P",
        "outputId": "cfdc0c4d-0ddf-4885-b918-63b3f0853917"
      },
      "source": [
        "print(stats.norm.isf(0.975,loc=xbar, scale=se))"
      ],
      "execution_count": null,
      "outputs": [
        {
          "output_type": "stream",
          "text": [
            "41.70306406882683\n"
          ],
          "name": "stdout"
        }
      ]
    },
    {
      "cell_type": "markdown",
      "metadata": {
        "id": "c5_dwaMNpCEG"
      },
      "source": [
        "**Problem:** . Hours spent on studies by 20 students on a course is given in the following table:**"
      ]
    },
    {
      "cell_type": "markdown",
      "metadata": {
        "id": "CPZQsQUCpCEH"
      },
      "source": [
        "\n",
        "|     |     |     |     |     |\n",
        "| --- | --- | --- | --- | --- |   \n",
        "| 4.7 | 9.2 | 9.3 | 11.2| 8   |\n",
        "| 7.6 | 7.4 | 4.9 | 9.2 | 5.3 | \n",
        "| 1.7 | 2.8 | 7.2 | 12.3| 8.6 |\n",
        "| 10.6| 9   | 5.7 | 6.9 | 3.8 |\n"
      ]
    },
    {
      "cell_type": "markdown",
      "metadata": {
        "id": "a6zO-eF1pCEJ"
      },
      "source": [
        "\n",
        "**Assume that the population of hours spent follows a normal distribution and the standard deviation is 3.1 hours, calculate the 90% confidence interval for the mean hours spent by the students.**"
      ]
    },
    {
      "cell_type": "code",
      "metadata": {
        "id": "jaRRB2zIpCEK"
      },
      "source": [
        "import numpy as np\n",
        "H           = [ 4.7, 9.2, 9.3, 11.2, 8, 7.6, 7.4, 4.9, 9.2, 5.3, 1.7, 2.8, 7.2, 12.3, 8.6, 10.6, 9, 5.7, 6.9, 3.8]\n",
        "HoursSpent  = np.array(H)"
      ],
      "execution_count": null,
      "outputs": []
    },
    {
      "cell_type": "code",
      "metadata": {
        "id": "6lLsxFnSpCEO",
        "colab": {
          "base_uri": "https://localhost:8080/"
        },
        "outputId": "d188bd98-523f-4730-bec6-f38141136138"
      },
      "source": [
        "n=len(H)\r\n",
        "sigma=3.1\r\n",
        "se=sigma/np.sqrt(n)\r\n",
        "xbar=np.mean(H)\r\n",
        "print(xbar)\r\n"
      ],
      "execution_count": null,
      "outputs": [
        {
          "output_type": "stream",
          "text": [
            "7.2700000000000005\n"
          ],
          "name": "stdout"
        }
      ]
    },
    {
      "cell_type": "code",
      "metadata": {
        "colab": {
          "base_uri": "https://localhost:8080/"
        },
        "id": "6O0x30DvhORN",
        "outputId": "4b2251e7-d90a-42a8-ee1c-f011ae585f46"
      },
      "source": [
        "#solve 95\r\n",
        "print(stats.norm.interval(0.95,loc=xbar, scale=se))"
      ],
      "execution_count": null,
      "outputs": [
        {
          "output_type": "stream",
          "text": [
            "(5.9113900621063, 8.628609937893701)\n"
          ],
          "name": "stdout"
        }
      ]
    },
    {
      "cell_type": "code",
      "metadata": {
        "id": "yTJun4Ktht34"
      },
      "source": [
        ""
      ],
      "execution_count": null,
      "outputs": []
    },
    {
      "cell_type": "markdown",
      "metadata": {
        "id": "URnfuXn_pCER"
      },
      "source": [
        "----------------------"
      ]
    },
    {
      "cell_type": "markdown",
      "metadata": {
        "id": "hSyFwdxhpCES"
      },
      "source": [
        "**Problem**). The fill amount in 2-liter soft drink bottles is normally distributed, with a mean of 2.0 liters and a standard deviation of 0.05 liter. If the bottles contain less than 95% of the listed net content (1.90 liters, in our case), the manufacturer may be subject to penalty by the state office of consumer affairs. Bottles that have a net content above 2.1 liters may cause excess spillage upon opening. What is the proportion of bottles that will contain.**\n",
        "\n",
        "* a) below 1.96 liters or above 2.2 liters\n",
        "* b) At least how much soft drink is contained in 90% of the bottles?"
      ]
    },
    {
      "cell_type": "markdown",
      "metadata": {
        "id": "XbNBzSWlpCES"
      },
      "source": [
        "#### a. below 1.96 liters or above 2.2 liters is?\n",
        "-----------"
      ]
    },
    {
      "cell_type": "code",
      "metadata": {
        "id": "cNQ5sVC8pCET",
        "colab": {
          "base_uri": "https://localhost:8080/"
        },
        "outputId": "0b6dead3-fce2-4e4e-cfa1-b235fa20dfe8"
      },
      "source": [
        "1-(stats.norm.cdf(2.2,loc=2,scale=0.05)-stats.norm.cdf(1.96,loc=2,scale=0.05))"
      ],
      "execution_count": null,
      "outputs": [
        {
          "output_type": "execute_result",
          "data": {
            "text/plain": [
              "0.21188706982522953"
            ]
          },
          "metadata": {
            "tags": []
          },
          "execution_count": 8
        }
      ]
    },
    {
      "cell_type": "markdown",
      "metadata": {
        "id": "RVvlN4n_pCEV"
      },
      "source": [
        "#### b) At least how much soft drink is contained in 90% of the bottles?\n",
        "------------"
      ]
    },
    {
      "cell_type": "code",
      "metadata": {
        "id": "UU31SpqmpCEW",
        "colab": {
          "base_uri": "https://localhost:8080/"
        },
        "outputId": "3f8b2f6e-118f-4549-8ade-b4a09a618dad"
      },
      "source": [
        "stats.norm.isf(0.9,loc=2,scale=0.05)"
      ],
      "execution_count": null,
      "outputs": [
        {
          "output_type": "execute_result",
          "data": {
            "text/plain": [
              "1.93592242172277"
            ]
          },
          "metadata": {
            "tags": []
          },
          "execution_count": 9
        }
      ]
    },
    {
      "cell_type": "markdown",
      "metadata": {
        "id": "4efJdfM6pCEg"
      },
      "source": [
        "**Problem**). A sample of 100 diabetic patients was chosen to estimate the length of stay at a local hospital. \n",
        "The sample was 4.5 days and the population standard deviation was known to be 1.2 days.**\n",
        "\n",
        "* a) Calculate the 99% confidence interval for the population mean."
      ]
    },
    {
      "cell_type": "markdown",
      "metadata": {
        "id": "zJtsgMqdpCEh"
      },
      "source": [
        "**Solution**"
      ]
    },
    {
      "cell_type": "markdown",
      "metadata": {
        "id": "J-dWimKxpCEi"
      },
      "source": [
        "a) Calculate the 99% confidence interval for the population mean.\n",
        "\n",
        "It is known that \n",
        "* $\\overline{X}$ = 4.5\n",
        "* $\\sigma$       = 1.2\n",
        "* n              = 100\n",
        "We need to compute $\\overline{X} \\quad \\pm 1.64 \\frac {\\sigma} {\\sqrt{n}}$ "
      ]
    },
    {
      "cell_type": "code",
      "metadata": {
        "id": "4G6qvfvepCEk",
        "colab": {
          "base_uri": "https://localhost:8080/"
        },
        "outputId": "a6b00522-b8a8-48f2-c7f5-3a0636f6422b"
      },
      "source": [
        "print(stats.norm.isf(0.025,loc=4.5,scale=se))\r\n",
        "print(stats.norm.isf(0.975,loc=4.5,scale=se))"
      ],
      "execution_count": null,
      "outputs": [
        {
          "output_type": "stream",
          "text": [
            "4.735195678144806\n",
            "4.264804321855194\n"
          ],
          "name": "stdout"
        }
      ]
    },
    {
      "cell_type": "code",
      "metadata": {
        "colab": {
          "base_uri": "https://localhost:8080/"
        },
        "id": "_MbJ06EDbOA0",
        "outputId": "08ff327f-c407-46c8-d4b4-1c2d0fc1a085"
      },
      "source": [
        "n=100\r\n",
        "sigma=1.2\r\n",
        "se=sigma/np.sqrt(n)\r\n",
        "xbar=4.5\r\n",
        "\r\n",
        "print(stats.norm.interval(0.95,loc=4.5,scale=se))\r\n"
      ],
      "execution_count": null,
      "outputs": [
        {
          "output_type": "stream",
          "text": [
            "(4.264804321855194, 4.735195678144806)\n",
            "0.3090995164258681\n"
          ],
          "name": "stdout"
        }
      ]
    },
    {
      "cell_type": "code",
      "metadata": {
        "colab": {
          "base_uri": "https://localhost:8080/"
        },
        "id": "pT8rAiatjthC",
        "outputId": "e23e2086-30d9-4b41-e044-4e2d7f8bf84f"
      },
      "source": [
        "#99percent\r\n",
        "print(stats.norm.isf(0.005,loc=0,scale=1))\r\n",
        "print(stats.norm.interval(0.99,loc=xbar,scale=se))\r\n"
      ],
      "execution_count": null,
      "outputs": [
        {
          "output_type": "stream",
          "text": [
            "2.575829303548901\n",
            "(4.190900483574132, 4.809099516425868)\n"
          ],
          "name": "stdout"
        }
      ]
    },
    {
      "cell_type": "markdown",
      "metadata": {
        "id": "nyjZb-ZppCEm"
      },
      "source": [
        "---------------------"
      ]
    },
    {
      "cell_type": "markdown",
      "metadata": {
        "id": "nEwYyGtApCEm"
      },
      "source": [
        "**Problem**). Time taken to resolve a customer complaints in days of 100 customers in a Service Organization is given below:**"
      ]
    },
    {
      "cell_type": "markdown",
      "metadata": {
        "id": "SeTsnnikpCEn"
      },
      "source": [
        " |      |      |      |      |      |      |      |      |      |      |\n",
        " | ---  | ---- | ---- | ---- | ---- | ---- | ---- | ---- | ---- | ---- |\n",
        " | 2.50 | 3.26 | 2.79 | 3.74 | 5.60 | 3.24 | 3.65 | 3.91 | 4.35 | 3.35 |\n",
        " | 5.67 | 5.38 | 3.54 | 5.10 | 3.66 | 3.01 | 3.96 | 4.98 | 4.56 | 5.00 |\n",
        " | 5.03 | 5.29 | 4.91 | 4.63 | 2.94 | 3.82 | 4.76 | 2.24 | 4.25 | 3.45 |\n",
        " | 3.14 | 4.64 | 4.56 | 4.61 | 2.68 | 3.61 | 5.46 | 2.83 | 4.84 | 4.31 |\n",
        " | 2.98 | 3.90 | 4.45 | 3.62 | 6.15 | 4.04 | 5.19 | 4.63 | 2.78 | 2.95 |\n",
        " | 3.65 | 4.49 | 3.52 | 4.07 | 4.16 | 5.56 | 2.69 | 6.69 | 1.26 | 3.14 |\n",
        " | 4.71 | 4.80 | 3.41 | 3.18 | 4.64 | 4.23 | 4.36 | 3.94 | 3.81 | 4.26 |\n",
        " | 2.92 | 2.87 | 2.08 | 3.09 | 3.60 | 2.93 | 3.85 | 4.66 | 4.70 | 3.61 |\n",
        " | 5.59 | 3.39 | 3.13 | 4.14 | 4.23 | 4.25 | 4.12 | 5.95 | 4.76 | 4.96 |\n",
        " | 2.27 | 3.77 | 5.25 | 3.05 | 3.20 | 5.22 | 3.84 | 2.24 | 4.75 | 3.07 |\n"
      ]
    },
    {
      "cell_type": "markdown",
      "metadata": {
        "id": "lpGZ2nbQpCEo"
      },
      "source": [
        "* a. Construct 95% confidence interval estimate for the population mean days to resolve customer complaints,assuming a normal distribution.\n",
        "* b. Interpret the interval constructed at a."
      ]
    },
    {
      "cell_type": "code",
      "metadata": {
        "id": "F3saGSZ8pCEp",
        "colab": {
          "base_uri": "https://localhost:8080/"
        },
        "outputId": "fa4baf5a-a5e6-4708-95ff-1d242eee9a97"
      },
      "source": [
        "resolved_in_days = [2.50, 3.26, 2.79, 3.74, 5.60, 3.24, 3.65, 3.91, 4.35, 3.35,\\\n",
        "5.67, 5.38, 3.54, 5.10, 3.66, 3.01, 3.96, 4.98, 4.56, 5.00,\\\n",
        "5.03, 5.29, 4.91, 4.63, 2.94, 3.82, 4.76, 2.24, 4.25, 3.45,\\\n",
        "3.14, 4.64, 4.56, 4.61, 2.68, 3.61, 5.46, 2.83, 4.84, 4.31,\\\n",
        "2.98, 3.90, 4.45, 3.62, 6.15, 4.04, 5.19, 4.63, 2.78, 2.95,\\\n",
        "3.65, 4.49, 3.52, 4.07, 4.16, 5.56, 2.69, 6.69, 1.26, 3.14,\\\n",
        "4.71, 4.80, 3.41, 3.18, 4.64, 4.23, 4.36, 3.94, 3.81, 4.26,\\\n",
        "2.92, 2.87, 2.08, 3.09, 3.60, 2.93, 3.85, 4.66, 4.70, 3.61,\\\n",
        "5.59, 3.39, 3.13, 4.14, 4.23, 4.25, 4.12, 5.95, 4.76, 4.96,\\\n",
        "2.27, 3.77, 5.25, 3.05, 3.20, 5.22, 3.84, 2.24, 4.75, 3.07]\n",
        "resolvedDays = np.array(resolved_in_days)\n",
        "lengthStay = np.array(resolved_in_days)\n",
        "avg        = lengthStay.mean(axis = 0)\n",
        "sd         = np.std(lengthStay,ddof = 1)\n",
        "print('Mean of length of stay is %1.4f' % avg)\n",
        "print('SD of length of stay is %1.6f'   % sd)\n",
        "# Here ddof modifies the divisor of the sum of the squares of the samples-minus-mean"
      ],
      "execution_count": null,
      "outputs": [
        {
          "output_type": "stream",
          "text": [
            "Mean of length of stay is 4.0000\n",
            "SD of length of stay is 1.000067\n"
          ],
          "name": "stdout"
        }
      ]
    },
    {
      "cell_type": "code",
      "metadata": {
        "id": "KR7vbM2ppCEr",
        "colab": {
          "base_uri": "https://localhost:8080/"
        },
        "outputId": "d0fbaf7b-ddfd-49bd-9c3b-f3bf9b7715f2"
      },
      "source": [
        "print(stats.norm.interval(0.95,loc=avg, scale=sd))"
      ],
      "execution_count": null,
      "outputs": [
        {
          "output_type": "stream",
          "text": [
            "(2.039905355549495, 5.960094644450505)\n"
          ],
          "name": "stdout"
        }
      ]
    },
    {
      "cell_type": "code",
      "metadata": {
        "id": "pPVVNHc5pCEu"
      },
      "source": [
        ""
      ],
      "execution_count": null,
      "outputs": []
    },
    {
      "cell_type": "markdown",
      "metadata": {
        "id": "R7SEJe07pCE0"
      },
      "source": [
        "-----------------------"
      ]
    },
    {
      "cell_type": "markdown",
      "metadata": {
        "id": "gQ6Y8UeOpCE0"
      },
      "source": [
        "----------------------------"
      ]
    }
  ]
}