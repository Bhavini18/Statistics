{
  "nbformat": 4,
  "nbformat_minor": 0,
  "metadata": {
    "colab": {
      "name": "Day 02_Estimation.ipynb",
      "provenance": [],
      "collapsed_sections": []
    },
    "kernelspec": {
      "name": "python3",
      "display_name": "Python 3"
    }
  },
  "cells": [
    {
      "cell_type": "markdown",
      "metadata": {
        "id": "6oqSQYwjz42c"
      },
      "source": [
        "---------------"
      ]
    },
    {
      "cell_type": "markdown",
      "metadata": {
        "id": "W4TGH8Ivz42d"
      },
      "source": [
        "**Problem**) From the given Population & Sample data calculate the followings.\n",
        "\n",
        "#### a)calculate an estimate of mean with 90% confidence level."
      ]
    },
    {
      "cell_type": "code",
      "metadata": {
        "id": "xqphHAX7z42e",
        "colab": {
          "base_uri": "https://localhost:8080/"
        },
        "outputId": "61073ed1-17d3-4feb-c5c7-c18a95f3fe56"
      },
      "source": [
        "import numpy as np\n",
        "import scipy.stats as stats\n",
        "np.random.seed(11)\n",
        "population_horsepower1 = stats.poisson.rvs(loc=1800, mu=25, size=15000)\n",
        "population_horsepower2 = stats.poisson.rvs(loc=1800, mu=5, size=10000)\n",
        "population_hp = np.concatenate((population_horsepower1, population_horsepower2))\n",
        "\n",
        "print(population_hp) # population data"
      ],
      "execution_count": 1,
      "outputs": [
        {
          "output_type": "stream",
          "text": [
            "[1820 1824 1824 ... 1808 1806 1804]\n"
          ],
          "name": "stdout"
        }
      ]
    },
    {
      "cell_type": "code",
      "metadata": {
        "id": "FyG3U24Jz42i"
      },
      "source": [
        "np.random.seed(11)\n",
        "\n",
        "sample_size = 100\n",
        "sample = np.random.choice(a= population_hp, size = sample_size)"
      ],
      "execution_count": 2,
      "outputs": []
    },
    {
      "cell_type": "markdown",
      "metadata": {
        "id": "OP47RMxXz42o"
      },
      "source": [
        "**Solution :**"
      ]
    },
    {
      "cell_type": "code",
      "metadata": {
        "id": "HM--kuxcz42p",
        "colab": {
          "base_uri": "https://localhost:8080/"
        },
        "outputId": "10c87d25-cebd-4d28-8fa5-dc37a4272972"
      },
      "source": [
        "n=100\r\n",
        "sigma = np.std(population_hp) \r\n",
        "se = sigma/np.sqrt(n)\r\n",
        "xbar = np.mean(sample)\r\n",
        "print(xbar)\r\n",
        "print(stats.norm.interval(0.90,loc=xbar,scale=se))"
      ],
      "execution_count": 8,
      "outputs": [
        {
          "output_type": "stream",
          "text": [
            "1816.17\n",
            "(1814.4210300222571, 1817.918969977743)\n"
          ],
          "name": "stdout"
        }
      ]
    },
    {
      "cell_type": "markdown",
      "metadata": {
        "id": "Riqm39ICz42t"
      },
      "source": [
        "----------------"
      ]
    },
    {
      "cell_type": "markdown",
      "metadata": {
        "id": "SjHSHwXdz42w"
      },
      "source": [
        "**Problem)**. Hindustan Pencils Pvt. Ltd. is an Indian manufacturer of pencils, writing materials and other stationery items, established in 1958 in Mumbai. Pencils manufactured by Nataraj company is expected to have a mean length of 172 mm and the standard deviation of the length is 0.02 mm.\n",
        "To ensure the quality, a sample is selected at periodic intervals to determine whether the length is still 172 mm meet the quality standards set by the company.You select a random sample of 100 pencils follows a normal distribution and the mean is 170 mm.**\n",
        "\n",
        "* a)Construct a 99% confidence interval for the pencil length."
      ]
    },
    {
      "cell_type": "markdown",
      "metadata": {
        "id": "Oz6gtOB9z420"
      },
      "source": [
        "**Solution :**"
      ]
    },
    {
      "cell_type": "markdown",
      "metadata": {
        "id": "gvP67fhpz424"
      },
      "source": [
        "It is known that \n",
        "* $\\overline{X}$ = 172 mm\n",
        "* $\\sigma$       = 0.02 mm\n",
        "* n              = 100\n",
        "We need to compute $\\overline{X} \\quad \\pm 2.5783 \\frac {\\sigma} {\\sqrt{n}}$ "
      ]
    },
    {
      "cell_type": "code",
      "metadata": {
        "id": "Izc2H9IFz426",
        "colab": {
          "base_uri": "https://localhost:8080/"
        },
        "outputId": "0e1b4896-5191-47b9-d5f2-294e8788e044"
      },
      "source": [
        "n = 100\r\n",
        "sigma = 0.02\r\n",
        "se = sigma/np.sqrt(n)\r\n",
        "xbar = 172\r\n",
        "print(xbar)\r\n",
        "print(stats.norm.interval(0.99,loc=xbar,scale=se))"
      ],
      "execution_count": 9,
      "outputs": [
        {
          "output_type": "stream",
          "text": [
            "172\n",
            "(171.9948483413929, 172.0051516586071)\n"
          ],
          "name": "stdout"
        }
      ]
    },
    {
      "cell_type": "code",
      "metadata": {
        "colab": {
          "base_uri": "https://localhost:8080/"
        },
        "id": "2MmcmhLN4W47",
        "outputId": "6b95b49c-f923-424a-a6d2-b4ca9caeb5db"
      },
      "source": [
        "stats.norm.isf(0.005,loc=0,scale=1)"
      ],
      "execution_count": 10,
      "outputs": [
        {
          "output_type": "execute_result",
          "data": {
            "text/plain": [
              "2.575829303548901"
            ]
          },
          "metadata": {
            "tags": []
          },
          "execution_count": 10
        }
      ]
    },
    {
      "cell_type": "code",
      "metadata": {
        "colab": {
          "base_uri": "https://localhost:8080/"
        },
        "id": "NvZ8sBHa4gGx",
        "outputId": "539b5baa-f9f6-41f1-e52c-c9217789896e"
      },
      "source": [
        "(172.0051516586071-172)/se"
      ],
      "execution_count": 11,
      "outputs": [
        {
          "output_type": "execute_result",
          "data": {
            "text/plain": [
              "2.5758293035522684"
            ]
          },
          "metadata": {
            "tags": []
          },
          "execution_count": 11
        }
      ]
    },
    {
      "cell_type": "code",
      "metadata": {
        "colab": {
          "base_uri": "https://localhost:8080/"
        },
        "id": "0sNC_-xV4uPn",
        "outputId": "55b24439-80c6-4192-aecf-620271f9bf98"
      },
      "source": [
        "print(stats.norm.isf(0.005,loc=xbar,scale=se))\r\n",
        "print(stats.norm.isf(0.995,loc=xbar,scale=se))"
      ],
      "execution_count": 12,
      "outputs": [
        {
          "output_type": "stream",
          "text": [
            "172.0051516586071\n",
            "171.9948483413929\n"
          ],
          "name": "stdout"
        }
      ]
    }
  ]
}