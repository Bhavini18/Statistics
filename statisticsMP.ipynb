{
  "nbformat": 4,
  "nbformat_minor": 0,
  "metadata": {
    "colab": {
      "name": "statisticsMP.ipynb",
      "provenance": [],
      "collapsed_sections": []
    },
    "kernelspec": {
      "name": "python3",
      "display_name": "Python 3"
    }
  },
  "cells": [
    {
      "cell_type": "code",
      "metadata": {
        "id": "fpSW1lhyjrWf"
      },
      "source": [
        "\r\n",
        "import pandas as pd\r\n",
        "import numpy as np\r\n",
        "import matplotlib.pyplot as plt\r\n",
        "import seaborn as sns\r\n",
        "import warnings\r\n",
        "warnings.filterwarnings('ignore')\r\n",
        "import scipy.stats as stats\r\n",
        "sns.set_style('whitegrid')"
      ],
      "execution_count": 1,
      "outputs": []
    },
    {
      "cell_type": "code",
      "metadata": {
        "colab": {
          "base_uri": "https://localhost:8080/",
          "height": 292
        },
        "id": "EhUX_tsHkH_R",
        "outputId": "36dcc9c1-5533-4eda-bbfd-d56ee03cd27e"
      },
      "source": [
        "df=pd.read_csv('/content/Laliga.csv')\r\n",
        "df.head()"
      ],
      "execution_count": 2,
      "outputs": [
        {
          "output_type": "execute_result",
          "data": {
            "text/html": [
              "<div>\n",
              "<style scoped>\n",
              "    .dataframe tbody tr th:only-of-type {\n",
              "        vertical-align: middle;\n",
              "    }\n",
              "\n",
              "    .dataframe tbody tr th {\n",
              "        vertical-align: top;\n",
              "    }\n",
              "\n",
              "    .dataframe thead th {\n",
              "        text-align: right;\n",
              "    }\n",
              "</style>\n",
              "<table border=\"1\" class=\"dataframe\">\n",
              "  <thead>\n",
              "    <tr style=\"text-align: right;\">\n",
              "      <th></th>\n",
              "      <th>Unnamed: 0</th>\n",
              "      <th>Unnamed: 1</th>\n",
              "      <th>Unnamed: 2</th>\n",
              "      <th>Unnamed: 3</th>\n",
              "      <th>Unnamed: 4</th>\n",
              "      <th>Unnamed: 5</th>\n",
              "      <th>Unnamed: 6</th>\n",
              "      <th>Unnamed: 7</th>\n",
              "      <th>Unnamed: 8</th>\n",
              "      <th>Unnamed: 9</th>\n",
              "      <th>Unnamed: 10</th>\n",
              "      <th>Unnamed: 11</th>\n",
              "      <th>Unnamed: 12</th>\n",
              "      <th>Unnamed: 13</th>\n",
              "      <th>Unnamed: 14</th>\n",
              "      <th>Unnamed: 15</th>\n",
              "      <th>Unnamed: 16</th>\n",
              "      <th>Unnamed: 17</th>\n",
              "      <th>Unnamed: 18</th>\n",
              "      <th>Unnamed: 19</th>\n",
              "    </tr>\n",
              "  </thead>\n",
              "  <tbody>\n",
              "    <tr>\n",
              "      <th>0</th>\n",
              "      <td>Pos</td>\n",
              "      <td>Team</td>\n",
              "      <td>Seasons</td>\n",
              "      <td>Points</td>\n",
              "      <td>GamesPlayed</td>\n",
              "      <td>GamesWon</td>\n",
              "      <td>GamesDrawn</td>\n",
              "      <td>GamesLost</td>\n",
              "      <td>GoalsFor</td>\n",
              "      <td>GoalsAgainst</td>\n",
              "      <td>Champion</td>\n",
              "      <td>Runner-up</td>\n",
              "      <td>Third</td>\n",
              "      <td>Fourth</td>\n",
              "      <td>Fifth</td>\n",
              "      <td>Sixth</td>\n",
              "      <td>T</td>\n",
              "      <td>Debut</td>\n",
              "      <td>Since/LastApp</td>\n",
              "      <td>BestPosition</td>\n",
              "    </tr>\n",
              "    <tr>\n",
              "      <th>1</th>\n",
              "      <td>1</td>\n",
              "      <td>Real Madrid</td>\n",
              "      <td>86</td>\n",
              "      <td>4385</td>\n",
              "      <td>2762</td>\n",
              "      <td>1647</td>\n",
              "      <td>552</td>\n",
              "      <td>563</td>\n",
              "      <td>5947</td>\n",
              "      <td>3140</td>\n",
              "      <td>33</td>\n",
              "      <td>23</td>\n",
              "      <td>8</td>\n",
              "      <td>8</td>\n",
              "      <td>3</td>\n",
              "      <td>4</td>\n",
              "      <td>79</td>\n",
              "      <td>1929</td>\n",
              "      <td>1929</td>\n",
              "      <td>1</td>\n",
              "    </tr>\n",
              "    <tr>\n",
              "      <th>2</th>\n",
              "      <td>2</td>\n",
              "      <td>Barcelona</td>\n",
              "      <td>86</td>\n",
              "      <td>4262</td>\n",
              "      <td>2762</td>\n",
              "      <td>1581</td>\n",
              "      <td>573</td>\n",
              "      <td>608</td>\n",
              "      <td>5900</td>\n",
              "      <td>3114</td>\n",
              "      <td>25</td>\n",
              "      <td>25</td>\n",
              "      <td>12</td>\n",
              "      <td>12</td>\n",
              "      <td>4</td>\n",
              "      <td>6</td>\n",
              "      <td>83</td>\n",
              "      <td>1929</td>\n",
              "      <td>1929</td>\n",
              "      <td>1</td>\n",
              "    </tr>\n",
              "    <tr>\n",
              "      <th>3</th>\n",
              "      <td>3</td>\n",
              "      <td>Atletico Madrid</td>\n",
              "      <td>80</td>\n",
              "      <td>3442</td>\n",
              "      <td>2614</td>\n",
              "      <td>1241</td>\n",
              "      <td>598</td>\n",
              "      <td>775</td>\n",
              "      <td>4534</td>\n",
              "      <td>3309</td>\n",
              "      <td>10</td>\n",
              "      <td>8</td>\n",
              "      <td>16</td>\n",
              "      <td>9</td>\n",
              "      <td>7</td>\n",
              "      <td>6</td>\n",
              "      <td>56</td>\n",
              "      <td>1929</td>\n",
              "      <td>2002-03</td>\n",
              "      <td>1</td>\n",
              "    </tr>\n",
              "    <tr>\n",
              "      <th>4</th>\n",
              "      <td>4</td>\n",
              "      <td>Valencia</td>\n",
              "      <td>82</td>\n",
              "      <td>3386</td>\n",
              "      <td>2664</td>\n",
              "      <td>1187</td>\n",
              "      <td>616</td>\n",
              "      <td>861</td>\n",
              "      <td>4398</td>\n",
              "      <td>3469</td>\n",
              "      <td>6</td>\n",
              "      <td>6</td>\n",
              "      <td>10</td>\n",
              "      <td>11</td>\n",
              "      <td>10</td>\n",
              "      <td>7</td>\n",
              "      <td>50</td>\n",
              "      <td>1931-32</td>\n",
              "      <td>1987-88</td>\n",
              "      <td>1</td>\n",
              "    </tr>\n",
              "  </tbody>\n",
              "</table>\n",
              "</div>"
            ],
            "text/plain": [
              "  Unnamed: 0       Unnamed: 1  ...    Unnamed: 18   Unnamed: 19\n",
              "0        Pos             Team  ...  Since/LastApp  BestPosition\n",
              "1          1      Real Madrid  ...           1929             1\n",
              "2          2        Barcelona  ...           1929             1\n",
              "3          3  Atletico Madrid  ...        2002-03             1\n",
              "4          4         Valencia  ...        1987-88             1\n",
              "\n",
              "[5 rows x 20 columns]"
            ]
          },
          "metadata": {
            "tags": []
          },
          "execution_count": 2
        }
      ]
    },
    {
      "cell_type": "code",
      "metadata": {
        "id": "wDRfbK4QkU_M"
      },
      "source": [
        "rw= {i:j for i,j in zip(df.columns, df.iloc[0].values)}"
      ],
      "execution_count": 3,
      "outputs": []
    },
    {
      "cell_type": "code",
      "metadata": {
        "id": "ByMdpUVAkyTo"
      },
      "source": [
        "df.rename(rw, axis=1, inplace=True)"
      ],
      "execution_count": 4,
      "outputs": []
    },
    {
      "cell_type": "code",
      "metadata": {
        "id": "dfK-IfcDk1zO"
      },
      "source": [
        "df.drop(0, inplace= True)"
      ],
      "execution_count": 5,
      "outputs": []
    },
    {
      "cell_type": "code",
      "metadata": {
        "id": "fWl1Z7tAk5nP"
      },
      "source": [
        "df.set_index('Pos', inplace= True)"
      ],
      "execution_count": 6,
      "outputs": []
    },
    {
      "cell_type": "code",
      "metadata": {
        "colab": {
          "base_uri": "https://localhost:8080/",
          "height": 340
        },
        "id": "GRBJ5spSk8UR",
        "outputId": "1f2ecf15-2e7c-4a1c-ab95-d398966473cf"
      },
      "source": [
        "df.head()"
      ],
      "execution_count": 7,
      "outputs": [
        {
          "output_type": "execute_result",
          "data": {
            "text/html": [
              "<div>\n",
              "<style scoped>\n",
              "    .dataframe tbody tr th:only-of-type {\n",
              "        vertical-align: middle;\n",
              "    }\n",
              "\n",
              "    .dataframe tbody tr th {\n",
              "        vertical-align: top;\n",
              "    }\n",
              "\n",
              "    .dataframe thead th {\n",
              "        text-align: right;\n",
              "    }\n",
              "</style>\n",
              "<table border=\"1\" class=\"dataframe\">\n",
              "  <thead>\n",
              "    <tr style=\"text-align: right;\">\n",
              "      <th></th>\n",
              "      <th>Team</th>\n",
              "      <th>Seasons</th>\n",
              "      <th>Points</th>\n",
              "      <th>GamesPlayed</th>\n",
              "      <th>GamesWon</th>\n",
              "      <th>GamesDrawn</th>\n",
              "      <th>GamesLost</th>\n",
              "      <th>GoalsFor</th>\n",
              "      <th>GoalsAgainst</th>\n",
              "      <th>Champion</th>\n",
              "      <th>Runner-up</th>\n",
              "      <th>Third</th>\n",
              "      <th>Fourth</th>\n",
              "      <th>Fifth</th>\n",
              "      <th>Sixth</th>\n",
              "      <th>T</th>\n",
              "      <th>Debut</th>\n",
              "      <th>Since/LastApp</th>\n",
              "      <th>BestPosition</th>\n",
              "    </tr>\n",
              "    <tr>\n",
              "      <th>Pos</th>\n",
              "      <th></th>\n",
              "      <th></th>\n",
              "      <th></th>\n",
              "      <th></th>\n",
              "      <th></th>\n",
              "      <th></th>\n",
              "      <th></th>\n",
              "      <th></th>\n",
              "      <th></th>\n",
              "      <th></th>\n",
              "      <th></th>\n",
              "      <th></th>\n",
              "      <th></th>\n",
              "      <th></th>\n",
              "      <th></th>\n",
              "      <th></th>\n",
              "      <th></th>\n",
              "      <th></th>\n",
              "      <th></th>\n",
              "    </tr>\n",
              "  </thead>\n",
              "  <tbody>\n",
              "    <tr>\n",
              "      <th>1</th>\n",
              "      <td>Real Madrid</td>\n",
              "      <td>86</td>\n",
              "      <td>4385</td>\n",
              "      <td>2762</td>\n",
              "      <td>1647</td>\n",
              "      <td>552</td>\n",
              "      <td>563</td>\n",
              "      <td>5947</td>\n",
              "      <td>3140</td>\n",
              "      <td>33</td>\n",
              "      <td>23</td>\n",
              "      <td>8</td>\n",
              "      <td>8</td>\n",
              "      <td>3</td>\n",
              "      <td>4</td>\n",
              "      <td>79</td>\n",
              "      <td>1929</td>\n",
              "      <td>1929</td>\n",
              "      <td>1</td>\n",
              "    </tr>\n",
              "    <tr>\n",
              "      <th>2</th>\n",
              "      <td>Barcelona</td>\n",
              "      <td>86</td>\n",
              "      <td>4262</td>\n",
              "      <td>2762</td>\n",
              "      <td>1581</td>\n",
              "      <td>573</td>\n",
              "      <td>608</td>\n",
              "      <td>5900</td>\n",
              "      <td>3114</td>\n",
              "      <td>25</td>\n",
              "      <td>25</td>\n",
              "      <td>12</td>\n",
              "      <td>12</td>\n",
              "      <td>4</td>\n",
              "      <td>6</td>\n",
              "      <td>83</td>\n",
              "      <td>1929</td>\n",
              "      <td>1929</td>\n",
              "      <td>1</td>\n",
              "    </tr>\n",
              "    <tr>\n",
              "      <th>3</th>\n",
              "      <td>Atletico Madrid</td>\n",
              "      <td>80</td>\n",
              "      <td>3442</td>\n",
              "      <td>2614</td>\n",
              "      <td>1241</td>\n",
              "      <td>598</td>\n",
              "      <td>775</td>\n",
              "      <td>4534</td>\n",
              "      <td>3309</td>\n",
              "      <td>10</td>\n",
              "      <td>8</td>\n",
              "      <td>16</td>\n",
              "      <td>9</td>\n",
              "      <td>7</td>\n",
              "      <td>6</td>\n",
              "      <td>56</td>\n",
              "      <td>1929</td>\n",
              "      <td>2002-03</td>\n",
              "      <td>1</td>\n",
              "    </tr>\n",
              "    <tr>\n",
              "      <th>4</th>\n",
              "      <td>Valencia</td>\n",
              "      <td>82</td>\n",
              "      <td>3386</td>\n",
              "      <td>2664</td>\n",
              "      <td>1187</td>\n",
              "      <td>616</td>\n",
              "      <td>861</td>\n",
              "      <td>4398</td>\n",
              "      <td>3469</td>\n",
              "      <td>6</td>\n",
              "      <td>6</td>\n",
              "      <td>10</td>\n",
              "      <td>11</td>\n",
              "      <td>10</td>\n",
              "      <td>7</td>\n",
              "      <td>50</td>\n",
              "      <td>1931-32</td>\n",
              "      <td>1987-88</td>\n",
              "      <td>1</td>\n",
              "    </tr>\n",
              "    <tr>\n",
              "      <th>5</th>\n",
              "      <td>Athletic Bilbao</td>\n",
              "      <td>86</td>\n",
              "      <td>3368</td>\n",
              "      <td>2762</td>\n",
              "      <td>1209</td>\n",
              "      <td>633</td>\n",
              "      <td>920</td>\n",
              "      <td>4631</td>\n",
              "      <td>3700</td>\n",
              "      <td>8</td>\n",
              "      <td>7</td>\n",
              "      <td>10</td>\n",
              "      <td>5</td>\n",
              "      <td>8</td>\n",
              "      <td>10</td>\n",
              "      <td>49</td>\n",
              "      <td>1929</td>\n",
              "      <td>1929</td>\n",
              "      <td>1</td>\n",
              "    </tr>\n",
              "  </tbody>\n",
              "</table>\n",
              "</div>"
            ],
            "text/plain": [
              "                Team Seasons Points  ...    Debut Since/LastApp BestPosition\n",
              "Pos                                  ...                                    \n",
              "1        Real Madrid      86   4385  ...     1929          1929            1\n",
              "2          Barcelona      86   4262  ...     1929          1929            1\n",
              "3    Atletico Madrid      80   3442  ...     1929       2002-03            1\n",
              "4           Valencia      82   3386  ...  1931-32       1987-88            1\n",
              "5    Athletic Bilbao      86   3368  ...     1929          1929            1\n",
              "\n",
              "[5 rows x 19 columns]"
            ]
          },
          "metadata": {
            "tags": []
          },
          "execution_count": 7
        }
      ]
    },
    {
      "cell_type": "code",
      "metadata": {
        "colab": {
          "base_uri": "https://localhost:8080/"
        },
        "id": "Gg-DVTUgk-QZ",
        "outputId": "14c75e79-2b5e-48ef-e49d-e44786eec036"
      },
      "source": [
        "df.shape"
      ],
      "execution_count": 9,
      "outputs": [
        {
          "output_type": "execute_result",
          "data": {
            "text/plain": [
              "(61, 19)"
            ]
          },
          "metadata": {
            "tags": []
          },
          "execution_count": 9
        }
      ]
    },
    {
      "cell_type": "code",
      "metadata": {
        "id": "GIHO0Pe1lXHg"
      },
      "source": [
        "for i in range(len(df['Since/LastApp'].values)):\r\n",
        "  if '-' in df['Since/LastApp'].values[i]:\r\n",
        "    df['Since/LastApp'].values[i] = '{}{}'.format(df['Since/LastApp'].values[i].split('-')[0][:2], df['Since/LastApp'].values[i].split('-')[1])"
      ],
      "execution_count": 12,
      "outputs": []
    },
    {
      "cell_type": "code",
      "metadata": {
        "id": "S89CeVPhlcRp"
      },
      "source": [
        "\r\n",
        "for i in df.columns[1:]:\r\n",
        "  df[i] = df[i].astype(float)"
      ],
      "execution_count": 15,
      "outputs": []
    },
    {
      "cell_type": "code",
      "metadata": {
        "id": "cpzx2siIlBVw"
      },
      "source": [
        "for i in df.columns:\r\n",
        "  df[i].replace({'-': np.nan}, inplace= True)"
      ],
      "execution_count": 11,
      "outputs": []
    },
    {
      "cell_type": "code",
      "metadata": {
        "id": "Jgz_CHVwlPNA"
      },
      "source": [
        "for i in range(len(df['Debut'].values)):\r\n",
        "  if '-' in df['Debut'].values[i]:\r\n",
        "    df['Debut'].values[i] = df['Debut'].values[i].split('-')[0]"
      ],
      "execution_count": 14,
      "outputs": []
    },
    {
      "cell_type": "code",
      "metadata": {
        "colab": {
          "base_uri": "https://localhost:8080/"
        },
        "id": "NAyzrRfTlh6Q",
        "outputId": "24f90ed9-e033-47b2-9b84-b311cfc95804"
      },
      "source": [
        "df.dtypes"
      ],
      "execution_count": 16,
      "outputs": [
        {
          "output_type": "execute_result",
          "data": {
            "text/plain": [
              "Team              object\n",
              "Seasons          float64\n",
              "Points           float64\n",
              "GamesPlayed      float64\n",
              "GamesWon         float64\n",
              "GamesDrawn       float64\n",
              "GamesLost        float64\n",
              "GoalsFor         float64\n",
              "GoalsAgainst     float64\n",
              "Champion         float64\n",
              "Runner-up        float64\n",
              "Third            float64\n",
              "Fourth           float64\n",
              "Fifth            float64\n",
              "Sixth            float64\n",
              "T                float64\n",
              "Debut            float64\n",
              "Since/LastApp    float64\n",
              "BestPosition     float64\n",
              "dtype: object"
            ]
          },
          "metadata": {
            "tags": []
          },
          "execution_count": 16
        }
      ]
    },
    {
      "cell_type": "markdown",
      "metadata": {
        "id": "gBRCzJ_el12R"
      },
      "source": [
        "##Q1  Prepare a short report to answer the following questions:\r\n",
        "1.\tWhich are the teams which started playing between 1930-1980?\r\n",
        "2.\tWhich are the top 5 teams in terms of points?\r\n",
        "3.\tWhat is the distribution of the winning percentage for all teams? Which teams are in the top 5 in terms of winning percentage? (Winning percentage= (GamesWon / GamesPlayed)*100)\r\n",
        "4.\tIs there a significant difference in the winning percentage for teams which have attained a best position between 1-3 and those teams which have had a best position between 4-7.\r\n"
      ]
    },
    {
      "cell_type": "code",
      "metadata": {
        "colab": {
          "base_uri": "https://localhost:8080/"
        },
        "id": "ySQ_bI4IloQw",
        "outputId": "e9bb8c40-b99f-4f82-ceeb-b96ea5d18207"
      },
      "source": [
        "#Q1\r\n",
        "#1\r\n",
        "df.loc[(df['Debut']>=1930) & (df['Debut']<=1980)]['Team']"
      ],
      "execution_count": 17,
      "outputs": [
        {
          "output_type": "execute_result",
          "data": {
            "text/plain": [
              "Pos\n",
              "4                Valencia\n",
              "6                 Sevilla\n",
              "9                Zaragoza\n",
              "10             Real Betis\n",
              "11    Deportivo La Coruna\n",
              "12             Celta Vigo\n",
              "13             Valladolid\n",
              "15         Sporting Gijon\n",
              "16                Osasuna\n",
              "17                 Malaga\n",
              "18                 Oviedo\n",
              "19               Mallorca\n",
              "20             Las Palmas\n",
              "22                Granada\n",
              "23         Rayo Vallecano\n",
              "24                  Elche\n",
              "26               Hercules\n",
              "27               Tenerife\n",
              "28                 Murcia\n",
              "29                 Alaves\n",
              "30                Levante\n",
              "31              Salamanca\n",
              "32               Sabadell\n",
              "33                  Cadiz\n",
              "35              Castellon\n",
              "38                Cordoba\n",
              "40             Recreativo\n",
              "41              Burgos CF\n",
              "42             Pontevedra\n",
              "47              Gimnastic\n",
              "50               Alcoyano\n",
              "51                   Jaen\n",
              "53             AD Almeria\n",
              "55                 Lleida\n",
              "58                 Condal\n",
              "59        Atletico Tetuan\n",
              "60       Cultural Leonesa\n",
              "Name: Team, dtype: object"
            ]
          },
          "metadata": {
            "tags": []
          },
          "execution_count": 17
        }
      ]
    },
    {
      "cell_type": "code",
      "metadata": {
        "colab": {
          "base_uri": "https://localhost:8080/"
        },
        "id": "YIuTyfUClsW7",
        "outputId": "5fcd3b38-846f-4237-8067-d525c627405d"
      },
      "source": [
        "#2\r\n",
        "df['Team'].groupby(df['Points'].sort_values(ascending=False)).head(5)"
      ],
      "execution_count": 23,
      "outputs": [
        {
          "output_type": "execute_result",
          "data": {
            "text/plain": [
              "Pos\n",
              "1          Real Madrid\n",
              "2            Barcelona\n",
              "3      Atletico Madrid\n",
              "4             Valencia\n",
              "5      Athletic Bilbao\n",
              "            ...       \n",
              "57               Xerez\n",
              "58              Condal\n",
              "59     Atletico Tetuan\n",
              "60    Cultural Leonesa\n",
              "61              Girona\n",
              "Name: Team, Length: 61, dtype: object"
            ]
          },
          "metadata": {
            "tags": []
          },
          "execution_count": 23
        }
      ]
    },
    {
      "cell_type": "code",
      "metadata": {
        "id": "qpDm17eYoNe2"
      },
      "source": [
        "#3\r\n",
        "df['winning_percent'] = [(df['GamesWon'].values[i]/df['GamesPlayed'].values[i])*100 for i in range(df.shape[0])]"
      ],
      "execution_count": 38,
      "outputs": []
    },
    {
      "cell_type": "code",
      "metadata": {
        "id": "38adnOeYqUX2"
      },
      "source": [
        "del df['winning_percent']"
      ],
      "execution_count": 37,
      "outputs": []
    },
    {
      "cell_type": "code",
      "metadata": {
        "colab": {
          "base_uri": "https://localhost:8080/",
          "height": 323
        },
        "id": "uvaXeUaYp42C",
        "outputId": "456a6030-39a4-45ab-8471-758c1d3922ca"
      },
      "source": [
        "df.head()"
      ],
      "execution_count": 39,
      "outputs": [
        {
          "output_type": "execute_result",
          "data": {
            "text/html": [
              "<div>\n",
              "<style scoped>\n",
              "    .dataframe tbody tr th:only-of-type {\n",
              "        vertical-align: middle;\n",
              "    }\n",
              "\n",
              "    .dataframe tbody tr th {\n",
              "        vertical-align: top;\n",
              "    }\n",
              "\n",
              "    .dataframe thead th {\n",
              "        text-align: right;\n",
              "    }\n",
              "</style>\n",
              "<table border=\"1\" class=\"dataframe\">\n",
              "  <thead>\n",
              "    <tr style=\"text-align: right;\">\n",
              "      <th></th>\n",
              "      <th>Team</th>\n",
              "      <th>Seasons</th>\n",
              "      <th>Points</th>\n",
              "      <th>GamesPlayed</th>\n",
              "      <th>GamesWon</th>\n",
              "      <th>GamesDrawn</th>\n",
              "      <th>GamesLost</th>\n",
              "      <th>GoalsFor</th>\n",
              "      <th>GoalsAgainst</th>\n",
              "      <th>Champion</th>\n",
              "      <th>Runner-up</th>\n",
              "      <th>Third</th>\n",
              "      <th>Fourth</th>\n",
              "      <th>Fifth</th>\n",
              "      <th>Sixth</th>\n",
              "      <th>T</th>\n",
              "      <th>Debut</th>\n",
              "      <th>Since/LastApp</th>\n",
              "      <th>BestPosition</th>\n",
              "      <th>winning_percent</th>\n",
              "    </tr>\n",
              "    <tr>\n",
              "      <th>Pos</th>\n",
              "      <th></th>\n",
              "      <th></th>\n",
              "      <th></th>\n",
              "      <th></th>\n",
              "      <th></th>\n",
              "      <th></th>\n",
              "      <th></th>\n",
              "      <th></th>\n",
              "      <th></th>\n",
              "      <th></th>\n",
              "      <th></th>\n",
              "      <th></th>\n",
              "      <th></th>\n",
              "      <th></th>\n",
              "      <th></th>\n",
              "      <th></th>\n",
              "      <th></th>\n",
              "      <th></th>\n",
              "      <th></th>\n",
              "      <th></th>\n",
              "    </tr>\n",
              "  </thead>\n",
              "  <tbody>\n",
              "    <tr>\n",
              "      <th>1</th>\n",
              "      <td>Real Madrid</td>\n",
              "      <td>86.0</td>\n",
              "      <td>4385.0</td>\n",
              "      <td>2762.0</td>\n",
              "      <td>1647.0</td>\n",
              "      <td>552.0</td>\n",
              "      <td>563.0</td>\n",
              "      <td>5947.0</td>\n",
              "      <td>3140.0</td>\n",
              "      <td>33.0</td>\n",
              "      <td>23.0</td>\n",
              "      <td>8.0</td>\n",
              "      <td>8.0</td>\n",
              "      <td>3.0</td>\n",
              "      <td>4.0</td>\n",
              "      <td>79.0</td>\n",
              "      <td>1929.0</td>\n",
              "      <td>1929.0</td>\n",
              "      <td>1.0</td>\n",
              "      <td>59.630702</td>\n",
              "    </tr>\n",
              "    <tr>\n",
              "      <th>2</th>\n",
              "      <td>Barcelona</td>\n",
              "      <td>86.0</td>\n",
              "      <td>4262.0</td>\n",
              "      <td>2762.0</td>\n",
              "      <td>1581.0</td>\n",
              "      <td>573.0</td>\n",
              "      <td>608.0</td>\n",
              "      <td>5900.0</td>\n",
              "      <td>3114.0</td>\n",
              "      <td>25.0</td>\n",
              "      <td>25.0</td>\n",
              "      <td>12.0</td>\n",
              "      <td>12.0</td>\n",
              "      <td>4.0</td>\n",
              "      <td>6.0</td>\n",
              "      <td>83.0</td>\n",
              "      <td>1929.0</td>\n",
              "      <td>1929.0</td>\n",
              "      <td>1.0</td>\n",
              "      <td>57.241130</td>\n",
              "    </tr>\n",
              "    <tr>\n",
              "      <th>3</th>\n",
              "      <td>Atletico Madrid</td>\n",
              "      <td>80.0</td>\n",
              "      <td>3442.0</td>\n",
              "      <td>2614.0</td>\n",
              "      <td>1241.0</td>\n",
              "      <td>598.0</td>\n",
              "      <td>775.0</td>\n",
              "      <td>4534.0</td>\n",
              "      <td>3309.0</td>\n",
              "      <td>10.0</td>\n",
              "      <td>8.0</td>\n",
              "      <td>16.0</td>\n",
              "      <td>9.0</td>\n",
              "      <td>7.0</td>\n",
              "      <td>6.0</td>\n",
              "      <td>56.0</td>\n",
              "      <td>1929.0</td>\n",
              "      <td>2003.0</td>\n",
              "      <td>1.0</td>\n",
              "      <td>47.475134</td>\n",
              "    </tr>\n",
              "    <tr>\n",
              "      <th>4</th>\n",
              "      <td>Valencia</td>\n",
              "      <td>82.0</td>\n",
              "      <td>3386.0</td>\n",
              "      <td>2664.0</td>\n",
              "      <td>1187.0</td>\n",
              "      <td>616.0</td>\n",
              "      <td>861.0</td>\n",
              "      <td>4398.0</td>\n",
              "      <td>3469.0</td>\n",
              "      <td>6.0</td>\n",
              "      <td>6.0</td>\n",
              "      <td>10.0</td>\n",
              "      <td>11.0</td>\n",
              "      <td>10.0</td>\n",
              "      <td>7.0</td>\n",
              "      <td>50.0</td>\n",
              "      <td>1931.0</td>\n",
              "      <td>1988.0</td>\n",
              "      <td>1.0</td>\n",
              "      <td>44.557057</td>\n",
              "    </tr>\n",
              "    <tr>\n",
              "      <th>5</th>\n",
              "      <td>Athletic Bilbao</td>\n",
              "      <td>86.0</td>\n",
              "      <td>3368.0</td>\n",
              "      <td>2762.0</td>\n",
              "      <td>1209.0</td>\n",
              "      <td>633.0</td>\n",
              "      <td>920.0</td>\n",
              "      <td>4631.0</td>\n",
              "      <td>3700.0</td>\n",
              "      <td>8.0</td>\n",
              "      <td>7.0</td>\n",
              "      <td>10.0</td>\n",
              "      <td>5.0</td>\n",
              "      <td>8.0</td>\n",
              "      <td>10.0</td>\n",
              "      <td>49.0</td>\n",
              "      <td>1929.0</td>\n",
              "      <td>1929.0</td>\n",
              "      <td>1.0</td>\n",
              "      <td>43.772629</td>\n",
              "    </tr>\n",
              "  </tbody>\n",
              "</table>\n",
              "</div>"
            ],
            "text/plain": [
              "                Team  Seasons  ...  BestPosition  winning_percent\n",
              "Pos                            ...                               \n",
              "1        Real Madrid     86.0  ...           1.0        59.630702\n",
              "2          Barcelona     86.0  ...           1.0        57.241130\n",
              "3    Atletico Madrid     80.0  ...           1.0        47.475134\n",
              "4           Valencia     82.0  ...           1.0        44.557057\n",
              "5    Athletic Bilbao     86.0  ...           1.0        43.772629\n",
              "\n",
              "[5 rows x 20 columns]"
            ]
          },
          "metadata": {
            "tags": []
          },
          "execution_count": 39
        }
      ]
    },
    {
      "cell_type": "code",
      "metadata": {
        "colab": {
          "base_uri": "https://localhost:8080/"
        },
        "id": "aJRsP4aRxn_j",
        "outputId": "d805d59a-c112-4a24-fc99-5f527dbe62d3"
      },
      "source": [
        "#\r\n",
        "\r\n",
        "df['Team'].groupby(df['winning_percent'].sort_values(ascending=False)).head(5)"
      ],
      "execution_count": 43,
      "outputs": [
        {
          "output_type": "execute_result",
          "data": {
            "text/plain": [
              "Pos\n",
              "1          Real Madrid\n",
              "2            Barcelona\n",
              "3      Atletico Madrid\n",
              "4             Valencia\n",
              "5      Athletic Bilbao\n",
              "            ...       \n",
              "57               Xerez\n",
              "58              Condal\n",
              "59     Atletico Tetuan\n",
              "60    Cultural Leonesa\n",
              "61              Girona\n",
              "Name: Team, Length: 61, dtype: object"
            ]
          },
          "metadata": {
            "tags": []
          },
          "execution_count": 43
        }
      ]
    },
    {
      "cell_type": "code",
      "metadata": {
        "id": "lRq3oBIYyeh3"
      },
      "source": [
        "#4\r\n",
        "one_3 = df.loc[(df['BestPosition']>=1) & (df['BestPosition']<=3)]['winning_percent'].values"
      ],
      "execution_count": 44,
      "outputs": []
    },
    {
      "cell_type": "code",
      "metadata": {
        "id": "17grcmAzytD7"
      },
      "source": [
        "four_7 = df.loc[(df['BestPosition']>=4) & (df['BestPosition']<=7)]['winning_percent'].values"
      ],
      "execution_count": 45,
      "outputs": []
    },
    {
      "cell_type": "code",
      "metadata": {
        "colab": {
          "base_uri": "https://localhost:8080/"
        },
        "id": "nedAEtE_y0ai",
        "outputId": "ad9deb56-e605-4caf-d0f5-1f2b70f40c71"
      },
      "source": [
        "from scipy.stats import shapiro\r\n",
        "\r\n",
        "stats1,pvalue1 = shapiro(one_3)\r\n",
        "print(stats1, pvalue1)"
      ],
      "execution_count": 46,
      "outputs": [
        {
          "output_type": "stream",
          "text": [
            "0.8252524733543396 0.0035329433158040047\n"
          ],
          "name": "stdout"
        }
      ]
    },
    {
      "cell_type": "code",
      "metadata": {
        "colab": {
          "base_uri": "https://localhost:8080/",
          "height": 282
        },
        "id": "ka_tXmf9y8tI",
        "outputId": "b3fae677-e3fe-44a6-9ff2-d5eb7343e784"
      },
      "source": [
        "sns.set_style('whitegrid')\r\n",
        "sns.distplot(one_3)"
      ],
      "execution_count": 48,
      "outputs": [
        {
          "output_type": "execute_result",
          "data": {
            "text/plain": [
              "<matplotlib.axes._subplots.AxesSubplot at 0x7f8699b341d0>"
            ]
          },
          "metadata": {
            "tags": []
          },
          "execution_count": 48
        },
        {
          "output_type": "display_data",
          "data": {
            "image/png": "[encoded data removed]",
            "text/plain": [
              "<Figure size 432x288 with 1 Axes>"
            ]
          },
          "metadata": {
            "tags": []
          }
        }
      ]
    },
    {
      "cell_type": "code",
      "metadata": {
        "id": "88NQO7Hszbzm"
      },
      "source": [
        "test_st, pv = stats.kruskal(one_3, four_7)"
      ],
      "execution_count": 49,
      "outputs": []
    },
    {
      "cell_type": "code",
      "metadata": {
        "colab": {
          "base_uri": "https://localhost:8080/"
        },
        "id": "A7TKPXKazgjL",
        "outputId": "73f55258-7bde-4f9a-db3f-ec7985de061d"
      },
      "source": [
        "print(test_st, pv)"
      ],
      "execution_count": 50,
      "outputs": [
        {
          "output_type": "stream",
          "text": [
            "24.413782495561865 7.771074596666456e-07\n"
          ],
          "name": "stdout"
        }
      ]
    },
    {
      "cell_type": "code",
      "metadata": {
        "colab": {
          "base_uri": "https://localhost:8080/"
        },
        "id": "iuk9hUgTzjxv",
        "outputId": "97caee9d-a1f0-486d-a3b7-2269d14df1b6"
      },
      "source": [
        "stats2,pvalue2 = shapiro(four_7)\r\n",
        "print(stats2, pvalue2)"
      ],
      "execution_count": 51,
      "outputs": [
        {
          "output_type": "stream",
          "text": [
            "0.9436671733856201 0.2809881269931793\n"
          ],
          "name": "stdout"
        }
      ]
    },
    {
      "cell_type": "markdown",
      "metadata": {
        "id": "_PUqcSFGzyVp"
      },
      "source": [
        "H0: There is no significant difference between team with position between 1-3 and teams with positions 4-7\r\n",
        "\r\n",
        "H1: there is significant difference \r\n",
        "\r\n",
        "\r\n",
        "Result:\r\n",
        "there is significant difference in the winning percentage for teams which have attained a best position between 1-3 and those teams which have had a best position between 4-7"
      ]
    },
    {
      "cell_type": "markdown",
      "metadata": {
        "id": "Z4i6s1e-0REi"
      },
      "source": [
        "##A study was done to measure the blood pressure of 60 year old women with glaucoma. A random sample of 200 60-year old women with glaucoma was chosen. The mean of the systolic blood pressure in the sample was 140 mm Hg and the standard deviation was 25 mm Hg.\r\n",
        "\r\n",
        "a)\tCalculate the estimated standard error of the sample mean? What does the standard error indicate?\r\n",
        "\r\n",
        "b)\tEstimate a 95% confidence interval for the true mean blood pressure for all 60-year old women with glaucoma.\r\n",
        "\r\n",
        "c)\tAssume that instead of 200, a random sample of only 100 60-year old women with glaucoma was chosen. The sample mean and standard deviation estimates are the same as those in the original study. What is the estimated 95% confidence interval for the true mean blood pressure?\r\n",
        "\r\n",
        "d)\tWhich of the two above intervals are wider?\r\n",
        "\r\n",
        "e)\tExplain in non-technical terms why the estimated standard error of a sample mean tends to decrease with an increase in sample size.\r\n"
      ]
    },
    {
      "cell_type": "code",
      "metadata": {
        "id": "Ml_Ny56o0Jda"
      },
      "source": [
        "#Q2\r\n",
        "n= 200\r\n",
        "xbar = 140\r\n",
        "std = 25"
      ],
      "execution_count": 52,
      "outputs": []
    },
    {
      "cell_type": "code",
      "metadata": {
        "colab": {
          "base_uri": "https://localhost:8080/"
        },
        "id": "0iY2aw8Z0yT7",
        "outputId": "c24697df-f3f9-4b75-9d7e-bf91866542e1"
      },
      "source": [
        "#a\r\n",
        "se= std/np.sqrt(n)\r\n",
        "print(se)"
      ],
      "execution_count": 54,
      "outputs": [
        {
          "output_type": "stream",
          "text": [
            "1.7677669529663687\n"
          ],
          "name": "stdout"
        }
      ]
    },
    {
      "cell_type": "code",
      "metadata": {
        "colab": {
          "base_uri": "https://localhost:8080/"
        },
        "id": "TKW6DzYe1ART",
        "outputId": "f737da6c-5455-45cc-b744-7ada3bf92b25"
      },
      "source": [
        "#b\r\n",
        "x1,y1= stats.t.interval(0.95,loc=xbar, df= n-1,scale=se)\r\n",
        "print(x1,y1)"
      ],
      "execution_count": 55,
      "outputs": [
        {
          "output_type": "stream",
          "text": [
            "136.51404038839016 143.48595961160984\n"
          ],
          "name": "stdout"
        }
      ]
    },
    {
      "cell_type": "code",
      "metadata": {
        "colab": {
          "base_uri": "https://localhost:8080/"
        },
        "id": "qktRDasA1WgE",
        "outputId": "03eda232-b02a-48ab-8aaa-033cb3591974"
      },
      "source": [
        "#c\r\n",
        "\r\n",
        "x2,y2 = stats.t.interval(0.95,loc=xbar, df= 99,scale=se)\r\n",
        "print(x2,y2)"
      ],
      "execution_count": 56,
      "outputs": [
        {
          "output_type": "stream",
          "text": [
            "136.49236684560728 143.50763315439272\n"
          ],
          "name": "stdout"
        }
      ]
    },
    {
      "cell_type": "code",
      "metadata": {
        "colab": {
          "base_uri": "https://localhost:8080/"
        },
        "id": "oimy9tae1rdF",
        "outputId": "ecdcdcbe-1967-4014-ec1a-13a59785a109"
      },
      "source": [
        "#d\r\n",
        "print(abs(x1-y1))\r\n",
        "print(abs(x2-y2))\r\n",
        "\r\n",
        "#100 sample is wider"
      ],
      "execution_count": 57,
      "outputs": [
        {
          "output_type": "stream",
          "text": [
            "6.971919223219686\n",
            "7.015266308785442\n"
          ],
          "name": "stdout"
        }
      ]
    },
    {
      "cell_type": "markdown",
      "metadata": {
        "id": "gE4UA_CB2Ucy"
      },
      "source": [
        "when we divide the std with sqrt of sample size then bigger the denominator, smaller is the fraction"
      ]
    },
    {
      "cell_type": "markdown",
      "metadata": {
        "id": "9j6kEMRg22yE"
      },
      "source": [
        "## Q3  One of the researchers voiced concern about the effect of the new coating on driving distances. Par would like the new cut-resistant ball to offer driving distances comparable to those of the current-model golf ball. To compare the driving distances for the two balls, 40 balls of both the new and current models were subjected to distance tests. The testing was performed with a mechanical hitting machine so that any difference between the mean distances for the two models could be attributed to a difference in the design. The results of the tests, with distances measured to the nearest yard, are contained in   the data set “Golf”.\r\n",
        "\r\n",
        "1.\tFormulate and present the rationale for a hypothesis test that Par could use to compare the driving distances of the current and new golf balls.\r\n",
        "\r\n",
        "2.\tAnalyze the data to provide the hypothesis testing conclusion. What is the p-value for your test? What is your recommendation for Par Inc.?\r\n",
        "\r\n",
        "3.\tWhat is the 95% confidence interval for the population mean of each model, and \r\n",
        "what is the 95% confidence interval for the difference between the means of the two population?\r\n"
      ]
    },
    {
      "cell_type": "code",
      "metadata": {
        "colab": {
          "base_uri": "https://localhost:8080/",
          "height": 204
        },
        "id": "BTWvQAuN1-Xs",
        "outputId": "a5835313-8526-4a3b-b36c-a9308a9d3c81"
      },
      "source": [
        "df2=pd.read_csv('/content/Golf.csv')\r\n",
        "df2.head()"
      ],
      "execution_count": 59,
      "outputs": [
        {
          "output_type": "execute_result",
          "data": {
            "text/html": [
              "<div>\n",
              "<style scoped>\n",
              "    .dataframe tbody tr th:only-of-type {\n",
              "        vertical-align: middle;\n",
              "    }\n",
              "\n",
              "    .dataframe tbody tr th {\n",
              "        vertical-align: top;\n",
              "    }\n",
              "\n",
              "    .dataframe thead th {\n",
              "        text-align: right;\n",
              "    }\n",
              "</style>\n",
              "<table border=\"1\" class=\"dataframe\">\n",
              "  <thead>\n",
              "    <tr style=\"text-align: right;\">\n",
              "      <th></th>\n",
              "      <th>Current</th>\n",
              "      <th>New</th>\n",
              "    </tr>\n",
              "  </thead>\n",
              "  <tbody>\n",
              "    <tr>\n",
              "      <th>0</th>\n",
              "      <td>264</td>\n",
              "      <td>277</td>\n",
              "    </tr>\n",
              "    <tr>\n",
              "      <th>1</th>\n",
              "      <td>261</td>\n",
              "      <td>269</td>\n",
              "    </tr>\n",
              "    <tr>\n",
              "      <th>2</th>\n",
              "      <td>267</td>\n",
              "      <td>263</td>\n",
              "    </tr>\n",
              "    <tr>\n",
              "      <th>3</th>\n",
              "      <td>272</td>\n",
              "      <td>266</td>\n",
              "    </tr>\n",
              "    <tr>\n",
              "      <th>4</th>\n",
              "      <td>258</td>\n",
              "      <td>262</td>\n",
              "    </tr>\n",
              "  </tbody>\n",
              "</table>\n",
              "</div>"
            ],
            "text/plain": [
              "   Current  New\n",
              "0      264  277\n",
              "1      261  269\n",
              "2      267  263\n",
              "3      272  266\n",
              "4      258  262"
            ]
          },
          "metadata": {
            "tags": []
          },
          "execution_count": 59
        }
      ]
    },
    {
      "cell_type": "markdown",
      "metadata": {
        "id": "MhtbY8jM3gmo"
      },
      "source": [
        "H0:  No difference in mean GolfBallB-GolfBallA = 0\r\n",
        "\r\n",
        "H1:  GolfBallB-GolfballA < 0"
      ]
    },
    {
      "cell_type": "code",
      "metadata": {
        "colab": {
          "base_uri": "https://localhost:8080/"
        },
        "id": "Xm_k_4st3TzE",
        "outputId": "78d48d86-6b1f-4467-e2f4-fd010187caae"
      },
      "source": [
        "# paired one tail t test can be performed\r\n",
        "# 1\r\n",
        "c= df2['Current']\r\n",
        "n= df2['New']\r\n",
        "\r\n",
        "\r\n",
        "x1= np.mean(c)\r\n",
        "std1= np.std(c)\r\n",
        "se1= std1/np.sqrt(len(c))\r\n",
        "\r\n",
        "x2= np.mean(n)\r\n",
        "std2= np.std(n)\r\n",
        "se2= std2/np.sqrt(len(c))\r\n",
        "\r\n",
        "print(x1, 'c')\r\n",
        "print(x2, 'n')"
      ],
      "execution_count": 60,
      "outputs": [
        {
          "output_type": "stream",
          "text": [
            "270.275 c\n",
            "267.5 n\n"
          ],
          "name": "stdout"
        }
      ]
    },
    {
      "cell_type": "code",
      "metadata": {
        "colab": {
          "base_uri": "https://localhost:8080/"
        },
        "id": "5WFAe1AW4mvb",
        "outputId": "193e083a-8794-41b2-8d0f-298b5cfad05e"
      },
      "source": [
        "\r\n",
        "#performing normality test since not sure about the significant difference\r\n",
        "\r\n",
        "print(stats.shapiro(c))\r\n",
        "print(stats.shapiro(n))"
      ],
      "execution_count": 61,
      "outputs": [
        {
          "output_type": "stream",
          "text": [
            "(0.9707045555114746, 0.37878310680389404)\n",
            "(0.9678265452384949, 0.3064688742160797)\n"
          ],
          "name": "stdout"
        }
      ]
    },
    {
      "cell_type": "code",
      "metadata": {
        "colab": {
          "base_uri": "https://localhost:8080/"
        },
        "id": "MjSUdWe0425x",
        "outputId": "4314b6d5-7f02-4dae-e27b-5087f33d51d0"
      },
      "source": [
        "#Using t-test as they are normal\r\n",
        "#2\r\n",
        "T_stats, pvalue = stats.ttest_rel(c, n)\r\n",
        "print(T_stats, pvalue)"
      ],
      "execution_count": 63,
      "outputs": [
        {
          "output_type": "stream",
          "text": [
            "1.2769699827911767 0.20916361823147053\n"
          ],
          "name": "stdout"
        }
      ]
    },
    {
      "cell_type": "markdown",
      "metadata": {
        "id": "2EXPvr6S50oB"
      },
      "source": [
        "Since the pvalue > 0.05 we fail to reject null. So there is no difference between speeds."
      ]
    },
    {
      "cell_type": "code",
      "metadata": {
        "colab": {
          "base_uri": "https://localhost:8080/"
        },
        "id": "gh4d32Mm5sKk",
        "outputId": "e2d58b1a-5347-4ebb-ce06-e802f155b5a0"
      },
      "source": [
        "#3 \r\n",
        "print(stats.t.interval(0.95, loc=x1,df=len(c)-1, scale=se1))\r\n",
        "print(stats.t.interval(0.95, loc=x2,df=len(c)-1, scale=se2))"
      ],
      "execution_count": 69,
      "outputs": [
        {
          "output_type": "stream",
          "text": [
            "(267.51087288314795, 273.039127116852)\n",
            "(264.37463162538575, 270.62536837461425)\n"
          ],
          "name": "stdout"
        }
      ]
    },
    {
      "cell_type": "code",
      "metadata": {
        "colab": {
          "base_uri": "https://localhost:8080/"
        },
        "id": "7VRIQTup6n_a",
        "outputId": "3a7ef0fb-9a90-4d6d-d295-4e5484dab958"
      },
      "source": [
        "# difference of mean confidence interval\r\n",
        "\r\n",
        "diff= x1 - x2\r\n",
        "print(diff)"
      ],
      "execution_count": 65,
      "outputs": [
        {
          "output_type": "stream",
          "text": [
            "2.7749999999999773\n"
          ],
          "name": "stdout"
        }
      ]
    },
    {
      "cell_type": "code",
      "metadata": {
        "colab": {
          "base_uri": "https://localhost:8080/"
        },
        "id": "hTLeT3qN6xZA",
        "outputId": "aa5be03b-21c2-4196-b3ac-29ffdbf608fb"
      },
      "source": [
        "\r\n",
        "\r\n",
        "n=len(c)\r\n",
        "up= (se1**2)/n\r\n",
        "lp= (se2**2)/n\r\n",
        "\r\n",
        "print(up)\r\n",
        "print(lp)"
      ],
      "execution_count": 67,
      "outputs": [
        {
          "output_type": "stream",
          "text": [
            "0.046687109375\n",
            "0.059687500000000004\n"
          ],
          "name": "stdout"
        }
      ]
    },
    {
      "cell_type": "code",
      "metadata": {
        "colab": {
          "base_uri": "https://localhost:8080/"
        },
        "id": "k5rtT53I7J0_",
        "outputId": "7c112105-698a-480b-f6f8-82a5a2113539"
      },
      "source": [
        "newsr= np.sqrt(up+lp)\r\n",
        "newsr"
      ],
      "execution_count": 68,
      "outputs": [
        {
          "output_type": "execute_result",
          "data": {
            "text/plain": [
              "0.3261512063062162"
            ]
          },
          "metadata": {
            "tags": []
          },
          "execution_count": 68
        }
      ]
    },
    {
      "cell_type": "code",
      "metadata": {
        "colab": {
          "base_uri": "https://localhost:8080/"
        },
        "id": "ODkwKYWc7VMa",
        "outputId": "22f7cd3a-7927-4628-f36c-ae66a1d3fb8b"
      },
      "source": [
        "final = 1.96 * newsr\r\n",
        "final"
      ],
      "execution_count": 71,
      "outputs": [
        {
          "output_type": "execute_result",
          "data": {
            "text/plain": [
              "0.6392563643601837"
            ]
          },
          "metadata": {
            "tags": []
          },
          "execution_count": 71
        }
      ]
    },
    {
      "cell_type": "markdown",
      "metadata": {
        "id": "RzR_dTKs8Q8Y"
      },
      "source": [
        "95% confidence interval for estimating difference between means of two population is:\r\n",
        "\r\n",
        "upper c_value = 2.774 + 0.6392\r\n",
        "\r\n",
        "lower c_value = 2.774 - 0.6392"
      ]
    }
  ]
}