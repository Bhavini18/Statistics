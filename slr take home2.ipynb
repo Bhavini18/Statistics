{
  "nbformat": 4,
  "nbformat_minor": 0,
  "metadata": {
    "kernelspec": {
      "display_name": "Python 3",
      "language": "python",
      "name": "python3"
    },
    "language_info": {
      "codemirror_mode": {
        "name": "ipython",
        "version": 3
      },
      "file_extension": ".py",
      "mimetype": "text/x-python",
      "name": "python",
      "nbconvert_exporter": "python",
      "pygments_lexer": "ipython3",
      "version": "3.6.4"
    },
    "colab": {
      "name": "SLR__MY_Take_home_(Day_2)_Questions_[v1_0_130420].ipynb",
      "provenance": [],
      "collapsed_sections": []
    }
  },
  "cells": [
    {
      "cell_type": "markdown",
      "metadata": {
        "id": "dMeIp2uVkYXy"
      },
      "source": [
        "<table align=\"center\" width=100%>\n",
        "    <tr>\n",
        "        <td width=\"15%\">\n",
        "            <img src=\"homework.png\">\n",
        "        </td>\n",
        "        <td>\n",
        "            <div align=\"center\">\n",
        "                <font color=\"#21618C\" size=8px>\n",
        "                    <b> Take-Home <br>(Day 2)\n",
        "                    </b>\n",
        "                </font>\n",
        "            </div>\n",
        "        </td>\n",
        "    </tr>\n",
        "</table>"
      ]
    },
    {
      "cell_type": "markdown",
      "metadata": {
        "id": "9PS4ioz7kYYE"
      },
      "source": [
        "#### Import the required libraries"
      ]
    },
    {
      "cell_type": "code",
      "metadata": {
        "id": "1E5QXQSDkYYF"
      },
      "source": [
        "import pandas as pd\r\n",
        "import numpy as np\r\n",
        "import seaborn as sns\r\n",
        "import matplotlib.pyplot as plt\r\n",
        "import statsmodels.stats as stats"
      ],
      "execution_count": null,
      "outputs": []
    },
    {
      "cell_type": "code",
      "metadata": {
        "id": "Skyf3QnISD2s"
      },
      "source": [
        "import statsmodels.api as sm"
      ],
      "execution_count": null,
      "outputs": []
    },
    {
      "cell_type": "markdown",
      "metadata": {
        "id": "-io7m80SkYYG"
      },
      "source": [
        "#### Read the data\n",
        "\n",
        "Load the csv file and print the first five observations."
      ]
    },
    {
      "cell_type": "code",
      "metadata": {
        "colab": {
          "base_uri": "https://localhost:8080/"
        },
        "id": "hZSi1JQSkYYG",
        "outputId": "c84a3cee-009d-4e93-9438-b2e2824e6e6c"
      },
      "source": [
        "df= pd.read_csv('/content/diamond_data.csv')\r\n",
        "df.shape"
      ],
      "execution_count": null,
      "outputs": [
        {
          "output_type": "execute_result",
          "data": {
            "text/plain": [
              "(1547, 9)"
            ]
          },
          "metadata": {
            "tags": []
          },
          "execution_count": 92
        }
      ]
    },
    {
      "cell_type": "markdown",
      "metadata": {
        "id": "55P9mLXIkYYH"
      },
      "source": [
        "Our objective is to predict the price of the diamond."
      ]
    },
    {
      "cell_type": "markdown",
      "metadata": {
        "id": "jmioQW08kYYI"
      },
      "source": [
        "**The data definition is as follows:** <br>\n",
        "\n",
        "**carat**: Weight of the diamond\n",
        "\n",
        "**cut**: Quality of the cut (Fair, Good, Very Good, Premium, Ideal)\n",
        "\n",
        "**color**: Diamond color\n",
        "\n",
        "**depth**: Total depth percentage (it is calculated as: 2 * z / (x + y))\n",
        "\n",
        "**table**: Width of top of the diamond relative to the widest point \n",
        "\n",
        "**price**: Price of a diamond in US dollars (target/dependent variable)\n",
        "\n",
        "**x**: Length of a diamond in mm\n",
        "\n",
        "**y**: Width of a diamond in mm\n",
        "\n",
        "**z**: Depth of a diamond in mm"
      ]
    },
    {
      "cell_type": "markdown",
      "metadata": {
        "id": "KgKqbxYWkYYI"
      },
      "source": [
        "### Let's begin with some hands-on practice exercises"
      ]
    },
    {
      "cell_type": "markdown",
      "metadata": {
        "id": "_P0bqcbqkYYJ"
      },
      "source": [
        "<table align=\"left\">\n",
        "    <tr>\n",
        "        <td width=\"6%\">\n",
        "            <img src=\"question_icon.png\">\n",
        "        </td>\n",
        "        <td>\n",
        "            <div align=\"left\", style=\"font-size:120%\">\n",
        "                <font color=\"#21618C\">\n",
        "                    <b>1. Is the variable representing the width of a diamond skewed? If yes, apply an appropriate technique to make the distribution less skewed </b>\n",
        "                </font>\n",
        "            </div>\n",
        "        </td>\n",
        "    </tr>\n",
        "</table>"
      ]
    },
    {
      "cell_type": "code",
      "metadata": {
        "colab": {
          "base_uri": "https://localhost:8080/",
          "height": 197
        },
        "id": "51Pajm2nkYYK",
        "outputId": "62cf09dd-e0a6-4ce5-8693-09d66045c70e"
      },
      "source": [
        "df.head()"
      ],
      "execution_count": null,
      "outputs": [
        {
          "output_type": "execute_result",
          "data": {
            "text/html": [
              "<div>\n",
              "<style scoped>\n",
              "    .dataframe tbody tr th:only-of-type {\n",
              "        vertical-align: middle;\n",
              "    }\n",
              "\n",
              "    .dataframe tbody tr th {\n",
              "        vertical-align: top;\n",
              "    }\n",
              "\n",
              "    .dataframe thead th {\n",
              "        text-align: right;\n",
              "    }\n",
              "</style>\n",
              "<table border=\"1\" class=\"dataframe\">\n",
              "  <thead>\n",
              "    <tr style=\"text-align: right;\">\n",
              "      <th></th>\n",
              "      <th>carat</th>\n",
              "      <th>cut</th>\n",
              "      <th>color</th>\n",
              "      <th>depth</th>\n",
              "      <th>table</th>\n",
              "      <th>price</th>\n",
              "      <th>x</th>\n",
              "      <th>y</th>\n",
              "      <th>z</th>\n",
              "    </tr>\n",
              "  </thead>\n",
              "  <tbody>\n",
              "    <tr>\n",
              "      <th>0</th>\n",
              "      <td>0.30</td>\n",
              "      <td>Good</td>\n",
              "      <td>F</td>\n",
              "      <td>61.1</td>\n",
              "      <td>61.0</td>\n",
              "      <td>682</td>\n",
              "      <td>4.29</td>\n",
              "      <td>4.32</td>\n",
              "      <td>2.63</td>\n",
              "    </tr>\n",
              "    <tr>\n",
              "      <th>1</th>\n",
              "      <td>0.72</td>\n",
              "      <td>Ideal</td>\n",
              "      <td>H</td>\n",
              "      <td>62.0</td>\n",
              "      <td>56.0</td>\n",
              "      <td>2443</td>\n",
              "      <td>5.80</td>\n",
              "      <td>5.74</td>\n",
              "      <td>3.58</td>\n",
              "    </tr>\n",
              "    <tr>\n",
              "      <th>2</th>\n",
              "      <td>1.71</td>\n",
              "      <td>Premium</td>\n",
              "      <td>J</td>\n",
              "      <td>62.9</td>\n",
              "      <td>58.0</td>\n",
              "      <td>8848</td>\n",
              "      <td>7.64</td>\n",
              "      <td>7.58</td>\n",
              "      <td>4.79</td>\n",
              "    </tr>\n",
              "    <tr>\n",
              "      <th>3</th>\n",
              "      <td>1.01</td>\n",
              "      <td>Premium</td>\n",
              "      <td>E</td>\n",
              "      <td>59.2</td>\n",
              "      <td>59.0</td>\n",
              "      <td>7287</td>\n",
              "      <td>6.67</td>\n",
              "      <td>6.60</td>\n",
              "      <td>3.93</td>\n",
              "    </tr>\n",
              "    <tr>\n",
              "      <th>4</th>\n",
              "      <td>0.52</td>\n",
              "      <td>Ideal</td>\n",
              "      <td>D</td>\n",
              "      <td>62.7</td>\n",
              "      <td>56.0</td>\n",
              "      <td>1720</td>\n",
              "      <td>5.17</td>\n",
              "      <td>5.14</td>\n",
              "      <td>3.23</td>\n",
              "    </tr>\n",
              "  </tbody>\n",
              "</table>\n",
              "</div>"
            ],
            "text/plain": [
              "   carat      cut color  depth  table  price     x     y     z\n",
              "0   0.30     Good     F   61.1   61.0    682  4.29  4.32  2.63\n",
              "1   0.72    Ideal     H   62.0   56.0   2443  5.80  5.74  3.58\n",
              "2   1.71  Premium     J   62.9   58.0   8848  7.64  7.58  4.79\n",
              "3   1.01  Premium     E   59.2   59.0   7287  6.67  6.60  3.93\n",
              "4   0.52    Ideal     D   62.7   56.0   1720  5.17  5.14  3.23"
            ]
          },
          "metadata": {
            "tags": []
          },
          "execution_count": 93
        }
      ]
    },
    {
      "cell_type": "code",
      "metadata": {
        "colab": {
          "base_uri": "https://localhost:8080/",
          "height": 352
        },
        "id": "0tn8ujI5zfMY",
        "outputId": "d2d1e200-ec83-4c47-f78d-88784e0562e5"
      },
      "source": [
        "print(df['y'].skew())\r\n",
        "\r\n",
        "sns.distplot(df['y'])\r\n",
        "plt.show()"
      ],
      "execution_count": null,
      "outputs": [
        {
          "output_type": "stream",
          "text": [
            "0.4383878452014628\n"
          ],
          "name": "stdout"
        },
        {
          "output_type": "stream",
          "text": [
            "/usr/local/lib/python3.6/dist-packages/seaborn/distributions.py:2557: FutureWarning: `distplot` is a deprecated function and will be removed in a future version. Please adapt your code to use either `displot` (a figure-level function with similar flexibility) or `histplot` (an axes-level function for histograms).\n",
            "  warnings.warn(msg, FutureWarning)\n"
          ],
          "name": "stderr"
        },
        {
          "output_type": "display_data",
          "data": {
            "image/png": "[encoded data removed]",
            "text/plain": [
              "<Figure size 432x288 with 1 Axes>"
            ]
          },
          "metadata": {
            "tags": [],
            "needs_background": "light"
          }
        }
      ]
    },
    {
      "cell_type": "code",
      "metadata": {
        "id": "b1f0NKE8z4Ka"
      },
      "source": [
        "# yes, it is skewed. \r\n",
        "\r\n",
        "#we can use a log transform. \r\n",
        "\r\n",
        "df['log_width'] = np.log1p(df['y'])"
      ],
      "execution_count": null,
      "outputs": []
    },
    {
      "cell_type": "code",
      "metadata": {
        "colab": {
          "base_uri": "https://localhost:8080/",
          "height": 197
        },
        "id": "mwF2SaoWzfQW",
        "outputId": "c7029fc8-05b5-4b4e-9497-3435cd859f4f"
      },
      "source": [
        "df.head()"
      ],
      "execution_count": null,
      "outputs": [
        {
          "output_type": "execute_result",
          "data": {
            "text/html": [
              "<div>\n",
              "<style scoped>\n",
              "    .dataframe tbody tr th:only-of-type {\n",
              "        vertical-align: middle;\n",
              "    }\n",
              "\n",
              "    .dataframe tbody tr th {\n",
              "        vertical-align: top;\n",
              "    }\n",
              "\n",
              "    .dataframe thead th {\n",
              "        text-align: right;\n",
              "    }\n",
              "</style>\n",
              "<table border=\"1\" class=\"dataframe\">\n",
              "  <thead>\n",
              "    <tr style=\"text-align: right;\">\n",
              "      <th></th>\n",
              "      <th>carat</th>\n",
              "      <th>cut</th>\n",
              "      <th>color</th>\n",
              "      <th>depth</th>\n",
              "      <th>table</th>\n",
              "      <th>price</th>\n",
              "      <th>x</th>\n",
              "      <th>y</th>\n",
              "      <th>z</th>\n",
              "      <th>log_width</th>\n",
              "    </tr>\n",
              "  </thead>\n",
              "  <tbody>\n",
              "    <tr>\n",
              "      <th>0</th>\n",
              "      <td>0.30</td>\n",
              "      <td>Good</td>\n",
              "      <td>F</td>\n",
              "      <td>61.1</td>\n",
              "      <td>61.0</td>\n",
              "      <td>682</td>\n",
              "      <td>4.29</td>\n",
              "      <td>4.32</td>\n",
              "      <td>2.63</td>\n",
              "      <td>1.671473</td>\n",
              "    </tr>\n",
              "    <tr>\n",
              "      <th>1</th>\n",
              "      <td>0.72</td>\n",
              "      <td>Ideal</td>\n",
              "      <td>H</td>\n",
              "      <td>62.0</td>\n",
              "      <td>56.0</td>\n",
              "      <td>2443</td>\n",
              "      <td>5.80</td>\n",
              "      <td>5.74</td>\n",
              "      <td>3.58</td>\n",
              "      <td>1.908060</td>\n",
              "    </tr>\n",
              "    <tr>\n",
              "      <th>2</th>\n",
              "      <td>1.71</td>\n",
              "      <td>Premium</td>\n",
              "      <td>J</td>\n",
              "      <td>62.9</td>\n",
              "      <td>58.0</td>\n",
              "      <td>8848</td>\n",
              "      <td>7.64</td>\n",
              "      <td>7.58</td>\n",
              "      <td>4.79</td>\n",
              "      <td>2.149434</td>\n",
              "    </tr>\n",
              "    <tr>\n",
              "      <th>3</th>\n",
              "      <td>1.01</td>\n",
              "      <td>Premium</td>\n",
              "      <td>E</td>\n",
              "      <td>59.2</td>\n",
              "      <td>59.0</td>\n",
              "      <td>7287</td>\n",
              "      <td>6.67</td>\n",
              "      <td>6.60</td>\n",
              "      <td>3.93</td>\n",
              "      <td>2.028148</td>\n",
              "    </tr>\n",
              "    <tr>\n",
              "      <th>4</th>\n",
              "      <td>0.52</td>\n",
              "      <td>Ideal</td>\n",
              "      <td>D</td>\n",
              "      <td>62.7</td>\n",
              "      <td>56.0</td>\n",
              "      <td>1720</td>\n",
              "      <td>5.17</td>\n",
              "      <td>5.14</td>\n",
              "      <td>3.23</td>\n",
              "      <td>1.814825</td>\n",
              "    </tr>\n",
              "  </tbody>\n",
              "</table>\n",
              "</div>"
            ],
            "text/plain": [
              "   carat      cut color  depth  table  price     x     y     z  log_width\n",
              "0   0.30     Good     F   61.1   61.0    682  4.29  4.32  2.63   1.671473\n",
              "1   0.72    Ideal     H   62.0   56.0   2443  5.80  5.74  3.58   1.908060\n",
              "2   1.71  Premium     J   62.9   58.0   8848  7.64  7.58  4.79   2.149434\n",
              "3   1.01  Premium     E   59.2   59.0   7287  6.67  6.60  3.93   2.028148\n",
              "4   0.52    Ideal     D   62.7   56.0   1720  5.17  5.14  3.23   1.814825"
            ]
          },
          "metadata": {
            "tags": []
          },
          "execution_count": 96
        }
      ]
    },
    {
      "cell_type": "markdown",
      "metadata": {
        "id": "NPnDEwMikYYL"
      },
      "source": [
        "<table align=\"left\">\n",
        "    <tr>\n",
        "        <td width=\"6%\">\n",
        "            <img src=\"question_icon.png\">\n",
        "        </td>\n",
        "        <td>\n",
        "            <div align=\"left\", style=\"font-size:120%\">\n",
        "                <font color=\"#21618C\">\n",
        "                    <b>2. Build a full model and check whether the errors have a serial correlation or not</b>\n",
        "                </font>\n",
        "            </div>\n",
        "        </td>\n",
        "    </tr>\n",
        "</table>"
      ]
    },
    {
      "cell_type": "code",
      "metadata": {
        "colab": {
          "base_uri": "https://localhost:8080/",
          "height": 197
        },
        "id": "moDzHSVmkYYL",
        "outputId": "1634e222-4346-426b-c7d3-474344d9ac9c"
      },
      "source": [
        "df1= pd.get_dummies(columns=['cut', 'color'], data=df, drop_first=True)\r\n",
        "df1.head()"
      ],
      "execution_count": null,
      "outputs": [
        {
          "output_type": "execute_result",
          "data": {
            "text/html": [
              "<div>\n",
              "<style scoped>\n",
              "    .dataframe tbody tr th:only-of-type {\n",
              "        vertical-align: middle;\n",
              "    }\n",
              "\n",
              "    .dataframe tbody tr th {\n",
              "        vertical-align: top;\n",
              "    }\n",
              "\n",
              "    .dataframe thead th {\n",
              "        text-align: right;\n",
              "    }\n",
              "</style>\n",
              "<table border=\"1\" class=\"dataframe\">\n",
              "  <thead>\n",
              "    <tr style=\"text-align: right;\">\n",
              "      <th></th>\n",
              "      <th>carat</th>\n",
              "      <th>depth</th>\n",
              "      <th>table</th>\n",
              "      <th>price</th>\n",
              "      <th>x</th>\n",
              "      <th>y</th>\n",
              "      <th>z</th>\n",
              "      <th>log_width</th>\n",
              "      <th>cut_Good</th>\n",
              "      <th>cut_Ideal</th>\n",
              "      <th>cut_Premium</th>\n",
              "      <th>cut_Very Good</th>\n",
              "      <th>color_E</th>\n",
              "      <th>color_F</th>\n",
              "      <th>color_G</th>\n",
              "      <th>color_H</th>\n",
              "      <th>color_I</th>\n",
              "      <th>color_J</th>\n",
              "    </tr>\n",
              "  </thead>\n",
              "  <tbody>\n",
              "    <tr>\n",
              "      <th>0</th>\n",
              "      <td>0.30</td>\n",
              "      <td>61.1</td>\n",
              "      <td>61.0</td>\n",
              "      <td>682</td>\n",
              "      <td>4.29</td>\n",
              "      <td>4.32</td>\n",
              "      <td>2.63</td>\n",
              "      <td>1.671473</td>\n",
              "      <td>1</td>\n",
              "      <td>0</td>\n",
              "      <td>0</td>\n",
              "      <td>0</td>\n",
              "      <td>0</td>\n",
              "      <td>1</td>\n",
              "      <td>0</td>\n",
              "      <td>0</td>\n",
              "      <td>0</td>\n",
              "      <td>0</td>\n",
              "    </tr>\n",
              "    <tr>\n",
              "      <th>1</th>\n",
              "      <td>0.72</td>\n",
              "      <td>62.0</td>\n",
              "      <td>56.0</td>\n",
              "      <td>2443</td>\n",
              "      <td>5.80</td>\n",
              "      <td>5.74</td>\n",
              "      <td>3.58</td>\n",
              "      <td>1.908060</td>\n",
              "      <td>0</td>\n",
              "      <td>1</td>\n",
              "      <td>0</td>\n",
              "      <td>0</td>\n",
              "      <td>0</td>\n",
              "      <td>0</td>\n",
              "      <td>0</td>\n",
              "      <td>1</td>\n",
              "      <td>0</td>\n",
              "      <td>0</td>\n",
              "    </tr>\n",
              "    <tr>\n",
              "      <th>2</th>\n",
              "      <td>1.71</td>\n",
              "      <td>62.9</td>\n",
              "      <td>58.0</td>\n",
              "      <td>8848</td>\n",
              "      <td>7.64</td>\n",
              "      <td>7.58</td>\n",
              "      <td>4.79</td>\n",
              "      <td>2.149434</td>\n",
              "      <td>0</td>\n",
              "      <td>0</td>\n",
              "      <td>1</td>\n",
              "      <td>0</td>\n",
              "      <td>0</td>\n",
              "      <td>0</td>\n",
              "      <td>0</td>\n",
              "      <td>0</td>\n",
              "      <td>0</td>\n",
              "      <td>1</td>\n",
              "    </tr>\n",
              "    <tr>\n",
              "      <th>3</th>\n",
              "      <td>1.01</td>\n",
              "      <td>59.2</td>\n",
              "      <td>59.0</td>\n",
              "      <td>7287</td>\n",
              "      <td>6.67</td>\n",
              "      <td>6.60</td>\n",
              "      <td>3.93</td>\n",
              "      <td>2.028148</td>\n",
              "      <td>0</td>\n",
              "      <td>0</td>\n",
              "      <td>1</td>\n",
              "      <td>0</td>\n",
              "      <td>1</td>\n",
              "      <td>0</td>\n",
              "      <td>0</td>\n",
              "      <td>0</td>\n",
              "      <td>0</td>\n",
              "      <td>0</td>\n",
              "    </tr>\n",
              "    <tr>\n",
              "      <th>4</th>\n",
              "      <td>0.52</td>\n",
              "      <td>62.7</td>\n",
              "      <td>56.0</td>\n",
              "      <td>1720</td>\n",
              "      <td>5.17</td>\n",
              "      <td>5.14</td>\n",
              "      <td>3.23</td>\n",
              "      <td>1.814825</td>\n",
              "      <td>0</td>\n",
              "      <td>1</td>\n",
              "      <td>0</td>\n",
              "      <td>0</td>\n",
              "      <td>0</td>\n",
              "      <td>0</td>\n",
              "      <td>0</td>\n",
              "      <td>0</td>\n",
              "      <td>0</td>\n",
              "      <td>0</td>\n",
              "    </tr>\n",
              "  </tbody>\n",
              "</table>\n",
              "</div>"
            ],
            "text/plain": [
              "   carat  depth  table  price  ...  color_G  color_H  color_I  color_J\n",
              "0   0.30   61.1   61.0    682  ...        0        0        0        0\n",
              "1   0.72   62.0   56.0   2443  ...        0        1        0        0\n",
              "2   1.71   62.9   58.0   8848  ...        0        0        0        1\n",
              "3   1.01   59.2   59.0   7287  ...        0        0        0        0\n",
              "4   0.52   62.7   56.0   1720  ...        0        0        0        0\n",
              "\n",
              "[5 rows x 18 columns]"
            ]
          },
          "metadata": {
            "tags": []
          },
          "execution_count": 97
        }
      ]
    },
    {
      "cell_type": "code",
      "metadata": {
        "id": "EFmZUsl3Kj6x"
      },
      "source": [
        ""
      ],
      "execution_count": null,
      "outputs": []
    },
    {
      "cell_type": "code",
      "metadata": {
        "id": "tFxpM05cYFi4"
      },
      "source": [
        "df1.drop({'log_width'}, axis=1, inplace= True)"
      ],
      "execution_count": null,
      "outputs": []
    },
    {
      "cell_type": "code",
      "metadata": {
        "id": "n_SQWNysSK9W"
      },
      "source": [
        "prc= df1['price']\r\n",
        "df1.drop({'price'}, axis=1, inplace=True)"
      ],
      "execution_count": null,
      "outputs": []
    },
    {
      "cell_type": "code",
      "metadata": {
        "id": "fqllSHFUYFsw",
        "colab": {
          "base_uri": "https://localhost:8080/"
        },
        "outputId": "428b64db-1574-479b-b8be-49ea5c7820f0"
      },
      "source": [
        "xc= sm.add_constant(df1)\r\n",
        "md= sm.OLS(prc, df1).fit()\r\n",
        "print(md.summary())"
      ],
      "execution_count": null,
      "outputs": [
        {
          "output_type": "stream",
          "text": [
            "                                 OLS Regression Results                                \n",
            "=======================================================================================\n",
            "Dep. Variable:                  price   R-squared (uncentered):                   0.944\n",
            "Model:                            OLS   Adj. R-squared (uncentered):              0.943\n",
            "Method:                 Least Squares   F-statistic:                              1609.\n",
            "Date:                Sat, 30 Jan 2021   Prob (F-statistic):                        0.00\n",
            "Time:                        11:30:28   Log-Likelihood:                         -13345.\n",
            "No. Observations:                1547   AIC:                                  2.672e+04\n",
            "Df Residuals:                    1531   BIC:                                  2.681e+04\n",
            "Df Model:                          16                                                  \n",
            "Covariance Type:            nonrobust                                                  \n",
            "=================================================================================\n",
            "                    coef    std err          t      P>|t|      [0.025      0.975]\n",
            "---------------------------------------------------------------------------------\n",
            "carat          1.327e+04    369.867     35.875      0.000    1.25e+04     1.4e+04\n",
            "depth           108.7414     21.777      4.993      0.000      66.025     151.458\n",
            "table           -36.4735     19.978     -1.826      0.068     -75.660       2.713\n",
            "x             -2340.7794    740.910     -3.159      0.002   -3794.085    -887.474\n",
            "y              2127.1070    717.492      2.965      0.003     719.735    3534.479\n",
            "z             -3015.3166    705.837     -4.272      0.000   -4399.826   -1630.807\n",
            "cut_Good        574.9017    249.065      2.308      0.021      86.358    1063.446\n",
            "cut_Ideal      1147.0728    247.566      4.633      0.000     661.468    1632.678\n",
            "cut_Premium     898.8884    236.340      3.803      0.000     435.303    1362.474\n",
            "cut_Very Good   916.2418    242.887      3.772      0.000     439.816    1392.667\n",
            "color_E          -1.2404    124.606     -0.010      0.992    -245.657     243.176\n",
            "color_F         177.6519    125.346      1.417      0.157     -68.215     423.519\n",
            "color_G         -41.1777    121.642     -0.339      0.735    -279.781     197.426\n",
            "color_H        -606.1674    129.295     -4.688      0.000    -859.782    -352.553\n",
            "color_I       -1017.9849    150.233     -6.776      0.000   -1312.668    -723.302\n",
            "color_J       -1934.5108    180.054    -10.744      0.000   -2287.689   -1581.333\n",
            "==============================================================================\n",
            "Omnibus:                      467.689   Durbin-Watson:                   1.945\n",
            "Prob(Omnibus):                  0.000   Jarque-Bera (JB):             5972.038\n",
            "Skew:                           1.039   Prob(JB):                         0.00\n",
            "Kurtosis:                      12.398   Cond. No.                     2.45e+03\n",
            "==============================================================================\n",
            "\n",
            "Warnings:\n",
            "[1] Standard Errors assume that the covariance matrix of the errors is correctly specified.\n",
            "[2] The condition number is large, 2.45e+03. This might indicate that there are\n",
            "strong multicollinearity or other numerical problems.\n"
          ],
          "name": "stdout"
        }
      ]
    },
    {
      "cell_type": "code",
      "metadata": {
        "id": "1fgwm5NTR9bt"
      },
      "source": [
        "# we can create a ACF map"
      ],
      "execution_count": null,
      "outputs": []
    },
    {
      "cell_type": "code",
      "metadata": {
        "colab": {
          "base_uri": "https://localhost:8080/",
          "height": 281
        },
        "id": "j9xdpd2pTHam",
        "outputId": "289d43cc-4f39-4a51-ff91-25fc4561f29b"
      },
      "source": [
        "import statsmodels\r\n",
        "statsmodels.graphics.tsaplots.plot_acf(md.resid, lags=30)\r\n",
        "plt.show()"
      ],
      "execution_count": null,
      "outputs": [
        {
          "output_type": "display_data",
          "data": {
            "image/png": "[encoded data removed]",
            "text/plain": [
              "<Figure size 432x288 with 1 Axes>"
            ]
          },
          "metadata": {
            "tags": [],
            "needs_background": "light"
          }
        }
      ]
    },
    {
      "cell_type": "code",
      "metadata": {
        "id": "V2p56adTTHdc"
      },
      "source": [
        "# The Durbin-Watson: 1.945 is the score which is close to 2- so not much autocorrelation.\r\n"
      ],
      "execution_count": null,
      "outputs": []
    },
    {
      "cell_type": "code",
      "metadata": {
        "id": "tvU3BfvYR9hL"
      },
      "source": [
        ""
      ],
      "execution_count": null,
      "outputs": []
    },
    {
      "cell_type": "markdown",
      "metadata": {
        "id": "YCfCpwB9kYYM"
      },
      "source": [
        "<table align=\"left\">\n",
        "    <tr>\n",
        "        <td width=\"6%\">\n",
        "            <img src=\"question_icon.png\">\n",
        "        </td>\n",
        "        <td>\n",
        "            <div align=\"left\", style=\"font-size:120%\">\n",
        "                <font color=\"#21618C\">\n",
        "                    <b>3. Add the features one-by-one to obtain the set of features which explains the price of a diamond with the highest accuracy\n",
        "                    </b>\n",
        "                </font>\n",
        "            </div>\n",
        "        </td>\n",
        "    </tr>\n",
        "</table>"
      ]
    },
    {
      "cell_type": "code",
      "metadata": {
        "id": "PVyyqXMHkYYM",
        "colab": {
          "base_uri": "https://localhost:8080/"
        },
        "outputId": "13d71e9e-7e9c-40b6-dd5e-54bf3dfd7e2e"
      },
      "source": [
        "# Sequential Feature Selection\r\n",
        "from sklearn.linear_model import LinearRegression\r\n",
        "from mlxtend.feature_selection import SequentialFeatureSelector as sfs\r\n",
        "lr = LinearRegression()\r\n",
        "sfs_ = sfs(lr, df1.shape[1], forward=True, scoring='r2', cv=3)\r\n",
        "sfs_.fit(df1, prc)"
      ],
      "execution_count": null,
      "outputs": [
        {
          "output_type": "execute_result",
          "data": {
            "text/plain": [
              "SequentialFeatureSelector(clone_estimator=True, cv=3,\n",
              "                          estimator=LinearRegression(copy_X=True,\n",
              "                                                     fit_intercept=True,\n",
              "                                                     n_jobs=None,\n",
              "                                                     normalize=False),\n",
              "                          floating=False, forward=True, k_features=16, n_jobs=1,\n",
              "                          pre_dispatch='2*n_jobs', scoring='r2', verbose=0)"
            ]
          },
          "metadata": {
            "tags": []
          },
          "execution_count": 104
        }
      ]
    },
    {
      "cell_type": "code",
      "metadata": {
        "colab": {
          "base_uri": "https://localhost:8080/",
          "height": 527
        },
        "id": "q4h2-Eo9bR6-",
        "outputId": "9b78c31d-aa19-4831-e9f2-7f9d19f85d84"
      },
      "source": [
        "sf= pd.DataFrame(sfs_.subsets_).T\r\n",
        "sf"
      ],
      "execution_count": null,
      "outputs": [
        {
          "output_type": "execute_result",
          "data": {
            "text/html": [
              "<div>\n",
              "<style scoped>\n",
              "    .dataframe tbody tr th:only-of-type {\n",
              "        vertical-align: middle;\n",
              "    }\n",
              "\n",
              "    .dataframe tbody tr th {\n",
              "        vertical-align: top;\n",
              "    }\n",
              "\n",
              "    .dataframe thead th {\n",
              "        text-align: right;\n",
              "    }\n",
              "</style>\n",
              "<table border=\"1\" class=\"dataframe\">\n",
              "  <thead>\n",
              "    <tr style=\"text-align: right;\">\n",
              "      <th></th>\n",
              "      <th>feature_idx</th>\n",
              "      <th>cv_scores</th>\n",
              "      <th>avg_score</th>\n",
              "      <th>feature_names</th>\n",
              "    </tr>\n",
              "  </thead>\n",
              "  <tbody>\n",
              "    <tr>\n",
              "      <th>1</th>\n",
              "      <td>(0,)</td>\n",
              "      <td>[0.8638662187264315, 0.8691929354535461, 0.846...</td>\n",
              "      <td>0.859927</td>\n",
              "      <td>(carat,)</td>\n",
              "    </tr>\n",
              "    <tr>\n",
              "      <th>2</th>\n",
              "      <td>(0, 5)</td>\n",
              "      <td>[0.8758004347703768, 0.8773869508147605, 0.856...</td>\n",
              "      <td>0.869823</td>\n",
              "      <td>(carat, z)</td>\n",
              "    </tr>\n",
              "    <tr>\n",
              "      <th>3</th>\n",
              "      <td>(0, 5, 15)</td>\n",
              "      <td>[0.8842995248347789, 0.8837275270327403, 0.864...</td>\n",
              "      <td>0.877418</td>\n",
              "      <td>(carat, z, color_J)</td>\n",
              "    </tr>\n",
              "    <tr>\n",
              "      <th>4</th>\n",
              "      <td>(0, 2, 5, 15)</td>\n",
              "      <td>[0.8854989514934241, 0.8876275346086232, 0.867...</td>\n",
              "      <td>0.880044</td>\n",
              "      <td>(carat, table, z, color_J)</td>\n",
              "    </tr>\n",
              "    <tr>\n",
              "      <th>5</th>\n",
              "      <td>(0, 2, 5, 14, 15)</td>\n",
              "      <td>[0.8824130719213026, 0.8928854302262886, 0.872...</td>\n",
              "      <td>0.882522</td>\n",
              "      <td>(carat, table, z, color_I, color_J)</td>\n",
              "    </tr>\n",
              "    <tr>\n",
              "      <th>6</th>\n",
              "      <td>(0, 2, 5, 13, 14, 15)</td>\n",
              "      <td>[0.8841123679753331, 0.8959615888368757, 0.875...</td>\n",
              "      <td>0.885168</td>\n",
              "      <td>(carat, table, z, color_H, color_I, color_J)</td>\n",
              "    </tr>\n",
              "    <tr>\n",
              "      <th>7</th>\n",
              "      <td>(0, 2, 3, 5, 13, 14, 15)</td>\n",
              "      <td>[0.8849295209779836, 0.8967929272517233, 0.875...</td>\n",
              "      <td>0.88574</td>\n",
              "      <td>(carat, table, x, z, color_H, color_I, color_J)</td>\n",
              "    </tr>\n",
              "    <tr>\n",
              "      <th>8</th>\n",
              "      <td>(0, 2, 3, 4, 5, 13, 14, 15)</td>\n",
              "      <td>[0.8855030294938624, 0.8981573116592435, 0.875...</td>\n",
              "      <td>0.886531</td>\n",
              "      <td>(carat, table, x, y, z, color_H, color_I, colo...</td>\n",
              "    </tr>\n",
              "    <tr>\n",
              "      <th>9</th>\n",
              "      <td>(0, 2, 3, 4, 5, 7, 13, 14, 15)</td>\n",
              "      <td>[0.8860103086783494, 0.8992238964041162, 0.875...</td>\n",
              "      <td>0.887019</td>\n",
              "      <td>(carat, table, x, y, z, cut_Ideal, color_H, co...</td>\n",
              "    </tr>\n",
              "    <tr>\n",
              "      <th>10</th>\n",
              "      <td>(0, 2, 3, 4, 5, 6, 7, 13, 14, 15)</td>\n",
              "      <td>[0.8861658479528051, 0.8996918785865546, 0.875...</td>\n",
              "      <td>0.887156</td>\n",
              "      <td>(carat, table, x, y, z, cut_Good, cut_Ideal, c...</td>\n",
              "    </tr>\n",
              "    <tr>\n",
              "      <th>11</th>\n",
              "      <td>(0, 1, 2, 3, 4, 5, 6, 7, 13, 14, 15)</td>\n",
              "      <td>[0.8866565114899533, 0.8990857519918893, 0.876...</td>\n",
              "      <td>0.887294</td>\n",
              "      <td>(carat, depth, table, x, y, z, cut_Good, cut_I...</td>\n",
              "    </tr>\n",
              "    <tr>\n",
              "      <th>12</th>\n",
              "      <td>(0, 1, 2, 3, 4, 5, 6, 7, 12, 13, 14, 15)</td>\n",
              "      <td>[0.8867170220290457, 0.898912897557411, 0.8762...</td>\n",
              "      <td>0.88731</td>\n",
              "      <td>(carat, depth, table, x, y, z, cut_Good, cut_I...</td>\n",
              "    </tr>\n",
              "    <tr>\n",
              "      <th>13</th>\n",
              "      <td>(0, 1, 2, 3, 4, 5, 6, 7, 8, 12, 13, 14, 15)</td>\n",
              "      <td>[0.886602085625215, 0.898934939178055, 0.87548...</td>\n",
              "      <td>0.887008</td>\n",
              "      <td>(carat, depth, table, x, y, z, cut_Good, cut_I...</td>\n",
              "    </tr>\n",
              "    <tr>\n",
              "      <th>14</th>\n",
              "      <td>(0, 1, 2, 3, 4, 5, 6, 7, 8, 9, 12, 13, 14, 15)</td>\n",
              "      <td>[0.8857843593517338, 0.8999420464783885, 0.877...</td>\n",
              "      <td>0.887722</td>\n",
              "      <td>(carat, depth, table, x, y, z, cut_Good, cut_I...</td>\n",
              "    </tr>\n",
              "    <tr>\n",
              "      <th>15</th>\n",
              "      <td>(0, 1, 2, 3, 4, 5, 6, 7, 8, 9, 11, 12, 13, 14,...</td>\n",
              "      <td>[0.8861800824893943, 0.9002645805027627, 0.875...</td>\n",
              "      <td>0.887469</td>\n",
              "      <td>(carat, depth, table, x, y, z, cut_Good, cut_I...</td>\n",
              "    </tr>\n",
              "    <tr>\n",
              "      <th>16</th>\n",
              "      <td>(0, 1, 2, 3, 4, 5, 6, 7, 8, 9, 10, 11, 12, 13,...</td>\n",
              "      <td>[0.885664395018285, 0.8999092821664738, 0.8759...</td>\n",
              "      <td>0.887179</td>\n",
              "      <td>(carat, depth, table, x, y, z, cut_Good, cut_I...</td>\n",
              "    </tr>\n",
              "  </tbody>\n",
              "</table>\n",
              "</div>"
            ],
            "text/plain": [
              "                                          feature_idx  ...                                      feature_names\n",
              "1                                                (0,)  ...                                           (carat,)\n",
              "2                                              (0, 5)  ...                                         (carat, z)\n",
              "3                                          (0, 5, 15)  ...                                (carat, z, color_J)\n",
              "4                                       (0, 2, 5, 15)  ...                         (carat, table, z, color_J)\n",
              "5                                   (0, 2, 5, 14, 15)  ...                (carat, table, z, color_I, color_J)\n",
              "6                               (0, 2, 5, 13, 14, 15)  ...       (carat, table, z, color_H, color_I, color_J)\n",
              "7                            (0, 2, 3, 5, 13, 14, 15)  ...    (carat, table, x, z, color_H, color_I, color_J)\n",
              "8                         (0, 2, 3, 4, 5, 13, 14, 15)  ...  (carat, table, x, y, z, color_H, color_I, colo...\n",
              "9                      (0, 2, 3, 4, 5, 7, 13, 14, 15)  ...  (carat, table, x, y, z, cut_Ideal, color_H, co...\n",
              "10                  (0, 2, 3, 4, 5, 6, 7, 13, 14, 15)  ...  (carat, table, x, y, z, cut_Good, cut_Ideal, c...\n",
              "11               (0, 1, 2, 3, 4, 5, 6, 7, 13, 14, 15)  ...  (carat, depth, table, x, y, z, cut_Good, cut_I...\n",
              "12           (0, 1, 2, 3, 4, 5, 6, 7, 12, 13, 14, 15)  ...  (carat, depth, table, x, y, z, cut_Good, cut_I...\n",
              "13        (0, 1, 2, 3, 4, 5, 6, 7, 8, 12, 13, 14, 15)  ...  (carat, depth, table, x, y, z, cut_Good, cut_I...\n",
              "14     (0, 1, 2, 3, 4, 5, 6, 7, 8, 9, 12, 13, 14, 15)  ...  (carat, depth, table, x, y, z, cut_Good, cut_I...\n",
              "15  (0, 1, 2, 3, 4, 5, 6, 7, 8, 9, 11, 12, 13, 14,...  ...  (carat, depth, table, x, y, z, cut_Good, cut_I...\n",
              "16  (0, 1, 2, 3, 4, 5, 6, 7, 8, 9, 10, 11, 12, 13,...  ...  (carat, depth, table, x, y, z, cut_Good, cut_I...\n",
              "\n",
              "[16 rows x 4 columns]"
            ]
          },
          "metadata": {
            "tags": []
          },
          "execution_count": 105
        }
      ]
    },
    {
      "cell_type": "code",
      "metadata": {
        "id": "M8nGWKA_bSDf"
      },
      "source": [
        "# the above shown are the features in ascending order."
      ],
      "execution_count": null,
      "outputs": []
    },
    {
      "cell_type": "code",
      "metadata": {
        "colab": {
          "base_uri": "https://localhost:8080/"
        },
        "id": "oOXvXL4lbe8s",
        "outputId": "2e903e52-1e00-4b27-97d3-e84bcf8b70f2"
      },
      "source": [
        "# max accuracy\r\n",
        "\r\n",
        "list(sf[sf['avg_score']==sf['avg_score'].max()]['feature_names'])"
      ],
      "execution_count": null,
      "outputs": [
        {
          "output_type": "execute_result",
          "data": {
            "text/plain": [
              "[('carat',\n",
              "  'depth',\n",
              "  'table',\n",
              "  'x',\n",
              "  'y',\n",
              "  'z',\n",
              "  'cut_Good',\n",
              "  'cut_Ideal',\n",
              "  'cut_Premium',\n",
              "  'cut_Very Good',\n",
              "  'color_G',\n",
              "  'color_H',\n",
              "  'color_I',\n",
              "  'color_J')]"
            ]
          },
          "metadata": {
            "tags": []
          },
          "execution_count": 107
        }
      ]
    },
    {
      "cell_type": "code",
      "metadata": {
        "colab": {
          "base_uri": "https://localhost:8080/",
          "height": 77
        },
        "id": "lOvV6JlbbfCk",
        "outputId": "17876236-e65f-4da8-99bd-da884aa98153"
      },
      "source": [
        "sf[sf['avg_score']==sf['avg_score'].max()] # 88.7%"
      ],
      "execution_count": null,
      "outputs": [
        {
          "output_type": "execute_result",
          "data": {
            "text/html": [
              "<div>\n",
              "<style scoped>\n",
              "    .dataframe tbody tr th:only-of-type {\n",
              "        vertical-align: middle;\n",
              "    }\n",
              "\n",
              "    .dataframe tbody tr th {\n",
              "        vertical-align: top;\n",
              "    }\n",
              "\n",
              "    .dataframe thead th {\n",
              "        text-align: right;\n",
              "    }\n",
              "</style>\n",
              "<table border=\"1\" class=\"dataframe\">\n",
              "  <thead>\n",
              "    <tr style=\"text-align: right;\">\n",
              "      <th></th>\n",
              "      <th>feature_idx</th>\n",
              "      <th>cv_scores</th>\n",
              "      <th>avg_score</th>\n",
              "      <th>feature_names</th>\n",
              "    </tr>\n",
              "  </thead>\n",
              "  <tbody>\n",
              "    <tr>\n",
              "      <th>14</th>\n",
              "      <td>(0, 1, 2, 3, 4, 5, 6, 7, 8, 9, 12, 13, 14, 15)</td>\n",
              "      <td>[0.8857843593517338, 0.8999420464783885, 0.877...</td>\n",
              "      <td>0.887722</td>\n",
              "      <td>(carat, depth, table, x, y, z, cut_Good, cut_I...</td>\n",
              "    </tr>\n",
              "  </tbody>\n",
              "</table>\n",
              "</div>"
            ],
            "text/plain": [
              "                                       feature_idx  ...                                      feature_names\n",
              "14  (0, 1, 2, 3, 4, 5, 6, 7, 8, 9, 12, 13, 14, 15)  ...  (carat, depth, table, x, y, z, cut_Good, cut_I...\n",
              "\n",
              "[1 rows x 4 columns]"
            ]
          },
          "metadata": {
            "tags": []
          },
          "execution_count": 108
        }
      ]
    },
    {
      "cell_type": "markdown",
      "metadata": {
        "id": "83pE3fX7kYYO"
      },
      "source": [
        "<table align=\"left\">\n",
        "    <tr>\n",
        "        <td width=\"6%\">\n",
        "            <img src=\"question_icon.png\">\n",
        "        </td>\n",
        "        <td>\n",
        "            <div align=\"left\", style=\"font-size:120%\">\n",
        "                <font color=\"#21618C\">\n",
        "                    <b>4. Use the 4-fold cross validation method and compute the coefficient of determination for each model\n",
        "                    </b>\n",
        "                </font>\n",
        "            </div>\n",
        "        </td>\n",
        "    </tr>\n",
        "</table>"
      ]
    },
    {
      "cell_type": "code",
      "metadata": {
        "id": "P5BCkiBzkYYP",
        "colab": {
          "base_uri": "https://localhost:8080/"
        },
        "outputId": "20a8fec0-2e27-4ae5-dad7-5f3f105bf217"
      },
      "source": [
        "from sklearn.model_selection import RepeatedKFold, KFold\r\n",
        "from sklearn.model_selection import cross_val_score\r\n",
        "ar = LinearRegression()\r\n",
        "Kf = KFold(n_splits=5, shuffle=True, random_state=4)\r\n",
        "cv = cross_val_score(ar, df1, prc, scoring = 'r2', cv=Kf)\r\n",
        "cv"
      ],
      "execution_count": null,
      "outputs": [
        {
          "output_type": "execute_result",
          "data": {
            "text/plain": [
              "array([0.89701999, 0.85653254, 0.90035416, 0.9062447 , 0.88694874])"
            ]
          },
          "metadata": {
            "tags": []
          },
          "execution_count": 109
        }
      ]
    },
    {
      "cell_type": "code",
      "metadata": {
        "id": "Q8J9uyTKd7oZ"
      },
      "source": [
        ""
      ],
      "execution_count": null,
      "outputs": []
    },
    {
      "cell_type": "markdown",
      "metadata": {
        "id": "YbCBK-pvkYYQ"
      },
      "source": [
        "<table align=\"left\">\n",
        "    <tr>\n",
        "        <td width=\"6%\">\n",
        "            <img src=\"question_icon.png\">\n",
        "        </td>\n",
        "        <td>\n",
        "            <div align=\"left\", style=\"font-size:120%\">\n",
        "                <font color=\"#21618C\">\n",
        "                    <b>5. Identify the most insignificant numerical variable among all the numeric variables in the data\n",
        "                    </b>\n",
        "                </font>\n",
        "            </div>\n",
        "        </td>\n",
        "    </tr>\n",
        "</table>"
      ]
    },
    {
      "cell_type": "code",
      "metadata": {
        "id": "2CyfhSL3kYYQ",
        "colab": {
          "base_uri": "https://localhost:8080/"
        },
        "outputId": "181abd58-e84c-491a-800f-4e236e64a64f"
      },
      "source": [
        "xc= sm.add_constant(df1)\r\n",
        "md= sm.OLS(prc, df1).fit()\r\n",
        "print(md.summary())"
      ],
      "execution_count": null,
      "outputs": [
        {
          "output_type": "stream",
          "text": [
            "                                 OLS Regression Results                                \n",
            "=======================================================================================\n",
            "Dep. Variable:                  price   R-squared (uncentered):                   0.944\n",
            "Model:                            OLS   Adj. R-squared (uncentered):              0.943\n",
            "Method:                 Least Squares   F-statistic:                              1609.\n",
            "Date:                Sat, 30 Jan 2021   Prob (F-statistic):                        0.00\n",
            "Time:                        11:30:30   Log-Likelihood:                         -13345.\n",
            "No. Observations:                1547   AIC:                                  2.672e+04\n",
            "Df Residuals:                    1531   BIC:                                  2.681e+04\n",
            "Df Model:                          16                                                  \n",
            "Covariance Type:            nonrobust                                                  \n",
            "=================================================================================\n",
            "                    coef    std err          t      P>|t|      [0.025      0.975]\n",
            "---------------------------------------------------------------------------------\n",
            "carat          1.327e+04    369.867     35.875      0.000    1.25e+04     1.4e+04\n",
            "depth           108.7414     21.777      4.993      0.000      66.025     151.458\n",
            "table           -36.4735     19.978     -1.826      0.068     -75.660       2.713\n",
            "x             -2340.7794    740.910     -3.159      0.002   -3794.085    -887.474\n",
            "y              2127.1070    717.492      2.965      0.003     719.735    3534.479\n",
            "z             -3015.3166    705.837     -4.272      0.000   -4399.826   -1630.807\n",
            "cut_Good        574.9017    249.065      2.308      0.021      86.358    1063.446\n",
            "cut_Ideal      1147.0728    247.566      4.633      0.000     661.468    1632.678\n",
            "cut_Premium     898.8884    236.340      3.803      0.000     435.303    1362.474\n",
            "cut_Very Good   916.2418    242.887      3.772      0.000     439.816    1392.667\n",
            "color_E          -1.2404    124.606     -0.010      0.992    -245.657     243.176\n",
            "color_F         177.6519    125.346      1.417      0.157     -68.215     423.519\n",
            "color_G         -41.1777    121.642     -0.339      0.735    -279.781     197.426\n",
            "color_H        -606.1674    129.295     -4.688      0.000    -859.782    -352.553\n",
            "color_I       -1017.9849    150.233     -6.776      0.000   -1312.668    -723.302\n",
            "color_J       -1934.5108    180.054    -10.744      0.000   -2287.689   -1581.333\n",
            "==============================================================================\n",
            "Omnibus:                      467.689   Durbin-Watson:                   1.945\n",
            "Prob(Omnibus):                  0.000   Jarque-Bera (JB):             5972.038\n",
            "Skew:                           1.039   Prob(JB):                         0.00\n",
            "Kurtosis:                      12.398   Cond. No.                     2.45e+03\n",
            "==============================================================================\n",
            "\n",
            "Warnings:\n",
            "[1] Standard Errors assume that the covariance matrix of the errors is correctly specified.\n",
            "[2] The condition number is large, 2.45e+03. This might indicate that there are\n",
            "strong multicollinearity or other numerical problems.\n"
          ],
          "name": "stdout"
        }
      ]
    },
    {
      "cell_type": "code",
      "metadata": {
        "id": "8cZNJMREeEVk"
      },
      "source": [
        "# the color which are- E as the p value is close to 1 and the coeff are far from impactful. \r\n",
        "# color F and color G are also not significantly contributing much\r\n",
        "# after color, Table is not contributing much. "
      ],
      "execution_count": null,
      "outputs": []
    },
    {
      "cell_type": "code",
      "metadata": {
        "id": "NgWGhiSzeEcg"
      },
      "source": [
        ""
      ],
      "execution_count": null,
      "outputs": []
    },
    {
      "cell_type": "code",
      "metadata": {
        "id": "QMiKvVareEkj"
      },
      "source": [
        ""
      ],
      "execution_count": null,
      "outputs": []
    },
    {
      "cell_type": "markdown",
      "metadata": {
        "id": "FSTZvLy3kYYR"
      },
      "source": [
        "<table align=\"left\">\n",
        "    <tr>\n",
        "        <td width=\"6%\">\n",
        "            <img src=\"question_icon.png\">\n",
        "        </td>\n",
        "        <td>\n",
        "            <div align=\"left\", style=\"font-size:120%\">\n",
        "                <font color=\"#21618C\">\n",
        "                    <b>6. Do the residuals obtained from the full model follow a normal distribution?\n",
        "                    </b>\n",
        "                </font>\n",
        "            </div>\n",
        "        </td>\n",
        "    </tr>\n",
        "</table>"
      ]
    },
    {
      "cell_type": "code",
      "metadata": {
        "id": "IDyjnBwfkYYR",
        "colab": {
          "base_uri": "https://localhost:8080/",
          "height": 337
        },
        "outputId": "ddcbd01d-728f-4054-9a34-9507ade50064"
      },
      "source": [
        "sns.distplot(md.resid)"
      ],
      "execution_count": null,
      "outputs": [
        {
          "output_type": "stream",
          "text": [
            "/usr/local/lib/python3.6/dist-packages/seaborn/distributions.py:2557: FutureWarning: `distplot` is a deprecated function and will be removed in a future version. Please adapt your code to use either `displot` (a figure-level function with similar flexibility) or `histplot` (an axes-level function for histograms).\n",
            "  warnings.warn(msg, FutureWarning)\n"
          ],
          "name": "stderr"
        },
        {
          "output_type": "execute_result",
          "data": {
            "text/plain": [
              "<matplotlib.axes._subplots.AxesSubplot at 0x7f180aac94e0>"
            ]
          },
          "metadata": {
            "tags": []
          },
          "execution_count": 112
        },
        {
          "output_type": "display_data",
          "data": {
            "image/png": "[encoded data removed]",
            "text/plain": [
              "<Figure size 432x288 with 1 Axes>"
            ]
          },
          "metadata": {
            "tags": [],
            "needs_background": "light"
          }
        }
      ]
    },
    {
      "cell_type": "code",
      "metadata": {
        "id": "z8wQg8lwnJyq"
      },
      "source": [
        "# it looks normal. Lets do a JB test"
      ],
      "execution_count": null,
      "outputs": []
    },
    {
      "cell_type": "code",
      "metadata": {
        "id": "wJCjala0nJ49"
      },
      "source": [
        "import scipy.stats as stats"
      ],
      "execution_count": null,
      "outputs": []
    },
    {
      "cell_type": "code",
      "metadata": {
        "colab": {
          "base_uri": "https://localhost:8080/"
        },
        "id": "emIw1ksGnRVf",
        "outputId": "cc911df7-0f0a-4788-f64a-0a5719218bfb"
      },
      "source": [
        "stats.jarque_bera(md.resid)"
      ],
      "execution_count": null,
      "outputs": [
        {
          "output_type": "execute_result",
          "data": {
            "text/plain": [
              "(5972.038195570586, 0.0)"
            ]
          },
          "metadata": {
            "tags": []
          },
          "execution_count": 115
        }
      ]
    },
    {
      "cell_type": "code",
      "metadata": {
        "id": "jOvLH57mnRYO"
      },
      "source": [
        "# It is NOT normally distributed"
      ],
      "execution_count": null,
      "outputs": []
    },
    {
      "cell_type": "markdown",
      "metadata": {
        "id": "hIPmSLU3kYYS"
      },
      "source": [
        "<table align=\"left\">\n",
        "    <tr>\n",
        "        <td width=\"6%\">\n",
        "            <img src=\"question_icon.png\">\n",
        "        </td>\n",
        "        <td>\n",
        "            <div align=\"left\", style=\"font-size:120%\">\n",
        "                <font color=\"#21618C\">\n",
        "                    <b>7. Is it possible to make the residuals normal? If yes, do the needful\n",
        "                    </b>\n",
        "                </font>\n",
        "            </div>\n",
        "        </td>\n",
        "    </tr>\n",
        "</table>"
      ]
    },
    {
      "cell_type": "code",
      "metadata": {
        "id": "Ff3rKFFbkYYS"
      },
      "source": [
        "# we can transform the features to make the residuals normal."
      ],
      "execution_count": null,
      "outputs": []
    },
    {
      "cell_type": "code",
      "metadata": {
        "colab": {
          "base_uri": "https://localhost:8080/",
          "height": 1000
        },
        "id": "mMTpF9TPna4Z",
        "outputId": "21451558-4f41-4fcd-ecdc-0665eb79f591"
      },
      "source": [
        "for i in df1.columns:\r\n",
        "  sns.distplot(df1[i])\r\n",
        "  plt.show()"
      ],
      "execution_count": null,
      "outputs": [
        {
          "output_type": "stream",
          "text": [
            "/usr/local/lib/python3.6/dist-packages/seaborn/distributions.py:2557: FutureWarning: `distplot` is a deprecated function and will be removed in a future version. Please adapt your code to use either `displot` (a figure-level function with similar flexibility) or `histplot` (an axes-level function for histograms).\n",
            "  warnings.warn(msg, FutureWarning)\n"
          ],
          "name": "stderr"
        },
        {
          "output_type": "display_data",
          "data": {
            "image/png": "[encoded data removed]",
            "text/plain": [
              "<Figure size 432x288 with 1 Axes>"
            ]
          },
          "metadata": {
            "tags": [],
            "needs_background": "light"
          }
        },
        {
          "output_type": "stream",
          "text": [
            "/usr/local/lib/python3.6/dist-packages/seaborn/distributions.py:2557: FutureWarning: `distplot` is a deprecated function and will be removed in a future version. Please adapt your code to use either `displot` (a figure-level function with similar flexibility) or `histplot` (an axes-level function for histograms).\n",
            "  warnings.warn(msg, FutureWarning)\n"
          ],
          "name": "stderr"
        },
        {
          "output_type": "display_data",
          "data": {
            "image/png": "[encoded data removed]",
            "text/plain": [
              "<Figure size 432x288 with 1 Axes>"
            ]
          },
          "metadata": {
            "tags": [],
            "needs_background": "light"
          }
        },
        {
          "output_type": "stream",
          "text": [
            "/usr/local/lib/python3.6/dist-packages/seaborn/distributions.py:2557: FutureWarning: `distplot` is a deprecated function and will be removed in a future version. Please adapt your code to use either `displot` (a figure-level function with similar flexibility) or `histplot` (an axes-level function for histograms).\n",
            "  warnings.warn(msg, FutureWarning)\n"
          ],
          "name": "stderr"
        },
        {
          "output_type": "display_data",
          "data": {
            "image/png": "[encoded data removed]",
            "text/plain": [
              "<Figure size 432x288 with 1 Axes>"
            ]
          },
          "metadata": {
            "tags": [],
            "needs_background": "light"
          }
        },
        {
          "output_type": "stream",
          "text": [
            "/usr/local/lib/python3.6/dist-packages/seaborn/distributions.py:2557: FutureWarning: `distplot` is a deprecated function and will be removed in a future version. Please adapt your code to use either `displot` (a figure-level function with similar flexibility) or `histplot` (an axes-level function for histograms).\n",
            "  warnings.warn(msg, FutureWarning)\n"
          ],
          "name": "stderr"
        },
        {
          "output_type": "display_data",
          "data": {
            "image/png": "[encoded data removed]",
            "text/plain": [
              "<Figure size 432x288 with 1 Axes>"
            ]
          },
          "metadata": {
            "tags": [],
            "needs_background": "light"
          }
        },
        {
          "output_type": "stream",
          "text": [
            "/usr/local/lib/python3.6/dist-packages/seaborn/distributions.py:2557: FutureWarning: `distplot` is a deprecated function and will be removed in a future version. Please adapt your code to use either `displot` (a figure-level function with similar flexibility) or `histplot` (an axes-level function for histograms).\n",
            "  warnings.warn(msg, FutureWarning)\n"
          ],
          "name": "stderr"
        },
        {
          "output_type": "display_data",
          "data": {
            "image/png": "[encoded data removed]",
            "text/plain": [
              "<Figure size 432x288 with 1 Axes>"
            ]
          },
          "metadata": {
            "tags": [],
            "needs_background": "light"
          }
        },
        {
          "output_type": "stream",
          "text": [
            "/usr/local/lib/python3.6/dist-packages/seaborn/distributions.py:2557: FutureWarning: `distplot` is a deprecated function and will be removed in a future version. Please adapt your code to use either `displot` (a figure-level function with similar flexibility) or `histplot` (an axes-level function for histograms).\n",
            "  warnings.warn(msg, FutureWarning)\n"
          ],
          "name": "stderr"
        },
        {
          "output_type": "display_data",
          "data": {
            "image/png": "[encoded data removed]",
            "text/plain": [
              "<Figure size 432x288 with 1 Axes>"
            ]
          },
          "metadata": {
            "tags": [],
            "needs_background": "light"
          }
        },
        {
          "output_type": "stream",
          "text": [
            "/usr/local/lib/python3.6/dist-packages/seaborn/distributions.py:2557: FutureWarning: `distplot` is a deprecated function and will be removed in a future version. Please adapt your code to use either `displot` (a figure-level function with similar flexibility) or `histplot` (an axes-level function for histograms).\n",
            "  warnings.warn(msg, FutureWarning)\n"
          ],
          "name": "stderr"
        },
        {
          "output_type": "display_data",
          "data": {
            "image/png": "[encoded data removed]",
            "text/plain": [
              "<Figure size 432x288 with 1 Axes>"
            ]
          },
          "metadata": {
            "tags": [],
            "needs_background": "light"
          }
        },
        {
          "output_type": "stream",
          "text": [
            "/usr/local/lib/python3.6/dist-packages/seaborn/distributions.py:2557: FutureWarning: `distplot` is a deprecated function and will be removed in a future version. Please adapt your code to use either `displot` (a figure-level function with similar flexibility) or `histplot` (an axes-level function for histograms).\n",
            "  warnings.warn(msg, FutureWarning)\n"
          ],
          "name": "stderr"
        },
        {
          "output_type": "display_data",
          "data": {
            "image/png": "[encoded data removed]",
            "text/plain": [
              "<Figure size 432x288 with 1 Axes>"
            ]
          },
          "metadata": {
            "tags": [],
            "needs_background": "light"
          }
        },
        {
          "output_type": "stream",
          "text": [
            "/usr/local/lib/python3.6/dist-packages/seaborn/distributions.py:2557: FutureWarning: `distplot` is a deprecated function and will be removed in a future version. Please adapt your code to use either `displot` (a figure-level function with similar flexibility) or `histplot` (an axes-level function for histograms).\n",
            "  warnings.warn(msg, FutureWarning)\n"
          ],
          "name": "stderr"
        },
        {
          "output_type": "display_data",
          "data": {
            "image/png": "[encoded data removed]",
            "text/plain": [
              "<Figure size 432x288 with 1 Axes>"
            ]
          },
          "metadata": {
            "tags": [],
            "needs_background": "light"
          }
        },
        {
          "output_type": "stream",
          "text": [
            "/usr/local/lib/python3.6/dist-packages/seaborn/distributions.py:2557: FutureWarning: `distplot` is a deprecated function and will be removed in a future version. Please adapt your code to use either `displot` (a figure-level function with similar flexibility) or `histplot` (an axes-level function for histograms).\n",
            "  warnings.warn(msg, FutureWarning)\n"
          ],
          "name": "stderr"
        },
        {
          "output_type": "display_data",
          "data": {
            "image/png": "[encoded data removed]",
            "text/plain": [
              "<Figure size 432x288 with 1 Axes>"
            ]
          },
          "metadata": {
            "tags": [],
            "needs_background": "light"
          }
        },
        {
          "output_type": "stream",
          "text": [
            "/usr/local/lib/python3.6/dist-packages/seaborn/distributions.py:2557: FutureWarning: `distplot` is a deprecated function and will be removed in a future version. Please adapt your code to use either `displot` (a figure-level function with similar flexibility) or `histplot` (an axes-level function for histograms).\n",
            "  warnings.warn(msg, FutureWarning)\n"
          ],
          "name": "stderr"
        },
        {
          "output_type": "display_data",
          "data": {
            "image/png": "[encoded data removed]",
            "text/plain": [
              "<Figure size 432x288 with 1 Axes>"
            ]
          },
          "metadata": {
            "tags": [],
            "needs_background": "light"
          }
        },
        {
          "output_type": "stream",
          "text": [
            "/usr/local/lib/python3.6/dist-packages/seaborn/distributions.py:2557: FutureWarning: `distplot` is a deprecated function and will be removed in a future version. Please adapt your code to use either `displot` (a figure-level function with similar flexibility) or `histplot` (an axes-level function for histograms).\n",
            "  warnings.warn(msg, FutureWarning)\n"
          ],
          "name": "stderr"
        },
        {
          "output_type": "display_data",
          "data": {
            "image/png": "[encoded data removed]",
            "text/plain": [
              "<Figure size 432x288 with 1 Axes>"
            ]
          },
          "metadata": {
            "tags": [],
            "needs_background": "light"
          }
        },
        {
          "output_type": "stream",
          "text": [
            "/usr/local/lib/python3.6/dist-packages/seaborn/distributions.py:2557: FutureWarning: `distplot` is a deprecated function and will be removed in a future version. Please adapt your code to use either `displot` (a figure-level function with similar flexibility) or `histplot` (an axes-level function for histograms).\n",
            "  warnings.warn(msg, FutureWarning)\n"
          ],
          "name": "stderr"
        },
        {
          "output_type": "display_data",
          "data": {
            "image/png": "[encoded data removed]",
            "text/plain": [
              "<Figure size 432x288 with 1 Axes>"
            ]
          },
          "metadata": {
            "tags": [],
            "needs_background": "light"
          }
        },
        {
          "output_type": "stream",
          "text": [
            "/usr/local/lib/python3.6/dist-packages/seaborn/distributions.py:2557: FutureWarning: `distplot` is a deprecated function and will be removed in a future version. Please adapt your code to use either `displot` (a figure-level function with similar flexibility) or `histplot` (an axes-level function for histograms).\n",
            "  warnings.warn(msg, FutureWarning)\n"
          ],
          "name": "stderr"
        },
        {
          "output_type": "display_data",
          "data": {
            "image/png": "[encoded data removed]",
            "text/plain": [
              "<Figure size 432x288 with 1 Axes>"
            ]
          },
          "metadata": {
            "tags": [],
            "needs_background": "light"
          }
        },
        {
          "output_type": "stream",
          "text": [
            "/usr/local/lib/python3.6/dist-packages/seaborn/distributions.py:2557: FutureWarning: `distplot` is a deprecated function and will be removed in a future version. Please adapt your code to use either `displot` (a figure-level function with similar flexibility) or `histplot` (an axes-level function for histograms).\n",
            "  warnings.warn(msg, FutureWarning)\n"
          ],
          "name": "stderr"
        },
        {
          "output_type": "display_data",
          "data": {
            "image/png": "[encoded data removed]",
            "text/plain": [
              "<Figure size 432x288 with 1 Axes>"
            ]
          },
          "metadata": {
            "tags": [],
            "needs_background": "light"
          }
        },
        {
          "output_type": "stream",
          "text": [
            "/usr/local/lib/python3.6/dist-packages/seaborn/distributions.py:2557: FutureWarning: `distplot` is a deprecated function and will be removed in a future version. Please adapt your code to use either `displot` (a figure-level function with similar flexibility) or `histplot` (an axes-level function for histograms).\n",
            "  warnings.warn(msg, FutureWarning)\n"
          ],
          "name": "stderr"
        },
        {
          "output_type": "display_data",
          "data": {
            "image/png": "[encoded data removed]",
            "text/plain": [
              "<Figure size 432x288 with 1 Axes>"
            ]
          },
          "metadata": {
            "tags": [],
            "needs_background": "light"
          }
        }
      ]
    },
    {
      "cell_type": "code",
      "metadata": {
        "colab": {
          "base_uri": "https://localhost:8080/"
        },
        "id": "rRuOZRSAna7i",
        "outputId": "0c39035e-b95e-4672-8b05-07a839fd3b7b"
      },
      "source": [
        "# we could power transform the data and look at it. \r\n",
        "from sklearn.preprocessing import PowerTransformer\r\n",
        "pt = PowerTransformer()\r\n",
        "pt.fit_transform(df1)"
      ],
      "execution_count": null,
      "outputs": [
        {
          "output_type": "execute_result",
          "data": {
            "text/plain": [
              "array([[-1.34541293, -0.46035595,  1.50166295, ..., -0.43273568,\n",
              "        -0.31667727, -0.23961692],\n",
              "       [ 0.12881703,  0.1648191 , -0.60959551, ...,  2.31087947,\n",
              "        -0.31667727, -0.23961692],\n",
              "       [ 1.59559908,  0.79031155,  0.35447907, ..., -0.43273568,\n",
              "        -0.31667727,  4.17332801],\n",
              "       ...,\n",
              "       [-0.52201403,  0.512276  , -0.10458032, ..., -0.43273568,\n",
              "        -0.31667727,  4.17332801],\n",
              "       [ 1.3969045 ,  1.41611708, -0.10458032, ...,  2.31087947,\n",
              "        -0.31667727, -0.23961692],\n",
              "       [-0.81859437, -0.87696081,  0.77244029, ..., -0.43273568,\n",
              "        -0.31667727, -0.23961692]])"
            ]
          },
          "metadata": {
            "tags": []
          },
          "execution_count": 119
        }
      ]
    },
    {
      "cell_type": "code",
      "metadata": {
        "id": "wtUIgkPZnbIM"
      },
      "source": [
        "df_n = pd.DataFrame(pt.fit_transform(df1), columns=df1.columns)"
      ],
      "execution_count": null,
      "outputs": []
    },
    {
      "cell_type": "code",
      "metadata": {
        "colab": {
          "base_uri": "https://localhost:8080/"
        },
        "id": "L5bf8Zofpihh",
        "outputId": "7dea6413-bc65-468a-f2aa-ba375c3b6c9f"
      },
      "source": [
        "prc_2 = pt.fit_transform([prc])"
      ],
      "execution_count": null,
      "outputs": [
        {
          "output_type": "stream",
          "text": [
            "/usr/local/lib/python3.6/dist-packages/sklearn/preprocessing/_data.py:2982: RuntimeWarning: divide by zero encountered in log\n",
            "  loglike = -n_samples / 2 * np.log(x_trans.var())\n"
          ],
          "name": "stderr"
        }
      ]
    },
    {
      "cell_type": "code",
      "metadata": {
        "colab": {
          "base_uri": "https://localhost:8080/"
        },
        "id": "mr8ayUgTpwu4",
        "outputId": "7ae74386-c05a-4073-a1f9-8702b3e532a6"
      },
      "source": [
        "prc_2.flatten()"
      ],
      "execution_count": null,
      "outputs": [
        {
          "output_type": "execute_result",
          "data": {
            "text/plain": [
              "array([0., 0., 0., ..., 0., 0., 0.])"
            ]
          },
          "metadata": {
            "tags": []
          },
          "execution_count": 122
        }
      ]
    },
    {
      "cell_type": "code",
      "metadata": {
        "colab": {
          "base_uri": "https://localhost:8080/",
          "height": 197
        },
        "id": "vjrDA8xDo40p",
        "outputId": "ed79904c-3ad8-4380-f19c-8b54c2c23ff8"
      },
      "source": [
        "df_n.head()"
      ],
      "execution_count": null,
      "outputs": [
        {
          "output_type": "execute_result",
          "data": {
            "text/html": [
              "<div>\n",
              "<style scoped>\n",
              "    .dataframe tbody tr th:only-of-type {\n",
              "        vertical-align: middle;\n",
              "    }\n",
              "\n",
              "    .dataframe tbody tr th {\n",
              "        vertical-align: top;\n",
              "    }\n",
              "\n",
              "    .dataframe thead th {\n",
              "        text-align: right;\n",
              "    }\n",
              "</style>\n",
              "<table border=\"1\" class=\"dataframe\">\n",
              "  <thead>\n",
              "    <tr style=\"text-align: right;\">\n",
              "      <th></th>\n",
              "      <th>carat</th>\n",
              "      <th>depth</th>\n",
              "      <th>table</th>\n",
              "      <th>x</th>\n",
              "      <th>y</th>\n",
              "      <th>z</th>\n",
              "      <th>cut_Good</th>\n",
              "      <th>cut_Ideal</th>\n",
              "      <th>cut_Premium</th>\n",
              "      <th>cut_Very Good</th>\n",
              "      <th>color_F</th>\n",
              "      <th>color_G</th>\n",
              "      <th>color_H</th>\n",
              "      <th>color_I</th>\n",
              "      <th>color_J</th>\n",
              "    </tr>\n",
              "  </thead>\n",
              "  <tbody>\n",
              "    <tr>\n",
              "      <th>0</th>\n",
              "      <td>-1.345413</td>\n",
              "      <td>-0.460356</td>\n",
              "      <td>1.501663</td>\n",
              "      <td>-1.415486</td>\n",
              "      <td>-1.394715</td>\n",
              "      <td>-1.460974</td>\n",
              "      <td>3.074525</td>\n",
              "      <td>-0.807947</td>\n",
              "      <td>-0.579590</td>\n",
              "      <td>-0.54872</td>\n",
              "      <td>2.155455</td>\n",
              "      <td>-0.507665</td>\n",
              "      <td>-0.432736</td>\n",
              "      <td>-0.316677</td>\n",
              "      <td>-0.239617</td>\n",
              "    </tr>\n",
              "    <tr>\n",
              "      <th>1</th>\n",
              "      <td>0.128817</td>\n",
              "      <td>0.164819</td>\n",
              "      <td>-0.609596</td>\n",
              "      <td>0.214317</td>\n",
              "      <td>0.161156</td>\n",
              "      <td>0.210441</td>\n",
              "      <td>-0.325254</td>\n",
              "      <td>1.237705</td>\n",
              "      <td>-0.579590</td>\n",
              "      <td>-0.54872</td>\n",
              "      <td>-0.463939</td>\n",
              "      <td>-0.507665</td>\n",
              "      <td>2.310879</td>\n",
              "      <td>-0.316677</td>\n",
              "      <td>-0.239617</td>\n",
              "    </tr>\n",
              "    <tr>\n",
              "      <th>2</th>\n",
              "      <td>1.595599</td>\n",
              "      <td>0.790312</td>\n",
              "      <td>0.354479</td>\n",
              "      <td>1.537702</td>\n",
              "      <td>1.511564</td>\n",
              "      <td>1.612912</td>\n",
              "      <td>-0.325254</td>\n",
              "      <td>-0.807947</td>\n",
              "      <td>1.725359</td>\n",
              "      <td>-0.54872</td>\n",
              "      <td>-0.463939</td>\n",
              "      <td>-0.507665</td>\n",
              "      <td>-0.432736</td>\n",
              "      <td>-0.316677</td>\n",
              "      <td>4.173328</td>\n",
              "    </tr>\n",
              "    <tr>\n",
              "      <th>3</th>\n",
              "      <td>0.736261</td>\n",
              "      <td>-1.779108</td>\n",
              "      <td>0.772440</td>\n",
              "      <td>0.905570</td>\n",
              "      <td>0.860568</td>\n",
              "      <td>0.679184</td>\n",
              "      <td>-0.325254</td>\n",
              "      <td>-0.807947</td>\n",
              "      <td>1.725359</td>\n",
              "      <td>-0.54872</td>\n",
              "      <td>-0.463939</td>\n",
              "      <td>-0.507665</td>\n",
              "      <td>-0.432736</td>\n",
              "      <td>-0.316677</td>\n",
              "      <td>-0.239617</td>\n",
              "    </tr>\n",
              "    <tr>\n",
              "      <th>4</th>\n",
              "      <td>-0.453599</td>\n",
              "      <td>0.651286</td>\n",
              "      <td>-0.609596</td>\n",
              "      <td>-0.385110</td>\n",
              "      <td>-0.422435</td>\n",
              "      <td>-0.327055</td>\n",
              "      <td>-0.325254</td>\n",
              "      <td>1.237705</td>\n",
              "      <td>-0.579590</td>\n",
              "      <td>-0.54872</td>\n",
              "      <td>-0.463939</td>\n",
              "      <td>-0.507665</td>\n",
              "      <td>-0.432736</td>\n",
              "      <td>-0.316677</td>\n",
              "      <td>-0.239617</td>\n",
              "    </tr>\n",
              "  </tbody>\n",
              "</table>\n",
              "</div>"
            ],
            "text/plain": [
              "      carat     depth     table  ...   color_H   color_I   color_J\n",
              "0 -1.345413 -0.460356  1.501663  ... -0.432736 -0.316677 -0.239617\n",
              "1  0.128817  0.164819 -0.609596  ...  2.310879 -0.316677 -0.239617\n",
              "2  1.595599  0.790312  0.354479  ... -0.432736 -0.316677  4.173328\n",
              "3  0.736261 -1.779108  0.772440  ... -0.432736 -0.316677 -0.239617\n",
              "4 -0.453599  0.651286 -0.609596  ... -0.432736 -0.316677 -0.239617\n",
              "\n",
              "[5 rows x 15 columns]"
            ]
          },
          "metadata": {
            "tags": []
          },
          "execution_count": 153
        }
      ]
    },
    {
      "cell_type": "code",
      "metadata": {
        "colab": {
          "base_uri": "https://localhost:8080/"
        },
        "id": "D_ciBe09pOg1",
        "outputId": "ff5b257a-980f-417e-86c8-f107ddd6f24b"
      },
      "source": [
        "xc= sm.add_constant(df_n)\r\n",
        "md= sm.OLS(prc, df1).fit()\r\n",
        "print(md.summary())"
      ],
      "execution_count": null,
      "outputs": [
        {
          "output_type": "stream",
          "text": [
            "                                 OLS Regression Results                                \n",
            "=======================================================================================\n",
            "Dep. Variable:                  price   R-squared (uncentered):                   0.944\n",
            "Model:                            OLS   Adj. R-squared (uncentered):              0.943\n",
            "Method:                 Least Squares   F-statistic:                              1609.\n",
            "Date:                Sat, 30 Jan 2021   Prob (F-statistic):                        0.00\n",
            "Time:                        11:30:40   Log-Likelihood:                         -13345.\n",
            "No. Observations:                1547   AIC:                                  2.672e+04\n",
            "Df Residuals:                    1531   BIC:                                  2.681e+04\n",
            "Df Model:                          16                                                  \n",
            "Covariance Type:            nonrobust                                                  \n",
            "=================================================================================\n",
            "                    coef    std err          t      P>|t|      [0.025      0.975]\n",
            "---------------------------------------------------------------------------------\n",
            "carat          1.327e+04    369.867     35.875      0.000    1.25e+04     1.4e+04\n",
            "depth           108.7414     21.777      4.993      0.000      66.025     151.458\n",
            "table           -36.4735     19.978     -1.826      0.068     -75.660       2.713\n",
            "x             -2340.7794    740.910     -3.159      0.002   -3794.085    -887.474\n",
            "y              2127.1070    717.492      2.965      0.003     719.735    3534.479\n",
            "z             -3015.3166    705.837     -4.272      0.000   -4399.826   -1630.807\n",
            "cut_Good        574.9017    249.065      2.308      0.021      86.358    1063.446\n",
            "cut_Ideal      1147.0728    247.566      4.633      0.000     661.468    1632.678\n",
            "cut_Premium     898.8884    236.340      3.803      0.000     435.303    1362.474\n",
            "cut_Very Good   916.2418    242.887      3.772      0.000     439.816    1392.667\n",
            "color_E          -1.2404    124.606     -0.010      0.992    -245.657     243.176\n",
            "color_F         177.6519    125.346      1.417      0.157     -68.215     423.519\n",
            "color_G         -41.1777    121.642     -0.339      0.735    -279.781     197.426\n",
            "color_H        -606.1674    129.295     -4.688      0.000    -859.782    -352.553\n",
            "color_I       -1017.9849    150.233     -6.776      0.000   -1312.668    -723.302\n",
            "color_J       -1934.5108    180.054    -10.744      0.000   -2287.689   -1581.333\n",
            "==============================================================================\n",
            "Omnibus:                      467.689   Durbin-Watson:                   1.945\n",
            "Prob(Omnibus):                  0.000   Jarque-Bera (JB):             5972.038\n",
            "Skew:                           1.039   Prob(JB):                         0.00\n",
            "Kurtosis:                      12.398   Cond. No.                     2.45e+03\n",
            "==============================================================================\n",
            "\n",
            "Warnings:\n",
            "[1] Standard Errors assume that the covariance matrix of the errors is correctly specified.\n",
            "[2] The condition number is large, 2.45e+03. This might indicate that there are\n",
            "strong multicollinearity or other numerical problems.\n"
          ],
          "name": "stdout"
        }
      ]
    },
    {
      "cell_type": "code",
      "metadata": {
        "colab": {
          "base_uri": "https://localhost:8080/",
          "height": 337
        },
        "id": "Ba_xO7U6pOj4",
        "outputId": "d0939dcd-bbc1-42d9-fb6a-468544984a3c"
      },
      "source": [
        "sns.distplot(md.resid)"
      ],
      "execution_count": null,
      "outputs": [
        {
          "output_type": "stream",
          "text": [
            "/usr/local/lib/python3.6/dist-packages/seaborn/distributions.py:2557: FutureWarning: `distplot` is a deprecated function and will be removed in a future version. Please adapt your code to use either `displot` (a figure-level function with similar flexibility) or `histplot` (an axes-level function for histograms).\n",
            "  warnings.warn(msg, FutureWarning)\n"
          ],
          "name": "stderr"
        },
        {
          "output_type": "execute_result",
          "data": {
            "text/plain": [
              "<matplotlib.axes._subplots.AxesSubplot at 0x7f1809ea3e80>"
            ]
          },
          "metadata": {
            "tags": []
          },
          "execution_count": 125
        },
        {
          "output_type": "display_data",
          "data": {
            "image/png": "[encoded data removed]",
            "text/plain": [
              "<Figure size 432x288 with 1 Axes>"
            ]
          },
          "metadata": {
            "tags": [],
            "needs_background": "light"
          }
        }
      ]
    },
    {
      "cell_type": "code",
      "metadata": {
        "colab": {
          "base_uri": "https://localhost:8080/"
        },
        "id": "HlRtFWCspOqi",
        "outputId": "21baec18-9d87-442e-db66-cc7a5ab3cd37"
      },
      "source": [
        "# JB test\r\n",
        "\r\n",
        "stats.jarque_bera(md.resid)"
      ],
      "execution_count": null,
      "outputs": [
        {
          "output_type": "execute_result",
          "data": {
            "text/plain": [
              "(5972.038195570586, 0.0)"
            ]
          },
          "metadata": {
            "tags": []
          },
          "execution_count": 126
        }
      ]
    },
    {
      "cell_type": "code",
      "metadata": {
        "id": "b9HpjYPiqRu2"
      },
      "source": [
        "# SInce a JB test is very strict, we are still not able to convince the normality of the residuals. \r\n",
        "\r\n",
        "# But yes, Power transform and selecting important features do help."
      ],
      "execution_count": null,
      "outputs": []
    },
    {
      "cell_type": "markdown",
      "metadata": {
        "id": "3dFCeadRkYYS"
      },
      "source": [
        "<table align=\"left\">\n",
        "    <tr>\n",
        "        <td width=\"6%\">\n",
        "            <img src=\"question_icon.png\">\n",
        "        </td>\n",
        "        <td>\n",
        "            <div align=\"left\", style=\"font-size:120%\">\n",
        "                <font color=\"#21618C\">\n",
        "                    <b>8. Consider the full model and remove the variables one-by-one to obtain the set of seven most significant variables\n",
        "                    </b>\n",
        "                </font>\n",
        "            </div>\n",
        "        </td>\n",
        "    </tr>\n",
        "</table>"
      ]
    },
    {
      "cell_type": "code",
      "metadata": {
        "id": "HRvrOnxKHGs_"
      },
      "source": [
        "df_r = df1.copy()"
      ],
      "execution_count": null,
      "outputs": []
    },
    {
      "cell_type": "code",
      "metadata": {
        "colab": {
          "base_uri": "https://localhost:8080/"
        },
        "id": "rvlvJ4K-uA_Z",
        "outputId": "a729958f-1b75-4742-96e8-fc7b8392dbfa"
      },
      "source": [
        "df1.shape"
      ],
      "execution_count": null,
      "outputs": [
        {
          "output_type": "execute_result",
          "data": {
            "text/plain": [
              "(1547, 8)"
            ]
          },
          "metadata": {
            "tags": []
          },
          "execution_count": 165
        }
      ]
    },
    {
      "cell_type": "code",
      "metadata": {
        "id": "no88ATPMkYYT",
        "colab": {
          "base_uri": "https://localhost:8080/"
        },
        "outputId": "f2cae36c-340f-48fe-f52a-c236c2976f40"
      },
      "source": [
        "for i in range(15,7,-1):\r\n",
        "  xc= sm.add_constant(df1)\r\n",
        "  md= sm.OLS(prc, df1).fit()\r\n",
        "  print('with {} features, {} is r_square'.format(i, md.rsquared_adj))\r\n",
        "  print(md.summary())\r\n",
        "  r= dict(md.pvalues)\r\n",
        "  try:\r\n",
        "    df1.drop({max(r, key=r.get)}, axis=1, inplace=True)\r\n",
        "  except KeyError:\r\n",
        "    pass"
      ],
      "execution_count": null,
      "outputs": [
        {
          "output_type": "stream",
          "text": [
            "with 15 features, 0.9432757137717583 is r_square\n",
            "with 14 features, 0.9433127363992583 is r_square\n",
            "with 13 features, 0.9433434376918935 is r_square\n",
            "with 12 features, 0.9432580769388812 is r_square\n",
            "with 11 features, 0.9431307995157426 is r_square\n",
            "with 10 features, 0.9429580470896936 is r_square\n",
            "with 9 features, 0.9425637343233111 is r_square\n",
            "with 8 features, 0.9423509882375876 is r_square\n"
          ],
          "name": "stdout"
        }
      ]
    },
    {
      "cell_type": "code",
      "metadata": {
        "colab": {
          "base_uri": "https://localhost:8080/",
          "height": 197
        },
        "id": "TdgtId_KIPru",
        "outputId": "5aa6e044-9a4b-4aae-a027-d17a9e3ad6ea"
      },
      "source": [
        "# we are left with these variable:\r\n",
        "\r\n",
        "df1.head()"
      ],
      "execution_count": null,
      "outputs": [
        {
          "output_type": "execute_result",
          "data": {
            "text/html": [
              "<div>\n",
              "<style scoped>\n",
              "    .dataframe tbody tr th:only-of-type {\n",
              "        vertical-align: middle;\n",
              "    }\n",
              "\n",
              "    .dataframe tbody tr th {\n",
              "        vertical-align: top;\n",
              "    }\n",
              "\n",
              "    .dataframe thead th {\n",
              "        text-align: right;\n",
              "    }\n",
              "</style>\n",
              "<table border=\"1\" class=\"dataframe\">\n",
              "  <thead>\n",
              "    <tr style=\"text-align: right;\">\n",
              "      <th></th>\n",
              "      <th>carat</th>\n",
              "      <th>depth</th>\n",
              "      <th>z</th>\n",
              "      <th>cut_Ideal</th>\n",
              "      <th>cut_Very Good</th>\n",
              "      <th>color_H</th>\n",
              "      <th>color_I</th>\n",
              "      <th>color_J</th>\n",
              "    </tr>\n",
              "  </thead>\n",
              "  <tbody>\n",
              "    <tr>\n",
              "      <th>0</th>\n",
              "      <td>0.30</td>\n",
              "      <td>61.1</td>\n",
              "      <td>2.63</td>\n",
              "      <td>0</td>\n",
              "      <td>0</td>\n",
              "      <td>0</td>\n",
              "      <td>0</td>\n",
              "      <td>0</td>\n",
              "    </tr>\n",
              "    <tr>\n",
              "      <th>1</th>\n",
              "      <td>0.72</td>\n",
              "      <td>62.0</td>\n",
              "      <td>3.58</td>\n",
              "      <td>1</td>\n",
              "      <td>0</td>\n",
              "      <td>1</td>\n",
              "      <td>0</td>\n",
              "      <td>0</td>\n",
              "    </tr>\n",
              "    <tr>\n",
              "      <th>2</th>\n",
              "      <td>1.71</td>\n",
              "      <td>62.9</td>\n",
              "      <td>4.79</td>\n",
              "      <td>0</td>\n",
              "      <td>0</td>\n",
              "      <td>0</td>\n",
              "      <td>0</td>\n",
              "      <td>1</td>\n",
              "    </tr>\n",
              "    <tr>\n",
              "      <th>3</th>\n",
              "      <td>1.01</td>\n",
              "      <td>59.2</td>\n",
              "      <td>3.93</td>\n",
              "      <td>0</td>\n",
              "      <td>0</td>\n",
              "      <td>0</td>\n",
              "      <td>0</td>\n",
              "      <td>0</td>\n",
              "    </tr>\n",
              "    <tr>\n",
              "      <th>4</th>\n",
              "      <td>0.52</td>\n",
              "      <td>62.7</td>\n",
              "      <td>3.23</td>\n",
              "      <td>1</td>\n",
              "      <td>0</td>\n",
              "      <td>0</td>\n",
              "      <td>0</td>\n",
              "      <td>0</td>\n",
              "    </tr>\n",
              "  </tbody>\n",
              "</table>\n",
              "</div>"
            ],
            "text/plain": [
              "   carat  depth     z  cut_Ideal  cut_Very Good  color_H  color_I  color_J\n",
              "0   0.30   61.1  2.63          0              0        0        0        0\n",
              "1   0.72   62.0  3.58          1              0        1        0        0\n",
              "2   1.71   62.9  4.79          0              0        0        0        1\n",
              "3   1.01   59.2  3.93          0              0        0        0        0\n",
              "4   0.52   62.7  3.23          1              0        0        0        0"
            ]
          },
          "metadata": {
            "tags": []
          },
          "execution_count": 166
        }
      ]
    },
    {
      "cell_type": "code",
      "metadata": {
        "colab": {
          "base_uri": "https://localhost:8080/"
        },
        "id": "ZG8sQCq9HEX2",
        "outputId": "7873032a-5f22-46d7-835f-2fcdadca911c"
      },
      "source": [
        "df_n.columns"
      ],
      "execution_count": null,
      "outputs": [
        {
          "output_type": "execute_result",
          "data": {
            "text/plain": [
              "Index(['carat', 'depth', 'table', 'x', 'y', 'z', 'cut_Good', 'cut_Ideal',\n",
              "       'cut_Premium', 'cut_Very Good', 'color_F', 'color_G', 'color_H',\n",
              "       'color_I', 'color_J'],\n",
              "      dtype='object')"
            ]
          },
          "metadata": {
            "tags": []
          },
          "execution_count": 152
        }
      ]
    },
    {
      "cell_type": "markdown",
      "metadata": {
        "id": "T_SNE36WkYYT"
      },
      "source": [
        "<table align=\"left\">\n",
        "    <tr>\n",
        "        <td width=\"6%\">\n",
        "            <img src=\"question_icon.png\">\n",
        "        </td>\n",
        "        <td>\n",
        "            <div align=\"left\", style=\"font-size:120%\">\n",
        "                <font color=\"#21618C\">\n",
        "                    <b>9. Identify the colors of a diamond that are not significant while predicting the price?\n",
        "                    </b>\n",
        "                </font>\n",
        "            </div>\n",
        "        </td>\n",
        "    </tr>\n",
        "</table>"
      ]
    },
    {
      "cell_type": "code",
      "metadata": {
        "id": "0LXMMm8VkYYU"
      },
      "source": [
        ""
      ],
      "execution_count": null,
      "outputs": []
    },
    {
      "cell_type": "code",
      "metadata": {
        "colab": {
          "base_uri": "https://localhost:8080/"
        },
        "id": "IXf3v48BJkJZ",
        "outputId": "f503c0a1-5234-4b55-a49e-39aef2f7a598"
      },
      "source": [
        "xc= sm.add_constant(df_r)\r\n",
        "md= sm.OLS(prc, df_r).fit()\r\n",
        "print(md.summary())"
      ],
      "execution_count": null,
      "outputs": [
        {
          "output_type": "stream",
          "text": [
            "                                 OLS Regression Results                                \n",
            "=======================================================================================\n",
            "Dep. Variable:                  price   R-squared (uncentered):                   0.944\n",
            "Model:                            OLS   Adj. R-squared (uncentered):              0.943\n",
            "Method:                 Least Squares   F-statistic:                              1609.\n",
            "Date:                Sat, 30 Jan 2021   Prob (F-statistic):                        0.00\n",
            "Time:                        12:00:47   Log-Likelihood:                         -13345.\n",
            "No. Observations:                1547   AIC:                                  2.672e+04\n",
            "Df Residuals:                    1531   BIC:                                  2.681e+04\n",
            "Df Model:                          16                                                  \n",
            "Covariance Type:            nonrobust                                                  \n",
            "=================================================================================\n",
            "                    coef    std err          t      P>|t|      [0.025      0.975]\n",
            "---------------------------------------------------------------------------------\n",
            "carat          1.327e+04    369.867     35.875      0.000    1.25e+04     1.4e+04\n",
            "depth           108.7414     21.777      4.993      0.000      66.025     151.458\n",
            "table           -36.4735     19.978     -1.826      0.068     -75.660       2.713\n",
            "x             -2340.7794    740.910     -3.159      0.002   -3794.085    -887.474\n",
            "y              2127.1070    717.492      2.965      0.003     719.735    3534.479\n",
            "z             -3015.3166    705.837     -4.272      0.000   -4399.826   -1630.807\n",
            "cut_Good        574.9017    249.065      2.308      0.021      86.358    1063.446\n",
            "cut_Ideal      1147.0728    247.566      4.633      0.000     661.468    1632.678\n",
            "cut_Premium     898.8884    236.340      3.803      0.000     435.303    1362.474\n",
            "cut_Very Good   916.2418    242.887      3.772      0.000     439.816    1392.667\n",
            "color_E          -1.2404    124.606     -0.010      0.992    -245.657     243.176\n",
            "color_F         177.6519    125.346      1.417      0.157     -68.215     423.519\n",
            "color_G         -41.1777    121.642     -0.339      0.735    -279.781     197.426\n",
            "color_H        -606.1674    129.295     -4.688      0.000    -859.782    -352.553\n",
            "color_I       -1017.9849    150.233     -6.776      0.000   -1312.668    -723.302\n",
            "color_J       -1934.5108    180.054    -10.744      0.000   -2287.689   -1581.333\n",
            "==============================================================================\n",
            "Omnibus:                      467.689   Durbin-Watson:                   1.945\n",
            "Prob(Omnibus):                  0.000   Jarque-Bera (JB):             5972.038\n",
            "Skew:                           1.039   Prob(JB):                         0.00\n",
            "Kurtosis:                      12.398   Cond. No.                     2.45e+03\n",
            "==============================================================================\n",
            "\n",
            "Warnings:\n",
            "[1] Standard Errors assume that the covariance matrix of the errors is correctly specified.\n",
            "[2] The condition number is large, 2.45e+03. This might indicate that there are\n",
            "strong multicollinearity or other numerical problems.\n"
          ],
          "name": "stdout"
        }
      ]
    },
    {
      "cell_type": "code",
      "metadata": {
        "id": "j2qz6U_KJkL_"
      },
      "source": [
        "# the color which are- E as the p value is close to 1 and the coeff are far from impactful. \r\n",
        "# color F and color G are also not significantly contributing much\r\n",
        "\r\n",
        "# its E,F and G"
      ],
      "execution_count": null,
      "outputs": []
    },
    {
      "cell_type": "markdown",
      "metadata": {
        "id": "gi9nszTdkYYU"
      },
      "source": [
        "<table align=\"left\">\n",
        "    <tr>\n",
        "        <td width=\"6%\">\n",
        "            <img src=\"question_icon.png\">\n",
        "        </td>\n",
        "        <td>\n",
        "            <div align=\"left\", style=\"font-size:120%\">\n",
        "                <font color=\"#21618C\">\n",
        "                    <b>10. Build a regression model on the five features obtained by eliminating the features recursively \n",
        "                    </b>\n",
        "                </font>\n",
        "            </div>\n",
        "        </td>\n",
        "    </tr>\n",
        "</table>"
      ]
    },
    {
      "cell_type": "code",
      "metadata": {
        "id": "B-1OfBUJkYYU"
      },
      "source": [
        "from sklearn.feature_selection import RFE\r\n",
        "ar = LinearRegression()\r\n",
        "rfe_ = RFE(ar, n_features_to_select = 5)\r\n",
        "rfe_.fit(df_r, prc)\r\n",
        "\r\n",
        "al = pd.DataFrame(rfe_.ranking_, index=df_r.columns, columns=['ranks'])"
      ],
      "execution_count": null,
      "outputs": []
    },
    {
      "cell_type": "code",
      "metadata": {
        "id": "OvBI7j9eDLGd",
        "colab": {
          "base_uri": "https://localhost:8080/",
          "height": 197
        },
        "outputId": "23cc1bfd-729c-4dcd-f859-053531003b6c"
      },
      "source": [
        "al.loc[al['ranks'] == 1]"
      ],
      "execution_count": null,
      "outputs": [
        {
          "output_type": "execute_result",
          "data": {
            "text/html": [
              "<div>\n",
              "<style scoped>\n",
              "    .dataframe tbody tr th:only-of-type {\n",
              "        vertical-align: middle;\n",
              "    }\n",
              "\n",
              "    .dataframe tbody tr th {\n",
              "        vertical-align: top;\n",
              "    }\n",
              "\n",
              "    .dataframe thead th {\n",
              "        text-align: right;\n",
              "    }\n",
              "</style>\n",
              "<table border=\"1\" class=\"dataframe\">\n",
              "  <thead>\n",
              "    <tr style=\"text-align: right;\">\n",
              "      <th></th>\n",
              "      <th>ranks</th>\n",
              "    </tr>\n",
              "  </thead>\n",
              "  <tbody>\n",
              "    <tr>\n",
              "      <th>carat</th>\n",
              "      <td>1</td>\n",
              "    </tr>\n",
              "    <tr>\n",
              "      <th>x</th>\n",
              "      <td>1</td>\n",
              "    </tr>\n",
              "    <tr>\n",
              "      <th>y</th>\n",
              "      <td>1</td>\n",
              "    </tr>\n",
              "    <tr>\n",
              "      <th>z</th>\n",
              "      <td>1</td>\n",
              "    </tr>\n",
              "    <tr>\n",
              "      <th>color_J</th>\n",
              "      <td>1</td>\n",
              "    </tr>\n",
              "  </tbody>\n",
              "</table>\n",
              "</div>"
            ],
            "text/plain": [
              "         ranks\n",
              "carat        1\n",
              "x            1\n",
              "y            1\n",
              "z            1\n",
              "color_J      1"
            ]
          },
          "metadata": {
            "tags": []
          },
          "execution_count": 169
        }
      ]
    },
    {
      "cell_type": "code",
      "metadata": {
        "colab": {
          "base_uri": "https://localhost:8080/",
          "height": 197
        },
        "id": "14jg2LoZNVAU",
        "outputId": "6098275a-c014-455b-bde1-85d14d532112"
      },
      "source": [
        "rr= al.loc[al['ranks'] == 1].index\r\n",
        "df_new= df_r[rr]\r\n",
        "df_new.head()"
      ],
      "execution_count": null,
      "outputs": [
        {
          "output_type": "execute_result",
          "data": {
            "text/html": [
              "<div>\n",
              "<style scoped>\n",
              "    .dataframe tbody tr th:only-of-type {\n",
              "        vertical-align: middle;\n",
              "    }\n",
              "\n",
              "    .dataframe tbody tr th {\n",
              "        vertical-align: top;\n",
              "    }\n",
              "\n",
              "    .dataframe thead th {\n",
              "        text-align: right;\n",
              "    }\n",
              "</style>\n",
              "<table border=\"1\" class=\"dataframe\">\n",
              "  <thead>\n",
              "    <tr style=\"text-align: right;\">\n",
              "      <th></th>\n",
              "      <th>carat</th>\n",
              "      <th>x</th>\n",
              "      <th>y</th>\n",
              "      <th>z</th>\n",
              "      <th>color_J</th>\n",
              "    </tr>\n",
              "  </thead>\n",
              "  <tbody>\n",
              "    <tr>\n",
              "      <th>0</th>\n",
              "      <td>0.30</td>\n",
              "      <td>4.29</td>\n",
              "      <td>4.32</td>\n",
              "      <td>2.63</td>\n",
              "      <td>0</td>\n",
              "    </tr>\n",
              "    <tr>\n",
              "      <th>1</th>\n",
              "      <td>0.72</td>\n",
              "      <td>5.80</td>\n",
              "      <td>5.74</td>\n",
              "      <td>3.58</td>\n",
              "      <td>0</td>\n",
              "    </tr>\n",
              "    <tr>\n",
              "      <th>2</th>\n",
              "      <td>1.71</td>\n",
              "      <td>7.64</td>\n",
              "      <td>7.58</td>\n",
              "      <td>4.79</td>\n",
              "      <td>1</td>\n",
              "    </tr>\n",
              "    <tr>\n",
              "      <th>3</th>\n",
              "      <td>1.01</td>\n",
              "      <td>6.67</td>\n",
              "      <td>6.60</td>\n",
              "      <td>3.93</td>\n",
              "      <td>0</td>\n",
              "    </tr>\n",
              "    <tr>\n",
              "      <th>4</th>\n",
              "      <td>0.52</td>\n",
              "      <td>5.17</td>\n",
              "      <td>5.14</td>\n",
              "      <td>3.23</td>\n",
              "      <td>0</td>\n",
              "    </tr>\n",
              "  </tbody>\n",
              "</table>\n",
              "</div>"
            ],
            "text/plain": [
              "   carat     x     y     z  color_J\n",
              "0   0.30  4.29  4.32  2.63        0\n",
              "1   0.72  5.80  5.74  3.58        0\n",
              "2   1.71  7.64  7.58  4.79        1\n",
              "3   1.01  6.67  6.60  3.93        0\n",
              "4   0.52  5.17  5.14  3.23        0"
            ]
          },
          "metadata": {
            "tags": []
          },
          "execution_count": 171
        }
      ]
    },
    {
      "cell_type": "code",
      "metadata": {
        "colab": {
          "base_uri": "https://localhost:8080/"
        },
        "id": "sojtf6LRNVDU",
        "outputId": "57bf9aaf-8e9f-4cd5-b63d-5b2735d3be7d"
      },
      "source": [
        "xc= sm.add_constant(df_new)\r\n",
        "md= sm.OLS(prc, xc).fit()\r\n",
        "print(md.summary())"
      ],
      "execution_count": null,
      "outputs": [
        {
          "output_type": "stream",
          "text": [
            "                            OLS Regression Results                            \n",
            "==============================================================================\n",
            "Dep. Variable:                  price   R-squared:                       0.881\n",
            "Model:                            OLS   Adj. R-squared:                  0.881\n",
            "Method:                 Least Squares   F-statistic:                     2288.\n",
            "Date:                Sat, 30 Jan 2021   Prob (F-statistic):               0.00\n",
            "Time:                        12:13:48   Log-Likelihood:                -13422.\n",
            "No. Observations:                1547   AIC:                         2.686e+04\n",
            "Df Residuals:                    1541   BIC:                         2.689e+04\n",
            "Df Model:                           5                                         \n",
            "Covariance Type:            nonrobust                                         \n",
            "==============================================================================\n",
            "                 coef    std err          t      P>|t|      [0.025      0.975]\n",
            "------------------------------------------------------------------------------\n",
            "const       5253.1375    639.972      8.208      0.000    3997.829    6508.445\n",
            "carat       1.282e+04    386.709     33.161      0.000    1.21e+04    1.36e+04\n",
            "x          -3496.6476    672.536     -5.199      0.000   -4815.829   -2177.466\n",
            "y           2503.6869    659.504      3.796      0.000    1210.067    3797.307\n",
            "z          -1615.5538    433.185     -3.729      0.000   -2465.248    -765.859\n",
            "color_J    -1674.5173    162.998    -10.273      0.000   -1994.239   -1354.796\n",
            "==============================================================================\n",
            "Omnibus:                      524.888   Durbin-Watson:                   1.938\n",
            "Prob(Omnibus):                  0.000   Jarque-Bera (JB):             5887.092\n",
            "Skew:                           1.252   Prob(JB):                         0.00\n",
            "Kurtosis:                      12.223   Cond. No.                         232.\n",
            "==============================================================================\n",
            "\n",
            "Warnings:\n",
            "[1] Standard Errors assume that the covariance matrix of the errors is correctly specified.\n"
          ],
          "name": "stdout"
        }
      ]
    },
    {
      "cell_type": "code",
      "metadata": {
        "id": "TtORnvPMNVFb"
      },
      "source": [
        ""
      ],
      "execution_count": null,
      "outputs": []
    }
  ]
}