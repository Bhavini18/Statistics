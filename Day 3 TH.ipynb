{
  "nbformat": 4,
  "nbformat_minor": 0,
  "metadata": {
    "kernelspec": {
      "display_name": "Python 3",
      "language": "python",
      "name": "python3"
    },
    "language_info": {
      "codemirror_mode": {
        "name": "ipython",
        "version": 3
      },
      "file_extension": ".py",
      "mimetype": "text/x-python",
      "name": "python",
      "nbconvert_exporter": "python",
      "pygments_lexer": "ipython3",
      "version": "3.7.3"
    },
    "colab": {
      "name": "Take_home_exercise_Day_02_QuestionsNew.ipynb",
      "provenance": [],
      "collapsed_sections": []
    }
  },
  "cells": [
    {
      "cell_type": "markdown",
      "metadata": {
        "collapsed": true,
        "id": "DLRw-o6IPftV"
      },
      "source": [
        "## TAKE HOME EXERCISE "
      ]
    },
    {
      "cell_type": "markdown",
      "metadata": {
        "id": "bsPn-kkfPftX"
      },
      "source": [
        "Example: The following data represent the amount of soft drink filled in a sample of 50 consecutive 2-liter bottles as shown below:\n",
        "\n",
        "|       |       |       |       |       |       |       |       |       |       |\n",
        "| ----- | ----- | ----- | ----- | ----- | ----- | ----- | ----- | ----- | ----- |\n",
        "| 2.109 | 2.086 | 2.066 | 2.075 | 2.065 | 2.057 | 2.052 | 2.044 | 2.036 | 2.038 | \n",
        "| 2.031 | 2.029 | 2.025 | 2.029 | 2.023 | 2.020 | 2.015 | 2.014 | 2.013 | 2.014 | \n",
        "| 2.012 | 2.012 | 2.012 | 2.010 | 2.005 | 2.003 | 1.999 | 1.996 | 1.997 | 1.992 | \n",
        "| 1.994 | 1.986 | 1.984 | 1.981 | 1.973 | 1.975 | 1.971 | 1.969 | 1.966 | 1.967 | \n",
        "| 1.963 | 1.957 | 1.951 | 1.951 | 1.947 | 1.941 | 1.941 | 1.938 | 1.908 | 1.894 | \n",
        "\n",
        "At 5% level of significance, is there evidence that the mean amount of soft drink filled is different from 2 litres? \n"
      ]
    },
    {
      "cell_type": "markdown",
      "metadata": {
        "id": "AqIgXlnbPftZ"
      },
      "source": [
        "#### 1.Use the following piece of code and try t test for one sample"
      ]
    },
    {
      "cell_type": "code",
      "metadata": {
        "id": "h13xm2aaPfta",
        "colab": {
          "base_uri": "https://localhost:8080/"
        },
        "outputId": "f4b74905-9511-4cf0-8597-e7b4b4e7986b"
      },
      "source": [
        "import numpy       as np\n",
        "import scipy.stats as stats\n",
        "volume = np.array([2.109, 2.086, 2.066, 2.075, 2.065, 2.057, 2.052, 2.044, 2.036, 2.038, \\\n",
        "                   2.031, 2.029, 2.025, 2.029, 2.023, 2.020, 2.015, 2.014, 2.013, 2.014,\\\n",
        "                   2.012, 2.012, 2.012, 2.010, 2.005, 2.003, 1.999, 1.996, 1.997, 1.992,\\\n",
        "                   1.994, 1.986, 1.984, 1.981, 1.973, 1.975, 1.971, 1.969, 1.966, 1.967,\\\n",
        "                   1.963, 1.957, 1.951, 1.951, 1.947, 1.941, 1.941, 1.938, 1.908, 1.894])\n",
        "\n",
        "print('Mean is %3.2f and standard deviation is %3.2f' %(volume.mean(),np.std(volume,ddof = 1)))"
      ],
      "execution_count": 1,
      "outputs": [
        {
          "output_type": "stream",
          "text": [
            "Mean is 2.00 and standard deviation is 0.04\n"
          ],
          "name": "stdout"
        }
      ]
    },
    {
      "cell_type": "code",
      "metadata": {
        "id": "R3YZsZDxGo8C"
      },
      "source": [
        "t_statistic, p_value = stats.ttest_1samp(volume, 2)"
      ],
      "execution_count": 2,
      "outputs": []
    },
    {
      "cell_type": "code",
      "metadata": {
        "colab": {
          "base_uri": "https://localhost:8080/"
        },
        "id": "yBmSS6wtIB6o",
        "outputId": "d5464270-bb14-4c10-f2e9-2991fb8e4db4"
      },
      "source": [
        "print(t_statistic, p_value)"
      ],
      "execution_count": 3,
      "outputs": [
        {
          "output_type": "stream",
          "text": [
            "0.11424484790269986 0.9095105442498921\n"
          ],
          "name": "stdout"
        }
      ]
    },
    {
      "cell_type": "markdown",
      "metadata": {
        "id": "er2Lmbe05ghR"
      },
      "source": [
        "Since P value is higher than alpha, so we accept the null hypothesis"
      ]
    },
    {
      "cell_type": "markdown",
      "metadata": {
        "id": "EU-Xuwr3yQL-"
      },
      "source": [
        "###2. The hardness data of 25 samples of annealed iron is given below: 174 179 179 187 179 183 179 156 163 156 187 156 167 156 174 170 183 179 174 179 170 159 187\n",
        "At 5% level of significance, can you say that the hardness is greater than 170?\n"
      ]
    },
    {
      "cell_type": "markdown",
      "metadata": {
        "id": "8hooxoHjPfti"
      },
      "source": [
        "**3. Sugar consumption in grams of 20 patients (both diabetic and non-diabetic) are given below:**\n",
        "\n",
        "*At 5% level of significance, is there any evidence that the mean sugar consumption is different for diabetic and non-diabetic?    \n",
        "In the following table, 0 means diabetic and 1 means non-diabetic.*\n",
        "    "
      ]
    },
    {
      "cell_type": "code",
      "metadata": {
        "id": "raDssEELPftj"
      },
      "source": [
        "import numpy       as np\n",
        "import scipy.stats as stats\n",
        "weight               = np.array([[9.31, 0],[7.76, 0],[6.98, 1],[7.88, 1],[8.49, 1],[10.05, 1],[8.80, 1],[10.88, 1],[6.13, 1],[7.90, 1], \\\n",
        "                            [11.51, 0],[12.59, 0],[7.05, 1],[11.85, 0],[9.99, 0],[7.48, 0],[8.79, 0],[8.69, 1],[9.68, 0],[8.58, 1],\\\n",
        "                           [9.19, 0],[8.11, 1]])\n",
        "\n",
        "sugar_diabetic       = weight[:,1] == 0\n",
        "sugar_diabetic       = weight[sugar_diabetic][:,0]\n",
        "sugar_nondiabetic    = weight[:,1] == 1\n",
        "sugar_nondiabetic    = weight[sugar_nondiabetic][:,0] "
      ],
      "execution_count": 4,
      "outputs": []
    },
    {
      "cell_type": "code",
      "metadata": {
        "colab": {
          "base_uri": "https://localhost:8080/"
        },
        "id": "a--iTCKw61M1",
        "outputId": "97f6e917-fdf2-47a7-fb8f-04fbdc905c13"
      },
      "source": [
        "print('Mean is %3.2f and standard deviation is %3.2f' %(sugar_diabetic.mean(),np.std(volume,ddof = 1)))\r\n",
        "\r\n",
        "print('Mean is %3.2f and standard deviation is %3.2f' %(sugar_nondiabetic.mean(),np.std(volume,ddof = 1)))\r\n"
      ],
      "execution_count": 8,
      "outputs": [
        {
          "output_type": "stream",
          "text": [
            "Mean is 9.82 and standard deviation is 0.04\n",
            "Mean is 8.29 and standard deviation is 0.04\n"
          ],
          "name": "stdout"
        }
      ]
    },
    {
      "cell_type": "code",
      "metadata": {
        "colab": {
          "base_uri": "https://localhost:8080/"
        },
        "id": "gEh7Pz_sIn1e",
        "outputId": "d34c17e0-3d04-4250-e817-74ff9d9bd395"
      },
      "source": [
        "t_statistic, p_value = stats.ttest_ind(sugar_diabetic,sugar_nondiabetic)\r\n",
        "\r\n",
        "print(t_statistic, p_value)"
      ],
      "execution_count": 7,
      "outputs": [
        {
          "output_type": "stream",
          "text": [
            "2.3730593333971224 0.02777741611352253\n"
          ],
          "name": "stdout"
        }
      ]
    },
    {
      "cell_type": "markdown",
      "metadata": {
        "id": "D35XTo8ayoek"
      },
      "source": [
        "### Hint: Independent two samples test"
      ]
    },
    {
      "cell_type": "markdown",
      "metadata": {
        "id": "GXl2s3iXPftp"
      },
      "source": [
        "**4. The delivery time of Pizza from an online food delivery service firm and the home delivery from a local restaurant are given below: At 5% level of significance, is the mean delivery time for online delivery food service firm is less than the mean delivery time for the home delivery from a local restaurant.**"
      ]
    },
    {
      "cell_type": "code",
      "metadata": {
        "id": "n9jMM1nhPftq"
      },
      "source": [
        "Pizza_delivery_online = [16.8, 11.7, 15.6, 16.7, 17.5, 18.1, 14.1, 21.8, 13.9, 20.8]\n",
        "Pizza_delivery_local  = [22.0, 15.2, 18.7, 15.6, 20.8, 19.5, 17.0, 19.5, 16.5, 24.0]"
      ],
      "execution_count": null,
      "outputs": []
    },
    {
      "cell_type": "markdown",
      "metadata": {
        "id": "hSXnhqvPPftt"
      },
      "source": [
        "#### Hint: Use paired t test"
      ]
    },
    {
      "cell_type": "code",
      "metadata": {
        "id": "fom1PjGsPftu",
        "colab": {
          "base_uri": "https://localhost:8080/"
        },
        "outputId": "db25a1e5-765d-4d50-8f39-ad28d5a92f94"
      },
      "source": [
        "\r\n",
        "t_statistic, p_value  =  stats.ttest_rel(Pizza_delivery_online, Pizza_delivery_local )\r\n",
        "print('P Value %1.3f' % p_value)  "
      ],
      "execution_count": null,
      "outputs": [
        {
          "output_type": "stream",
          "text": [
            "P Value 0.014\n"
          ],
          "name": "stdout"
        }
      ]
    },
    {
      "cell_type": "markdown",
      "metadata": {
        "id": "NqW4Qu_mfo0x"
      },
      "source": [
        "Reject Null Hypothesis"
      ]
    },
    {
      "cell_type": "markdown",
      "metadata": {
        "id": "rHT0xGP9Pftx"
      },
      "source": [
        "## End"
      ]
    }
  ]
}